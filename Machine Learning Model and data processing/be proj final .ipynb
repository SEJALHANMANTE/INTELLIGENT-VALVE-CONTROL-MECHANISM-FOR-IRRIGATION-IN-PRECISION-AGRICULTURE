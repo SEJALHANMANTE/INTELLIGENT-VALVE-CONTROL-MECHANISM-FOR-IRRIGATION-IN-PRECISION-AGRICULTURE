{
 "cells": [
  {
   "cell_type": "markdown",
   "id": "633fb03a",
   "metadata": {},
   "source": [
    "# IMPORTING NECESSARY LIBRARIES"
   ]
  },
  {
   "cell_type": "code",
   "execution_count": 56,
   "id": "dccf5d15",
   "metadata": {},
   "outputs": [],
   "source": [
    "import pandas as pd \n",
    "import numpy as np \n",
    "import matplotlib.pyplot as plt \n",
    "%matplotlib inline \n",
    "import seaborn as sns \n",
    "import plotly.express as px"
   ]
  },
  {
   "cell_type": "code",
   "execution_count": 57,
   "id": "8d9287f2",
   "metadata": {},
   "outputs": [
    {
     "data": {
      "text/html": [
       "<div>\n",
       "<style scoped>\n",
       "    .dataframe tbody tr th:only-of-type {\n",
       "        vertical-align: middle;\n",
       "    }\n",
       "\n",
       "    .dataframe tbody tr th {\n",
       "        vertical-align: top;\n",
       "    }\n",
       "\n",
       "    .dataframe thead th {\n",
       "        text-align: right;\n",
       "    }\n",
       "</style>\n",
       "<table border=\"1\" class=\"dataframe\">\n",
       "  <thead>\n",
       "    <tr style=\"text-align: right;\">\n",
       "      <th></th>\n",
       "      <th>CROP TYPE</th>\n",
       "      <th>SOIL TYPE</th>\n",
       "      <th>REGION</th>\n",
       "      <th>WEATHER</th>\n",
       "      <th>TEMP_MIN</th>\n",
       "      <th>TEMP.MAX</th>\n",
       "      <th>WATER REQUIREMENT</th>\n",
       "    </tr>\n",
       "    <tr>\n",
       "      <th>SR NO.</th>\n",
       "      <th></th>\n",
       "      <th></th>\n",
       "      <th></th>\n",
       "      <th></th>\n",
       "      <th></th>\n",
       "      <th></th>\n",
       "      <th></th>\n",
       "    </tr>\n",
       "  </thead>\n",
       "  <tbody>\n",
       "    <tr>\n",
       "      <th>0</th>\n",
       "      <td>POTATO</td>\n",
       "      <td>DRY</td>\n",
       "      <td>DESERT</td>\n",
       "      <td>NORMAL</td>\n",
       "      <td>10</td>\n",
       "      <td>20</td>\n",
       "      <td>8.500</td>\n",
       "    </tr>\n",
       "    <tr>\n",
       "      <th>1</th>\n",
       "      <td>POTATO</td>\n",
       "      <td>DRY</td>\n",
       "      <td>DESERT</td>\n",
       "      <td>SUNNY</td>\n",
       "      <td>10</td>\n",
       "      <td>20</td>\n",
       "      <td>10.000</td>\n",
       "    </tr>\n",
       "    <tr>\n",
       "      <th>2</th>\n",
       "      <td>POTATO</td>\n",
       "      <td>DRY</td>\n",
       "      <td>DESERT</td>\n",
       "      <td>WINDY</td>\n",
       "      <td>10</td>\n",
       "      <td>20</td>\n",
       "      <td>9.500</td>\n",
       "    </tr>\n",
       "    <tr>\n",
       "      <th>3</th>\n",
       "      <td>POTATO</td>\n",
       "      <td>DRY</td>\n",
       "      <td>DESERT</td>\n",
       "      <td>RAINY</td>\n",
       "      <td>10</td>\n",
       "      <td>20</td>\n",
       "      <td>0.500</td>\n",
       "    </tr>\n",
       "    <tr>\n",
       "      <th>4</th>\n",
       "      <td>POTATO</td>\n",
       "      <td>DRY</td>\n",
       "      <td>DESERT</td>\n",
       "      <td>NORMAL</td>\n",
       "      <td>20</td>\n",
       "      <td>30</td>\n",
       "      <td>9.500</td>\n",
       "    </tr>\n",
       "    <tr>\n",
       "      <th>...</th>\n",
       "      <td>...</td>\n",
       "      <td>...</td>\n",
       "      <td>...</td>\n",
       "      <td>...</td>\n",
       "      <td>...</td>\n",
       "      <td>...</td>\n",
       "      <td>...</td>\n",
       "    </tr>\n",
       "    <tr>\n",
       "      <th>763</th>\n",
       "      <td>ONION</td>\n",
       "      <td>WET</td>\n",
       "      <td>HUMID</td>\n",
       "      <td>RAINY</td>\n",
       "      <td>30</td>\n",
       "      <td>40</td>\n",
       "      <td>0.100</td>\n",
       "    </tr>\n",
       "    <tr>\n",
       "      <th>764</th>\n",
       "      <td>ONION</td>\n",
       "      <td>WET</td>\n",
       "      <td>HUMID</td>\n",
       "      <td>NORMAL</td>\n",
       "      <td>40</td>\n",
       "      <td>50</td>\n",
       "      <td>4.625</td>\n",
       "    </tr>\n",
       "    <tr>\n",
       "      <th>765</th>\n",
       "      <td>ONION</td>\n",
       "      <td>WET</td>\n",
       "      <td>HUMID</td>\n",
       "      <td>SUNNY</td>\n",
       "      <td>40</td>\n",
       "      <td>50</td>\n",
       "      <td>6.125</td>\n",
       "    </tr>\n",
       "    <tr>\n",
       "      <th>766</th>\n",
       "      <td>ONION</td>\n",
       "      <td>WET</td>\n",
       "      <td>HUMID</td>\n",
       "      <td>WINDY</td>\n",
       "      <td>40</td>\n",
       "      <td>50</td>\n",
       "      <td>5.625</td>\n",
       "    </tr>\n",
       "    <tr>\n",
       "      <th>767</th>\n",
       "      <td>ONION</td>\n",
       "      <td>WET</td>\n",
       "      <td>HUMID</td>\n",
       "      <td>RAINY</td>\n",
       "      <td>40</td>\n",
       "      <td>50</td>\n",
       "      <td>0.200</td>\n",
       "    </tr>\n",
       "  </tbody>\n",
       "</table>\n",
       "<p>768 rows × 7 columns</p>\n",
       "</div>"
      ],
      "text/plain": [
       "       CROP TYPE SOIL TYPE  REGION WEATHER  TEMP_MIN  TEMP.MAX  \\\n",
       "SR NO.                                                           \n",
       "0         POTATO       DRY  DESERT  NORMAL        10        20   \n",
       "1         POTATO       DRY  DESERT   SUNNY        10        20   \n",
       "2         POTATO       DRY  DESERT   WINDY        10        20   \n",
       "3         POTATO       DRY  DESERT   RAINY        10        20   \n",
       "4         POTATO       DRY  DESERT  NORMAL        20        30   \n",
       "...          ...       ...     ...     ...       ...       ...   \n",
       "763        ONION       WET   HUMID   RAINY        30        40   \n",
       "764        ONION       WET   HUMID  NORMAL        40        50   \n",
       "765        ONION       WET   HUMID   SUNNY        40        50   \n",
       "766        ONION       WET   HUMID   WINDY        40        50   \n",
       "767        ONION       WET   HUMID   RAINY        40        50   \n",
       "\n",
       "        WATER REQUIREMENT  \n",
       "SR NO.                     \n",
       "0                   8.500  \n",
       "1                  10.000  \n",
       "2                   9.500  \n",
       "3                   0.500  \n",
       "4                   9.500  \n",
       "...                   ...  \n",
       "763                 0.100  \n",
       "764                 4.625  \n",
       "765                 6.125  \n",
       "766                 5.625  \n",
       "767                 0.200  \n",
       "\n",
       "[768 rows x 7 columns]"
      ]
     },
     "execution_count": 57,
     "metadata": {},
     "output_type": "execute_result"
    }
   ],
   "source": [
    "df = pd.read_csv(r\"C:\\Users\\Sejal Hanmante\\Downloads\\selected_crops_temp.csv\",index_col=0)\n",
    "df "
   ]
  },
  {
   "cell_type": "code",
   "execution_count": 58,
   "id": "d5d71fca",
   "metadata": {},
   "outputs": [
    {
     "data": {
      "text/html": [
       "<div>\n",
       "<style scoped>\n",
       "    .dataframe tbody tr th:only-of-type {\n",
       "        vertical-align: middle;\n",
       "    }\n",
       "\n",
       "    .dataframe tbody tr th {\n",
       "        vertical-align: top;\n",
       "    }\n",
       "\n",
       "    .dataframe thead th {\n",
       "        text-align: right;\n",
       "    }\n",
       "</style>\n",
       "<table border=\"1\" class=\"dataframe\">\n",
       "  <thead>\n",
       "    <tr style=\"text-align: right;\">\n",
       "      <th></th>\n",
       "      <th>CROP TYPE</th>\n",
       "      <th>SOIL TYPE</th>\n",
       "      <th>REGION</th>\n",
       "      <th>WEATHER</th>\n",
       "      <th>TEMP_MIN</th>\n",
       "      <th>TEMP.MAX</th>\n",
       "      <th>WATER REQUIREMENT</th>\n",
       "    </tr>\n",
       "    <tr>\n",
       "      <th>SR NO.</th>\n",
       "      <th></th>\n",
       "      <th></th>\n",
       "      <th></th>\n",
       "      <th></th>\n",
       "      <th></th>\n",
       "      <th></th>\n",
       "      <th></th>\n",
       "    </tr>\n",
       "  </thead>\n",
       "  <tbody>\n",
       "    <tr>\n",
       "      <th>614</th>\n",
       "      <td>ONION</td>\n",
       "      <td>DRY</td>\n",
       "      <td>SEMI HUMID</td>\n",
       "      <td>WINDY</td>\n",
       "      <td>20</td>\n",
       "      <td>30</td>\n",
       "      <td>5.375</td>\n",
       "    </tr>\n",
       "    <tr>\n",
       "      <th>478</th>\n",
       "      <td>TOMATO</td>\n",
       "      <td>HUMID</td>\n",
       "      <td>SEMI ARID</td>\n",
       "      <td>WINDY</td>\n",
       "      <td>40</td>\n",
       "      <td>50</td>\n",
       "      <td>8.140</td>\n",
       "    </tr>\n",
       "    <tr>\n",
       "      <th>624</th>\n",
       "      <td>ONION</td>\n",
       "      <td>DRY</td>\n",
       "      <td>HUMID</td>\n",
       "      <td>NORMAL</td>\n",
       "      <td>10</td>\n",
       "      <td>20</td>\n",
       "      <td>2.750</td>\n",
       "    </tr>\n",
       "    <tr>\n",
       "      <th>386</th>\n",
       "      <td>TOMATO</td>\n",
       "      <td>DRY</td>\n",
       "      <td>DESERT</td>\n",
       "      <td>WINDY</td>\n",
       "      <td>10</td>\n",
       "      <td>20</td>\n",
       "      <td>7.120</td>\n",
       "    </tr>\n",
       "    <tr>\n",
       "      <th>335</th>\n",
       "      <td>WHEAT</td>\n",
       "      <td>WET</td>\n",
       "      <td>DESERT</td>\n",
       "      <td>RAINY</td>\n",
       "      <td>40</td>\n",
       "      <td>50</td>\n",
       "      <td>1.400</td>\n",
       "    </tr>\n",
       "    <tr>\n",
       "      <th>...</th>\n",
       "      <td>...</td>\n",
       "      <td>...</td>\n",
       "      <td>...</td>\n",
       "      <td>...</td>\n",
       "      <td>...</td>\n",
       "      <td>...</td>\n",
       "      <td>...</td>\n",
       "    </tr>\n",
       "    <tr>\n",
       "      <th>368</th>\n",
       "      <td>WHEAT</td>\n",
       "      <td>WET</td>\n",
       "      <td>HUMID</td>\n",
       "      <td>NORMAL</td>\n",
       "      <td>10</td>\n",
       "      <td>20</td>\n",
       "      <td>2.480</td>\n",
       "    </tr>\n",
       "    <tr>\n",
       "      <th>74</th>\n",
       "      <td>POTATO</td>\n",
       "      <td>HUMID</td>\n",
       "      <td>DESERT</td>\n",
       "      <td>WINDY</td>\n",
       "      <td>30</td>\n",
       "      <td>40</td>\n",
       "      <td>9.700</td>\n",
       "    </tr>\n",
       "    <tr>\n",
       "      <th>104</th>\n",
       "      <td>POTATO</td>\n",
       "      <td>HUMID</td>\n",
       "      <td>SEMI HUMID</td>\n",
       "      <td>NORMAL</td>\n",
       "      <td>30</td>\n",
       "      <td>40</td>\n",
       "      <td>6.500</td>\n",
       "    </tr>\n",
       "    <tr>\n",
       "      <th>595</th>\n",
       "      <td>ONION</td>\n",
       "      <td>DRY</td>\n",
       "      <td>SEMI ARID</td>\n",
       "      <td>RAINY</td>\n",
       "      <td>10</td>\n",
       "      <td>20</td>\n",
       "      <td>0.200</td>\n",
       "    </tr>\n",
       "    <tr>\n",
       "      <th>320</th>\n",
       "      <td>WHEAT</td>\n",
       "      <td>WET</td>\n",
       "      <td>DESERT</td>\n",
       "      <td>NORMAL</td>\n",
       "      <td>10</td>\n",
       "      <td>20</td>\n",
       "      <td>6.200</td>\n",
       "    </tr>\n",
       "  </tbody>\n",
       "</table>\n",
       "<p>768 rows × 7 columns</p>\n",
       "</div>"
      ],
      "text/plain": [
       "       CROP TYPE SOIL TYPE      REGION WEATHER  TEMP_MIN  TEMP.MAX  \\\n",
       "SR NO.                                                               \n",
       "614        ONION       DRY  SEMI HUMID   WINDY        20        30   \n",
       "478       TOMATO     HUMID   SEMI ARID   WINDY        40        50   \n",
       "624        ONION       DRY       HUMID  NORMAL        10        20   \n",
       "386       TOMATO       DRY      DESERT   WINDY        10        20   \n",
       "335        WHEAT       WET      DESERT   RAINY        40        50   \n",
       "...          ...       ...         ...     ...       ...       ...   \n",
       "368        WHEAT       WET       HUMID  NORMAL        10        20   \n",
       "74        POTATO     HUMID      DESERT   WINDY        30        40   \n",
       "104       POTATO     HUMID  SEMI HUMID  NORMAL        30        40   \n",
       "595        ONION       DRY   SEMI ARID   RAINY        10        20   \n",
       "320        WHEAT       WET      DESERT  NORMAL        10        20   \n",
       "\n",
       "        WATER REQUIREMENT  \n",
       "SR NO.                     \n",
       "614                 5.375  \n",
       "478                 8.140  \n",
       "624                 2.750  \n",
       "386                 7.120  \n",
       "335                 1.400  \n",
       "...                   ...  \n",
       "368                 2.480  \n",
       "74                  9.700  \n",
       "104                 6.500  \n",
       "595                 0.200  \n",
       "320                 6.200  \n",
       "\n",
       "[768 rows x 7 columns]"
      ]
     },
     "execution_count": 58,
     "metadata": {},
     "output_type": "execute_result"
    }
   ],
   "source": [
    "df = df.sample(frac = 1)\n",
    "df"
   ]
  },
  {
   "cell_type": "code",
   "execution_count": 59,
   "id": "9e876749",
   "metadata": {},
   "outputs": [
    {
     "data": {
      "text/plain": [
       "DRY      256\n",
       "HUMID    256\n",
       "WET      256\n",
       "Name: SOIL TYPE, dtype: int64"
      ]
     },
     "execution_count": 59,
     "metadata": {},
     "output_type": "execute_result"
    }
   ],
   "source": [
    "df[\"SOIL TYPE\"].value_counts()"
   ]
  },
  {
   "cell_type": "code",
   "execution_count": 60,
   "id": "4e2c8b2b",
   "metadata": {},
   "outputs": [
    {
     "data": {
      "text/html": [
       "<div>\n",
       "<style scoped>\n",
       "    .dataframe tbody tr th:only-of-type {\n",
       "        vertical-align: middle;\n",
       "    }\n",
       "\n",
       "    .dataframe tbody tr th {\n",
       "        vertical-align: top;\n",
       "    }\n",
       "\n",
       "    .dataframe thead th {\n",
       "        text-align: right;\n",
       "    }\n",
       "</style>\n",
       "<table border=\"1\" class=\"dataframe\">\n",
       "  <thead>\n",
       "    <tr style=\"text-align: right;\">\n",
       "      <th></th>\n",
       "      <th>CROP TYPE</th>\n",
       "      <th>SOIL TYPE</th>\n",
       "      <th>REGION</th>\n",
       "      <th>WEATHER</th>\n",
       "      <th>TEMP_MIN</th>\n",
       "      <th>TEMP.MAX</th>\n",
       "      <th>WATER REQUIREMENT</th>\n",
       "    </tr>\n",
       "    <tr>\n",
       "      <th>SR NO.</th>\n",
       "      <th></th>\n",
       "      <th></th>\n",
       "      <th></th>\n",
       "      <th></th>\n",
       "      <th></th>\n",
       "      <th></th>\n",
       "      <th></th>\n",
       "    </tr>\n",
       "  </thead>\n",
       "  <tbody>\n",
       "    <tr>\n",
       "      <th>614</th>\n",
       "      <td>ONION</td>\n",
       "      <td>DRY</td>\n",
       "      <td>SEMI HUMID</td>\n",
       "      <td>WINDY</td>\n",
       "      <td>20</td>\n",
       "      <td>30</td>\n",
       "      <td>5.375</td>\n",
       "    </tr>\n",
       "    <tr>\n",
       "      <th>478</th>\n",
       "      <td>TOMATO</td>\n",
       "      <td>HUMID</td>\n",
       "      <td>SEMI ARID</td>\n",
       "      <td>WINDY</td>\n",
       "      <td>40</td>\n",
       "      <td>50</td>\n",
       "      <td>8.140</td>\n",
       "    </tr>\n",
       "    <tr>\n",
       "      <th>624</th>\n",
       "      <td>ONION</td>\n",
       "      <td>DRY</td>\n",
       "      <td>HUMID</td>\n",
       "      <td>NORMAL</td>\n",
       "      <td>10</td>\n",
       "      <td>20</td>\n",
       "      <td>2.750</td>\n",
       "    </tr>\n",
       "    <tr>\n",
       "      <th>386</th>\n",
       "      <td>TOMATO</td>\n",
       "      <td>DRY</td>\n",
       "      <td>DESERT</td>\n",
       "      <td>WINDY</td>\n",
       "      <td>10</td>\n",
       "      <td>20</td>\n",
       "      <td>7.120</td>\n",
       "    </tr>\n",
       "    <tr>\n",
       "      <th>335</th>\n",
       "      <td>WHEAT</td>\n",
       "      <td>WET</td>\n",
       "      <td>DESERT</td>\n",
       "      <td>RAINY</td>\n",
       "      <td>40</td>\n",
       "      <td>50</td>\n",
       "      <td>1.400</td>\n",
       "    </tr>\n",
       "    <tr>\n",
       "      <th>...</th>\n",
       "      <td>...</td>\n",
       "      <td>...</td>\n",
       "      <td>...</td>\n",
       "      <td>...</td>\n",
       "      <td>...</td>\n",
       "      <td>...</td>\n",
       "      <td>...</td>\n",
       "    </tr>\n",
       "    <tr>\n",
       "      <th>368</th>\n",
       "      <td>WHEAT</td>\n",
       "      <td>WET</td>\n",
       "      <td>HUMID</td>\n",
       "      <td>NORMAL</td>\n",
       "      <td>10</td>\n",
       "      <td>20</td>\n",
       "      <td>2.480</td>\n",
       "    </tr>\n",
       "    <tr>\n",
       "      <th>74</th>\n",
       "      <td>POTATO</td>\n",
       "      <td>HUMID</td>\n",
       "      <td>DESERT</td>\n",
       "      <td>WINDY</td>\n",
       "      <td>30</td>\n",
       "      <td>40</td>\n",
       "      <td>9.700</td>\n",
       "    </tr>\n",
       "    <tr>\n",
       "      <th>104</th>\n",
       "      <td>POTATO</td>\n",
       "      <td>HUMID</td>\n",
       "      <td>SEMI HUMID</td>\n",
       "      <td>NORMAL</td>\n",
       "      <td>30</td>\n",
       "      <td>40</td>\n",
       "      <td>6.500</td>\n",
       "    </tr>\n",
       "    <tr>\n",
       "      <th>595</th>\n",
       "      <td>ONION</td>\n",
       "      <td>DRY</td>\n",
       "      <td>SEMI ARID</td>\n",
       "      <td>RAINY</td>\n",
       "      <td>10</td>\n",
       "      <td>20</td>\n",
       "      <td>0.200</td>\n",
       "    </tr>\n",
       "    <tr>\n",
       "      <th>320</th>\n",
       "      <td>WHEAT</td>\n",
       "      <td>WET</td>\n",
       "      <td>DESERT</td>\n",
       "      <td>NORMAL</td>\n",
       "      <td>10</td>\n",
       "      <td>20</td>\n",
       "      <td>6.200</td>\n",
       "    </tr>\n",
       "  </tbody>\n",
       "</table>\n",
       "<p>768 rows × 7 columns</p>\n",
       "</div>"
      ],
      "text/plain": [
       "       CROP TYPE SOIL TYPE      REGION WEATHER  TEMP_MIN  TEMP.MAX  \\\n",
       "SR NO.                                                               \n",
       "614        ONION       DRY  SEMI HUMID   WINDY        20        30   \n",
       "478       TOMATO     HUMID   SEMI ARID   WINDY        40        50   \n",
       "624        ONION       DRY       HUMID  NORMAL        10        20   \n",
       "386       TOMATO       DRY      DESERT   WINDY        10        20   \n",
       "335        WHEAT       WET      DESERT   RAINY        40        50   \n",
       "...          ...       ...         ...     ...       ...       ...   \n",
       "368        WHEAT       WET       HUMID  NORMAL        10        20   \n",
       "74        POTATO     HUMID      DESERT   WINDY        30        40   \n",
       "104       POTATO     HUMID  SEMI HUMID  NORMAL        30        40   \n",
       "595        ONION       DRY   SEMI ARID   RAINY        10        20   \n",
       "320        WHEAT       WET      DESERT  NORMAL        10        20   \n",
       "\n",
       "        WATER REQUIREMENT  \n",
       "SR NO.                     \n",
       "614                 5.375  \n",
       "478                 8.140  \n",
       "624                 2.750  \n",
       "386                 7.120  \n",
       "335                 1.400  \n",
       "...                   ...  \n",
       "368                 2.480  \n",
       "74                  9.700  \n",
       "104                 6.500  \n",
       "595                 0.200  \n",
       "320                 6.200  \n",
       "\n",
       "[768 rows x 7 columns]"
      ]
     },
     "execution_count": 60,
     "metadata": {},
     "output_type": "execute_result"
    }
   ],
   "source": [
    "df"
   ]
  },
  {
   "cell_type": "markdown",
   "id": "103d389a",
   "metadata": {},
   "source": [
    "# EXPLORATORY DATA ANALYSIS "
   ]
  },
  {
   "cell_type": "markdown",
   "id": "960c5eab",
   "metadata": {},
   "source": [
    "CROP TYPE BY REGION "
   ]
  },
  {
   "cell_type": "code",
   "execution_count": 61,
   "id": "a0236f9f",
   "metadata": {},
   "outputs": [
    {
     "data": {
      "text/plain": [
       "CROP TYPE  REGION    \n",
       "ONION      DESERT        48\n",
       "           HUMID         48\n",
       "           SEMI ARID     48\n",
       "           SEMI HUMID    48\n",
       "POTATO     DESERT        48\n",
       "           HUMID         48\n",
       "           SEMI ARID     48\n",
       "           SEMI HUMID    48\n",
       "TOMATO     DESERT        48\n",
       "           HUMID         48\n",
       "           SEMI ARID     48\n",
       "           SEMI HUMID    48\n",
       "WHEAT      DESERT        48\n",
       "           HUMID         48\n",
       "           SEMI ARID     48\n",
       "           SEMI HUMID    48\n",
       "Name: REGION, dtype: int64"
      ]
     },
     "execution_count": 61,
     "metadata": {},
     "output_type": "execute_result"
    }
   ],
   "source": [
    "region = df.groupby(\"CROP TYPE\")[\"REGION\"].value_counts()\n",
    "region"
   ]
  },
  {
   "cell_type": "markdown",
   "id": "abed0c6c",
   "metadata": {},
   "source": [
    "**Soil Type & WATER REQUIREMENT**"
   ]
  },
  {
   "cell_type": "code",
   "execution_count": 62,
   "id": "7ffacabe",
   "metadata": {},
   "outputs": [
    {
     "data": {
      "text/plain": [
       "SOIL TYPE\n",
       "DRY      7.125\n",
       "HUMID    5.630\n",
       "WET      4.580\n",
       "Name: WATER REQUIREMENT, dtype: float64"
      ]
     },
     "execution_count": 62,
     "metadata": {},
     "output_type": "execute_result"
    }
   ],
   "source": [
    "soil = df.groupby(\"SOIL TYPE\")[\"WATER REQUIREMENT\"].median()\n",
    "soil"
   ]
  },
  {
   "cell_type": "code",
   "execution_count": 63,
   "id": "b83ca316",
   "metadata": {},
   "outputs": [
    {
     "data": {
      "application/vnd.plotly.v1+json": {
       "config": {
        "plotlyServerURL": "https://plot.ly"
       },
       "data": [
        {
         "alignmentgroup": "True",
         "hovertemplate": "variable=WATER REQUIREMENT<br>SOIL TYPE=%{x}<br>value=%{y}<extra></extra>",
         "legendgroup": "WATER REQUIREMENT",
         "marker": {
          "color": "#636efa",
          "pattern": {
           "shape": ""
          }
         },
         "name": "WATER REQUIREMENT",
         "offsetgroup": "WATER REQUIREMENT",
         "orientation": "v",
         "showlegend": true,
         "textposition": "auto",
         "type": "bar",
         "x": [
          "DRY",
          "HUMID",
          "WET"
         ],
         "xaxis": "x",
         "y": [
          7.125,
          5.63,
          4.58
         ],
         "yaxis": "y"
        }
       ],
       "layout": {
        "barmode": "relative",
        "legend": {
         "title": {
          "text": "variable"
         },
         "tracegroupgap": 0
        },
        "margin": {
         "t": 60
        },
        "template": {
         "data": {
          "bar": [
           {
            "error_x": {
             "color": "#2a3f5f"
            },
            "error_y": {
             "color": "#2a3f5f"
            },
            "marker": {
             "line": {
              "color": "#E5ECF6",
              "width": 0.5
             },
             "pattern": {
              "fillmode": "overlay",
              "size": 10,
              "solidity": 0.2
             }
            },
            "type": "bar"
           }
          ],
          "barpolar": [
           {
            "marker": {
             "line": {
              "color": "#E5ECF6",
              "width": 0.5
             },
             "pattern": {
              "fillmode": "overlay",
              "size": 10,
              "solidity": 0.2
             }
            },
            "type": "barpolar"
           }
          ],
          "carpet": [
           {
            "aaxis": {
             "endlinecolor": "#2a3f5f",
             "gridcolor": "white",
             "linecolor": "white",
             "minorgridcolor": "white",
             "startlinecolor": "#2a3f5f"
            },
            "baxis": {
             "endlinecolor": "#2a3f5f",
             "gridcolor": "white",
             "linecolor": "white",
             "minorgridcolor": "white",
             "startlinecolor": "#2a3f5f"
            },
            "type": "carpet"
           }
          ],
          "choropleth": [
           {
            "colorbar": {
             "outlinewidth": 0,
             "ticks": ""
            },
            "type": "choropleth"
           }
          ],
          "contour": [
           {
            "colorbar": {
             "outlinewidth": 0,
             "ticks": ""
            },
            "colorscale": [
             [
              0,
              "#0d0887"
             ],
             [
              0.1111111111111111,
              "#46039f"
             ],
             [
              0.2222222222222222,
              "#7201a8"
             ],
             [
              0.3333333333333333,
              "#9c179e"
             ],
             [
              0.4444444444444444,
              "#bd3786"
             ],
             [
              0.5555555555555556,
              "#d8576b"
             ],
             [
              0.6666666666666666,
              "#ed7953"
             ],
             [
              0.7777777777777778,
              "#fb9f3a"
             ],
             [
              0.8888888888888888,
              "#fdca26"
             ],
             [
              1,
              "#f0f921"
             ]
            ],
            "type": "contour"
           }
          ],
          "contourcarpet": [
           {
            "colorbar": {
             "outlinewidth": 0,
             "ticks": ""
            },
            "type": "contourcarpet"
           }
          ],
          "heatmap": [
           {
            "colorbar": {
             "outlinewidth": 0,
             "ticks": ""
            },
            "colorscale": [
             [
              0,
              "#0d0887"
             ],
             [
              0.1111111111111111,
              "#46039f"
             ],
             [
              0.2222222222222222,
              "#7201a8"
             ],
             [
              0.3333333333333333,
              "#9c179e"
             ],
             [
              0.4444444444444444,
              "#bd3786"
             ],
             [
              0.5555555555555556,
              "#d8576b"
             ],
             [
              0.6666666666666666,
              "#ed7953"
             ],
             [
              0.7777777777777778,
              "#fb9f3a"
             ],
             [
              0.8888888888888888,
              "#fdca26"
             ],
             [
              1,
              "#f0f921"
             ]
            ],
            "type": "heatmap"
           }
          ],
          "heatmapgl": [
           {
            "colorbar": {
             "outlinewidth": 0,
             "ticks": ""
            },
            "colorscale": [
             [
              0,
              "#0d0887"
             ],
             [
              0.1111111111111111,
              "#46039f"
             ],
             [
              0.2222222222222222,
              "#7201a8"
             ],
             [
              0.3333333333333333,
              "#9c179e"
             ],
             [
              0.4444444444444444,
              "#bd3786"
             ],
             [
              0.5555555555555556,
              "#d8576b"
             ],
             [
              0.6666666666666666,
              "#ed7953"
             ],
             [
              0.7777777777777778,
              "#fb9f3a"
             ],
             [
              0.8888888888888888,
              "#fdca26"
             ],
             [
              1,
              "#f0f921"
             ]
            ],
            "type": "heatmapgl"
           }
          ],
          "histogram": [
           {
            "marker": {
             "pattern": {
              "fillmode": "overlay",
              "size": 10,
              "solidity": 0.2
             }
            },
            "type": "histogram"
           }
          ],
          "histogram2d": [
           {
            "colorbar": {
             "outlinewidth": 0,
             "ticks": ""
            },
            "colorscale": [
             [
              0,
              "#0d0887"
             ],
             [
              0.1111111111111111,
              "#46039f"
             ],
             [
              0.2222222222222222,
              "#7201a8"
             ],
             [
              0.3333333333333333,
              "#9c179e"
             ],
             [
              0.4444444444444444,
              "#bd3786"
             ],
             [
              0.5555555555555556,
              "#d8576b"
             ],
             [
              0.6666666666666666,
              "#ed7953"
             ],
             [
              0.7777777777777778,
              "#fb9f3a"
             ],
             [
              0.8888888888888888,
              "#fdca26"
             ],
             [
              1,
              "#f0f921"
             ]
            ],
            "type": "histogram2d"
           }
          ],
          "histogram2dcontour": [
           {
            "colorbar": {
             "outlinewidth": 0,
             "ticks": ""
            },
            "colorscale": [
             [
              0,
              "#0d0887"
             ],
             [
              0.1111111111111111,
              "#46039f"
             ],
             [
              0.2222222222222222,
              "#7201a8"
             ],
             [
              0.3333333333333333,
              "#9c179e"
             ],
             [
              0.4444444444444444,
              "#bd3786"
             ],
             [
              0.5555555555555556,
              "#d8576b"
             ],
             [
              0.6666666666666666,
              "#ed7953"
             ],
             [
              0.7777777777777778,
              "#fb9f3a"
             ],
             [
              0.8888888888888888,
              "#fdca26"
             ],
             [
              1,
              "#f0f921"
             ]
            ],
            "type": "histogram2dcontour"
           }
          ],
          "mesh3d": [
           {
            "colorbar": {
             "outlinewidth": 0,
             "ticks": ""
            },
            "type": "mesh3d"
           }
          ],
          "parcoords": [
           {
            "line": {
             "colorbar": {
              "outlinewidth": 0,
              "ticks": ""
             }
            },
            "type": "parcoords"
           }
          ],
          "pie": [
           {
            "automargin": true,
            "type": "pie"
           }
          ],
          "scatter": [
           {
            "fillpattern": {
             "fillmode": "overlay",
             "size": 10,
             "solidity": 0.2
            },
            "type": "scatter"
           }
          ],
          "scatter3d": [
           {
            "line": {
             "colorbar": {
              "outlinewidth": 0,
              "ticks": ""
             }
            },
            "marker": {
             "colorbar": {
              "outlinewidth": 0,
              "ticks": ""
             }
            },
            "type": "scatter3d"
           }
          ],
          "scattercarpet": [
           {
            "marker": {
             "colorbar": {
              "outlinewidth": 0,
              "ticks": ""
             }
            },
            "type": "scattercarpet"
           }
          ],
          "scattergeo": [
           {
            "marker": {
             "colorbar": {
              "outlinewidth": 0,
              "ticks": ""
             }
            },
            "type": "scattergeo"
           }
          ],
          "scattergl": [
           {
            "marker": {
             "colorbar": {
              "outlinewidth": 0,
              "ticks": ""
             }
            },
            "type": "scattergl"
           }
          ],
          "scattermapbox": [
           {
            "marker": {
             "colorbar": {
              "outlinewidth": 0,
              "ticks": ""
             }
            },
            "type": "scattermapbox"
           }
          ],
          "scatterpolar": [
           {
            "marker": {
             "colorbar": {
              "outlinewidth": 0,
              "ticks": ""
             }
            },
            "type": "scatterpolar"
           }
          ],
          "scatterpolargl": [
           {
            "marker": {
             "colorbar": {
              "outlinewidth": 0,
              "ticks": ""
             }
            },
            "type": "scatterpolargl"
           }
          ],
          "scatterternary": [
           {
            "marker": {
             "colorbar": {
              "outlinewidth": 0,
              "ticks": ""
             }
            },
            "type": "scatterternary"
           }
          ],
          "surface": [
           {
            "colorbar": {
             "outlinewidth": 0,
             "ticks": ""
            },
            "colorscale": [
             [
              0,
              "#0d0887"
             ],
             [
              0.1111111111111111,
              "#46039f"
             ],
             [
              0.2222222222222222,
              "#7201a8"
             ],
             [
              0.3333333333333333,
              "#9c179e"
             ],
             [
              0.4444444444444444,
              "#bd3786"
             ],
             [
              0.5555555555555556,
              "#d8576b"
             ],
             [
              0.6666666666666666,
              "#ed7953"
             ],
             [
              0.7777777777777778,
              "#fb9f3a"
             ],
             [
              0.8888888888888888,
              "#fdca26"
             ],
             [
              1,
              "#f0f921"
             ]
            ],
            "type": "surface"
           }
          ],
          "table": [
           {
            "cells": {
             "fill": {
              "color": "#EBF0F8"
             },
             "line": {
              "color": "white"
             }
            },
            "header": {
             "fill": {
              "color": "#C8D4E3"
             },
             "line": {
              "color": "white"
             }
            },
            "type": "table"
           }
          ]
         },
         "layout": {
          "annotationdefaults": {
           "arrowcolor": "#2a3f5f",
           "arrowhead": 0,
           "arrowwidth": 1
          },
          "autotypenumbers": "strict",
          "coloraxis": {
           "colorbar": {
            "outlinewidth": 0,
            "ticks": ""
           }
          },
          "colorscale": {
           "diverging": [
            [
             0,
             "#8e0152"
            ],
            [
             0.1,
             "#c51b7d"
            ],
            [
             0.2,
             "#de77ae"
            ],
            [
             0.3,
             "#f1b6da"
            ],
            [
             0.4,
             "#fde0ef"
            ],
            [
             0.5,
             "#f7f7f7"
            ],
            [
             0.6,
             "#e6f5d0"
            ],
            [
             0.7,
             "#b8e186"
            ],
            [
             0.8,
             "#7fbc41"
            ],
            [
             0.9,
             "#4d9221"
            ],
            [
             1,
             "#276419"
            ]
           ],
           "sequential": [
            [
             0,
             "#0d0887"
            ],
            [
             0.1111111111111111,
             "#46039f"
            ],
            [
             0.2222222222222222,
             "#7201a8"
            ],
            [
             0.3333333333333333,
             "#9c179e"
            ],
            [
             0.4444444444444444,
             "#bd3786"
            ],
            [
             0.5555555555555556,
             "#d8576b"
            ],
            [
             0.6666666666666666,
             "#ed7953"
            ],
            [
             0.7777777777777778,
             "#fb9f3a"
            ],
            [
             0.8888888888888888,
             "#fdca26"
            ],
            [
             1,
             "#f0f921"
            ]
           ],
           "sequentialminus": [
            [
             0,
             "#0d0887"
            ],
            [
             0.1111111111111111,
             "#46039f"
            ],
            [
             0.2222222222222222,
             "#7201a8"
            ],
            [
             0.3333333333333333,
             "#9c179e"
            ],
            [
             0.4444444444444444,
             "#bd3786"
            ],
            [
             0.5555555555555556,
             "#d8576b"
            ],
            [
             0.6666666666666666,
             "#ed7953"
            ],
            [
             0.7777777777777778,
             "#fb9f3a"
            ],
            [
             0.8888888888888888,
             "#fdca26"
            ],
            [
             1,
             "#f0f921"
            ]
           ]
          },
          "colorway": [
           "#636efa",
           "#EF553B",
           "#00cc96",
           "#ab63fa",
           "#FFA15A",
           "#19d3f3",
           "#FF6692",
           "#B6E880",
           "#FF97FF",
           "#FECB52"
          ],
          "font": {
           "color": "#2a3f5f"
          },
          "geo": {
           "bgcolor": "white",
           "lakecolor": "white",
           "landcolor": "#E5ECF6",
           "showlakes": true,
           "showland": true,
           "subunitcolor": "white"
          },
          "hoverlabel": {
           "align": "left"
          },
          "hovermode": "closest",
          "mapbox": {
           "style": "light"
          },
          "paper_bgcolor": "white",
          "plot_bgcolor": "#E5ECF6",
          "polar": {
           "angularaxis": {
            "gridcolor": "white",
            "linecolor": "white",
            "ticks": ""
           },
           "bgcolor": "#E5ECF6",
           "radialaxis": {
            "gridcolor": "white",
            "linecolor": "white",
            "ticks": ""
           }
          },
          "scene": {
           "xaxis": {
            "backgroundcolor": "#E5ECF6",
            "gridcolor": "white",
            "gridwidth": 2,
            "linecolor": "white",
            "showbackground": true,
            "ticks": "",
            "zerolinecolor": "white"
           },
           "yaxis": {
            "backgroundcolor": "#E5ECF6",
            "gridcolor": "white",
            "gridwidth": 2,
            "linecolor": "white",
            "showbackground": true,
            "ticks": "",
            "zerolinecolor": "white"
           },
           "zaxis": {
            "backgroundcolor": "#E5ECF6",
            "gridcolor": "white",
            "gridwidth": 2,
            "linecolor": "white",
            "showbackground": true,
            "ticks": "",
            "zerolinecolor": "white"
           }
          },
          "shapedefaults": {
           "line": {
            "color": "#2a3f5f"
           }
          },
          "ternary": {
           "aaxis": {
            "gridcolor": "white",
            "linecolor": "white",
            "ticks": ""
           },
           "baxis": {
            "gridcolor": "white",
            "linecolor": "white",
            "ticks": ""
           },
           "bgcolor": "#E5ECF6",
           "caxis": {
            "gridcolor": "white",
            "linecolor": "white",
            "ticks": ""
           }
          },
          "title": {
           "x": 0.05
          },
          "xaxis": {
           "automargin": true,
           "gridcolor": "white",
           "linecolor": "white",
           "ticks": "",
           "title": {
            "standoff": 15
           },
           "zerolinecolor": "white",
           "zerolinewidth": 2
          },
          "yaxis": {
           "automargin": true,
           "gridcolor": "white",
           "linecolor": "white",
           "ticks": "",
           "title": {
            "standoff": 15
           },
           "zerolinecolor": "white",
           "zerolinewidth": 2
          }
         }
        },
        "title": {
         "text": "Water Requirement of Crops according to the Soil Type"
        },
        "xaxis": {
         "anchor": "y",
         "domain": [
          0,
          1
         ],
         "title": {
          "text": "SOIL TYPE"
         }
        },
        "yaxis": {
         "anchor": "x",
         "domain": [
          0,
          1
         ],
         "title": {
          "text": "value"
         }
        }
       }
      },
      "text/html": [
       "<div>                            <div id=\"85957063-fc1a-4d17-84d7-dd35f9ea78d3\" class=\"plotly-graph-div\" style=\"height:525px; width:100%;\"></div>            <script type=\"text/javascript\">                require([\"plotly\"], function(Plotly) {                    window.PLOTLYENV=window.PLOTLYENV || {};                                    if (document.getElementById(\"85957063-fc1a-4d17-84d7-dd35f9ea78d3\")) {                    Plotly.newPlot(                        \"85957063-fc1a-4d17-84d7-dd35f9ea78d3\",                        [{\"alignmentgroup\":\"True\",\"hovertemplate\":\"variable=WATER REQUIREMENT<br>SOIL TYPE=%{x}<br>value=%{y}<extra></extra>\",\"legendgroup\":\"WATER REQUIREMENT\",\"marker\":{\"color\":\"#636efa\",\"pattern\":{\"shape\":\"\"}},\"name\":\"WATER REQUIREMENT\",\"offsetgroup\":\"WATER REQUIREMENT\",\"orientation\":\"v\",\"showlegend\":true,\"textposition\":\"auto\",\"x\":[\"DRY\",\"HUMID\",\"WET\"],\"xaxis\":\"x\",\"y\":[7.125,5.63,4.58],\"yaxis\":\"y\",\"type\":\"bar\"}],                        {\"template\":{\"data\":{\"histogram2dcontour\":[{\"type\":\"histogram2dcontour\",\"colorbar\":{\"outlinewidth\":0,\"ticks\":\"\"},\"colorscale\":[[0.0,\"#0d0887\"],[0.1111111111111111,\"#46039f\"],[0.2222222222222222,\"#7201a8\"],[0.3333333333333333,\"#9c179e\"],[0.4444444444444444,\"#bd3786\"],[0.5555555555555556,\"#d8576b\"],[0.6666666666666666,\"#ed7953\"],[0.7777777777777778,\"#fb9f3a\"],[0.8888888888888888,\"#fdca26\"],[1.0,\"#f0f921\"]]}],\"choropleth\":[{\"type\":\"choropleth\",\"colorbar\":{\"outlinewidth\":0,\"ticks\":\"\"}}],\"histogram2d\":[{\"type\":\"histogram2d\",\"colorbar\":{\"outlinewidth\":0,\"ticks\":\"\"},\"colorscale\":[[0.0,\"#0d0887\"],[0.1111111111111111,\"#46039f\"],[0.2222222222222222,\"#7201a8\"],[0.3333333333333333,\"#9c179e\"],[0.4444444444444444,\"#bd3786\"],[0.5555555555555556,\"#d8576b\"],[0.6666666666666666,\"#ed7953\"],[0.7777777777777778,\"#fb9f3a\"],[0.8888888888888888,\"#fdca26\"],[1.0,\"#f0f921\"]]}],\"heatmap\":[{\"type\":\"heatmap\",\"colorbar\":{\"outlinewidth\":0,\"ticks\":\"\"},\"colorscale\":[[0.0,\"#0d0887\"],[0.1111111111111111,\"#46039f\"],[0.2222222222222222,\"#7201a8\"],[0.3333333333333333,\"#9c179e\"],[0.4444444444444444,\"#bd3786\"],[0.5555555555555556,\"#d8576b\"],[0.6666666666666666,\"#ed7953\"],[0.7777777777777778,\"#fb9f3a\"],[0.8888888888888888,\"#fdca26\"],[1.0,\"#f0f921\"]]}],\"heatmapgl\":[{\"type\":\"heatmapgl\",\"colorbar\":{\"outlinewidth\":0,\"ticks\":\"\"},\"colorscale\":[[0.0,\"#0d0887\"],[0.1111111111111111,\"#46039f\"],[0.2222222222222222,\"#7201a8\"],[0.3333333333333333,\"#9c179e\"],[0.4444444444444444,\"#bd3786\"],[0.5555555555555556,\"#d8576b\"],[0.6666666666666666,\"#ed7953\"],[0.7777777777777778,\"#fb9f3a\"],[0.8888888888888888,\"#fdca26\"],[1.0,\"#f0f921\"]]}],\"contourcarpet\":[{\"type\":\"contourcarpet\",\"colorbar\":{\"outlinewidth\":0,\"ticks\":\"\"}}],\"contour\":[{\"type\":\"contour\",\"colorbar\":{\"outlinewidth\":0,\"ticks\":\"\"},\"colorscale\":[[0.0,\"#0d0887\"],[0.1111111111111111,\"#46039f\"],[0.2222222222222222,\"#7201a8\"],[0.3333333333333333,\"#9c179e\"],[0.4444444444444444,\"#bd3786\"],[0.5555555555555556,\"#d8576b\"],[0.6666666666666666,\"#ed7953\"],[0.7777777777777778,\"#fb9f3a\"],[0.8888888888888888,\"#fdca26\"],[1.0,\"#f0f921\"]]}],\"surface\":[{\"type\":\"surface\",\"colorbar\":{\"outlinewidth\":0,\"ticks\":\"\"},\"colorscale\":[[0.0,\"#0d0887\"],[0.1111111111111111,\"#46039f\"],[0.2222222222222222,\"#7201a8\"],[0.3333333333333333,\"#9c179e\"],[0.4444444444444444,\"#bd3786\"],[0.5555555555555556,\"#d8576b\"],[0.6666666666666666,\"#ed7953\"],[0.7777777777777778,\"#fb9f3a\"],[0.8888888888888888,\"#fdca26\"],[1.0,\"#f0f921\"]]}],\"mesh3d\":[{\"type\":\"mesh3d\",\"colorbar\":{\"outlinewidth\":0,\"ticks\":\"\"}}],\"scatter\":[{\"fillpattern\":{\"fillmode\":\"overlay\",\"size\":10,\"solidity\":0.2},\"type\":\"scatter\"}],\"parcoords\":[{\"type\":\"parcoords\",\"line\":{\"colorbar\":{\"outlinewidth\":0,\"ticks\":\"\"}}}],\"scatterpolargl\":[{\"type\":\"scatterpolargl\",\"marker\":{\"colorbar\":{\"outlinewidth\":0,\"ticks\":\"\"}}}],\"bar\":[{\"error_x\":{\"color\":\"#2a3f5f\"},\"error_y\":{\"color\":\"#2a3f5f\"},\"marker\":{\"line\":{\"color\":\"#E5ECF6\",\"width\":0.5},\"pattern\":{\"fillmode\":\"overlay\",\"size\":10,\"solidity\":0.2}},\"type\":\"bar\"}],\"scattergeo\":[{\"type\":\"scattergeo\",\"marker\":{\"colorbar\":{\"outlinewidth\":0,\"ticks\":\"\"}}}],\"scatterpolar\":[{\"type\":\"scatterpolar\",\"marker\":{\"colorbar\":{\"outlinewidth\":0,\"ticks\":\"\"}}}],\"histogram\":[{\"marker\":{\"pattern\":{\"fillmode\":\"overlay\",\"size\":10,\"solidity\":0.2}},\"type\":\"histogram\"}],\"scattergl\":[{\"type\":\"scattergl\",\"marker\":{\"colorbar\":{\"outlinewidth\":0,\"ticks\":\"\"}}}],\"scatter3d\":[{\"type\":\"scatter3d\",\"line\":{\"colorbar\":{\"outlinewidth\":0,\"ticks\":\"\"}},\"marker\":{\"colorbar\":{\"outlinewidth\":0,\"ticks\":\"\"}}}],\"scattermapbox\":[{\"type\":\"scattermapbox\",\"marker\":{\"colorbar\":{\"outlinewidth\":0,\"ticks\":\"\"}}}],\"scatterternary\":[{\"type\":\"scatterternary\",\"marker\":{\"colorbar\":{\"outlinewidth\":0,\"ticks\":\"\"}}}],\"scattercarpet\":[{\"type\":\"scattercarpet\",\"marker\":{\"colorbar\":{\"outlinewidth\":0,\"ticks\":\"\"}}}],\"carpet\":[{\"aaxis\":{\"endlinecolor\":\"#2a3f5f\",\"gridcolor\":\"white\",\"linecolor\":\"white\",\"minorgridcolor\":\"white\",\"startlinecolor\":\"#2a3f5f\"},\"baxis\":{\"endlinecolor\":\"#2a3f5f\",\"gridcolor\":\"white\",\"linecolor\":\"white\",\"minorgridcolor\":\"white\",\"startlinecolor\":\"#2a3f5f\"},\"type\":\"carpet\"}],\"table\":[{\"cells\":{\"fill\":{\"color\":\"#EBF0F8\"},\"line\":{\"color\":\"white\"}},\"header\":{\"fill\":{\"color\":\"#C8D4E3\"},\"line\":{\"color\":\"white\"}},\"type\":\"table\"}],\"barpolar\":[{\"marker\":{\"line\":{\"color\":\"#E5ECF6\",\"width\":0.5},\"pattern\":{\"fillmode\":\"overlay\",\"size\":10,\"solidity\":0.2}},\"type\":\"barpolar\"}],\"pie\":[{\"automargin\":true,\"type\":\"pie\"}]},\"layout\":{\"autotypenumbers\":\"strict\",\"colorway\":[\"#636efa\",\"#EF553B\",\"#00cc96\",\"#ab63fa\",\"#FFA15A\",\"#19d3f3\",\"#FF6692\",\"#B6E880\",\"#FF97FF\",\"#FECB52\"],\"font\":{\"color\":\"#2a3f5f\"},\"hovermode\":\"closest\",\"hoverlabel\":{\"align\":\"left\"},\"paper_bgcolor\":\"white\",\"plot_bgcolor\":\"#E5ECF6\",\"polar\":{\"bgcolor\":\"#E5ECF6\",\"angularaxis\":{\"gridcolor\":\"white\",\"linecolor\":\"white\",\"ticks\":\"\"},\"radialaxis\":{\"gridcolor\":\"white\",\"linecolor\":\"white\",\"ticks\":\"\"}},\"ternary\":{\"bgcolor\":\"#E5ECF6\",\"aaxis\":{\"gridcolor\":\"white\",\"linecolor\":\"white\",\"ticks\":\"\"},\"baxis\":{\"gridcolor\":\"white\",\"linecolor\":\"white\",\"ticks\":\"\"},\"caxis\":{\"gridcolor\":\"white\",\"linecolor\":\"white\",\"ticks\":\"\"}},\"coloraxis\":{\"colorbar\":{\"outlinewidth\":0,\"ticks\":\"\"}},\"colorscale\":{\"sequential\":[[0.0,\"#0d0887\"],[0.1111111111111111,\"#46039f\"],[0.2222222222222222,\"#7201a8\"],[0.3333333333333333,\"#9c179e\"],[0.4444444444444444,\"#bd3786\"],[0.5555555555555556,\"#d8576b\"],[0.6666666666666666,\"#ed7953\"],[0.7777777777777778,\"#fb9f3a\"],[0.8888888888888888,\"#fdca26\"],[1.0,\"#f0f921\"]],\"sequentialminus\":[[0.0,\"#0d0887\"],[0.1111111111111111,\"#46039f\"],[0.2222222222222222,\"#7201a8\"],[0.3333333333333333,\"#9c179e\"],[0.4444444444444444,\"#bd3786\"],[0.5555555555555556,\"#d8576b\"],[0.6666666666666666,\"#ed7953\"],[0.7777777777777778,\"#fb9f3a\"],[0.8888888888888888,\"#fdca26\"],[1.0,\"#f0f921\"]],\"diverging\":[[0,\"#8e0152\"],[0.1,\"#c51b7d\"],[0.2,\"#de77ae\"],[0.3,\"#f1b6da\"],[0.4,\"#fde0ef\"],[0.5,\"#f7f7f7\"],[0.6,\"#e6f5d0\"],[0.7,\"#b8e186\"],[0.8,\"#7fbc41\"],[0.9,\"#4d9221\"],[1,\"#276419\"]]},\"xaxis\":{\"gridcolor\":\"white\",\"linecolor\":\"white\",\"ticks\":\"\",\"title\":{\"standoff\":15},\"zerolinecolor\":\"white\",\"automargin\":true,\"zerolinewidth\":2},\"yaxis\":{\"gridcolor\":\"white\",\"linecolor\":\"white\",\"ticks\":\"\",\"title\":{\"standoff\":15},\"zerolinecolor\":\"white\",\"automargin\":true,\"zerolinewidth\":2},\"scene\":{\"xaxis\":{\"backgroundcolor\":\"#E5ECF6\",\"gridcolor\":\"white\",\"linecolor\":\"white\",\"showbackground\":true,\"ticks\":\"\",\"zerolinecolor\":\"white\",\"gridwidth\":2},\"yaxis\":{\"backgroundcolor\":\"#E5ECF6\",\"gridcolor\":\"white\",\"linecolor\":\"white\",\"showbackground\":true,\"ticks\":\"\",\"zerolinecolor\":\"white\",\"gridwidth\":2},\"zaxis\":{\"backgroundcolor\":\"#E5ECF6\",\"gridcolor\":\"white\",\"linecolor\":\"white\",\"showbackground\":true,\"ticks\":\"\",\"zerolinecolor\":\"white\",\"gridwidth\":2}},\"shapedefaults\":{\"line\":{\"color\":\"#2a3f5f\"}},\"annotationdefaults\":{\"arrowcolor\":\"#2a3f5f\",\"arrowhead\":0,\"arrowwidth\":1},\"geo\":{\"bgcolor\":\"white\",\"landcolor\":\"#E5ECF6\",\"subunitcolor\":\"white\",\"showland\":true,\"showlakes\":true,\"lakecolor\":\"white\"},\"title\":{\"x\":0.05},\"mapbox\":{\"style\":\"light\"}}},\"xaxis\":{\"anchor\":\"y\",\"domain\":[0.0,1.0],\"title\":{\"text\":\"SOIL TYPE\"}},\"yaxis\":{\"anchor\":\"x\",\"domain\":[0.0,1.0],\"title\":{\"text\":\"value\"}},\"legend\":{\"title\":{\"text\":\"variable\"},\"tracegroupgap\":0},\"margin\":{\"t\":60},\"barmode\":\"relative\",\"title\":{\"text\":\"Water Requirement of Crops according to the Soil Type\"}},                        {\"responsive\": true}                    ).then(function(){\n",
       "                            \n",
       "var gd = document.getElementById('85957063-fc1a-4d17-84d7-dd35f9ea78d3');\n",
       "var x = new MutationObserver(function (mutations, observer) {{\n",
       "        var display = window.getComputedStyle(gd).display;\n",
       "        if (!display || display === 'none') {{\n",
       "            console.log([gd, 'removed!']);\n",
       "            Plotly.purge(gd);\n",
       "            observer.disconnect();\n",
       "        }}\n",
       "}});\n",
       "\n",
       "// Listen for the removal of the full notebook cells\n",
       "var notebookContainer = gd.closest('#notebook-container');\n",
       "if (notebookContainer) {{\n",
       "    x.observe(notebookContainer, {childList: true});\n",
       "}}\n",
       "\n",
       "// Listen for the clearing of the current output cell\n",
       "var outputEl = gd.closest('.output');\n",
       "if (outputEl) {{\n",
       "    x.observe(outputEl, {childList: true});\n",
       "}}\n",
       "\n",
       "                        })                };                });            </script>        </div>"
      ]
     },
     "metadata": {},
     "output_type": "display_data"
    }
   ],
   "source": [
    "fig1 = px.bar(soil)\n",
    "fig1.update_layout(title={'text':\"Water Requirement of Crops according to the Soil Type\"})\n",
    "fig1.show()"
   ]
  },
  {
   "cell_type": "code",
   "execution_count": 64,
   "id": "df30b9e8",
   "metadata": {},
   "outputs": [
    {
     "data": {
      "application/vnd.plotly.v1+json": {
       "config": {
        "plotlyServerURL": "https://plot.ly"
       },
       "data": [
        {
         "alignmentgroup": "True",
         "hovertemplate": "variable=WATER REQUIREMENT<br>SOIL TYPE=%{x}<br>value=%{y}<extra></extra>",
         "legendgroup": "WATER REQUIREMENT",
         "marker": {
          "color": [
           "red",
           "green",
           "blue"
          ],
          "pattern": {
           "shape": ""
          }
         },
         "name": "WATER REQUIREMENT",
         "offsetgroup": "WATER REQUIREMENT",
         "orientation": "v",
         "showlegend": true,
         "textposition": "outside",
         "texttemplate": "%{y}",
         "type": "bar",
         "x": [
          "DRY",
          "HUMID",
          "WET"
         ],
         "xaxis": "x",
         "y": [
          7.125,
          5.63,
          4.58
         ],
         "yaxis": "y"
        }
       ],
       "layout": {
        "barmode": "relative",
        "legend": {
         "title": {
          "text": "variable"
         },
         "tracegroupgap": 0
        },
        "margin": {
         "t": 60
        },
        "template": {
         "data": {
          "bar": [
           {
            "error_x": {
             "color": "#2a3f5f"
            },
            "error_y": {
             "color": "#2a3f5f"
            },
            "marker": {
             "line": {
              "color": "#E5ECF6",
              "width": 0.5
             },
             "pattern": {
              "fillmode": "overlay",
              "size": 10,
              "solidity": 0.2
             }
            },
            "type": "bar"
           }
          ],
          "barpolar": [
           {
            "marker": {
             "line": {
              "color": "#E5ECF6",
              "width": 0.5
             },
             "pattern": {
              "fillmode": "overlay",
              "size": 10,
              "solidity": 0.2
             }
            },
            "type": "barpolar"
           }
          ],
          "carpet": [
           {
            "aaxis": {
             "endlinecolor": "#2a3f5f",
             "gridcolor": "white",
             "linecolor": "white",
             "minorgridcolor": "white",
             "startlinecolor": "#2a3f5f"
            },
            "baxis": {
             "endlinecolor": "#2a3f5f",
             "gridcolor": "white",
             "linecolor": "white",
             "minorgridcolor": "white",
             "startlinecolor": "#2a3f5f"
            },
            "type": "carpet"
           }
          ],
          "choropleth": [
           {
            "colorbar": {
             "outlinewidth": 0,
             "ticks": ""
            },
            "type": "choropleth"
           }
          ],
          "contour": [
           {
            "colorbar": {
             "outlinewidth": 0,
             "ticks": ""
            },
            "colorscale": [
             [
              0,
              "#0d0887"
             ],
             [
              0.1111111111111111,
              "#46039f"
             ],
             [
              0.2222222222222222,
              "#7201a8"
             ],
             [
              0.3333333333333333,
              "#9c179e"
             ],
             [
              0.4444444444444444,
              "#bd3786"
             ],
             [
              0.5555555555555556,
              "#d8576b"
             ],
             [
              0.6666666666666666,
              "#ed7953"
             ],
             [
              0.7777777777777778,
              "#fb9f3a"
             ],
             [
              0.8888888888888888,
              "#fdca26"
             ],
             [
              1,
              "#f0f921"
             ]
            ],
            "type": "contour"
           }
          ],
          "contourcarpet": [
           {
            "colorbar": {
             "outlinewidth": 0,
             "ticks": ""
            },
            "type": "contourcarpet"
           }
          ],
          "heatmap": [
           {
            "colorbar": {
             "outlinewidth": 0,
             "ticks": ""
            },
            "colorscale": [
             [
              0,
              "#0d0887"
             ],
             [
              0.1111111111111111,
              "#46039f"
             ],
             [
              0.2222222222222222,
              "#7201a8"
             ],
             [
              0.3333333333333333,
              "#9c179e"
             ],
             [
              0.4444444444444444,
              "#bd3786"
             ],
             [
              0.5555555555555556,
              "#d8576b"
             ],
             [
              0.6666666666666666,
              "#ed7953"
             ],
             [
              0.7777777777777778,
              "#fb9f3a"
             ],
             [
              0.8888888888888888,
              "#fdca26"
             ],
             [
              1,
              "#f0f921"
             ]
            ],
            "type": "heatmap"
           }
          ],
          "heatmapgl": [
           {
            "colorbar": {
             "outlinewidth": 0,
             "ticks": ""
            },
            "colorscale": [
             [
              0,
              "#0d0887"
             ],
             [
              0.1111111111111111,
              "#46039f"
             ],
             [
              0.2222222222222222,
              "#7201a8"
             ],
             [
              0.3333333333333333,
              "#9c179e"
             ],
             [
              0.4444444444444444,
              "#bd3786"
             ],
             [
              0.5555555555555556,
              "#d8576b"
             ],
             [
              0.6666666666666666,
              "#ed7953"
             ],
             [
              0.7777777777777778,
              "#fb9f3a"
             ],
             [
              0.8888888888888888,
              "#fdca26"
             ],
             [
              1,
              "#f0f921"
             ]
            ],
            "type": "heatmapgl"
           }
          ],
          "histogram": [
           {
            "marker": {
             "pattern": {
              "fillmode": "overlay",
              "size": 10,
              "solidity": 0.2
             }
            },
            "type": "histogram"
           }
          ],
          "histogram2d": [
           {
            "colorbar": {
             "outlinewidth": 0,
             "ticks": ""
            },
            "colorscale": [
             [
              0,
              "#0d0887"
             ],
             [
              0.1111111111111111,
              "#46039f"
             ],
             [
              0.2222222222222222,
              "#7201a8"
             ],
             [
              0.3333333333333333,
              "#9c179e"
             ],
             [
              0.4444444444444444,
              "#bd3786"
             ],
             [
              0.5555555555555556,
              "#d8576b"
             ],
             [
              0.6666666666666666,
              "#ed7953"
             ],
             [
              0.7777777777777778,
              "#fb9f3a"
             ],
             [
              0.8888888888888888,
              "#fdca26"
             ],
             [
              1,
              "#f0f921"
             ]
            ],
            "type": "histogram2d"
           }
          ],
          "histogram2dcontour": [
           {
            "colorbar": {
             "outlinewidth": 0,
             "ticks": ""
            },
            "colorscale": [
             [
              0,
              "#0d0887"
             ],
             [
              0.1111111111111111,
              "#46039f"
             ],
             [
              0.2222222222222222,
              "#7201a8"
             ],
             [
              0.3333333333333333,
              "#9c179e"
             ],
             [
              0.4444444444444444,
              "#bd3786"
             ],
             [
              0.5555555555555556,
              "#d8576b"
             ],
             [
              0.6666666666666666,
              "#ed7953"
             ],
             [
              0.7777777777777778,
              "#fb9f3a"
             ],
             [
              0.8888888888888888,
              "#fdca26"
             ],
             [
              1,
              "#f0f921"
             ]
            ],
            "type": "histogram2dcontour"
           }
          ],
          "mesh3d": [
           {
            "colorbar": {
             "outlinewidth": 0,
             "ticks": ""
            },
            "type": "mesh3d"
           }
          ],
          "parcoords": [
           {
            "line": {
             "colorbar": {
              "outlinewidth": 0,
              "ticks": ""
             }
            },
            "type": "parcoords"
           }
          ],
          "pie": [
           {
            "automargin": true,
            "type": "pie"
           }
          ],
          "scatter": [
           {
            "fillpattern": {
             "fillmode": "overlay",
             "size": 10,
             "solidity": 0.2
            },
            "type": "scatter"
           }
          ],
          "scatter3d": [
           {
            "line": {
             "colorbar": {
              "outlinewidth": 0,
              "ticks": ""
             }
            },
            "marker": {
             "colorbar": {
              "outlinewidth": 0,
              "ticks": ""
             }
            },
            "type": "scatter3d"
           }
          ],
          "scattercarpet": [
           {
            "marker": {
             "colorbar": {
              "outlinewidth": 0,
              "ticks": ""
             }
            },
            "type": "scattercarpet"
           }
          ],
          "scattergeo": [
           {
            "marker": {
             "colorbar": {
              "outlinewidth": 0,
              "ticks": ""
             }
            },
            "type": "scattergeo"
           }
          ],
          "scattergl": [
           {
            "marker": {
             "colorbar": {
              "outlinewidth": 0,
              "ticks": ""
             }
            },
            "type": "scattergl"
           }
          ],
          "scattermapbox": [
           {
            "marker": {
             "colorbar": {
              "outlinewidth": 0,
              "ticks": ""
             }
            },
            "type": "scattermapbox"
           }
          ],
          "scatterpolar": [
           {
            "marker": {
             "colorbar": {
              "outlinewidth": 0,
              "ticks": ""
             }
            },
            "type": "scatterpolar"
           }
          ],
          "scatterpolargl": [
           {
            "marker": {
             "colorbar": {
              "outlinewidth": 0,
              "ticks": ""
             }
            },
            "type": "scatterpolargl"
           }
          ],
          "scatterternary": [
           {
            "marker": {
             "colorbar": {
              "outlinewidth": 0,
              "ticks": ""
             }
            },
            "type": "scatterternary"
           }
          ],
          "surface": [
           {
            "colorbar": {
             "outlinewidth": 0,
             "ticks": ""
            },
            "colorscale": [
             [
              0,
              "#0d0887"
             ],
             [
              0.1111111111111111,
              "#46039f"
             ],
             [
              0.2222222222222222,
              "#7201a8"
             ],
             [
              0.3333333333333333,
              "#9c179e"
             ],
             [
              0.4444444444444444,
              "#bd3786"
             ],
             [
              0.5555555555555556,
              "#d8576b"
             ],
             [
              0.6666666666666666,
              "#ed7953"
             ],
             [
              0.7777777777777778,
              "#fb9f3a"
             ],
             [
              0.8888888888888888,
              "#fdca26"
             ],
             [
              1,
              "#f0f921"
             ]
            ],
            "type": "surface"
           }
          ],
          "table": [
           {
            "cells": {
             "fill": {
              "color": "#EBF0F8"
             },
             "line": {
              "color": "white"
             }
            },
            "header": {
             "fill": {
              "color": "#C8D4E3"
             },
             "line": {
              "color": "white"
             }
            },
            "type": "table"
           }
          ]
         },
         "layout": {
          "annotationdefaults": {
           "arrowcolor": "#2a3f5f",
           "arrowhead": 0,
           "arrowwidth": 1
          },
          "autotypenumbers": "strict",
          "coloraxis": {
           "colorbar": {
            "outlinewidth": 0,
            "ticks": ""
           }
          },
          "colorscale": {
           "diverging": [
            [
             0,
             "#8e0152"
            ],
            [
             0.1,
             "#c51b7d"
            ],
            [
             0.2,
             "#de77ae"
            ],
            [
             0.3,
             "#f1b6da"
            ],
            [
             0.4,
             "#fde0ef"
            ],
            [
             0.5,
             "#f7f7f7"
            ],
            [
             0.6,
             "#e6f5d0"
            ],
            [
             0.7,
             "#b8e186"
            ],
            [
             0.8,
             "#7fbc41"
            ],
            [
             0.9,
             "#4d9221"
            ],
            [
             1,
             "#276419"
            ]
           ],
           "sequential": [
            [
             0,
             "#0d0887"
            ],
            [
             0.1111111111111111,
             "#46039f"
            ],
            [
             0.2222222222222222,
             "#7201a8"
            ],
            [
             0.3333333333333333,
             "#9c179e"
            ],
            [
             0.4444444444444444,
             "#bd3786"
            ],
            [
             0.5555555555555556,
             "#d8576b"
            ],
            [
             0.6666666666666666,
             "#ed7953"
            ],
            [
             0.7777777777777778,
             "#fb9f3a"
            ],
            [
             0.8888888888888888,
             "#fdca26"
            ],
            [
             1,
             "#f0f921"
            ]
           ],
           "sequentialminus": [
            [
             0,
             "#0d0887"
            ],
            [
             0.1111111111111111,
             "#46039f"
            ],
            [
             0.2222222222222222,
             "#7201a8"
            ],
            [
             0.3333333333333333,
             "#9c179e"
            ],
            [
             0.4444444444444444,
             "#bd3786"
            ],
            [
             0.5555555555555556,
             "#d8576b"
            ],
            [
             0.6666666666666666,
             "#ed7953"
            ],
            [
             0.7777777777777778,
             "#fb9f3a"
            ],
            [
             0.8888888888888888,
             "#fdca26"
            ],
            [
             1,
             "#f0f921"
            ]
           ]
          },
          "colorway": [
           "#636efa",
           "#EF553B",
           "#00cc96",
           "#ab63fa",
           "#FFA15A",
           "#19d3f3",
           "#FF6692",
           "#B6E880",
           "#FF97FF",
           "#FECB52"
          ],
          "font": {
           "color": "#2a3f5f"
          },
          "geo": {
           "bgcolor": "white",
           "lakecolor": "white",
           "landcolor": "#E5ECF6",
           "showlakes": true,
           "showland": true,
           "subunitcolor": "white"
          },
          "hoverlabel": {
           "align": "left"
          },
          "hovermode": "closest",
          "mapbox": {
           "style": "light"
          },
          "paper_bgcolor": "white",
          "plot_bgcolor": "#E5ECF6",
          "polar": {
           "angularaxis": {
            "gridcolor": "white",
            "linecolor": "white",
            "ticks": ""
           },
           "bgcolor": "#E5ECF6",
           "radialaxis": {
            "gridcolor": "white",
            "linecolor": "white",
            "ticks": ""
           }
          },
          "scene": {
           "xaxis": {
            "backgroundcolor": "#E5ECF6",
            "gridcolor": "white",
            "gridwidth": 2,
            "linecolor": "white",
            "showbackground": true,
            "ticks": "",
            "zerolinecolor": "white"
           },
           "yaxis": {
            "backgroundcolor": "#E5ECF6",
            "gridcolor": "white",
            "gridwidth": 2,
            "linecolor": "white",
            "showbackground": true,
            "ticks": "",
            "zerolinecolor": "white"
           },
           "zaxis": {
            "backgroundcolor": "#E5ECF6",
            "gridcolor": "white",
            "gridwidth": 2,
            "linecolor": "white",
            "showbackground": true,
            "ticks": "",
            "zerolinecolor": "white"
           }
          },
          "shapedefaults": {
           "line": {
            "color": "#2a3f5f"
           }
          },
          "ternary": {
           "aaxis": {
            "gridcolor": "white",
            "linecolor": "white",
            "ticks": ""
           },
           "baxis": {
            "gridcolor": "white",
            "linecolor": "white",
            "ticks": ""
           },
           "bgcolor": "#E5ECF6",
           "caxis": {
            "gridcolor": "white",
            "linecolor": "white",
            "ticks": ""
           }
          },
          "title": {
           "x": 0.05
          },
          "xaxis": {
           "automargin": true,
           "gridcolor": "white",
           "linecolor": "white",
           "ticks": "",
           "title": {
            "standoff": 15
           },
           "zerolinecolor": "white",
           "zerolinewidth": 2
          },
          "yaxis": {
           "automargin": true,
           "gridcolor": "white",
           "linecolor": "white",
           "ticks": "",
           "title": {
            "standoff": 15
           },
           "zerolinecolor": "white",
           "zerolinewidth": 2
          }
         }
        },
        "title": {
         "text": "Water Requirement of Crops according to the Soil Type"
        },
        "xaxis": {
         "anchor": "y",
         "domain": [
          0,
          1
         ],
         "title": {
          "text": "SOIL TYPE"
         }
        },
        "yaxis": {
         "anchor": "x",
         "domain": [
          0,
          1
         ],
         "title": {
          "text": "value"
         }
        }
       }
      },
      "text/html": [
       "<div>                            <div id=\"8eae8c2c-34e5-4c65-be10-b9e0a339404a\" class=\"plotly-graph-div\" style=\"height:525px; width:100%;\"></div>            <script type=\"text/javascript\">                require([\"plotly\"], function(Plotly) {                    window.PLOTLYENV=window.PLOTLYENV || {};                                    if (document.getElementById(\"8eae8c2c-34e5-4c65-be10-b9e0a339404a\")) {                    Plotly.newPlot(                        \"8eae8c2c-34e5-4c65-be10-b9e0a339404a\",                        [{\"alignmentgroup\":\"True\",\"hovertemplate\":\"variable=WATER REQUIREMENT<br>SOIL TYPE=%{x}<br>value=%{y}<extra></extra>\",\"legendgroup\":\"WATER REQUIREMENT\",\"marker\":{\"color\":[\"red\",\"green\",\"blue\"],\"pattern\":{\"shape\":\"\"}},\"name\":\"WATER REQUIREMENT\",\"offsetgroup\":\"WATER REQUIREMENT\",\"orientation\":\"v\",\"showlegend\":true,\"textposition\":\"outside\",\"x\":[\"DRY\",\"HUMID\",\"WET\"],\"xaxis\":\"x\",\"y\":[7.125,5.63,4.58],\"yaxis\":\"y\",\"type\":\"bar\",\"texttemplate\":\"%{y}\"}],                        {\"template\":{\"data\":{\"histogram2dcontour\":[{\"type\":\"histogram2dcontour\",\"colorbar\":{\"outlinewidth\":0,\"ticks\":\"\"},\"colorscale\":[[0.0,\"#0d0887\"],[0.1111111111111111,\"#46039f\"],[0.2222222222222222,\"#7201a8\"],[0.3333333333333333,\"#9c179e\"],[0.4444444444444444,\"#bd3786\"],[0.5555555555555556,\"#d8576b\"],[0.6666666666666666,\"#ed7953\"],[0.7777777777777778,\"#fb9f3a\"],[0.8888888888888888,\"#fdca26\"],[1.0,\"#f0f921\"]]}],\"choropleth\":[{\"type\":\"choropleth\",\"colorbar\":{\"outlinewidth\":0,\"ticks\":\"\"}}],\"histogram2d\":[{\"type\":\"histogram2d\",\"colorbar\":{\"outlinewidth\":0,\"ticks\":\"\"},\"colorscale\":[[0.0,\"#0d0887\"],[0.1111111111111111,\"#46039f\"],[0.2222222222222222,\"#7201a8\"],[0.3333333333333333,\"#9c179e\"],[0.4444444444444444,\"#bd3786\"],[0.5555555555555556,\"#d8576b\"],[0.6666666666666666,\"#ed7953\"],[0.7777777777777778,\"#fb9f3a\"],[0.8888888888888888,\"#fdca26\"],[1.0,\"#f0f921\"]]}],\"heatmap\":[{\"type\":\"heatmap\",\"colorbar\":{\"outlinewidth\":0,\"ticks\":\"\"},\"colorscale\":[[0.0,\"#0d0887\"],[0.1111111111111111,\"#46039f\"],[0.2222222222222222,\"#7201a8\"],[0.3333333333333333,\"#9c179e\"],[0.4444444444444444,\"#bd3786\"],[0.5555555555555556,\"#d8576b\"],[0.6666666666666666,\"#ed7953\"],[0.7777777777777778,\"#fb9f3a\"],[0.8888888888888888,\"#fdca26\"],[1.0,\"#f0f921\"]]}],\"heatmapgl\":[{\"type\":\"heatmapgl\",\"colorbar\":{\"outlinewidth\":0,\"ticks\":\"\"},\"colorscale\":[[0.0,\"#0d0887\"],[0.1111111111111111,\"#46039f\"],[0.2222222222222222,\"#7201a8\"],[0.3333333333333333,\"#9c179e\"],[0.4444444444444444,\"#bd3786\"],[0.5555555555555556,\"#d8576b\"],[0.6666666666666666,\"#ed7953\"],[0.7777777777777778,\"#fb9f3a\"],[0.8888888888888888,\"#fdca26\"],[1.0,\"#f0f921\"]]}],\"contourcarpet\":[{\"type\":\"contourcarpet\",\"colorbar\":{\"outlinewidth\":0,\"ticks\":\"\"}}],\"contour\":[{\"type\":\"contour\",\"colorbar\":{\"outlinewidth\":0,\"ticks\":\"\"},\"colorscale\":[[0.0,\"#0d0887\"],[0.1111111111111111,\"#46039f\"],[0.2222222222222222,\"#7201a8\"],[0.3333333333333333,\"#9c179e\"],[0.4444444444444444,\"#bd3786\"],[0.5555555555555556,\"#d8576b\"],[0.6666666666666666,\"#ed7953\"],[0.7777777777777778,\"#fb9f3a\"],[0.8888888888888888,\"#fdca26\"],[1.0,\"#f0f921\"]]}],\"surface\":[{\"type\":\"surface\",\"colorbar\":{\"outlinewidth\":0,\"ticks\":\"\"},\"colorscale\":[[0.0,\"#0d0887\"],[0.1111111111111111,\"#46039f\"],[0.2222222222222222,\"#7201a8\"],[0.3333333333333333,\"#9c179e\"],[0.4444444444444444,\"#bd3786\"],[0.5555555555555556,\"#d8576b\"],[0.6666666666666666,\"#ed7953\"],[0.7777777777777778,\"#fb9f3a\"],[0.8888888888888888,\"#fdca26\"],[1.0,\"#f0f921\"]]}],\"mesh3d\":[{\"type\":\"mesh3d\",\"colorbar\":{\"outlinewidth\":0,\"ticks\":\"\"}}],\"scatter\":[{\"fillpattern\":{\"fillmode\":\"overlay\",\"size\":10,\"solidity\":0.2},\"type\":\"scatter\"}],\"parcoords\":[{\"type\":\"parcoords\",\"line\":{\"colorbar\":{\"outlinewidth\":0,\"ticks\":\"\"}}}],\"scatterpolargl\":[{\"type\":\"scatterpolargl\",\"marker\":{\"colorbar\":{\"outlinewidth\":0,\"ticks\":\"\"}}}],\"bar\":[{\"error_x\":{\"color\":\"#2a3f5f\"},\"error_y\":{\"color\":\"#2a3f5f\"},\"marker\":{\"line\":{\"color\":\"#E5ECF6\",\"width\":0.5},\"pattern\":{\"fillmode\":\"overlay\",\"size\":10,\"solidity\":0.2}},\"type\":\"bar\"}],\"scattergeo\":[{\"type\":\"scattergeo\",\"marker\":{\"colorbar\":{\"outlinewidth\":0,\"ticks\":\"\"}}}],\"scatterpolar\":[{\"type\":\"scatterpolar\",\"marker\":{\"colorbar\":{\"outlinewidth\":0,\"ticks\":\"\"}}}],\"histogram\":[{\"marker\":{\"pattern\":{\"fillmode\":\"overlay\",\"size\":10,\"solidity\":0.2}},\"type\":\"histogram\"}],\"scattergl\":[{\"type\":\"scattergl\",\"marker\":{\"colorbar\":{\"outlinewidth\":0,\"ticks\":\"\"}}}],\"scatter3d\":[{\"type\":\"scatter3d\",\"line\":{\"colorbar\":{\"outlinewidth\":0,\"ticks\":\"\"}},\"marker\":{\"colorbar\":{\"outlinewidth\":0,\"ticks\":\"\"}}}],\"scattermapbox\":[{\"type\":\"scattermapbox\",\"marker\":{\"colorbar\":{\"outlinewidth\":0,\"ticks\":\"\"}}}],\"scatterternary\":[{\"type\":\"scatterternary\",\"marker\":{\"colorbar\":{\"outlinewidth\":0,\"ticks\":\"\"}}}],\"scattercarpet\":[{\"type\":\"scattercarpet\",\"marker\":{\"colorbar\":{\"outlinewidth\":0,\"ticks\":\"\"}}}],\"carpet\":[{\"aaxis\":{\"endlinecolor\":\"#2a3f5f\",\"gridcolor\":\"white\",\"linecolor\":\"white\",\"minorgridcolor\":\"white\",\"startlinecolor\":\"#2a3f5f\"},\"baxis\":{\"endlinecolor\":\"#2a3f5f\",\"gridcolor\":\"white\",\"linecolor\":\"white\",\"minorgridcolor\":\"white\",\"startlinecolor\":\"#2a3f5f\"},\"type\":\"carpet\"}],\"table\":[{\"cells\":{\"fill\":{\"color\":\"#EBF0F8\"},\"line\":{\"color\":\"white\"}},\"header\":{\"fill\":{\"color\":\"#C8D4E3\"},\"line\":{\"color\":\"white\"}},\"type\":\"table\"}],\"barpolar\":[{\"marker\":{\"line\":{\"color\":\"#E5ECF6\",\"width\":0.5},\"pattern\":{\"fillmode\":\"overlay\",\"size\":10,\"solidity\":0.2}},\"type\":\"barpolar\"}],\"pie\":[{\"automargin\":true,\"type\":\"pie\"}]},\"layout\":{\"autotypenumbers\":\"strict\",\"colorway\":[\"#636efa\",\"#EF553B\",\"#00cc96\",\"#ab63fa\",\"#FFA15A\",\"#19d3f3\",\"#FF6692\",\"#B6E880\",\"#FF97FF\",\"#FECB52\"],\"font\":{\"color\":\"#2a3f5f\"},\"hovermode\":\"closest\",\"hoverlabel\":{\"align\":\"left\"},\"paper_bgcolor\":\"white\",\"plot_bgcolor\":\"#E5ECF6\",\"polar\":{\"bgcolor\":\"#E5ECF6\",\"angularaxis\":{\"gridcolor\":\"white\",\"linecolor\":\"white\",\"ticks\":\"\"},\"radialaxis\":{\"gridcolor\":\"white\",\"linecolor\":\"white\",\"ticks\":\"\"}},\"ternary\":{\"bgcolor\":\"#E5ECF6\",\"aaxis\":{\"gridcolor\":\"white\",\"linecolor\":\"white\",\"ticks\":\"\"},\"baxis\":{\"gridcolor\":\"white\",\"linecolor\":\"white\",\"ticks\":\"\"},\"caxis\":{\"gridcolor\":\"white\",\"linecolor\":\"white\",\"ticks\":\"\"}},\"coloraxis\":{\"colorbar\":{\"outlinewidth\":0,\"ticks\":\"\"}},\"colorscale\":{\"sequential\":[[0.0,\"#0d0887\"],[0.1111111111111111,\"#46039f\"],[0.2222222222222222,\"#7201a8\"],[0.3333333333333333,\"#9c179e\"],[0.4444444444444444,\"#bd3786\"],[0.5555555555555556,\"#d8576b\"],[0.6666666666666666,\"#ed7953\"],[0.7777777777777778,\"#fb9f3a\"],[0.8888888888888888,\"#fdca26\"],[1.0,\"#f0f921\"]],\"sequentialminus\":[[0.0,\"#0d0887\"],[0.1111111111111111,\"#46039f\"],[0.2222222222222222,\"#7201a8\"],[0.3333333333333333,\"#9c179e\"],[0.4444444444444444,\"#bd3786\"],[0.5555555555555556,\"#d8576b\"],[0.6666666666666666,\"#ed7953\"],[0.7777777777777778,\"#fb9f3a\"],[0.8888888888888888,\"#fdca26\"],[1.0,\"#f0f921\"]],\"diverging\":[[0,\"#8e0152\"],[0.1,\"#c51b7d\"],[0.2,\"#de77ae\"],[0.3,\"#f1b6da\"],[0.4,\"#fde0ef\"],[0.5,\"#f7f7f7\"],[0.6,\"#e6f5d0\"],[0.7,\"#b8e186\"],[0.8,\"#7fbc41\"],[0.9,\"#4d9221\"],[1,\"#276419\"]]},\"xaxis\":{\"gridcolor\":\"white\",\"linecolor\":\"white\",\"ticks\":\"\",\"title\":{\"standoff\":15},\"zerolinecolor\":\"white\",\"automargin\":true,\"zerolinewidth\":2},\"yaxis\":{\"gridcolor\":\"white\",\"linecolor\":\"white\",\"ticks\":\"\",\"title\":{\"standoff\":15},\"zerolinecolor\":\"white\",\"automargin\":true,\"zerolinewidth\":2},\"scene\":{\"xaxis\":{\"backgroundcolor\":\"#E5ECF6\",\"gridcolor\":\"white\",\"linecolor\":\"white\",\"showbackground\":true,\"ticks\":\"\",\"zerolinecolor\":\"white\",\"gridwidth\":2},\"yaxis\":{\"backgroundcolor\":\"#E5ECF6\",\"gridcolor\":\"white\",\"linecolor\":\"white\",\"showbackground\":true,\"ticks\":\"\",\"zerolinecolor\":\"white\",\"gridwidth\":2},\"zaxis\":{\"backgroundcolor\":\"#E5ECF6\",\"gridcolor\":\"white\",\"linecolor\":\"white\",\"showbackground\":true,\"ticks\":\"\",\"zerolinecolor\":\"white\",\"gridwidth\":2}},\"shapedefaults\":{\"line\":{\"color\":\"#2a3f5f\"}},\"annotationdefaults\":{\"arrowcolor\":\"#2a3f5f\",\"arrowhead\":0,\"arrowwidth\":1},\"geo\":{\"bgcolor\":\"white\",\"landcolor\":\"#E5ECF6\",\"subunitcolor\":\"white\",\"showland\":true,\"showlakes\":true,\"lakecolor\":\"white\"},\"title\":{\"x\":0.05},\"mapbox\":{\"style\":\"light\"}}},\"xaxis\":{\"anchor\":\"y\",\"domain\":[0.0,1.0],\"title\":{\"text\":\"SOIL TYPE\"}},\"yaxis\":{\"anchor\":\"x\",\"domain\":[0.0,1.0],\"title\":{\"text\":\"value\"}},\"legend\":{\"title\":{\"text\":\"variable\"},\"tracegroupgap\":0},\"margin\":{\"t\":60},\"barmode\":\"relative\",\"title\":{\"text\":\"Water Requirement of Crops according to the Soil Type\"}},                        {\"responsive\": true}                    ).then(function(){\n",
       "                            \n",
       "var gd = document.getElementById('8eae8c2c-34e5-4c65-be10-b9e0a339404a');\n",
       "var x = new MutationObserver(function (mutations, observer) {{\n",
       "        var display = window.getComputedStyle(gd).display;\n",
       "        if (!display || display === 'none') {{\n",
       "            console.log([gd, 'removed!']);\n",
       "            Plotly.purge(gd);\n",
       "            observer.disconnect();\n",
       "        }}\n",
       "}});\n",
       "\n",
       "// Listen for the removal of the full notebook cells\n",
       "var notebookContainer = gd.closest('#notebook-container');\n",
       "if (notebookContainer) {{\n",
       "    x.observe(notebookContainer, {childList: true});\n",
       "}}\n",
       "\n",
       "// Listen for the clearing of the current output cell\n",
       "var outputEl = gd.closest('.output');\n",
       "if (outputEl) {{\n",
       "    x.observe(outputEl, {childList: true});\n",
       "}}\n",
       "\n",
       "                        })                };                });            </script>        </div>"
      ]
     },
     "metadata": {},
     "output_type": "display_data"
    }
   ],
   "source": [
    "fig1.update_traces(marker_color=['red', 'green', 'blue'])\n",
    "fig1.update_traces(texttemplate='%{y}', textposition='outside')"
   ]
  },
  {
   "cell_type": "markdown",
   "id": "62dc289a",
   "metadata": {},
   "source": [
    "**CROP TYPE AND WATER REQUIREMENT**"
   ]
  },
  {
   "cell_type": "code",
   "execution_count": 65,
   "id": "3be8630f",
   "metadata": {},
   "outputs": [
    {
     "data": {
      "text/plain": [
       "CROP TYPE\n",
       "ONION     4.3125\n",
       "POTATO    6.5100\n",
       "TOMATO    5.3800\n",
       "WHEAT     7.7750\n",
       "Name: WATER REQUIREMENT, dtype: float64"
      ]
     },
     "execution_count": 65,
     "metadata": {},
     "output_type": "execute_result"
    }
   ],
   "source": [
    "Crop_water= df.groupby(\"CROP TYPE\")[\"WATER REQUIREMENT\"].median()\n",
    "Crop_water"
   ]
  },
  {
   "cell_type": "code",
   "execution_count": 66,
   "id": "1c6703ca",
   "metadata": {},
   "outputs": [
    {
     "data": {
      "application/vnd.plotly.v1+json": {
       "config": {
        "plotlyServerURL": "https://plot.ly"
       },
       "data": [
        {
         "hovertemplate": "variable=WATER REQUIREMENT<br>CROP TYPE=%{x}<br>value=%{y}<extra></extra>",
         "legendgroup": "WATER REQUIREMENT",
         "line": {
          "color": "rgb(228,26,28)",
          "dash": "solid"
         },
         "marker": {
          "symbol": "circle"
         },
         "mode": "markers+lines",
         "name": "WATER REQUIREMENT",
         "orientation": "v",
         "showlegend": true,
         "textposition": "top center",
         "texttemplate": "%{y}",
         "type": "scatter",
         "x": [
          "ONION",
          "POTATO",
          "TOMATO",
          "WHEAT"
         ],
         "xaxis": "x",
         "y": [
          4.3125,
          6.51,
          5.38,
          7.775
         ],
         "yaxis": "y"
        }
       ],
       "layout": {
        "legend": {
         "title": {
          "text": "variable"
         },
         "tracegroupgap": 0
        },
        "template": {
         "data": {
          "bar": [
           {
            "error_x": {
             "color": "#2a3f5f"
            },
            "error_y": {
             "color": "#2a3f5f"
            },
            "marker": {
             "line": {
              "color": "#E5ECF6",
              "width": 0.5
             },
             "pattern": {
              "fillmode": "overlay",
              "size": 10,
              "solidity": 0.2
             }
            },
            "type": "bar"
           }
          ],
          "barpolar": [
           {
            "marker": {
             "line": {
              "color": "#E5ECF6",
              "width": 0.5
             },
             "pattern": {
              "fillmode": "overlay",
              "size": 10,
              "solidity": 0.2
             }
            },
            "type": "barpolar"
           }
          ],
          "carpet": [
           {
            "aaxis": {
             "endlinecolor": "#2a3f5f",
             "gridcolor": "white",
             "linecolor": "white",
             "minorgridcolor": "white",
             "startlinecolor": "#2a3f5f"
            },
            "baxis": {
             "endlinecolor": "#2a3f5f",
             "gridcolor": "white",
             "linecolor": "white",
             "minorgridcolor": "white",
             "startlinecolor": "#2a3f5f"
            },
            "type": "carpet"
           }
          ],
          "choropleth": [
           {
            "colorbar": {
             "outlinewidth": 0,
             "ticks": ""
            },
            "type": "choropleth"
           }
          ],
          "contour": [
           {
            "colorbar": {
             "outlinewidth": 0,
             "ticks": ""
            },
            "colorscale": [
             [
              0,
              "#0d0887"
             ],
             [
              0.1111111111111111,
              "#46039f"
             ],
             [
              0.2222222222222222,
              "#7201a8"
             ],
             [
              0.3333333333333333,
              "#9c179e"
             ],
             [
              0.4444444444444444,
              "#bd3786"
             ],
             [
              0.5555555555555556,
              "#d8576b"
             ],
             [
              0.6666666666666666,
              "#ed7953"
             ],
             [
              0.7777777777777778,
              "#fb9f3a"
             ],
             [
              0.8888888888888888,
              "#fdca26"
             ],
             [
              1,
              "#f0f921"
             ]
            ],
            "type": "contour"
           }
          ],
          "contourcarpet": [
           {
            "colorbar": {
             "outlinewidth": 0,
             "ticks": ""
            },
            "type": "contourcarpet"
           }
          ],
          "heatmap": [
           {
            "colorbar": {
             "outlinewidth": 0,
             "ticks": ""
            },
            "colorscale": [
             [
              0,
              "#0d0887"
             ],
             [
              0.1111111111111111,
              "#46039f"
             ],
             [
              0.2222222222222222,
              "#7201a8"
             ],
             [
              0.3333333333333333,
              "#9c179e"
             ],
             [
              0.4444444444444444,
              "#bd3786"
             ],
             [
              0.5555555555555556,
              "#d8576b"
             ],
             [
              0.6666666666666666,
              "#ed7953"
             ],
             [
              0.7777777777777778,
              "#fb9f3a"
             ],
             [
              0.8888888888888888,
              "#fdca26"
             ],
             [
              1,
              "#f0f921"
             ]
            ],
            "type": "heatmap"
           }
          ],
          "heatmapgl": [
           {
            "colorbar": {
             "outlinewidth": 0,
             "ticks": ""
            },
            "colorscale": [
             [
              0,
              "#0d0887"
             ],
             [
              0.1111111111111111,
              "#46039f"
             ],
             [
              0.2222222222222222,
              "#7201a8"
             ],
             [
              0.3333333333333333,
              "#9c179e"
             ],
             [
              0.4444444444444444,
              "#bd3786"
             ],
             [
              0.5555555555555556,
              "#d8576b"
             ],
             [
              0.6666666666666666,
              "#ed7953"
             ],
             [
              0.7777777777777778,
              "#fb9f3a"
             ],
             [
              0.8888888888888888,
              "#fdca26"
             ],
             [
              1,
              "#f0f921"
             ]
            ],
            "type": "heatmapgl"
           }
          ],
          "histogram": [
           {
            "marker": {
             "pattern": {
              "fillmode": "overlay",
              "size": 10,
              "solidity": 0.2
             }
            },
            "type": "histogram"
           }
          ],
          "histogram2d": [
           {
            "colorbar": {
             "outlinewidth": 0,
             "ticks": ""
            },
            "colorscale": [
             [
              0,
              "#0d0887"
             ],
             [
              0.1111111111111111,
              "#46039f"
             ],
             [
              0.2222222222222222,
              "#7201a8"
             ],
             [
              0.3333333333333333,
              "#9c179e"
             ],
             [
              0.4444444444444444,
              "#bd3786"
             ],
             [
              0.5555555555555556,
              "#d8576b"
             ],
             [
              0.6666666666666666,
              "#ed7953"
             ],
             [
              0.7777777777777778,
              "#fb9f3a"
             ],
             [
              0.8888888888888888,
              "#fdca26"
             ],
             [
              1,
              "#f0f921"
             ]
            ],
            "type": "histogram2d"
           }
          ],
          "histogram2dcontour": [
           {
            "colorbar": {
             "outlinewidth": 0,
             "ticks": ""
            },
            "colorscale": [
             [
              0,
              "#0d0887"
             ],
             [
              0.1111111111111111,
              "#46039f"
             ],
             [
              0.2222222222222222,
              "#7201a8"
             ],
             [
              0.3333333333333333,
              "#9c179e"
             ],
             [
              0.4444444444444444,
              "#bd3786"
             ],
             [
              0.5555555555555556,
              "#d8576b"
             ],
             [
              0.6666666666666666,
              "#ed7953"
             ],
             [
              0.7777777777777778,
              "#fb9f3a"
             ],
             [
              0.8888888888888888,
              "#fdca26"
             ],
             [
              1,
              "#f0f921"
             ]
            ],
            "type": "histogram2dcontour"
           }
          ],
          "mesh3d": [
           {
            "colorbar": {
             "outlinewidth": 0,
             "ticks": ""
            },
            "type": "mesh3d"
           }
          ],
          "parcoords": [
           {
            "line": {
             "colorbar": {
              "outlinewidth": 0,
              "ticks": ""
             }
            },
            "type": "parcoords"
           }
          ],
          "pie": [
           {
            "automargin": true,
            "type": "pie"
           }
          ],
          "scatter": [
           {
            "fillpattern": {
             "fillmode": "overlay",
             "size": 10,
             "solidity": 0.2
            },
            "type": "scatter"
           }
          ],
          "scatter3d": [
           {
            "line": {
             "colorbar": {
              "outlinewidth": 0,
              "ticks": ""
             }
            },
            "marker": {
             "colorbar": {
              "outlinewidth": 0,
              "ticks": ""
             }
            },
            "type": "scatter3d"
           }
          ],
          "scattercarpet": [
           {
            "marker": {
             "colorbar": {
              "outlinewidth": 0,
              "ticks": ""
             }
            },
            "type": "scattercarpet"
           }
          ],
          "scattergeo": [
           {
            "marker": {
             "colorbar": {
              "outlinewidth": 0,
              "ticks": ""
             }
            },
            "type": "scattergeo"
           }
          ],
          "scattergl": [
           {
            "marker": {
             "colorbar": {
              "outlinewidth": 0,
              "ticks": ""
             }
            },
            "type": "scattergl"
           }
          ],
          "scattermapbox": [
           {
            "marker": {
             "colorbar": {
              "outlinewidth": 0,
              "ticks": ""
             }
            },
            "type": "scattermapbox"
           }
          ],
          "scatterpolar": [
           {
            "marker": {
             "colorbar": {
              "outlinewidth": 0,
              "ticks": ""
             }
            },
            "type": "scatterpolar"
           }
          ],
          "scatterpolargl": [
           {
            "marker": {
             "colorbar": {
              "outlinewidth": 0,
              "ticks": ""
             }
            },
            "type": "scatterpolargl"
           }
          ],
          "scatterternary": [
           {
            "marker": {
             "colorbar": {
              "outlinewidth": 0,
              "ticks": ""
             }
            },
            "type": "scatterternary"
           }
          ],
          "surface": [
           {
            "colorbar": {
             "outlinewidth": 0,
             "ticks": ""
            },
            "colorscale": [
             [
              0,
              "#0d0887"
             ],
             [
              0.1111111111111111,
              "#46039f"
             ],
             [
              0.2222222222222222,
              "#7201a8"
             ],
             [
              0.3333333333333333,
              "#9c179e"
             ],
             [
              0.4444444444444444,
              "#bd3786"
             ],
             [
              0.5555555555555556,
              "#d8576b"
             ],
             [
              0.6666666666666666,
              "#ed7953"
             ],
             [
              0.7777777777777778,
              "#fb9f3a"
             ],
             [
              0.8888888888888888,
              "#fdca26"
             ],
             [
              1,
              "#f0f921"
             ]
            ],
            "type": "surface"
           }
          ],
          "table": [
           {
            "cells": {
             "fill": {
              "color": "#EBF0F8"
             },
             "line": {
              "color": "white"
             }
            },
            "header": {
             "fill": {
              "color": "#C8D4E3"
             },
             "line": {
              "color": "white"
             }
            },
            "type": "table"
           }
          ]
         },
         "layout": {
          "annotationdefaults": {
           "arrowcolor": "#2a3f5f",
           "arrowhead": 0,
           "arrowwidth": 1
          },
          "autotypenumbers": "strict",
          "coloraxis": {
           "colorbar": {
            "outlinewidth": 0,
            "ticks": ""
           }
          },
          "colorscale": {
           "diverging": [
            [
             0,
             "#8e0152"
            ],
            [
             0.1,
             "#c51b7d"
            ],
            [
             0.2,
             "#de77ae"
            ],
            [
             0.3,
             "#f1b6da"
            ],
            [
             0.4,
             "#fde0ef"
            ],
            [
             0.5,
             "#f7f7f7"
            ],
            [
             0.6,
             "#e6f5d0"
            ],
            [
             0.7,
             "#b8e186"
            ],
            [
             0.8,
             "#7fbc41"
            ],
            [
             0.9,
             "#4d9221"
            ],
            [
             1,
             "#276419"
            ]
           ],
           "sequential": [
            [
             0,
             "#0d0887"
            ],
            [
             0.1111111111111111,
             "#46039f"
            ],
            [
             0.2222222222222222,
             "#7201a8"
            ],
            [
             0.3333333333333333,
             "#9c179e"
            ],
            [
             0.4444444444444444,
             "#bd3786"
            ],
            [
             0.5555555555555556,
             "#d8576b"
            ],
            [
             0.6666666666666666,
             "#ed7953"
            ],
            [
             0.7777777777777778,
             "#fb9f3a"
            ],
            [
             0.8888888888888888,
             "#fdca26"
            ],
            [
             1,
             "#f0f921"
            ]
           ],
           "sequentialminus": [
            [
             0,
             "#0d0887"
            ],
            [
             0.1111111111111111,
             "#46039f"
            ],
            [
             0.2222222222222222,
             "#7201a8"
            ],
            [
             0.3333333333333333,
             "#9c179e"
            ],
            [
             0.4444444444444444,
             "#bd3786"
            ],
            [
             0.5555555555555556,
             "#d8576b"
            ],
            [
             0.6666666666666666,
             "#ed7953"
            ],
            [
             0.7777777777777778,
             "#fb9f3a"
            ],
            [
             0.8888888888888888,
             "#fdca26"
            ],
            [
             1,
             "#f0f921"
            ]
           ]
          },
          "colorway": [
           "#636efa",
           "#EF553B",
           "#00cc96",
           "#ab63fa",
           "#FFA15A",
           "#19d3f3",
           "#FF6692",
           "#B6E880",
           "#FF97FF",
           "#FECB52"
          ],
          "font": {
           "color": "#2a3f5f"
          },
          "geo": {
           "bgcolor": "white",
           "lakecolor": "white",
           "landcolor": "#E5ECF6",
           "showlakes": true,
           "showland": true,
           "subunitcolor": "white"
          },
          "hoverlabel": {
           "align": "left"
          },
          "hovermode": "closest",
          "mapbox": {
           "style": "light"
          },
          "paper_bgcolor": "white",
          "plot_bgcolor": "#E5ECF6",
          "polar": {
           "angularaxis": {
            "gridcolor": "white",
            "linecolor": "white",
            "ticks": ""
           },
           "bgcolor": "#E5ECF6",
           "radialaxis": {
            "gridcolor": "white",
            "linecolor": "white",
            "ticks": ""
           }
          },
          "scene": {
           "xaxis": {
            "backgroundcolor": "#E5ECF6",
            "gridcolor": "white",
            "gridwidth": 2,
            "linecolor": "white",
            "showbackground": true,
            "ticks": "",
            "zerolinecolor": "white"
           },
           "yaxis": {
            "backgroundcolor": "#E5ECF6",
            "gridcolor": "white",
            "gridwidth": 2,
            "linecolor": "white",
            "showbackground": true,
            "ticks": "",
            "zerolinecolor": "white"
           },
           "zaxis": {
            "backgroundcolor": "#E5ECF6",
            "gridcolor": "white",
            "gridwidth": 2,
            "linecolor": "white",
            "showbackground": true,
            "ticks": "",
            "zerolinecolor": "white"
           }
          },
          "shapedefaults": {
           "line": {
            "color": "#2a3f5f"
           }
          },
          "ternary": {
           "aaxis": {
            "gridcolor": "white",
            "linecolor": "white",
            "ticks": ""
           },
           "baxis": {
            "gridcolor": "white",
            "linecolor": "white",
            "ticks": ""
           },
           "bgcolor": "#E5ECF6",
           "caxis": {
            "gridcolor": "white",
            "linecolor": "white",
            "ticks": ""
           }
          },
          "title": {
           "x": 0.05
          },
          "xaxis": {
           "automargin": true,
           "gridcolor": "white",
           "linecolor": "white",
           "ticks": "",
           "title": {
            "standoff": 15
           },
           "zerolinecolor": "white",
           "zerolinewidth": 2
          },
          "yaxis": {
           "automargin": true,
           "gridcolor": "white",
           "linecolor": "white",
           "ticks": "",
           "title": {
            "standoff": 15
           },
           "zerolinecolor": "white",
           "zerolinewidth": 2
          }
         }
        },
        "title": {
         "text": "Water Requirement of Various Crops"
        },
        "xaxis": {
         "anchor": "y",
         "domain": [
          0,
          1
         ],
         "title": {
          "text": "CROP TYPE"
         }
        },
        "yaxis": {
         "anchor": "x",
         "domain": [
          0,
          1
         ],
         "title": {
          "text": "value"
         }
        }
       }
      },
      "text/html": [
       "<div>                            <div id=\"ad92f13b-a5bc-4ef8-9784-c211f28972b4\" class=\"plotly-graph-div\" style=\"height:525px; width:100%;\"></div>            <script type=\"text/javascript\">                require([\"plotly\"], function(Plotly) {                    window.PLOTLYENV=window.PLOTLYENV || {};                                    if (document.getElementById(\"ad92f13b-a5bc-4ef8-9784-c211f28972b4\")) {                    Plotly.newPlot(                        \"ad92f13b-a5bc-4ef8-9784-c211f28972b4\",                        [{\"hovertemplate\":\"variable=WATER REQUIREMENT<br>CROP TYPE=%{x}<br>value=%{y}<extra></extra>\",\"legendgroup\":\"WATER REQUIREMENT\",\"line\":{\"color\":\"rgb(228,26,28)\",\"dash\":\"solid\"},\"marker\":{\"symbol\":\"circle\"},\"mode\":\"markers+lines\",\"name\":\"WATER REQUIREMENT\",\"orientation\":\"v\",\"showlegend\":true,\"x\":[\"ONION\",\"POTATO\",\"TOMATO\",\"WHEAT\"],\"xaxis\":\"x\",\"y\":[4.3125,6.51,5.38,7.775],\"yaxis\":\"y\",\"type\":\"scatter\",\"textposition\":\"top center\",\"texttemplate\":\"%{y}\"}],                        {\"template\":{\"data\":{\"histogram2dcontour\":[{\"type\":\"histogram2dcontour\",\"colorbar\":{\"outlinewidth\":0,\"ticks\":\"\"},\"colorscale\":[[0.0,\"#0d0887\"],[0.1111111111111111,\"#46039f\"],[0.2222222222222222,\"#7201a8\"],[0.3333333333333333,\"#9c179e\"],[0.4444444444444444,\"#bd3786\"],[0.5555555555555556,\"#d8576b\"],[0.6666666666666666,\"#ed7953\"],[0.7777777777777778,\"#fb9f3a\"],[0.8888888888888888,\"#fdca26\"],[1.0,\"#f0f921\"]]}],\"choropleth\":[{\"type\":\"choropleth\",\"colorbar\":{\"outlinewidth\":0,\"ticks\":\"\"}}],\"histogram2d\":[{\"type\":\"histogram2d\",\"colorbar\":{\"outlinewidth\":0,\"ticks\":\"\"},\"colorscale\":[[0.0,\"#0d0887\"],[0.1111111111111111,\"#46039f\"],[0.2222222222222222,\"#7201a8\"],[0.3333333333333333,\"#9c179e\"],[0.4444444444444444,\"#bd3786\"],[0.5555555555555556,\"#d8576b\"],[0.6666666666666666,\"#ed7953\"],[0.7777777777777778,\"#fb9f3a\"],[0.8888888888888888,\"#fdca26\"],[1.0,\"#f0f921\"]]}],\"heatmap\":[{\"type\":\"heatmap\",\"colorbar\":{\"outlinewidth\":0,\"ticks\":\"\"},\"colorscale\":[[0.0,\"#0d0887\"],[0.1111111111111111,\"#46039f\"],[0.2222222222222222,\"#7201a8\"],[0.3333333333333333,\"#9c179e\"],[0.4444444444444444,\"#bd3786\"],[0.5555555555555556,\"#d8576b\"],[0.6666666666666666,\"#ed7953\"],[0.7777777777777778,\"#fb9f3a\"],[0.8888888888888888,\"#fdca26\"],[1.0,\"#f0f921\"]]}],\"heatmapgl\":[{\"type\":\"heatmapgl\",\"colorbar\":{\"outlinewidth\":0,\"ticks\":\"\"},\"colorscale\":[[0.0,\"#0d0887\"],[0.1111111111111111,\"#46039f\"],[0.2222222222222222,\"#7201a8\"],[0.3333333333333333,\"#9c179e\"],[0.4444444444444444,\"#bd3786\"],[0.5555555555555556,\"#d8576b\"],[0.6666666666666666,\"#ed7953\"],[0.7777777777777778,\"#fb9f3a\"],[0.8888888888888888,\"#fdca26\"],[1.0,\"#f0f921\"]]}],\"contourcarpet\":[{\"type\":\"contourcarpet\",\"colorbar\":{\"outlinewidth\":0,\"ticks\":\"\"}}],\"contour\":[{\"type\":\"contour\",\"colorbar\":{\"outlinewidth\":0,\"ticks\":\"\"},\"colorscale\":[[0.0,\"#0d0887\"],[0.1111111111111111,\"#46039f\"],[0.2222222222222222,\"#7201a8\"],[0.3333333333333333,\"#9c179e\"],[0.4444444444444444,\"#bd3786\"],[0.5555555555555556,\"#d8576b\"],[0.6666666666666666,\"#ed7953\"],[0.7777777777777778,\"#fb9f3a\"],[0.8888888888888888,\"#fdca26\"],[1.0,\"#f0f921\"]]}],\"surface\":[{\"type\":\"surface\",\"colorbar\":{\"outlinewidth\":0,\"ticks\":\"\"},\"colorscale\":[[0.0,\"#0d0887\"],[0.1111111111111111,\"#46039f\"],[0.2222222222222222,\"#7201a8\"],[0.3333333333333333,\"#9c179e\"],[0.4444444444444444,\"#bd3786\"],[0.5555555555555556,\"#d8576b\"],[0.6666666666666666,\"#ed7953\"],[0.7777777777777778,\"#fb9f3a\"],[0.8888888888888888,\"#fdca26\"],[1.0,\"#f0f921\"]]}],\"mesh3d\":[{\"type\":\"mesh3d\",\"colorbar\":{\"outlinewidth\":0,\"ticks\":\"\"}}],\"scatter\":[{\"fillpattern\":{\"fillmode\":\"overlay\",\"size\":10,\"solidity\":0.2},\"type\":\"scatter\"}],\"parcoords\":[{\"type\":\"parcoords\",\"line\":{\"colorbar\":{\"outlinewidth\":0,\"ticks\":\"\"}}}],\"scatterpolargl\":[{\"type\":\"scatterpolargl\",\"marker\":{\"colorbar\":{\"outlinewidth\":0,\"ticks\":\"\"}}}],\"bar\":[{\"error_x\":{\"color\":\"#2a3f5f\"},\"error_y\":{\"color\":\"#2a3f5f\"},\"marker\":{\"line\":{\"color\":\"#E5ECF6\",\"width\":0.5},\"pattern\":{\"fillmode\":\"overlay\",\"size\":10,\"solidity\":0.2}},\"type\":\"bar\"}],\"scattergeo\":[{\"type\":\"scattergeo\",\"marker\":{\"colorbar\":{\"outlinewidth\":0,\"ticks\":\"\"}}}],\"scatterpolar\":[{\"type\":\"scatterpolar\",\"marker\":{\"colorbar\":{\"outlinewidth\":0,\"ticks\":\"\"}}}],\"histogram\":[{\"marker\":{\"pattern\":{\"fillmode\":\"overlay\",\"size\":10,\"solidity\":0.2}},\"type\":\"histogram\"}],\"scattergl\":[{\"type\":\"scattergl\",\"marker\":{\"colorbar\":{\"outlinewidth\":0,\"ticks\":\"\"}}}],\"scatter3d\":[{\"type\":\"scatter3d\",\"line\":{\"colorbar\":{\"outlinewidth\":0,\"ticks\":\"\"}},\"marker\":{\"colorbar\":{\"outlinewidth\":0,\"ticks\":\"\"}}}],\"scattermapbox\":[{\"type\":\"scattermapbox\",\"marker\":{\"colorbar\":{\"outlinewidth\":0,\"ticks\":\"\"}}}],\"scatterternary\":[{\"type\":\"scatterternary\",\"marker\":{\"colorbar\":{\"outlinewidth\":0,\"ticks\":\"\"}}}],\"scattercarpet\":[{\"type\":\"scattercarpet\",\"marker\":{\"colorbar\":{\"outlinewidth\":0,\"ticks\":\"\"}}}],\"carpet\":[{\"aaxis\":{\"endlinecolor\":\"#2a3f5f\",\"gridcolor\":\"white\",\"linecolor\":\"white\",\"minorgridcolor\":\"white\",\"startlinecolor\":\"#2a3f5f\"},\"baxis\":{\"endlinecolor\":\"#2a3f5f\",\"gridcolor\":\"white\",\"linecolor\":\"white\",\"minorgridcolor\":\"white\",\"startlinecolor\":\"#2a3f5f\"},\"type\":\"carpet\"}],\"table\":[{\"cells\":{\"fill\":{\"color\":\"#EBF0F8\"},\"line\":{\"color\":\"white\"}},\"header\":{\"fill\":{\"color\":\"#C8D4E3\"},\"line\":{\"color\":\"white\"}},\"type\":\"table\"}],\"barpolar\":[{\"marker\":{\"line\":{\"color\":\"#E5ECF6\",\"width\":0.5},\"pattern\":{\"fillmode\":\"overlay\",\"size\":10,\"solidity\":0.2}},\"type\":\"barpolar\"}],\"pie\":[{\"automargin\":true,\"type\":\"pie\"}]},\"layout\":{\"autotypenumbers\":\"strict\",\"colorway\":[\"#636efa\",\"#EF553B\",\"#00cc96\",\"#ab63fa\",\"#FFA15A\",\"#19d3f3\",\"#FF6692\",\"#B6E880\",\"#FF97FF\",\"#FECB52\"],\"font\":{\"color\":\"#2a3f5f\"},\"hovermode\":\"closest\",\"hoverlabel\":{\"align\":\"left\"},\"paper_bgcolor\":\"white\",\"plot_bgcolor\":\"#E5ECF6\",\"polar\":{\"bgcolor\":\"#E5ECF6\",\"angularaxis\":{\"gridcolor\":\"white\",\"linecolor\":\"white\",\"ticks\":\"\"},\"radialaxis\":{\"gridcolor\":\"white\",\"linecolor\":\"white\",\"ticks\":\"\"}},\"ternary\":{\"bgcolor\":\"#E5ECF6\",\"aaxis\":{\"gridcolor\":\"white\",\"linecolor\":\"white\",\"ticks\":\"\"},\"baxis\":{\"gridcolor\":\"white\",\"linecolor\":\"white\",\"ticks\":\"\"},\"caxis\":{\"gridcolor\":\"white\",\"linecolor\":\"white\",\"ticks\":\"\"}},\"coloraxis\":{\"colorbar\":{\"outlinewidth\":0,\"ticks\":\"\"}},\"colorscale\":{\"sequential\":[[0.0,\"#0d0887\"],[0.1111111111111111,\"#46039f\"],[0.2222222222222222,\"#7201a8\"],[0.3333333333333333,\"#9c179e\"],[0.4444444444444444,\"#bd3786\"],[0.5555555555555556,\"#d8576b\"],[0.6666666666666666,\"#ed7953\"],[0.7777777777777778,\"#fb9f3a\"],[0.8888888888888888,\"#fdca26\"],[1.0,\"#f0f921\"]],\"sequentialminus\":[[0.0,\"#0d0887\"],[0.1111111111111111,\"#46039f\"],[0.2222222222222222,\"#7201a8\"],[0.3333333333333333,\"#9c179e\"],[0.4444444444444444,\"#bd3786\"],[0.5555555555555556,\"#d8576b\"],[0.6666666666666666,\"#ed7953\"],[0.7777777777777778,\"#fb9f3a\"],[0.8888888888888888,\"#fdca26\"],[1.0,\"#f0f921\"]],\"diverging\":[[0,\"#8e0152\"],[0.1,\"#c51b7d\"],[0.2,\"#de77ae\"],[0.3,\"#f1b6da\"],[0.4,\"#fde0ef\"],[0.5,\"#f7f7f7\"],[0.6,\"#e6f5d0\"],[0.7,\"#b8e186\"],[0.8,\"#7fbc41\"],[0.9,\"#4d9221\"],[1,\"#276419\"]]},\"xaxis\":{\"gridcolor\":\"white\",\"linecolor\":\"white\",\"ticks\":\"\",\"title\":{\"standoff\":15},\"zerolinecolor\":\"white\",\"automargin\":true,\"zerolinewidth\":2},\"yaxis\":{\"gridcolor\":\"white\",\"linecolor\":\"white\",\"ticks\":\"\",\"title\":{\"standoff\":15},\"zerolinecolor\":\"white\",\"automargin\":true,\"zerolinewidth\":2},\"scene\":{\"xaxis\":{\"backgroundcolor\":\"#E5ECF6\",\"gridcolor\":\"white\",\"linecolor\":\"white\",\"showbackground\":true,\"ticks\":\"\",\"zerolinecolor\":\"white\",\"gridwidth\":2},\"yaxis\":{\"backgroundcolor\":\"#E5ECF6\",\"gridcolor\":\"white\",\"linecolor\":\"white\",\"showbackground\":true,\"ticks\":\"\",\"zerolinecolor\":\"white\",\"gridwidth\":2},\"zaxis\":{\"backgroundcolor\":\"#E5ECF6\",\"gridcolor\":\"white\",\"linecolor\":\"white\",\"showbackground\":true,\"ticks\":\"\",\"zerolinecolor\":\"white\",\"gridwidth\":2}},\"shapedefaults\":{\"line\":{\"color\":\"#2a3f5f\"}},\"annotationdefaults\":{\"arrowcolor\":\"#2a3f5f\",\"arrowhead\":0,\"arrowwidth\":1},\"geo\":{\"bgcolor\":\"white\",\"landcolor\":\"#E5ECF6\",\"subunitcolor\":\"white\",\"showland\":true,\"showlakes\":true,\"lakecolor\":\"white\"},\"title\":{\"x\":0.05},\"mapbox\":{\"style\":\"light\"}}},\"xaxis\":{\"anchor\":\"y\",\"domain\":[0.0,1.0],\"title\":{\"text\":\"CROP TYPE\"}},\"yaxis\":{\"anchor\":\"x\",\"domain\":[0.0,1.0],\"title\":{\"text\":\"value\"}},\"legend\":{\"title\":{\"text\":\"variable\"},\"tracegroupgap\":0},\"title\":{\"text\":\"Water Requirement of Various Crops\"}},                        {\"responsive\": true}                    ).then(function(){\n",
       "                            \n",
       "var gd = document.getElementById('ad92f13b-a5bc-4ef8-9784-c211f28972b4');\n",
       "var x = new MutationObserver(function (mutations, observer) {{\n",
       "        var display = window.getComputedStyle(gd).display;\n",
       "        if (!display || display === 'none') {{\n",
       "            console.log([gd, 'removed!']);\n",
       "            Plotly.purge(gd);\n",
       "            observer.disconnect();\n",
       "        }}\n",
       "}});\n",
       "\n",
       "// Listen for the removal of the full notebook cells\n",
       "var notebookContainer = gd.closest('#notebook-container');\n",
       "if (notebookContainer) {{\n",
       "    x.observe(notebookContainer, {childList: true});\n",
       "}}\n",
       "\n",
       "// Listen for the clearing of the current output cell\n",
       "var outputEl = gd.closest('.output');\n",
       "if (outputEl) {{\n",
       "    x.observe(outputEl, {childList: true});\n",
       "}}\n",
       "\n",
       "                        })                };                });            </script>        </div>"
      ]
     },
     "metadata": {},
     "output_type": "display_data"
    }
   ],
   "source": [
    "fig2= px.line(Crop_water,title=\"Water Requirement of Various Crops\",color_discrete_sequence=px.colors.qualitative.Set1)\n",
    "\n",
    "fig2.update_traces(mode='markers+lines', texttemplate='%{y}', textposition='top center')\n",
    "fig2.show()"
   ]
  },
  {
   "cell_type": "markdown",
   "id": "8605e511",
   "metadata": {},
   "source": [
    "**UNIQUE CROP TYPES IN DATASET**"
   ]
  },
  {
   "cell_type": "code",
   "execution_count": 67,
   "id": "88de859c",
   "metadata": {},
   "outputs": [
    {
     "data": {
      "text/plain": [
       "array(['ONION', 'TOMATO', 'WHEAT', 'POTATO'], dtype=object)"
      ]
     },
     "execution_count": 67,
     "metadata": {},
     "output_type": "execute_result"
    }
   ],
   "source": [
    "df[\"CROP TYPE\"].unique()"
   ]
  },
  {
   "cell_type": "markdown",
   "id": "f933812e",
   "metadata": {},
   "source": [
    "**WATER REQUIREMENT OF CROP ACCORDING TO MIN , MAX TEMP**"
   ]
  },
  {
   "cell_type": "code",
   "execution_count": 68,
   "id": "ef1e2f39",
   "metadata": {},
   "outputs": [
    {
     "data": {
      "text/plain": [
       "10"
      ]
     },
     "execution_count": 68,
     "metadata": {},
     "output_type": "execute_result"
    }
   ],
   "source": [
    "df[\"TEMP_MIN\"].min()"
   ]
  },
  {
   "cell_type": "code",
   "execution_count": 69,
   "id": "06a9ce23",
   "metadata": {},
   "outputs": [
    {
     "data": {
      "text/plain": [
       "20    192\n",
       "40    192\n",
       "10    192\n",
       "30    192\n",
       "Name: TEMP_MIN, dtype: int64"
      ]
     },
     "execution_count": 69,
     "metadata": {},
     "output_type": "execute_result"
    }
   ],
   "source": [
    "df[\"TEMP_MIN\"].value_counts()"
   ]
  },
  {
   "cell_type": "code",
   "execution_count": 70,
   "id": "36cb0ac7",
   "metadata": {},
   "outputs": [
    {
     "data": {
      "text/plain": [
       "CROP TYPE  TEMP_MIN\n",
       "ONION      10           2.693229\n",
       "           20           3.451563\n",
       "           30           4.224479\n",
       "           40           5.020313\n",
       "POTATO     10           4.706979\n",
       "           20           5.502292\n",
       "           30           6.330625\n",
       "           40           7.103333\n",
       "TOMATO     10           3.528750\n",
       "           20           4.303750\n",
       "           30          17.569583\n",
       "           40           5.878750\n",
       "WHEAT      10           5.706042\n",
       "           20           6.563125\n",
       "           30           7.443750\n",
       "           40           8.307708\n",
       "Name: WATER REQUIREMENT, dtype: float64"
      ]
     },
     "execution_count": 70,
     "metadata": {},
     "output_type": "execute_result"
    }
   ],
   "source": [
    "min_temp= df.groupby([\"CROP TYPE\",\"TEMP_MIN\"])[\"WATER REQUIREMENT\"].mean()\n",
    "min_temp"
   ]
  },
  {
   "cell_type": "code",
   "execution_count": 71,
   "id": "ce754751",
   "metadata": {},
   "outputs": [
    {
     "data": {
      "text/plain": [
       "50"
      ]
     },
     "execution_count": 71,
     "metadata": {},
     "output_type": "execute_result"
    }
   ],
   "source": [
    "df[\"TEMP.MAX\"].max()"
   ]
  },
  {
   "cell_type": "code",
   "execution_count": 72,
   "id": "3ad7d3f7",
   "metadata": {},
   "outputs": [
    {
     "data": {
      "text/plain": [
       "30    192\n",
       "50    192\n",
       "20    192\n",
       "40    192\n",
       "Name: TEMP.MAX, dtype: int64"
      ]
     },
     "execution_count": 72,
     "metadata": {},
     "output_type": "execute_result"
    }
   ],
   "source": [
    "df[\"TEMP.MAX\"].value_counts()"
   ]
  },
  {
   "cell_type": "code",
   "execution_count": 73,
   "id": "d9ead963",
   "metadata": {},
   "outputs": [
    {
     "data": {
      "text/plain": [
       "TEMP.MAX  CROP TYPE\n",
       "20        ONION         2.693229\n",
       "          POTATO        4.706979\n",
       "          TOMATO        3.528750\n",
       "          WHEAT         5.706042\n",
       "30        ONION         3.451563\n",
       "          POTATO        5.502292\n",
       "          TOMATO        4.303750\n",
       "          WHEAT         6.563125\n",
       "40        ONION         4.224479\n",
       "          POTATO        6.330625\n",
       "          TOMATO       17.569583\n",
       "          WHEAT         7.443750\n",
       "50        ONION         5.020313\n",
       "          POTATO        7.103333\n",
       "          TOMATO        5.878750\n",
       "          WHEAT         8.307708\n",
       "Name: WATER REQUIREMENT, dtype: float64"
      ]
     },
     "execution_count": 73,
     "metadata": {},
     "output_type": "execute_result"
    }
   ],
   "source": [
    "# for maximum temperature\n",
    "min_temp= df.groupby([\"TEMP.MAX\",\"CROP TYPE\"])[\"WATER REQUIREMENT\"].mean()\n",
    "min_temp"
   ]
  },
  {
   "cell_type": "code",
   "execution_count": 74,
   "id": "61275522",
   "metadata": {},
   "outputs": [
    {
     "data": {
      "text/plain": [
       "<Axes: xlabel='TEMP.MAX,CROP TYPE'>"
      ]
     },
     "execution_count": 74,
     "metadata": {},
     "output_type": "execute_result"
    },
    {
     "data": {
      "image/png": "[encoded data removed]",
      "text/plain": [
       "<Figure size 640x480 with 1 Axes>"
      ]
     },
     "metadata": {},
     "output_type": "display_data"
    }
   ],
   "source": [
    "min_temp.plot(kind=\"bar\")"
   ]
  },
  {
   "cell_type": "code",
   "execution_count": 75,
   "id": "270f9072",
   "metadata": {},
   "outputs": [
    {
     "data": {
      "application/vnd.plotly.v1+json": {
       "config": {
        "plotlyServerURL": "https://plot.ly"
       },
       "data": [
        {
         "alignmentgroup": "True",
         "hovertemplate": "TEMP.MAX=20<br>CROP TYPE=%{x}<br>value=%{y}<extra></extra>",
         "legendgroup": "20",
         "marker": {
          "color": "#636efa",
          "pattern": {
           "shape": ""
          }
         },
         "name": "20",
         "offsetgroup": "20",
         "orientation": "v",
         "showlegend": true,
         "textposition": "outside",
         "texttemplate": "%{y}",
         "type": "bar",
         "x": [
          "ONION",
          "POTATO",
          "TOMATO",
          "WHEAT"
         ],
         "xaxis": "x",
         "y": [
          2.693229166666667,
          4.706979166666667,
          3.52875,
          5.706041666666667
         ],
         "yaxis": "y"
        },
        {
         "alignmentgroup": "True",
         "hovertemplate": "TEMP.MAX=30<br>CROP TYPE=%{x}<br>value=%{y}<extra></extra>",
         "legendgroup": "30",
         "marker": {
          "color": "#EF553B",
          "pattern": {
           "shape": ""
          }
         },
         "name": "30",
         "offsetgroup": "30",
         "orientation": "v",
         "showlegend": true,
         "textposition": "outside",
         "texttemplate": "%{y}",
         "type": "bar",
         "x": [
          "ONION",
          "POTATO",
          "TOMATO",
          "WHEAT"
         ],
         "xaxis": "x",
         "y": [
          3.4515625,
          5.502291666666667,
          4.30375,
          6.563124999999999
         ],
         "yaxis": "y"
        },
        {
         "alignmentgroup": "True",
         "hovertemplate": "TEMP.MAX=40<br>CROP TYPE=%{x}<br>value=%{y}<extra></extra>",
         "legendgroup": "40",
         "marker": {
          "color": "#00cc96",
          "pattern": {
           "shape": ""
          }
         },
         "name": "40",
         "offsetgroup": "40",
         "orientation": "v",
         "showlegend": true,
         "textposition": "outside",
         "texttemplate": "%{y}",
         "type": "bar",
         "x": [
          "ONION",
          "POTATO",
          "TOMATO",
          "WHEAT"
         ],
         "xaxis": "x",
         "y": [
          4.224479166666667,
          6.330625,
          17.569583333333334,
          7.4437500000000005
         ],
         "yaxis": "y"
        },
        {
         "alignmentgroup": "True",
         "hovertemplate": "TEMP.MAX=50<br>CROP TYPE=%{x}<br>value=%{y}<extra></extra>",
         "legendgroup": "50",
         "marker": {
          "color": "#ab63fa",
          "pattern": {
           "shape": ""
          }
         },
         "name": "50",
         "offsetgroup": "50",
         "orientation": "v",
         "showlegend": true,
         "textposition": "outside",
         "texttemplate": "%{y}",
         "type": "bar",
         "x": [
          "ONION",
          "POTATO",
          "TOMATO",
          "WHEAT"
         ],
         "xaxis": "x",
         "y": [
          5.0203125,
          7.103333333333333,
          5.87875,
          8.307708333333332
         ],
         "yaxis": "y"
        }
       ],
       "layout": {
        "barmode": "relative",
        "legend": {
         "title": {
          "text": "TEMP.MAX"
         },
         "tracegroupgap": 0
        },
        "template": {
         "data": {
          "bar": [
           {
            "error_x": {
             "color": "#2a3f5f"
            },
            "error_y": {
             "color": "#2a3f5f"
            },
            "marker": {
             "line": {
              "color": "#E5ECF6",
              "width": 0.5
             },
             "pattern": {
              "fillmode": "overlay",
              "size": 10,
              "solidity": 0.2
             }
            },
            "type": "bar"
           }
          ],
          "barpolar": [
           {
            "marker": {
             "line": {
              "color": "#E5ECF6",
              "width": 0.5
             },
             "pattern": {
              "fillmode": "overlay",
              "size": 10,
              "solidity": 0.2
             }
            },
            "type": "barpolar"
           }
          ],
          "carpet": [
           {
            "aaxis": {
             "endlinecolor": "#2a3f5f",
             "gridcolor": "white",
             "linecolor": "white",
             "minorgridcolor": "white",
             "startlinecolor": "#2a3f5f"
            },
            "baxis": {
             "endlinecolor": "#2a3f5f",
             "gridcolor": "white",
             "linecolor": "white",
             "minorgridcolor": "white",
             "startlinecolor": "#2a3f5f"
            },
            "type": "carpet"
           }
          ],
          "choropleth": [
           {
            "colorbar": {
             "outlinewidth": 0,
             "ticks": ""
            },
            "type": "choropleth"
           }
          ],
          "contour": [
           {
            "colorbar": {
             "outlinewidth": 0,
             "ticks": ""
            },
            "colorscale": [
             [
              0,
              "#0d0887"
             ],
             [
              0.1111111111111111,
              "#46039f"
             ],
             [
              0.2222222222222222,
              "#7201a8"
             ],
             [
              0.3333333333333333,
              "#9c179e"
             ],
             [
              0.4444444444444444,
              "#bd3786"
             ],
             [
              0.5555555555555556,
              "#d8576b"
             ],
             [
              0.6666666666666666,
              "#ed7953"
             ],
             [
              0.7777777777777778,
              "#fb9f3a"
             ],
             [
              0.8888888888888888,
              "#fdca26"
             ],
             [
              1,
              "#f0f921"
             ]
            ],
            "type": "contour"
           }
          ],
          "contourcarpet": [
           {
            "colorbar": {
             "outlinewidth": 0,
             "ticks": ""
            },
            "type": "contourcarpet"
           }
          ],
          "heatmap": [
           {
            "colorbar": {
             "outlinewidth": 0,
             "ticks": ""
            },
            "colorscale": [
             [
              0,
              "#0d0887"
             ],
             [
              0.1111111111111111,
              "#46039f"
             ],
             [
              0.2222222222222222,
              "#7201a8"
             ],
             [
              0.3333333333333333,
              "#9c179e"
             ],
             [
              0.4444444444444444,
              "#bd3786"
             ],
             [
              0.5555555555555556,
              "#d8576b"
             ],
             [
              0.6666666666666666,
              "#ed7953"
             ],
             [
              0.7777777777777778,
              "#fb9f3a"
             ],
             [
              0.8888888888888888,
              "#fdca26"
             ],
             [
              1,
              "#f0f921"
             ]
            ],
            "type": "heatmap"
           }
          ],
          "heatmapgl": [
           {
            "colorbar": {
             "outlinewidth": 0,
             "ticks": ""
            },
            "colorscale": [
             [
              0,
              "#0d0887"
             ],
             [
              0.1111111111111111,
              "#46039f"
             ],
             [
              0.2222222222222222,
              "#7201a8"
             ],
             [
              0.3333333333333333,
              "#9c179e"
             ],
             [
              0.4444444444444444,
              "#bd3786"
             ],
             [
              0.5555555555555556,
              "#d8576b"
             ],
             [
              0.6666666666666666,
              "#ed7953"
             ],
             [
              0.7777777777777778,
              "#fb9f3a"
             ],
             [
              0.8888888888888888,
              "#fdca26"
             ],
             [
              1,
              "#f0f921"
             ]
            ],
            "type": "heatmapgl"
           }
          ],
          "histogram": [
           {
            "marker": {
             "pattern": {
              "fillmode": "overlay",
              "size": 10,
              "solidity": 0.2
             }
            },
            "type": "histogram"
           }
          ],
          "histogram2d": [
           {
            "colorbar": {
             "outlinewidth": 0,
             "ticks": ""
            },
            "colorscale": [
             [
              0,
              "#0d0887"
             ],
             [
              0.1111111111111111,
              "#46039f"
             ],
             [
              0.2222222222222222,
              "#7201a8"
             ],
             [
              0.3333333333333333,
              "#9c179e"
             ],
             [
              0.4444444444444444,
              "#bd3786"
             ],
             [
              0.5555555555555556,
              "#d8576b"
             ],
             [
              0.6666666666666666,
              "#ed7953"
             ],
             [
              0.7777777777777778,
              "#fb9f3a"
             ],
             [
              0.8888888888888888,
              "#fdca26"
             ],
             [
              1,
              "#f0f921"
             ]
            ],
            "type": "histogram2d"
           }
          ],
          "histogram2dcontour": [
           {
            "colorbar": {
             "outlinewidth": 0,
             "ticks": ""
            },
            "colorscale": [
             [
              0,
              "#0d0887"
             ],
             [
              0.1111111111111111,
              "#46039f"
             ],
             [
              0.2222222222222222,
              "#7201a8"
             ],
             [
              0.3333333333333333,
              "#9c179e"
             ],
             [
              0.4444444444444444,
              "#bd3786"
             ],
             [
              0.5555555555555556,
              "#d8576b"
             ],
             [
              0.6666666666666666,
              "#ed7953"
             ],
             [
              0.7777777777777778,
              "#fb9f3a"
             ],
             [
              0.8888888888888888,
              "#fdca26"
             ],
             [
              1,
              "#f0f921"
             ]
            ],
            "type": "histogram2dcontour"
           }
          ],
          "mesh3d": [
           {
            "colorbar": {
             "outlinewidth": 0,
             "ticks": ""
            },
            "type": "mesh3d"
           }
          ],
          "parcoords": [
           {
            "line": {
             "colorbar": {
              "outlinewidth": 0,
              "ticks": ""
             }
            },
            "type": "parcoords"
           }
          ],
          "pie": [
           {
            "automargin": true,
            "type": "pie"
           }
          ],
          "scatter": [
           {
            "fillpattern": {
             "fillmode": "overlay",
             "size": 10,
             "solidity": 0.2
            },
            "type": "scatter"
           }
          ],
          "scatter3d": [
           {
            "line": {
             "colorbar": {
              "outlinewidth": 0,
              "ticks": ""
             }
            },
            "marker": {
             "colorbar": {
              "outlinewidth": 0,
              "ticks": ""
             }
            },
            "type": "scatter3d"
           }
          ],
          "scattercarpet": [
           {
            "marker": {
             "colorbar": {
              "outlinewidth": 0,
              "ticks": ""
             }
            },
            "type": "scattercarpet"
           }
          ],
          "scattergeo": [
           {
            "marker": {
             "colorbar": {
              "outlinewidth": 0,
              "ticks": ""
             }
            },
            "type": "scattergeo"
           }
          ],
          "scattergl": [
           {
            "marker": {
             "colorbar": {
              "outlinewidth": 0,
              "ticks": ""
             }
            },
            "type": "scattergl"
           }
          ],
          "scattermapbox": [
           {
            "marker": {
             "colorbar": {
              "outlinewidth": 0,
              "ticks": ""
             }
            },
            "type": "scattermapbox"
           }
          ],
          "scatterpolar": [
           {
            "marker": {
             "colorbar": {
              "outlinewidth": 0,
              "ticks": ""
             }
            },
            "type": "scatterpolar"
           }
          ],
          "scatterpolargl": [
           {
            "marker": {
             "colorbar": {
              "outlinewidth": 0,
              "ticks": ""
             }
            },
            "type": "scatterpolargl"
           }
          ],
          "scatterternary": [
           {
            "marker": {
             "colorbar": {
              "outlinewidth": 0,
              "ticks": ""
             }
            },
            "type": "scatterternary"
           }
          ],
          "surface": [
           {
            "colorbar": {
             "outlinewidth": 0,
             "ticks": ""
            },
            "colorscale": [
             [
              0,
              "#0d0887"
             ],
             [
              0.1111111111111111,
              "#46039f"
             ],
             [
              0.2222222222222222,
              "#7201a8"
             ],
             [
              0.3333333333333333,
              "#9c179e"
             ],
             [
              0.4444444444444444,
              "#bd3786"
             ],
             [
              0.5555555555555556,
              "#d8576b"
             ],
             [
              0.6666666666666666,
              "#ed7953"
             ],
             [
              0.7777777777777778,
              "#fb9f3a"
             ],
             [
              0.8888888888888888,
              "#fdca26"
             ],
             [
              1,
              "#f0f921"
             ]
            ],
            "type": "surface"
           }
          ],
          "table": [
           {
            "cells": {
             "fill": {
              "color": "#EBF0F8"
             },
             "line": {
              "color": "white"
             }
            },
            "header": {
             "fill": {
              "color": "#C8D4E3"
             },
             "line": {
              "color": "white"
             }
            },
            "type": "table"
           }
          ]
         },
         "layout": {
          "annotationdefaults": {
           "arrowcolor": "#2a3f5f",
           "arrowhead": 0,
           "arrowwidth": 1
          },
          "autotypenumbers": "strict",
          "coloraxis": {
           "colorbar": {
            "outlinewidth": 0,
            "ticks": ""
           }
          },
          "colorscale": {
           "diverging": [
            [
             0,
             "#8e0152"
            ],
            [
             0.1,
             "#c51b7d"
            ],
            [
             0.2,
             "#de77ae"
            ],
            [
             0.3,
             "#f1b6da"
            ],
            [
             0.4,
             "#fde0ef"
            ],
            [
             0.5,
             "#f7f7f7"
            ],
            [
             0.6,
             "#e6f5d0"
            ],
            [
             0.7,
             "#b8e186"
            ],
            [
             0.8,
             "#7fbc41"
            ],
            [
             0.9,
             "#4d9221"
            ],
            [
             1,
             "#276419"
            ]
           ],
           "sequential": [
            [
             0,
             "#0d0887"
            ],
            [
             0.1111111111111111,
             "#46039f"
            ],
            [
             0.2222222222222222,
             "#7201a8"
            ],
            [
             0.3333333333333333,
             "#9c179e"
            ],
            [
             0.4444444444444444,
             "#bd3786"
            ],
            [
             0.5555555555555556,
             "#d8576b"
            ],
            [
             0.6666666666666666,
             "#ed7953"
            ],
            [
             0.7777777777777778,
             "#fb9f3a"
            ],
            [
             0.8888888888888888,
             "#fdca26"
            ],
            [
             1,
             "#f0f921"
            ]
           ],
           "sequentialminus": [
            [
             0,
             "#0d0887"
            ],
            [
             0.1111111111111111,
             "#46039f"
            ],
            [
             0.2222222222222222,
             "#7201a8"
            ],
            [
             0.3333333333333333,
             "#9c179e"
            ],
            [
             0.4444444444444444,
             "#bd3786"
            ],
            [
             0.5555555555555556,
             "#d8576b"
            ],
            [
             0.6666666666666666,
             "#ed7953"
            ],
            [
             0.7777777777777778,
             "#fb9f3a"
            ],
            [
             0.8888888888888888,
             "#fdca26"
            ],
            [
             1,
             "#f0f921"
            ]
           ]
          },
          "colorway": [
           "#636efa",
           "#EF553B",
           "#00cc96",
           "#ab63fa",
           "#FFA15A",
           "#19d3f3",
           "#FF6692",
           "#B6E880",
           "#FF97FF",
           "#FECB52"
          ],
          "font": {
           "color": "#2a3f5f"
          },
          "geo": {
           "bgcolor": "white",
           "lakecolor": "white",
           "landcolor": "#E5ECF6",
           "showlakes": true,
           "showland": true,
           "subunitcolor": "white"
          },
          "hoverlabel": {
           "align": "left"
          },
          "hovermode": "closest",
          "mapbox": {
           "style": "light"
          },
          "paper_bgcolor": "white",
          "plot_bgcolor": "#E5ECF6",
          "polar": {
           "angularaxis": {
            "gridcolor": "white",
            "linecolor": "white",
            "ticks": ""
           },
           "bgcolor": "#E5ECF6",
           "radialaxis": {
            "gridcolor": "white",
            "linecolor": "white",
            "ticks": ""
           }
          },
          "scene": {
           "xaxis": {
            "backgroundcolor": "#E5ECF6",
            "gridcolor": "white",
            "gridwidth": 2,
            "linecolor": "white",
            "showbackground": true,
            "ticks": "",
            "zerolinecolor": "white"
           },
           "yaxis": {
            "backgroundcolor": "#E5ECF6",
            "gridcolor": "white",
            "gridwidth": 2,
            "linecolor": "white",
            "showbackground": true,
            "ticks": "",
            "zerolinecolor": "white"
           },
           "zaxis": {
            "backgroundcolor": "#E5ECF6",
            "gridcolor": "white",
            "gridwidth": 2,
            "linecolor": "white",
            "showbackground": true,
            "ticks": "",
            "zerolinecolor": "white"
           }
          },
          "shapedefaults": {
           "line": {
            "color": "#2a3f5f"
           }
          },
          "ternary": {
           "aaxis": {
            "gridcolor": "white",
            "linecolor": "white",
            "ticks": ""
           },
           "baxis": {
            "gridcolor": "white",
            "linecolor": "white",
            "ticks": ""
           },
           "bgcolor": "#E5ECF6",
           "caxis": {
            "gridcolor": "white",
            "linecolor": "white",
            "ticks": ""
           }
          },
          "title": {
           "x": 0.05
          },
          "xaxis": {
           "automargin": true,
           "gridcolor": "white",
           "linecolor": "white",
           "ticks": "",
           "title": {
            "standoff": 15
           },
           "zerolinecolor": "white",
           "zerolinewidth": 2
          },
          "yaxis": {
           "automargin": true,
           "gridcolor": "white",
           "linecolor": "white",
           "ticks": "",
           "title": {
            "standoff": 15
           },
           "zerolinecolor": "white",
           "zerolinewidth": 2
          }
         }
        },
        "title": {
         "text": "Water Requirement of Crops according to Variations in Temperature"
        },
        "xaxis": {
         "anchor": "y",
         "domain": [
          0,
          1
         ],
         "title": {
          "text": "CROP TYPE"
         }
        },
        "yaxis": {
         "anchor": "x",
         "domain": [
          0,
          1
         ],
         "title": {
          "text": "value"
         }
        }
       }
      },
      "text/html": [
       "<div>                            <div id=\"671b7f67-b78c-4105-b33a-6305805471ad\" class=\"plotly-graph-div\" style=\"height:525px; width:100%;\"></div>            <script type=\"text/javascript\">                require([\"plotly\"], function(Plotly) {                    window.PLOTLYENV=window.PLOTLYENV || {};                                    if (document.getElementById(\"671b7f67-b78c-4105-b33a-6305805471ad\")) {                    Plotly.newPlot(                        \"671b7f67-b78c-4105-b33a-6305805471ad\",                        [{\"alignmentgroup\":\"True\",\"hovertemplate\":\"TEMP.MAX=20<br>CROP TYPE=%{x}<br>value=%{y}<extra></extra>\",\"legendgroup\":\"20\",\"marker\":{\"color\":\"#636efa\",\"pattern\":{\"shape\":\"\"}},\"name\":\"20\",\"offsetgroup\":\"20\",\"orientation\":\"v\",\"showlegend\":true,\"textposition\":\"outside\",\"x\":[\"ONION\",\"POTATO\",\"TOMATO\",\"WHEAT\"],\"xaxis\":\"x\",\"y\":[2.693229166666667,4.706979166666667,3.52875,5.706041666666667],\"yaxis\":\"y\",\"type\":\"bar\",\"texttemplate\":\"%{y}\"},{\"alignmentgroup\":\"True\",\"hovertemplate\":\"TEMP.MAX=30<br>CROP TYPE=%{x}<br>value=%{y}<extra></extra>\",\"legendgroup\":\"30\",\"marker\":{\"color\":\"#EF553B\",\"pattern\":{\"shape\":\"\"}},\"name\":\"30\",\"offsetgroup\":\"30\",\"orientation\":\"v\",\"showlegend\":true,\"textposition\":\"outside\",\"x\":[\"ONION\",\"POTATO\",\"TOMATO\",\"WHEAT\"],\"xaxis\":\"x\",\"y\":[3.4515625,5.502291666666667,4.30375,6.563124999999999],\"yaxis\":\"y\",\"type\":\"bar\",\"texttemplate\":\"%{y}\"},{\"alignmentgroup\":\"True\",\"hovertemplate\":\"TEMP.MAX=40<br>CROP TYPE=%{x}<br>value=%{y}<extra></extra>\",\"legendgroup\":\"40\",\"marker\":{\"color\":\"#00cc96\",\"pattern\":{\"shape\":\"\"}},\"name\":\"40\",\"offsetgroup\":\"40\",\"orientation\":\"v\",\"showlegend\":true,\"textposition\":\"outside\",\"x\":[\"ONION\",\"POTATO\",\"TOMATO\",\"WHEAT\"],\"xaxis\":\"x\",\"y\":[4.224479166666667,6.330625,17.569583333333334,7.4437500000000005],\"yaxis\":\"y\",\"type\":\"bar\",\"texttemplate\":\"%{y}\"},{\"alignmentgroup\":\"True\",\"hovertemplate\":\"TEMP.MAX=50<br>CROP TYPE=%{x}<br>value=%{y}<extra></extra>\",\"legendgroup\":\"50\",\"marker\":{\"color\":\"#ab63fa\",\"pattern\":{\"shape\":\"\"}},\"name\":\"50\",\"offsetgroup\":\"50\",\"orientation\":\"v\",\"showlegend\":true,\"textposition\":\"outside\",\"x\":[\"ONION\",\"POTATO\",\"TOMATO\",\"WHEAT\"],\"xaxis\":\"x\",\"y\":[5.0203125,7.103333333333333,5.87875,8.307708333333332],\"yaxis\":\"y\",\"type\":\"bar\",\"texttemplate\":\"%{y}\"}],                        {\"template\":{\"data\":{\"histogram2dcontour\":[{\"type\":\"histogram2dcontour\",\"colorbar\":{\"outlinewidth\":0,\"ticks\":\"\"},\"colorscale\":[[0.0,\"#0d0887\"],[0.1111111111111111,\"#46039f\"],[0.2222222222222222,\"#7201a8\"],[0.3333333333333333,\"#9c179e\"],[0.4444444444444444,\"#bd3786\"],[0.5555555555555556,\"#d8576b\"],[0.6666666666666666,\"#ed7953\"],[0.7777777777777778,\"#fb9f3a\"],[0.8888888888888888,\"#fdca26\"],[1.0,\"#f0f921\"]]}],\"choropleth\":[{\"type\":\"choropleth\",\"colorbar\":{\"outlinewidth\":0,\"ticks\":\"\"}}],\"histogram2d\":[{\"type\":\"histogram2d\",\"colorbar\":{\"outlinewidth\":0,\"ticks\":\"\"},\"colorscale\":[[0.0,\"#0d0887\"],[0.1111111111111111,\"#46039f\"],[0.2222222222222222,\"#7201a8\"],[0.3333333333333333,\"#9c179e\"],[0.4444444444444444,\"#bd3786\"],[0.5555555555555556,\"#d8576b\"],[0.6666666666666666,\"#ed7953\"],[0.7777777777777778,\"#fb9f3a\"],[0.8888888888888888,\"#fdca26\"],[1.0,\"#f0f921\"]]}],\"heatmap\":[{\"type\":\"heatmap\",\"colorbar\":{\"outlinewidth\":0,\"ticks\":\"\"},\"colorscale\":[[0.0,\"#0d0887\"],[0.1111111111111111,\"#46039f\"],[0.2222222222222222,\"#7201a8\"],[0.3333333333333333,\"#9c179e\"],[0.4444444444444444,\"#bd3786\"],[0.5555555555555556,\"#d8576b\"],[0.6666666666666666,\"#ed7953\"],[0.7777777777777778,\"#fb9f3a\"],[0.8888888888888888,\"#fdca26\"],[1.0,\"#f0f921\"]]}],\"heatmapgl\":[{\"type\":\"heatmapgl\",\"colorbar\":{\"outlinewidth\":0,\"ticks\":\"\"},\"colorscale\":[[0.0,\"#0d0887\"],[0.1111111111111111,\"#46039f\"],[0.2222222222222222,\"#7201a8\"],[0.3333333333333333,\"#9c179e\"],[0.4444444444444444,\"#bd3786\"],[0.5555555555555556,\"#d8576b\"],[0.6666666666666666,\"#ed7953\"],[0.7777777777777778,\"#fb9f3a\"],[0.8888888888888888,\"#fdca26\"],[1.0,\"#f0f921\"]]}],\"contourcarpet\":[{\"type\":\"contourcarpet\",\"colorbar\":{\"outlinewidth\":0,\"ticks\":\"\"}}],\"contour\":[{\"type\":\"contour\",\"colorbar\":{\"outlinewidth\":0,\"ticks\":\"\"},\"colorscale\":[[0.0,\"#0d0887\"],[0.1111111111111111,\"#46039f\"],[0.2222222222222222,\"#7201a8\"],[0.3333333333333333,\"#9c179e\"],[0.4444444444444444,\"#bd3786\"],[0.5555555555555556,\"#d8576b\"],[0.6666666666666666,\"#ed7953\"],[0.7777777777777778,\"#fb9f3a\"],[0.8888888888888888,\"#fdca26\"],[1.0,\"#f0f921\"]]}],\"surface\":[{\"type\":\"surface\",\"colorbar\":{\"outlinewidth\":0,\"ticks\":\"\"},\"colorscale\":[[0.0,\"#0d0887\"],[0.1111111111111111,\"#46039f\"],[0.2222222222222222,\"#7201a8\"],[0.3333333333333333,\"#9c179e\"],[0.4444444444444444,\"#bd3786\"],[0.5555555555555556,\"#d8576b\"],[0.6666666666666666,\"#ed7953\"],[0.7777777777777778,\"#fb9f3a\"],[0.8888888888888888,\"#fdca26\"],[1.0,\"#f0f921\"]]}],\"mesh3d\":[{\"type\":\"mesh3d\",\"colorbar\":{\"outlinewidth\":0,\"ticks\":\"\"}}],\"scatter\":[{\"fillpattern\":{\"fillmode\":\"overlay\",\"size\":10,\"solidity\":0.2},\"type\":\"scatter\"}],\"parcoords\":[{\"type\":\"parcoords\",\"line\":{\"colorbar\":{\"outlinewidth\":0,\"ticks\":\"\"}}}],\"scatterpolargl\":[{\"type\":\"scatterpolargl\",\"marker\":{\"colorbar\":{\"outlinewidth\":0,\"ticks\":\"\"}}}],\"bar\":[{\"error_x\":{\"color\":\"#2a3f5f\"},\"error_y\":{\"color\":\"#2a3f5f\"},\"marker\":{\"line\":{\"color\":\"#E5ECF6\",\"width\":0.5},\"pattern\":{\"fillmode\":\"overlay\",\"size\":10,\"solidity\":0.2}},\"type\":\"bar\"}],\"scattergeo\":[{\"type\":\"scattergeo\",\"marker\":{\"colorbar\":{\"outlinewidth\":0,\"ticks\":\"\"}}}],\"scatterpolar\":[{\"type\":\"scatterpolar\",\"marker\":{\"colorbar\":{\"outlinewidth\":0,\"ticks\":\"\"}}}],\"histogram\":[{\"marker\":{\"pattern\":{\"fillmode\":\"overlay\",\"size\":10,\"solidity\":0.2}},\"type\":\"histogram\"}],\"scattergl\":[{\"type\":\"scattergl\",\"marker\":{\"colorbar\":{\"outlinewidth\":0,\"ticks\":\"\"}}}],\"scatter3d\":[{\"type\":\"scatter3d\",\"line\":{\"colorbar\":{\"outlinewidth\":0,\"ticks\":\"\"}},\"marker\":{\"colorbar\":{\"outlinewidth\":0,\"ticks\":\"\"}}}],\"scattermapbox\":[{\"type\":\"scattermapbox\",\"marker\":{\"colorbar\":{\"outlinewidth\":0,\"ticks\":\"\"}}}],\"scatterternary\":[{\"type\":\"scatterternary\",\"marker\":{\"colorbar\":{\"outlinewidth\":0,\"ticks\":\"\"}}}],\"scattercarpet\":[{\"type\":\"scattercarpet\",\"marker\":{\"colorbar\":{\"outlinewidth\":0,\"ticks\":\"\"}}}],\"carpet\":[{\"aaxis\":{\"endlinecolor\":\"#2a3f5f\",\"gridcolor\":\"white\",\"linecolor\":\"white\",\"minorgridcolor\":\"white\",\"startlinecolor\":\"#2a3f5f\"},\"baxis\":{\"endlinecolor\":\"#2a3f5f\",\"gridcolor\":\"white\",\"linecolor\":\"white\",\"minorgridcolor\":\"white\",\"startlinecolor\":\"#2a3f5f\"},\"type\":\"carpet\"}],\"table\":[{\"cells\":{\"fill\":{\"color\":\"#EBF0F8\"},\"line\":{\"color\":\"white\"}},\"header\":{\"fill\":{\"color\":\"#C8D4E3\"},\"line\":{\"color\":\"white\"}},\"type\":\"table\"}],\"barpolar\":[{\"marker\":{\"line\":{\"color\":\"#E5ECF6\",\"width\":0.5},\"pattern\":{\"fillmode\":\"overlay\",\"size\":10,\"solidity\":0.2}},\"type\":\"barpolar\"}],\"pie\":[{\"automargin\":true,\"type\":\"pie\"}]},\"layout\":{\"autotypenumbers\":\"strict\",\"colorway\":[\"#636efa\",\"#EF553B\",\"#00cc96\",\"#ab63fa\",\"#FFA15A\",\"#19d3f3\",\"#FF6692\",\"#B6E880\",\"#FF97FF\",\"#FECB52\"],\"font\":{\"color\":\"#2a3f5f\"},\"hovermode\":\"closest\",\"hoverlabel\":{\"align\":\"left\"},\"paper_bgcolor\":\"white\",\"plot_bgcolor\":\"#E5ECF6\",\"polar\":{\"bgcolor\":\"#E5ECF6\",\"angularaxis\":{\"gridcolor\":\"white\",\"linecolor\":\"white\",\"ticks\":\"\"},\"radialaxis\":{\"gridcolor\":\"white\",\"linecolor\":\"white\",\"ticks\":\"\"}},\"ternary\":{\"bgcolor\":\"#E5ECF6\",\"aaxis\":{\"gridcolor\":\"white\",\"linecolor\":\"white\",\"ticks\":\"\"},\"baxis\":{\"gridcolor\":\"white\",\"linecolor\":\"white\",\"ticks\":\"\"},\"caxis\":{\"gridcolor\":\"white\",\"linecolor\":\"white\",\"ticks\":\"\"}},\"coloraxis\":{\"colorbar\":{\"outlinewidth\":0,\"ticks\":\"\"}},\"colorscale\":{\"sequential\":[[0.0,\"#0d0887\"],[0.1111111111111111,\"#46039f\"],[0.2222222222222222,\"#7201a8\"],[0.3333333333333333,\"#9c179e\"],[0.4444444444444444,\"#bd3786\"],[0.5555555555555556,\"#d8576b\"],[0.6666666666666666,\"#ed7953\"],[0.7777777777777778,\"#fb9f3a\"],[0.8888888888888888,\"#fdca26\"],[1.0,\"#f0f921\"]],\"sequentialminus\":[[0.0,\"#0d0887\"],[0.1111111111111111,\"#46039f\"],[0.2222222222222222,\"#7201a8\"],[0.3333333333333333,\"#9c179e\"],[0.4444444444444444,\"#bd3786\"],[0.5555555555555556,\"#d8576b\"],[0.6666666666666666,\"#ed7953\"],[0.7777777777777778,\"#fb9f3a\"],[0.8888888888888888,\"#fdca26\"],[1.0,\"#f0f921\"]],\"diverging\":[[0,\"#8e0152\"],[0.1,\"#c51b7d\"],[0.2,\"#de77ae\"],[0.3,\"#f1b6da\"],[0.4,\"#fde0ef\"],[0.5,\"#f7f7f7\"],[0.6,\"#e6f5d0\"],[0.7,\"#b8e186\"],[0.8,\"#7fbc41\"],[0.9,\"#4d9221\"],[1,\"#276419\"]]},\"xaxis\":{\"gridcolor\":\"white\",\"linecolor\":\"white\",\"ticks\":\"\",\"title\":{\"standoff\":15},\"zerolinecolor\":\"white\",\"automargin\":true,\"zerolinewidth\":2},\"yaxis\":{\"gridcolor\":\"white\",\"linecolor\":\"white\",\"ticks\":\"\",\"title\":{\"standoff\":15},\"zerolinecolor\":\"white\",\"automargin\":true,\"zerolinewidth\":2},\"scene\":{\"xaxis\":{\"backgroundcolor\":\"#E5ECF6\",\"gridcolor\":\"white\",\"linecolor\":\"white\",\"showbackground\":true,\"ticks\":\"\",\"zerolinecolor\":\"white\",\"gridwidth\":2},\"yaxis\":{\"backgroundcolor\":\"#E5ECF6\",\"gridcolor\":\"white\",\"linecolor\":\"white\",\"showbackground\":true,\"ticks\":\"\",\"zerolinecolor\":\"white\",\"gridwidth\":2},\"zaxis\":{\"backgroundcolor\":\"#E5ECF6\",\"gridcolor\":\"white\",\"linecolor\":\"white\",\"showbackground\":true,\"ticks\":\"\",\"zerolinecolor\":\"white\",\"gridwidth\":2}},\"shapedefaults\":{\"line\":{\"color\":\"#2a3f5f\"}},\"annotationdefaults\":{\"arrowcolor\":\"#2a3f5f\",\"arrowhead\":0,\"arrowwidth\":1},\"geo\":{\"bgcolor\":\"white\",\"landcolor\":\"#E5ECF6\",\"subunitcolor\":\"white\",\"showland\":true,\"showlakes\":true,\"lakecolor\":\"white\"},\"title\":{\"x\":0.05},\"mapbox\":{\"style\":\"light\"}}},\"xaxis\":{\"anchor\":\"y\",\"domain\":[0.0,1.0],\"title\":{\"text\":\"CROP TYPE\"}},\"yaxis\":{\"anchor\":\"x\",\"domain\":[0.0,1.0],\"title\":{\"text\":\"value\"}},\"legend\":{\"title\":{\"text\":\"TEMP.MAX\"},\"tracegroupgap\":0},\"title\":{\"text\":\"Water Requirement of Crops according to Variations in Temperature\"},\"barmode\":\"relative\"},                        {\"responsive\": true}                    ).then(function(){\n",
       "                            \n",
       "var gd = document.getElementById('671b7f67-b78c-4105-b33a-6305805471ad');\n",
       "var x = new MutationObserver(function (mutations, observer) {{\n",
       "        var display = window.getComputedStyle(gd).display;\n",
       "        if (!display || display === 'none') {{\n",
       "            console.log([gd, 'removed!']);\n",
       "            Plotly.purge(gd);\n",
       "            observer.disconnect();\n",
       "        }}\n",
       "}});\n",
       "\n",
       "// Listen for the removal of the full notebook cells\n",
       "var notebookContainer = gd.closest('#notebook-container');\n",
       "if (notebookContainer) {{\n",
       "    x.observe(notebookContainer, {childList: true});\n",
       "}}\n",
       "\n",
       "// Listen for the clearing of the current output cell\n",
       "var outputEl = gd.closest('.output');\n",
       "if (outputEl) {{\n",
       "    x.observe(outputEl, {childList: true});\n",
       "}}\n",
       "\n",
       "                        })                };                });            </script>        </div>"
      ]
     },
     "metadata": {},
     "output_type": "display_data"
    }
   ],
   "source": [
    "ax = min_temp.unstack(level=0)\n",
    "fig3=px.bar(ax,title=\"Water Requirement of Crops according to Variations in Temperature\")\n",
    "fig3.update_traces(texttemplate='%{y}', textposition='outside')\n",
    "fig3.show()"
   ]
  },
  {
   "cell_type": "markdown",
   "id": "85e0f978",
   "metadata": {},
   "source": [
    "**WEATHER BASED ON MIN , MAX TEMP**"
   ]
  },
  {
   "cell_type": "code",
   "execution_count": 76,
   "id": "c829705e",
   "metadata": {},
   "outputs": [
    {
     "data": {
      "text/plain": [
       "WEATHER\n",
       "NORMAL    35.025381\n",
       "RAINY     34.973545\n",
       "SUNNY     34.870466\n",
       "WINDY     35.132275\n",
       "Name: TEMP.MAX, dtype: float64"
      ]
     },
     "execution_count": 76,
     "metadata": {},
     "output_type": "execute_result"
    }
   ],
   "source": [
    "weather= df.groupby(\"WEATHER\")[\"TEMP.MAX\"].mean()\n",
    "weather"
   ]
  },
  {
   "cell_type": "code",
   "execution_count": 77,
   "id": "c9d1af41",
   "metadata": {},
   "outputs": [
    {
     "data": {
      "text/html": [
       "<div>\n",
       "<style scoped>\n",
       "    .dataframe tbody tr th:only-of-type {\n",
       "        vertical-align: middle;\n",
       "    }\n",
       "\n",
       "    .dataframe tbody tr th {\n",
       "        vertical-align: top;\n",
       "    }\n",
       "\n",
       "    .dataframe thead th {\n",
       "        text-align: right;\n",
       "    }\n",
       "</style>\n",
       "<table border=\"1\" class=\"dataframe\">\n",
       "  <thead>\n",
       "    <tr style=\"text-align: right;\">\n",
       "      <th></th>\n",
       "      <th>CROP TYPE</th>\n",
       "      <th>SOIL TYPE</th>\n",
       "      <th>REGION</th>\n",
       "      <th>WEATHER</th>\n",
       "      <th>TEMP_MIN</th>\n",
       "      <th>TEMP.MAX</th>\n",
       "      <th>WATER REQUIREMENT</th>\n",
       "    </tr>\n",
       "    <tr>\n",
       "      <th>SR NO.</th>\n",
       "      <th></th>\n",
       "      <th></th>\n",
       "      <th></th>\n",
       "      <th></th>\n",
       "      <th></th>\n",
       "      <th></th>\n",
       "      <th></th>\n",
       "    </tr>\n",
       "  </thead>\n",
       "  <tbody>\n",
       "    <tr>\n",
       "      <th>614</th>\n",
       "      <td>ONION</td>\n",
       "      <td>DRY</td>\n",
       "      <td>SEMI HUMID</td>\n",
       "      <td>WINDY</td>\n",
       "      <td>20</td>\n",
       "      <td>30</td>\n",
       "      <td>5.375</td>\n",
       "    </tr>\n",
       "    <tr>\n",
       "      <th>478</th>\n",
       "      <td>TOMATO</td>\n",
       "      <td>HUMID</td>\n",
       "      <td>SEMI ARID</td>\n",
       "      <td>WINDY</td>\n",
       "      <td>40</td>\n",
       "      <td>50</td>\n",
       "      <td>8.140</td>\n",
       "    </tr>\n",
       "    <tr>\n",
       "      <th>624</th>\n",
       "      <td>ONION</td>\n",
       "      <td>DRY</td>\n",
       "      <td>HUMID</td>\n",
       "      <td>NORMAL</td>\n",
       "      <td>10</td>\n",
       "      <td>20</td>\n",
       "      <td>2.750</td>\n",
       "    </tr>\n",
       "    <tr>\n",
       "      <th>386</th>\n",
       "      <td>TOMATO</td>\n",
       "      <td>DRY</td>\n",
       "      <td>DESERT</td>\n",
       "      <td>WINDY</td>\n",
       "      <td>10</td>\n",
       "      <td>20</td>\n",
       "      <td>7.120</td>\n",
       "    </tr>\n",
       "    <tr>\n",
       "      <th>335</th>\n",
       "      <td>WHEAT</td>\n",
       "      <td>WET</td>\n",
       "      <td>DESERT</td>\n",
       "      <td>RAINY</td>\n",
       "      <td>40</td>\n",
       "      <td>50</td>\n",
       "      <td>1.400</td>\n",
       "    </tr>\n",
       "    <tr>\n",
       "      <th>...</th>\n",
       "      <td>...</td>\n",
       "      <td>...</td>\n",
       "      <td>...</td>\n",
       "      <td>...</td>\n",
       "      <td>...</td>\n",
       "      <td>...</td>\n",
       "      <td>...</td>\n",
       "    </tr>\n",
       "    <tr>\n",
       "      <th>368</th>\n",
       "      <td>WHEAT</td>\n",
       "      <td>WET</td>\n",
       "      <td>HUMID</td>\n",
       "      <td>NORMAL</td>\n",
       "      <td>10</td>\n",
       "      <td>20</td>\n",
       "      <td>2.480</td>\n",
       "    </tr>\n",
       "    <tr>\n",
       "      <th>74</th>\n",
       "      <td>POTATO</td>\n",
       "      <td>HUMID</td>\n",
       "      <td>DESERT</td>\n",
       "      <td>WINDY</td>\n",
       "      <td>30</td>\n",
       "      <td>40</td>\n",
       "      <td>9.700</td>\n",
       "    </tr>\n",
       "    <tr>\n",
       "      <th>104</th>\n",
       "      <td>POTATO</td>\n",
       "      <td>HUMID</td>\n",
       "      <td>SEMI HUMID</td>\n",
       "      <td>NORMAL</td>\n",
       "      <td>30</td>\n",
       "      <td>40</td>\n",
       "      <td>6.500</td>\n",
       "    </tr>\n",
       "    <tr>\n",
       "      <th>595</th>\n",
       "      <td>ONION</td>\n",
       "      <td>DRY</td>\n",
       "      <td>SEMI ARID</td>\n",
       "      <td>RAINY</td>\n",
       "      <td>10</td>\n",
       "      <td>20</td>\n",
       "      <td>0.200</td>\n",
       "    </tr>\n",
       "    <tr>\n",
       "      <th>320</th>\n",
       "      <td>WHEAT</td>\n",
       "      <td>WET</td>\n",
       "      <td>DESERT</td>\n",
       "      <td>NORMAL</td>\n",
       "      <td>10</td>\n",
       "      <td>20</td>\n",
       "      <td>6.200</td>\n",
       "    </tr>\n",
       "  </tbody>\n",
       "</table>\n",
       "<p>768 rows × 7 columns</p>\n",
       "</div>"
      ],
      "text/plain": [
       "       CROP TYPE SOIL TYPE      REGION WEATHER  TEMP_MIN  TEMP.MAX  \\\n",
       "SR NO.                                                               \n",
       "614        ONION       DRY  SEMI HUMID   WINDY        20        30   \n",
       "478       TOMATO     HUMID   SEMI ARID   WINDY        40        50   \n",
       "624        ONION       DRY       HUMID  NORMAL        10        20   \n",
       "386       TOMATO       DRY      DESERT   WINDY        10        20   \n",
       "335        WHEAT       WET      DESERT   RAINY        40        50   \n",
       "...          ...       ...         ...     ...       ...       ...   \n",
       "368        WHEAT       WET       HUMID  NORMAL        10        20   \n",
       "74        POTATO     HUMID      DESERT   WINDY        30        40   \n",
       "104       POTATO     HUMID  SEMI HUMID  NORMAL        30        40   \n",
       "595        ONION       DRY   SEMI ARID   RAINY        10        20   \n",
       "320        WHEAT       WET      DESERT  NORMAL        10        20   \n",
       "\n",
       "        WATER REQUIREMENT  \n",
       "SR NO.                     \n",
       "614                 5.375  \n",
       "478                 8.140  \n",
       "624                 2.750  \n",
       "386                 7.120  \n",
       "335                 1.400  \n",
       "...                   ...  \n",
       "368                 2.480  \n",
       "74                  9.700  \n",
       "104                 6.500  \n",
       "595                 0.200  \n",
       "320                 6.200  \n",
       "\n",
       "[768 rows x 7 columns]"
      ]
     },
     "execution_count": 77,
     "metadata": {},
     "output_type": "execute_result"
    }
   ],
   "source": [
    "df"
   ]
  },
  {
   "cell_type": "markdown",
   "id": "9707516f",
   "metadata": {},
   "source": [
    "**CROP TYPE AND SOIL TYPE**"
   ]
  },
  {
   "cell_type": "code",
   "execution_count": 78,
   "id": "13776a35",
   "metadata": {},
   "outputs": [
    {
     "data": {
      "text/plain": [
       "CROP TYPE  SOIL TYPE\n",
       "ONION      DRY          64\n",
       "           HUMID        64\n",
       "           WET          64\n",
       "POTATO     DRY          64\n",
       "           HUMID        64\n",
       "           WET          64\n",
       "TOMATO     DRY          64\n",
       "           HUMID        64\n",
       "           WET          64\n",
       "WHEAT      DRY          64\n",
       "           HUMID        64\n",
       "           WET          64\n",
       "Name: SOIL TYPE, dtype: int64"
      ]
     },
     "execution_count": 78,
     "metadata": {},
     "output_type": "execute_result"
    }
   ],
   "source": [
    "df.groupby('CROP TYPE')[\"SOIL TYPE\"].value_counts()"
   ]
  },
  {
   "cell_type": "markdown",
   "id": "68312527",
   "metadata": {},
   "source": [
    "# TRAIN - TEST SPLIT "
   ]
  },
  {
   "cell_type": "code",
   "execution_count": 79,
   "id": "83b1b7f5",
   "metadata": {},
   "outputs": [
    {
     "data": {
      "text/plain": [
       "Index(['CROP TYPE', 'SOIL TYPE', 'REGION', 'WEATHER', 'TEMP_MIN', 'TEMP.MAX',\n",
       "       'WATER REQUIREMENT'],\n",
       "      dtype='object')"
      ]
     },
     "execution_count": 79,
     "metadata": {},
     "output_type": "execute_result"
    }
   ],
   "source": [
    "df.columns"
   ]
  },
  {
   "cell_type": "code",
   "execution_count": 80,
   "id": "6af8f522",
   "metadata": {},
   "outputs": [],
   "source": [
    "criteria3 = df[\"CROP TYPE\"]==\"POTATO\"\n",
    "potato_df=df.loc[criteria3]\n"
   ]
  },
  {
   "cell_type": "code",
   "execution_count": 81,
   "id": "9a36ca1f",
   "metadata": {},
   "outputs": [],
   "source": [
    "y=df['WATER REQUIREMENT']\n",
    "X=df.drop('WATER REQUIREMENT',axis=1)"
   ]
  },
  {
   "cell_type": "code",
   "execution_count": 82,
   "id": "32954f54",
   "metadata": {},
   "outputs": [
    {
     "data": {
      "text/html": [
       "<div>\n",
       "<style scoped>\n",
       "    .dataframe tbody tr th:only-of-type {\n",
       "        vertical-align: middle;\n",
       "    }\n",
       "\n",
       "    .dataframe tbody tr th {\n",
       "        vertical-align: top;\n",
       "    }\n",
       "\n",
       "    .dataframe thead th {\n",
       "        text-align: right;\n",
       "    }\n",
       "</style>\n",
       "<table border=\"1\" class=\"dataframe\">\n",
       "  <thead>\n",
       "    <tr style=\"text-align: right;\">\n",
       "      <th></th>\n",
       "      <th>CROP TYPE</th>\n",
       "      <th>SOIL TYPE</th>\n",
       "      <th>REGION</th>\n",
       "      <th>WEATHER</th>\n",
       "      <th>TEMP_MIN</th>\n",
       "      <th>TEMP.MAX</th>\n",
       "    </tr>\n",
       "    <tr>\n",
       "      <th>SR NO.</th>\n",
       "      <th></th>\n",
       "      <th></th>\n",
       "      <th></th>\n",
       "      <th></th>\n",
       "      <th></th>\n",
       "      <th></th>\n",
       "    </tr>\n",
       "  </thead>\n",
       "  <tbody>\n",
       "    <tr>\n",
       "      <th>614</th>\n",
       "      <td>ONION</td>\n",
       "      <td>DRY</td>\n",
       "      <td>SEMI HUMID</td>\n",
       "      <td>WINDY</td>\n",
       "      <td>20</td>\n",
       "      <td>30</td>\n",
       "    </tr>\n",
       "    <tr>\n",
       "      <th>478</th>\n",
       "      <td>TOMATO</td>\n",
       "      <td>HUMID</td>\n",
       "      <td>SEMI ARID</td>\n",
       "      <td>WINDY</td>\n",
       "      <td>40</td>\n",
       "      <td>50</td>\n",
       "    </tr>\n",
       "    <tr>\n",
       "      <th>624</th>\n",
       "      <td>ONION</td>\n",
       "      <td>DRY</td>\n",
       "      <td>HUMID</td>\n",
       "      <td>NORMAL</td>\n",
       "      <td>10</td>\n",
       "      <td>20</td>\n",
       "    </tr>\n",
       "    <tr>\n",
       "      <th>386</th>\n",
       "      <td>TOMATO</td>\n",
       "      <td>DRY</td>\n",
       "      <td>DESERT</td>\n",
       "      <td>WINDY</td>\n",
       "      <td>10</td>\n",
       "      <td>20</td>\n",
       "    </tr>\n",
       "    <tr>\n",
       "      <th>335</th>\n",
       "      <td>WHEAT</td>\n",
       "      <td>WET</td>\n",
       "      <td>DESERT</td>\n",
       "      <td>RAINY</td>\n",
       "      <td>40</td>\n",
       "      <td>50</td>\n",
       "    </tr>\n",
       "    <tr>\n",
       "      <th>...</th>\n",
       "      <td>...</td>\n",
       "      <td>...</td>\n",
       "      <td>...</td>\n",
       "      <td>...</td>\n",
       "      <td>...</td>\n",
       "      <td>...</td>\n",
       "    </tr>\n",
       "    <tr>\n",
       "      <th>368</th>\n",
       "      <td>WHEAT</td>\n",
       "      <td>WET</td>\n",
       "      <td>HUMID</td>\n",
       "      <td>NORMAL</td>\n",
       "      <td>10</td>\n",
       "      <td>20</td>\n",
       "    </tr>\n",
       "    <tr>\n",
       "      <th>74</th>\n",
       "      <td>POTATO</td>\n",
       "      <td>HUMID</td>\n",
       "      <td>DESERT</td>\n",
       "      <td>WINDY</td>\n",
       "      <td>30</td>\n",
       "      <td>40</td>\n",
       "    </tr>\n",
       "    <tr>\n",
       "      <th>104</th>\n",
       "      <td>POTATO</td>\n",
       "      <td>HUMID</td>\n",
       "      <td>SEMI HUMID</td>\n",
       "      <td>NORMAL</td>\n",
       "      <td>30</td>\n",
       "      <td>40</td>\n",
       "    </tr>\n",
       "    <tr>\n",
       "      <th>595</th>\n",
       "      <td>ONION</td>\n",
       "      <td>DRY</td>\n",
       "      <td>SEMI ARID</td>\n",
       "      <td>RAINY</td>\n",
       "      <td>10</td>\n",
       "      <td>20</td>\n",
       "    </tr>\n",
       "    <tr>\n",
       "      <th>320</th>\n",
       "      <td>WHEAT</td>\n",
       "      <td>WET</td>\n",
       "      <td>DESERT</td>\n",
       "      <td>NORMAL</td>\n",
       "      <td>10</td>\n",
       "      <td>20</td>\n",
       "    </tr>\n",
       "  </tbody>\n",
       "</table>\n",
       "<p>768 rows × 6 columns</p>\n",
       "</div>"
      ],
      "text/plain": [
       "       CROP TYPE SOIL TYPE      REGION WEATHER  TEMP_MIN  TEMP.MAX\n",
       "SR NO.                                                            \n",
       "614        ONION       DRY  SEMI HUMID   WINDY        20        30\n",
       "478       TOMATO     HUMID   SEMI ARID   WINDY        40        50\n",
       "624        ONION       DRY       HUMID  NORMAL        10        20\n",
       "386       TOMATO       DRY      DESERT   WINDY        10        20\n",
       "335        WHEAT       WET      DESERT   RAINY        40        50\n",
       "...          ...       ...         ...     ...       ...       ...\n",
       "368        WHEAT       WET       HUMID  NORMAL        10        20\n",
       "74        POTATO     HUMID      DESERT   WINDY        30        40\n",
       "104       POTATO     HUMID  SEMI HUMID  NORMAL        30        40\n",
       "595        ONION       DRY   SEMI ARID   RAINY        10        20\n",
       "320        WHEAT       WET      DESERT  NORMAL        10        20\n",
       "\n",
       "[768 rows x 6 columns]"
      ]
     },
     "execution_count": 82,
     "metadata": {},
     "output_type": "execute_result"
    }
   ],
   "source": [
    "X"
   ]
  },
  {
   "cell_type": "markdown",
   "id": "b6beecb7",
   "metadata": {},
   "source": [
    "# One hot Encoding "
   ]
  },
  {
   "cell_type": "code",
   "execution_count": 83,
   "id": "eb75aa66",
   "metadata": {},
   "outputs": [],
   "source": [
    "from sklearn.preprocessing import OneHotEncoder\n",
    "enc = OneHotEncoder(handle_unknown = 'ignore')\n"
   ]
  },
  {
   "cell_type": "code",
   "execution_count": 84,
   "id": "7f1308ce",
   "metadata": {},
   "outputs": [
    {
     "name": "stderr",
     "output_type": "stream",
     "text": [
      "D:\\Anaconda\\envs\\env1\\lib\\site-packages\\sklearn\\preprocessing\\_encoders.py:972: FutureWarning:\n",
      "\n",
      "`sparse` was renamed to `sparse_output` in version 1.2 and will be removed in 1.4. `sparse_output` is ignored unless you leave `sparse` to its default value.\n",
      "\n",
      "D:\\Anaconda\\envs\\env1\\lib\\site-packages\\sklearn\\preprocessing\\_encoders.py:972: FutureWarning:\n",
      "\n",
      "`sparse` was renamed to `sparse_output` in version 1.2 and will be removed in 1.4. `sparse_output` is ignored unless you leave `sparse` to its default value.\n",
      "\n",
      "D:\\Anaconda\\envs\\env1\\lib\\site-packages\\sklearn\\preprocessing\\_encoders.py:972: FutureWarning:\n",
      "\n",
      "`sparse` was renamed to `sparse_output` in version 1.2 and will be removed in 1.4. `sparse_output` is ignored unless you leave `sparse` to its default value.\n",
      "\n",
      "D:\\Anaconda\\envs\\env1\\lib\\site-packages\\sklearn\\preprocessing\\_encoders.py:972: FutureWarning:\n",
      "\n",
      "`sparse` was renamed to `sparse_output` in version 1.2 and will be removed in 1.4. `sparse_output` is ignored unless you leave `sparse` to its default value.\n",
      "\n"
     ]
    }
   ],
   "source": [
    "categorical_features = [\"CROP TYPE\", \"SOIL TYPE\", \"REGION\", \"WEATHER\"]\n",
    "import pickle\n",
    "# Initialize OneHotEncoder for each categorical feature\n",
    "one_hot_encoders = {}\n",
    "for feature in categorical_features:\n",
    "    one_hot_encoders[feature] = OneHotEncoder(handle_unknown=\"ignore\", sparse=False)\n",
    "    one_hot_encoders[feature].fit(df[[feature]])\n",
    "\n",
    "# Dump encoders to pickle file\n",
    "pickle.dump(one_hot_encoders, open('one_hot_encoders.pkl', 'wb'))"
   ]
  },
  {
   "cell_type": "code",
   "execution_count": 85,
   "id": "4124f6a7",
   "metadata": {},
   "outputs": [
    {
     "data": {
      "text/html": [
       "<div>\n",
       "<style scoped>\n",
       "    .dataframe tbody tr th:only-of-type {\n",
       "        vertical-align: middle;\n",
       "    }\n",
       "\n",
       "    .dataframe tbody tr th {\n",
       "        vertical-align: top;\n",
       "    }\n",
       "\n",
       "    .dataframe thead th {\n",
       "        text-align: right;\n",
       "    }\n",
       "</style>\n",
       "<table border=\"1\" class=\"dataframe\">\n",
       "  <thead>\n",
       "    <tr style=\"text-align: right;\">\n",
       "      <th></th>\n",
       "      <th>0</th>\n",
       "      <th>1</th>\n",
       "      <th>2</th>\n",
       "      <th>3</th>\n",
       "      <th>4</th>\n",
       "      <th>5</th>\n",
       "      <th>6</th>\n",
       "      <th>7</th>\n",
       "      <th>8</th>\n",
       "      <th>9</th>\n",
       "      <th>10</th>\n",
       "      <th>11</th>\n",
       "      <th>12</th>\n",
       "      <th>13</th>\n",
       "      <th>14</th>\n",
       "    </tr>\n",
       "  </thead>\n",
       "  <tbody>\n",
       "    <tr>\n",
       "      <th>0</th>\n",
       "      <td>1.0</td>\n",
       "      <td>0.0</td>\n",
       "      <td>0.0</td>\n",
       "      <td>0.0</td>\n",
       "      <td>1.0</td>\n",
       "      <td>0.0</td>\n",
       "      <td>0.0</td>\n",
       "      <td>0.0</td>\n",
       "      <td>0.0</td>\n",
       "      <td>0.0</td>\n",
       "      <td>1.0</td>\n",
       "      <td>0.0</td>\n",
       "      <td>0.0</td>\n",
       "      <td>0.0</td>\n",
       "      <td>1.0</td>\n",
       "    </tr>\n",
       "    <tr>\n",
       "      <th>1</th>\n",
       "      <td>0.0</td>\n",
       "      <td>0.0</td>\n",
       "      <td>1.0</td>\n",
       "      <td>0.0</td>\n",
       "      <td>0.0</td>\n",
       "      <td>1.0</td>\n",
       "      <td>0.0</td>\n",
       "      <td>0.0</td>\n",
       "      <td>0.0</td>\n",
       "      <td>1.0</td>\n",
       "      <td>0.0</td>\n",
       "      <td>0.0</td>\n",
       "      <td>0.0</td>\n",
       "      <td>0.0</td>\n",
       "      <td>1.0</td>\n",
       "    </tr>\n",
       "    <tr>\n",
       "      <th>2</th>\n",
       "      <td>1.0</td>\n",
       "      <td>0.0</td>\n",
       "      <td>0.0</td>\n",
       "      <td>0.0</td>\n",
       "      <td>1.0</td>\n",
       "      <td>0.0</td>\n",
       "      <td>0.0</td>\n",
       "      <td>0.0</td>\n",
       "      <td>1.0</td>\n",
       "      <td>0.0</td>\n",
       "      <td>0.0</td>\n",
       "      <td>1.0</td>\n",
       "      <td>0.0</td>\n",
       "      <td>0.0</td>\n",
       "      <td>0.0</td>\n",
       "    </tr>\n",
       "    <tr>\n",
       "      <th>3</th>\n",
       "      <td>0.0</td>\n",
       "      <td>0.0</td>\n",
       "      <td>1.0</td>\n",
       "      <td>0.0</td>\n",
       "      <td>1.0</td>\n",
       "      <td>0.0</td>\n",
       "      <td>0.0</td>\n",
       "      <td>1.0</td>\n",
       "      <td>0.0</td>\n",
       "      <td>0.0</td>\n",
       "      <td>0.0</td>\n",
       "      <td>0.0</td>\n",
       "      <td>0.0</td>\n",
       "      <td>0.0</td>\n",
       "      <td>1.0</td>\n",
       "    </tr>\n",
       "    <tr>\n",
       "      <th>4</th>\n",
       "      <td>0.0</td>\n",
       "      <td>0.0</td>\n",
       "      <td>0.0</td>\n",
       "      <td>1.0</td>\n",
       "      <td>0.0</td>\n",
       "      <td>0.0</td>\n",
       "      <td>1.0</td>\n",
       "      <td>1.0</td>\n",
       "      <td>0.0</td>\n",
       "      <td>0.0</td>\n",
       "      <td>0.0</td>\n",
       "      <td>0.0</td>\n",
       "      <td>1.0</td>\n",
       "      <td>0.0</td>\n",
       "      <td>0.0</td>\n",
       "    </tr>\n",
       "    <tr>\n",
       "      <th>...</th>\n",
       "      <td>...</td>\n",
       "      <td>...</td>\n",
       "      <td>...</td>\n",
       "      <td>...</td>\n",
       "      <td>...</td>\n",
       "      <td>...</td>\n",
       "      <td>...</td>\n",
       "      <td>...</td>\n",
       "      <td>...</td>\n",
       "      <td>...</td>\n",
       "      <td>...</td>\n",
       "      <td>...</td>\n",
       "      <td>...</td>\n",
       "      <td>...</td>\n",
       "      <td>...</td>\n",
       "    </tr>\n",
       "    <tr>\n",
       "      <th>763</th>\n",
       "      <td>0.0</td>\n",
       "      <td>0.0</td>\n",
       "      <td>0.0</td>\n",
       "      <td>1.0</td>\n",
       "      <td>0.0</td>\n",
       "      <td>0.0</td>\n",
       "      <td>1.0</td>\n",
       "      <td>0.0</td>\n",
       "      <td>1.0</td>\n",
       "      <td>0.0</td>\n",
       "      <td>0.0</td>\n",
       "      <td>1.0</td>\n",
       "      <td>0.0</td>\n",
       "      <td>0.0</td>\n",
       "      <td>0.0</td>\n",
       "    </tr>\n",
       "    <tr>\n",
       "      <th>764</th>\n",
       "      <td>0.0</td>\n",
       "      <td>1.0</td>\n",
       "      <td>0.0</td>\n",
       "      <td>0.0</td>\n",
       "      <td>0.0</td>\n",
       "      <td>1.0</td>\n",
       "      <td>0.0</td>\n",
       "      <td>1.0</td>\n",
       "      <td>0.0</td>\n",
       "      <td>0.0</td>\n",
       "      <td>0.0</td>\n",
       "      <td>0.0</td>\n",
       "      <td>0.0</td>\n",
       "      <td>0.0</td>\n",
       "      <td>1.0</td>\n",
       "    </tr>\n",
       "    <tr>\n",
       "      <th>765</th>\n",
       "      <td>0.0</td>\n",
       "      <td>1.0</td>\n",
       "      <td>0.0</td>\n",
       "      <td>0.0</td>\n",
       "      <td>0.0</td>\n",
       "      <td>1.0</td>\n",
       "      <td>0.0</td>\n",
       "      <td>0.0</td>\n",
       "      <td>0.0</td>\n",
       "      <td>0.0</td>\n",
       "      <td>1.0</td>\n",
       "      <td>1.0</td>\n",
       "      <td>0.0</td>\n",
       "      <td>0.0</td>\n",
       "      <td>0.0</td>\n",
       "    </tr>\n",
       "    <tr>\n",
       "      <th>766</th>\n",
       "      <td>1.0</td>\n",
       "      <td>0.0</td>\n",
       "      <td>0.0</td>\n",
       "      <td>0.0</td>\n",
       "      <td>1.0</td>\n",
       "      <td>0.0</td>\n",
       "      <td>0.0</td>\n",
       "      <td>0.0</td>\n",
       "      <td>0.0</td>\n",
       "      <td>1.0</td>\n",
       "      <td>0.0</td>\n",
       "      <td>0.0</td>\n",
       "      <td>1.0</td>\n",
       "      <td>0.0</td>\n",
       "      <td>0.0</td>\n",
       "    </tr>\n",
       "    <tr>\n",
       "      <th>767</th>\n",
       "      <td>0.0</td>\n",
       "      <td>0.0</td>\n",
       "      <td>0.0</td>\n",
       "      <td>1.0</td>\n",
       "      <td>0.0</td>\n",
       "      <td>0.0</td>\n",
       "      <td>1.0</td>\n",
       "      <td>1.0</td>\n",
       "      <td>0.0</td>\n",
       "      <td>0.0</td>\n",
       "      <td>0.0</td>\n",
       "      <td>1.0</td>\n",
       "      <td>0.0</td>\n",
       "      <td>0.0</td>\n",
       "      <td>0.0</td>\n",
       "    </tr>\n",
       "  </tbody>\n",
       "</table>\n",
       "<p>768 rows × 15 columns</p>\n",
       "</div>"
      ],
      "text/plain": [
       "      0    1    2    3    4    5    6    7    8    9    10   11   12   13   14\n",
       "0    1.0  0.0  0.0  0.0  1.0  0.0  0.0  0.0  0.0  0.0  1.0  0.0  0.0  0.0  1.0\n",
       "1    0.0  0.0  1.0  0.0  0.0  1.0  0.0  0.0  0.0  1.0  0.0  0.0  0.0  0.0  1.0\n",
       "2    1.0  0.0  0.0  0.0  1.0  0.0  0.0  0.0  1.0  0.0  0.0  1.0  0.0  0.0  0.0\n",
       "3    0.0  0.0  1.0  0.0  1.0  0.0  0.0  1.0  0.0  0.0  0.0  0.0  0.0  0.0  1.0\n",
       "4    0.0  0.0  0.0  1.0  0.0  0.0  1.0  1.0  0.0  0.0  0.0  0.0  1.0  0.0  0.0\n",
       "..   ...  ...  ...  ...  ...  ...  ...  ...  ...  ...  ...  ...  ...  ...  ...\n",
       "763  0.0  0.0  0.0  1.0  0.0  0.0  1.0  0.0  1.0  0.0  0.0  1.0  0.0  0.0  0.0\n",
       "764  0.0  1.0  0.0  0.0  0.0  1.0  0.0  1.0  0.0  0.0  0.0  0.0  0.0  0.0  1.0\n",
       "765  0.0  1.0  0.0  0.0  0.0  1.0  0.0  0.0  0.0  0.0  1.0  1.0  0.0  0.0  0.0\n",
       "766  1.0  0.0  0.0  0.0  1.0  0.0  0.0  0.0  0.0  1.0  0.0  0.0  1.0  0.0  0.0\n",
       "767  0.0  0.0  0.0  1.0  0.0  0.0  1.0  1.0  0.0  0.0  0.0  1.0  0.0  0.0  0.0\n",
       "\n",
       "[768 rows x 15 columns]"
      ]
     },
     "execution_count": 85,
     "metadata": {},
     "output_type": "execute_result"
    }
   ],
   "source": [
    "enc_data=pd.DataFrame(enc.fit_transform(X[[\"CROP TYPE\",\"SOIL TYPE\",\"REGION\",\"WEATHER\"]]).toarray())\n",
    "enc_data"
   ]
  },
  {
   "cell_type": "code",
   "execution_count": null,
   "id": "6c849475",
   "metadata": {},
   "outputs": [],
   "source": []
  },
  {
   "cell_type": "markdown",
   "id": "6f1843d6",
   "metadata": {},
   "source": [
    "# Encoding using pd.get_dummies()"
   ]
  },
  {
   "cell_type": "code",
   "execution_count": 86,
   "id": "ea95c6f9",
   "metadata": {
    "scrolled": true
   },
   "outputs": [
    {
     "data": {
      "text/html": [
       "<div>\n",
       "<style scoped>\n",
       "    .dataframe tbody tr th:only-of-type {\n",
       "        vertical-align: middle;\n",
       "    }\n",
       "\n",
       "    .dataframe tbody tr th {\n",
       "        vertical-align: top;\n",
       "    }\n",
       "\n",
       "    .dataframe thead th {\n",
       "        text-align: right;\n",
       "    }\n",
       "</style>\n",
       "<table border=\"1\" class=\"dataframe\">\n",
       "  <thead>\n",
       "    <tr style=\"text-align: right;\">\n",
       "      <th></th>\n",
       "      <th>CROP TYPE_ONION</th>\n",
       "      <th>CROP TYPE_POTATO</th>\n",
       "      <th>CROP TYPE_TOMATO</th>\n",
       "      <th>CROP TYPE_WHEAT</th>\n",
       "      <th>SOIL TYPE_DRY</th>\n",
       "      <th>SOIL TYPE_HUMID</th>\n",
       "      <th>SOIL TYPE_WET</th>\n",
       "      <th>REGION_DESERT</th>\n",
       "      <th>REGION_HUMID</th>\n",
       "      <th>REGION_SEMI ARID</th>\n",
       "      <th>REGION_SEMI HUMID</th>\n",
       "      <th>WEATHER_NORMAL</th>\n",
       "      <th>WEATHER_RAINY</th>\n",
       "      <th>WEATHER_SUNNY</th>\n",
       "      <th>WEATHER_WINDY</th>\n",
       "    </tr>\n",
       "    <tr>\n",
       "      <th>SR NO.</th>\n",
       "      <th></th>\n",
       "      <th></th>\n",
       "      <th></th>\n",
       "      <th></th>\n",
       "      <th></th>\n",
       "      <th></th>\n",
       "      <th></th>\n",
       "      <th></th>\n",
       "      <th></th>\n",
       "      <th></th>\n",
       "      <th></th>\n",
       "      <th></th>\n",
       "      <th></th>\n",
       "      <th></th>\n",
       "      <th></th>\n",
       "    </tr>\n",
       "  </thead>\n",
       "  <tbody>\n",
       "    <tr>\n",
       "      <th>614</th>\n",
       "      <td>1</td>\n",
       "      <td>0</td>\n",
       "      <td>0</td>\n",
       "      <td>0</td>\n",
       "      <td>1</td>\n",
       "      <td>0</td>\n",
       "      <td>0</td>\n",
       "      <td>0</td>\n",
       "      <td>0</td>\n",
       "      <td>0</td>\n",
       "      <td>1</td>\n",
       "      <td>0</td>\n",
       "      <td>0</td>\n",
       "      <td>0</td>\n",
       "      <td>1</td>\n",
       "    </tr>\n",
       "    <tr>\n",
       "      <th>478</th>\n",
       "      <td>0</td>\n",
       "      <td>0</td>\n",
       "      <td>1</td>\n",
       "      <td>0</td>\n",
       "      <td>0</td>\n",
       "      <td>1</td>\n",
       "      <td>0</td>\n",
       "      <td>0</td>\n",
       "      <td>0</td>\n",
       "      <td>1</td>\n",
       "      <td>0</td>\n",
       "      <td>0</td>\n",
       "      <td>0</td>\n",
       "      <td>0</td>\n",
       "      <td>1</td>\n",
       "    </tr>\n",
       "    <tr>\n",
       "      <th>624</th>\n",
       "      <td>1</td>\n",
       "      <td>0</td>\n",
       "      <td>0</td>\n",
       "      <td>0</td>\n",
       "      <td>1</td>\n",
       "      <td>0</td>\n",
       "      <td>0</td>\n",
       "      <td>0</td>\n",
       "      <td>1</td>\n",
       "      <td>0</td>\n",
       "      <td>0</td>\n",
       "      <td>1</td>\n",
       "      <td>0</td>\n",
       "      <td>0</td>\n",
       "      <td>0</td>\n",
       "    </tr>\n",
       "    <tr>\n",
       "      <th>386</th>\n",
       "      <td>0</td>\n",
       "      <td>0</td>\n",
       "      <td>1</td>\n",
       "      <td>0</td>\n",
       "      <td>1</td>\n",
       "      <td>0</td>\n",
       "      <td>0</td>\n",
       "      <td>1</td>\n",
       "      <td>0</td>\n",
       "      <td>0</td>\n",
       "      <td>0</td>\n",
       "      <td>0</td>\n",
       "      <td>0</td>\n",
       "      <td>0</td>\n",
       "      <td>1</td>\n",
       "    </tr>\n",
       "    <tr>\n",
       "      <th>335</th>\n",
       "      <td>0</td>\n",
       "      <td>0</td>\n",
       "      <td>0</td>\n",
       "      <td>1</td>\n",
       "      <td>0</td>\n",
       "      <td>0</td>\n",
       "      <td>1</td>\n",
       "      <td>1</td>\n",
       "      <td>0</td>\n",
       "      <td>0</td>\n",
       "      <td>0</td>\n",
       "      <td>0</td>\n",
       "      <td>1</td>\n",
       "      <td>0</td>\n",
       "      <td>0</td>\n",
       "    </tr>\n",
       "    <tr>\n",
       "      <th>...</th>\n",
       "      <td>...</td>\n",
       "      <td>...</td>\n",
       "      <td>...</td>\n",
       "      <td>...</td>\n",
       "      <td>...</td>\n",
       "      <td>...</td>\n",
       "      <td>...</td>\n",
       "      <td>...</td>\n",
       "      <td>...</td>\n",
       "      <td>...</td>\n",
       "      <td>...</td>\n",
       "      <td>...</td>\n",
       "      <td>...</td>\n",
       "      <td>...</td>\n",
       "      <td>...</td>\n",
       "    </tr>\n",
       "    <tr>\n",
       "      <th>368</th>\n",
       "      <td>0</td>\n",
       "      <td>0</td>\n",
       "      <td>0</td>\n",
       "      <td>1</td>\n",
       "      <td>0</td>\n",
       "      <td>0</td>\n",
       "      <td>1</td>\n",
       "      <td>0</td>\n",
       "      <td>1</td>\n",
       "      <td>0</td>\n",
       "      <td>0</td>\n",
       "      <td>1</td>\n",
       "      <td>0</td>\n",
       "      <td>0</td>\n",
       "      <td>0</td>\n",
       "    </tr>\n",
       "    <tr>\n",
       "      <th>74</th>\n",
       "      <td>0</td>\n",
       "      <td>1</td>\n",
       "      <td>0</td>\n",
       "      <td>0</td>\n",
       "      <td>0</td>\n",
       "      <td>1</td>\n",
       "      <td>0</td>\n",
       "      <td>1</td>\n",
       "      <td>0</td>\n",
       "      <td>0</td>\n",
       "      <td>0</td>\n",
       "      <td>0</td>\n",
       "      <td>0</td>\n",
       "      <td>0</td>\n",
       "      <td>1</td>\n",
       "    </tr>\n",
       "    <tr>\n",
       "      <th>104</th>\n",
       "      <td>0</td>\n",
       "      <td>1</td>\n",
       "      <td>0</td>\n",
       "      <td>0</td>\n",
       "      <td>0</td>\n",
       "      <td>1</td>\n",
       "      <td>0</td>\n",
       "      <td>0</td>\n",
       "      <td>0</td>\n",
       "      <td>0</td>\n",
       "      <td>1</td>\n",
       "      <td>1</td>\n",
       "      <td>0</td>\n",
       "      <td>0</td>\n",
       "      <td>0</td>\n",
       "    </tr>\n",
       "    <tr>\n",
       "      <th>595</th>\n",
       "      <td>1</td>\n",
       "      <td>0</td>\n",
       "      <td>0</td>\n",
       "      <td>0</td>\n",
       "      <td>1</td>\n",
       "      <td>0</td>\n",
       "      <td>0</td>\n",
       "      <td>0</td>\n",
       "      <td>0</td>\n",
       "      <td>1</td>\n",
       "      <td>0</td>\n",
       "      <td>0</td>\n",
       "      <td>1</td>\n",
       "      <td>0</td>\n",
       "      <td>0</td>\n",
       "    </tr>\n",
       "    <tr>\n",
       "      <th>320</th>\n",
       "      <td>0</td>\n",
       "      <td>0</td>\n",
       "      <td>0</td>\n",
       "      <td>1</td>\n",
       "      <td>0</td>\n",
       "      <td>0</td>\n",
       "      <td>1</td>\n",
       "      <td>1</td>\n",
       "      <td>0</td>\n",
       "      <td>0</td>\n",
       "      <td>0</td>\n",
       "      <td>1</td>\n",
       "      <td>0</td>\n",
       "      <td>0</td>\n",
       "      <td>0</td>\n",
       "    </tr>\n",
       "  </tbody>\n",
       "</table>\n",
       "<p>768 rows × 15 columns</p>\n",
       "</div>"
      ],
      "text/plain": [
       "        CROP TYPE_ONION  CROP TYPE_POTATO  CROP TYPE_TOMATO  CROP TYPE_WHEAT  \\\n",
       "SR NO.                                                                         \n",
       "614                   1                 0                 0                0   \n",
       "478                   0                 0                 1                0   \n",
       "624                   1                 0                 0                0   \n",
       "386                   0                 0                 1                0   \n",
       "335                   0                 0                 0                1   \n",
       "...                 ...               ...               ...              ...   \n",
       "368                   0                 0                 0                1   \n",
       "74                    0                 1                 0                0   \n",
       "104                   0                 1                 0                0   \n",
       "595                   1                 0                 0                0   \n",
       "320                   0                 0                 0                1   \n",
       "\n",
       "        SOIL TYPE_DRY  SOIL TYPE_HUMID  SOIL TYPE_WET  REGION_DESERT  \\\n",
       "SR NO.                                                                 \n",
       "614                 1                0              0              0   \n",
       "478                 0                1              0              0   \n",
       "624                 1                0              0              0   \n",
       "386                 1                0              0              1   \n",
       "335                 0                0              1              1   \n",
       "...               ...              ...            ...            ...   \n",
       "368                 0                0              1              0   \n",
       "74                  0                1              0              1   \n",
       "104                 0                1              0              0   \n",
       "595                 1                0              0              0   \n",
       "320                 0                0              1              1   \n",
       "\n",
       "        REGION_HUMID  REGION_SEMI ARID  REGION_SEMI HUMID  WEATHER_NORMAL  \\\n",
       "SR NO.                                                                      \n",
       "614                0                 0                  1               0   \n",
       "478                0                 1                  0               0   \n",
       "624                1                 0                  0               1   \n",
       "386                0                 0                  0               0   \n",
       "335                0                 0                  0               0   \n",
       "...              ...               ...                ...             ...   \n",
       "368                1                 0                  0               1   \n",
       "74                 0                 0                  0               0   \n",
       "104                0                 0                  1               1   \n",
       "595                0                 1                  0               0   \n",
       "320                0                 0                  0               1   \n",
       "\n",
       "        WEATHER_RAINY  WEATHER_SUNNY  WEATHER_WINDY  \n",
       "SR NO.                                               \n",
       "614                 0              0              1  \n",
       "478                 0              0              1  \n",
       "624                 0              0              0  \n",
       "386                 0              0              1  \n",
       "335                 1              0              0  \n",
       "...               ...            ...            ...  \n",
       "368                 0              0              0  \n",
       "74                  0              0              1  \n",
       "104                 0              0              0  \n",
       "595                 1              0              0  \n",
       "320                 0              0              0  \n",
       "\n",
       "[768 rows x 15 columns]"
      ]
     },
     "execution_count": 86,
     "metadata": {},
     "output_type": "execute_result"
    }
   ],
   "source": [
    "x = pd.get_dummies(X[[\"CROP TYPE\",\"SOIL TYPE\",\"REGION\",\"WEATHER\"]],columns=[\"CROP TYPE\",\"SOIL TYPE\",\"REGION\",\"WEATHER\"])\n",
    "x"
   ]
  },
  {
   "cell_type": "code",
   "execution_count": 87,
   "id": "51eda569",
   "metadata": {},
   "outputs": [],
   "source": [
    "import pickle \n",
    "pickle.dump(x,open(\"encoder.pkl\",\"wb\"))\n"
   ]
  },
  {
   "cell_type": "code",
   "execution_count": 88,
   "id": "1d49f87f",
   "metadata": {},
   "outputs": [
    {
     "data": {
      "text/html": [
       "<div>\n",
       "<style scoped>\n",
       "    .dataframe tbody tr th:only-of-type {\n",
       "        vertical-align: middle;\n",
       "    }\n",
       "\n",
       "    .dataframe tbody tr th {\n",
       "        vertical-align: top;\n",
       "    }\n",
       "\n",
       "    .dataframe thead th {\n",
       "        text-align: right;\n",
       "    }\n",
       "</style>\n",
       "<table border=\"1\" class=\"dataframe\">\n",
       "  <thead>\n",
       "    <tr style=\"text-align: right;\">\n",
       "      <th></th>\n",
       "      <th>CROP TYPE_ONION</th>\n",
       "      <th>CROP TYPE_POTATO</th>\n",
       "      <th>CROP TYPE_TOMATO</th>\n",
       "      <th>CROP TYPE_WHEAT</th>\n",
       "      <th>SOIL TYPE_DRY</th>\n",
       "      <th>SOIL TYPE_HUMID</th>\n",
       "      <th>SOIL TYPE_WET</th>\n",
       "      <th>REGION_DESERT</th>\n",
       "      <th>REGION_HUMID</th>\n",
       "      <th>REGION_SEMI ARID</th>\n",
       "      <th>REGION_SEMI HUMID</th>\n",
       "      <th>WEATHER_NORMAL</th>\n",
       "      <th>WEATHER_RAINY</th>\n",
       "      <th>WEATHER_SUNNY</th>\n",
       "      <th>WEATHER_WINDY</th>\n",
       "      <th>TEMP_MIN</th>\n",
       "      <th>TEMP.MAX</th>\n",
       "    </tr>\n",
       "    <tr>\n",
       "      <th>SR NO.</th>\n",
       "      <th></th>\n",
       "      <th></th>\n",
       "      <th></th>\n",
       "      <th></th>\n",
       "      <th></th>\n",
       "      <th></th>\n",
       "      <th></th>\n",
       "      <th></th>\n",
       "      <th></th>\n",
       "      <th></th>\n",
       "      <th></th>\n",
       "      <th></th>\n",
       "      <th></th>\n",
       "      <th></th>\n",
       "      <th></th>\n",
       "      <th></th>\n",
       "      <th></th>\n",
       "    </tr>\n",
       "  </thead>\n",
       "  <tbody>\n",
       "    <tr>\n",
       "      <th>614</th>\n",
       "      <td>1</td>\n",
       "      <td>0</td>\n",
       "      <td>0</td>\n",
       "      <td>0</td>\n",
       "      <td>1</td>\n",
       "      <td>0</td>\n",
       "      <td>0</td>\n",
       "      <td>0</td>\n",
       "      <td>0</td>\n",
       "      <td>0</td>\n",
       "      <td>1</td>\n",
       "      <td>0</td>\n",
       "      <td>0</td>\n",
       "      <td>0</td>\n",
       "      <td>1</td>\n",
       "      <td>20</td>\n",
       "      <td>30</td>\n",
       "    </tr>\n",
       "    <tr>\n",
       "      <th>478</th>\n",
       "      <td>0</td>\n",
       "      <td>0</td>\n",
       "      <td>1</td>\n",
       "      <td>0</td>\n",
       "      <td>0</td>\n",
       "      <td>1</td>\n",
       "      <td>0</td>\n",
       "      <td>0</td>\n",
       "      <td>0</td>\n",
       "      <td>1</td>\n",
       "      <td>0</td>\n",
       "      <td>0</td>\n",
       "      <td>0</td>\n",
       "      <td>0</td>\n",
       "      <td>1</td>\n",
       "      <td>40</td>\n",
       "      <td>50</td>\n",
       "    </tr>\n",
       "    <tr>\n",
       "      <th>624</th>\n",
       "      <td>1</td>\n",
       "      <td>0</td>\n",
       "      <td>0</td>\n",
       "      <td>0</td>\n",
       "      <td>1</td>\n",
       "      <td>0</td>\n",
       "      <td>0</td>\n",
       "      <td>0</td>\n",
       "      <td>1</td>\n",
       "      <td>0</td>\n",
       "      <td>0</td>\n",
       "      <td>1</td>\n",
       "      <td>0</td>\n",
       "      <td>0</td>\n",
       "      <td>0</td>\n",
       "      <td>10</td>\n",
       "      <td>20</td>\n",
       "    </tr>\n",
       "    <tr>\n",
       "      <th>386</th>\n",
       "      <td>0</td>\n",
       "      <td>0</td>\n",
       "      <td>1</td>\n",
       "      <td>0</td>\n",
       "      <td>1</td>\n",
       "      <td>0</td>\n",
       "      <td>0</td>\n",
       "      <td>1</td>\n",
       "      <td>0</td>\n",
       "      <td>0</td>\n",
       "      <td>0</td>\n",
       "      <td>0</td>\n",
       "      <td>0</td>\n",
       "      <td>0</td>\n",
       "      <td>1</td>\n",
       "      <td>10</td>\n",
       "      <td>20</td>\n",
       "    </tr>\n",
       "    <tr>\n",
       "      <th>335</th>\n",
       "      <td>0</td>\n",
       "      <td>0</td>\n",
       "      <td>0</td>\n",
       "      <td>1</td>\n",
       "      <td>0</td>\n",
       "      <td>0</td>\n",
       "      <td>1</td>\n",
       "      <td>1</td>\n",
       "      <td>0</td>\n",
       "      <td>0</td>\n",
       "      <td>0</td>\n",
       "      <td>0</td>\n",
       "      <td>1</td>\n",
       "      <td>0</td>\n",
       "      <td>0</td>\n",
       "      <td>40</td>\n",
       "      <td>50</td>\n",
       "    </tr>\n",
       "    <tr>\n",
       "      <th>...</th>\n",
       "      <td>...</td>\n",
       "      <td>...</td>\n",
       "      <td>...</td>\n",
       "      <td>...</td>\n",
       "      <td>...</td>\n",
       "      <td>...</td>\n",
       "      <td>...</td>\n",
       "      <td>...</td>\n",
       "      <td>...</td>\n",
       "      <td>...</td>\n",
       "      <td>...</td>\n",
       "      <td>...</td>\n",
       "      <td>...</td>\n",
       "      <td>...</td>\n",
       "      <td>...</td>\n",
       "      <td>...</td>\n",
       "      <td>...</td>\n",
       "    </tr>\n",
       "    <tr>\n",
       "      <th>368</th>\n",
       "      <td>0</td>\n",
       "      <td>0</td>\n",
       "      <td>0</td>\n",
       "      <td>1</td>\n",
       "      <td>0</td>\n",
       "      <td>0</td>\n",
       "      <td>1</td>\n",
       "      <td>0</td>\n",
       "      <td>1</td>\n",
       "      <td>0</td>\n",
       "      <td>0</td>\n",
       "      <td>1</td>\n",
       "      <td>0</td>\n",
       "      <td>0</td>\n",
       "      <td>0</td>\n",
       "      <td>10</td>\n",
       "      <td>20</td>\n",
       "    </tr>\n",
       "    <tr>\n",
       "      <th>74</th>\n",
       "      <td>0</td>\n",
       "      <td>1</td>\n",
       "      <td>0</td>\n",
       "      <td>0</td>\n",
       "      <td>0</td>\n",
       "      <td>1</td>\n",
       "      <td>0</td>\n",
       "      <td>1</td>\n",
       "      <td>0</td>\n",
       "      <td>0</td>\n",
       "      <td>0</td>\n",
       "      <td>0</td>\n",
       "      <td>0</td>\n",
       "      <td>0</td>\n",
       "      <td>1</td>\n",
       "      <td>30</td>\n",
       "      <td>40</td>\n",
       "    </tr>\n",
       "    <tr>\n",
       "      <th>104</th>\n",
       "      <td>0</td>\n",
       "      <td>1</td>\n",
       "      <td>0</td>\n",
       "      <td>0</td>\n",
       "      <td>0</td>\n",
       "      <td>1</td>\n",
       "      <td>0</td>\n",
       "      <td>0</td>\n",
       "      <td>0</td>\n",
       "      <td>0</td>\n",
       "      <td>1</td>\n",
       "      <td>1</td>\n",
       "      <td>0</td>\n",
       "      <td>0</td>\n",
       "      <td>0</td>\n",
       "      <td>30</td>\n",
       "      <td>40</td>\n",
       "    </tr>\n",
       "    <tr>\n",
       "      <th>595</th>\n",
       "      <td>1</td>\n",
       "      <td>0</td>\n",
       "      <td>0</td>\n",
       "      <td>0</td>\n",
       "      <td>1</td>\n",
       "      <td>0</td>\n",
       "      <td>0</td>\n",
       "      <td>0</td>\n",
       "      <td>0</td>\n",
       "      <td>1</td>\n",
       "      <td>0</td>\n",
       "      <td>0</td>\n",
       "      <td>1</td>\n",
       "      <td>0</td>\n",
       "      <td>0</td>\n",
       "      <td>10</td>\n",
       "      <td>20</td>\n",
       "    </tr>\n",
       "    <tr>\n",
       "      <th>320</th>\n",
       "      <td>0</td>\n",
       "      <td>0</td>\n",
       "      <td>0</td>\n",
       "      <td>1</td>\n",
       "      <td>0</td>\n",
       "      <td>0</td>\n",
       "      <td>1</td>\n",
       "      <td>1</td>\n",
       "      <td>0</td>\n",
       "      <td>0</td>\n",
       "      <td>0</td>\n",
       "      <td>1</td>\n",
       "      <td>0</td>\n",
       "      <td>0</td>\n",
       "      <td>0</td>\n",
       "      <td>10</td>\n",
       "      <td>20</td>\n",
       "    </tr>\n",
       "  </tbody>\n",
       "</table>\n",
       "<p>768 rows × 17 columns</p>\n",
       "</div>"
      ],
      "text/plain": [
       "        CROP TYPE_ONION  CROP TYPE_POTATO  CROP TYPE_TOMATO  CROP TYPE_WHEAT  \\\n",
       "SR NO.                                                                         \n",
       "614                   1                 0                 0                0   \n",
       "478                   0                 0                 1                0   \n",
       "624                   1                 0                 0                0   \n",
       "386                   0                 0                 1                0   \n",
       "335                   0                 0                 0                1   \n",
       "...                 ...               ...               ...              ...   \n",
       "368                   0                 0                 0                1   \n",
       "74                    0                 1                 0                0   \n",
       "104                   0                 1                 0                0   \n",
       "595                   1                 0                 0                0   \n",
       "320                   0                 0                 0                1   \n",
       "\n",
       "        SOIL TYPE_DRY  SOIL TYPE_HUMID  SOIL TYPE_WET  REGION_DESERT  \\\n",
       "SR NO.                                                                 \n",
       "614                 1                0              0              0   \n",
       "478                 0                1              0              0   \n",
       "624                 1                0              0              0   \n",
       "386                 1                0              0              1   \n",
       "335                 0                0              1              1   \n",
       "...               ...              ...            ...            ...   \n",
       "368                 0                0              1              0   \n",
       "74                  0                1              0              1   \n",
       "104                 0                1              0              0   \n",
       "595                 1                0              0              0   \n",
       "320                 0                0              1              1   \n",
       "\n",
       "        REGION_HUMID  REGION_SEMI ARID  REGION_SEMI HUMID  WEATHER_NORMAL  \\\n",
       "SR NO.                                                                      \n",
       "614                0                 0                  1               0   \n",
       "478                0                 1                  0               0   \n",
       "624                1                 0                  0               1   \n",
       "386                0                 0                  0               0   \n",
       "335                0                 0                  0               0   \n",
       "...              ...               ...                ...             ...   \n",
       "368                1                 0                  0               1   \n",
       "74                 0                 0                  0               0   \n",
       "104                0                 0                  1               1   \n",
       "595                0                 1                  0               0   \n",
       "320                0                 0                  0               1   \n",
       "\n",
       "        WEATHER_RAINY  WEATHER_SUNNY  WEATHER_WINDY  TEMP_MIN  TEMP.MAX  \n",
       "SR NO.                                                                   \n",
       "614                 0              0              1        20        30  \n",
       "478                 0              0              1        40        50  \n",
       "624                 0              0              0        10        20  \n",
       "386                 0              0              1        10        20  \n",
       "335                 1              0              0        40        50  \n",
       "...               ...            ...            ...       ...       ...  \n",
       "368                 0              0              0        10        20  \n",
       "74                  0              0              1        30        40  \n",
       "104                 0              0              0        30        40  \n",
       "595                 1              0              0        10        20  \n",
       "320                 0              0              0        10        20  \n",
       "\n",
       "[768 rows x 17 columns]"
      ]
     },
     "execution_count": 88,
     "metadata": {},
     "output_type": "execute_result"
    }
   ],
   "source": [
    "final_df = pd.merge(x,X[[\"TEMP_MIN\",\"TEMP.MAX\"]],left_index=True , right_index=True)\n",
    "final_df"
   ]
  },
  {
   "cell_type": "code",
   "execution_count": 89,
   "id": "19339a63",
   "metadata": {},
   "outputs": [
    {
     "data": {
      "text/plain": [
       "'final_df = pd.merge(x, final_df, left_index=True, right_index=True)\\nfinal_df'"
      ]
     },
     "execution_count": 89,
     "metadata": {},
     "output_type": "execute_result"
    }
   ],
   "source": [
    "\"\"\"final_df = pd.merge(x, final_df, left_index=True, right_index=True)\n",
    "final_df\"\"\""
   ]
  },
  {
   "cell_type": "markdown",
   "id": "b7a35fef",
   "metadata": {},
   "source": [
    "# Train-Test-Split "
   ]
  },
  {
   "cell_type": "code",
   "execution_count": 90,
   "id": "2b351995",
   "metadata": {},
   "outputs": [],
   "source": [
    "from sklearn.model_selection import train_test_split\n",
    "\n",
    "X_train , X_test , y_train , y_test = train_test_split(final_df,y,test_size=0.4,random_state=42)"
   ]
  },
  {
   "cell_type": "code",
   "execution_count": 91,
   "id": "374b4807",
   "metadata": {},
   "outputs": [
    {
     "data": {
      "text/plain": [
       "((460, 17), (308, 17), (460,), (308,))"
      ]
     },
     "execution_count": 91,
     "metadata": {},
     "output_type": "execute_result"
    }
   ],
   "source": [
    "X_train.shape , X_test.shape , y_train.shape , y_test.shape"
   ]
  },
  {
   "cell_type": "markdown",
   "id": "4a05209c",
   "metadata": {},
   "source": [
    "# Model Development "
   ]
  },
  {
   "cell_type": "code",
   "execution_count": 92,
   "id": "a87ff439",
   "metadata": {},
   "outputs": [
    {
     "data": {
      "text/plain": [
       "(81.885803939142, -3797.894392907079)"
      ]
     },
     "execution_count": 92,
     "metadata": {},
     "output_type": "execute_result"
    }
   ],
   "source": [
    "from sklearn.ensemble import RandomForestRegressor\n",
    "model = RandomForestRegressor(n_estimators=300,n_jobs=-1,)\n",
    "model.fit(X_train,y_train)\n",
    "\n",
    "model.score(X_train,y_train)*100 , model.score(X_test, y_test)*100\n",
    "\n"
   ]
  },
  {
   "cell_type": "code",
   "execution_count": 93,
   "id": "4f4df27d",
   "metadata": {},
   "outputs": [
    {
     "data": {
      "text/plain": [
       "array([2.14183333e+00, 1.11236667e+00, 3.44723333e+00, 4.40341667e+00,\n",
       "       1.15186667e+01, 8.51400000e+00, 4.47166667e-01, 2.92573333e+00,\n",
       "       8.13705000e+00, 1.32025000e+00, 6.72586667e+00, 2.54106667e+00,\n",
       "       8.38311667e+00, 5.75366667e-01, 6.48266667e-01, 7.46810000e+00,\n",
       "       5.05948333e+00, 5.94943333e+00, 8.40753333e+00, 3.35258333e+00,\n",
       "       4.36034722e+00, 2.01786667e+00, 4.45961667e+00, 1.08852333e+01,\n",
       "       2.93666667e-01, 2.70050000e+00, 7.97073333e+00, 7.07328333e+00,\n",
       "       9.82570000e+00, 5.26533333e+00, 1.93493333e+00, 7.23710000e+00,\n",
       "       8.11620000e+00, 1.02353333e+00, 3.16833333e-01, 5.60000000e-01,\n",
       "       4.74583333e+00, 5.80000000e-01, 9.17478333e+00, 6.75440000e+00,\n",
       "       8.10250000e-01, 3.91858333e+00, 5.67870000e+00, 3.42500000e-01,\n",
       "       5.57633333e-01, 8.24668333e+00, 3.14032083e+00, 2.16333333e-01,\n",
       "       2.21658167e+01, 6.29093333e+00, 4.43193333e+00, 5.23953500e+01,\n",
       "       6.79676667e+00, 5.29913333e+00, 8.05646667e+00, 4.92553333e+00,\n",
       "       4.64304722e+00, 7.82293333e+00, 6.20373333e+00, 1.20583333e+00,\n",
       "       4.79883333e+00, 9.11896667e+00, 1.07647000e+01, 7.52606667e+00,\n",
       "       9.79166667e+00, 9.14616667e+00, 4.01844167e+00, 4.87040000e+00,\n",
       "       6.23208333e+00, 6.10156667e+00, 9.67646667e+00, 6.27973333e+00,\n",
       "       9.17143333e+00, 6.89110000e+00, 1.17579333e+01, 2.53450000e+01,\n",
       "       8.24693333e+00, 1.63116667e+00, 1.51866667e+00, 6.67900000e-01,\n",
       "       7.96763333e+00, 8.72093333e+00, 6.21523333e+00, 2.95585000e+00,\n",
       "       4.91420000e+00, 3.99294444e+00, 2.00708333e+00, 3.24466667e-01,\n",
       "       3.39138333e+00, 8.27073333e+00, 1.05579000e+01, 6.33110000e+00,\n",
       "       6.05841667e+00, 7.86683333e+00, 8.68150000e+00, 2.05366667e+00,\n",
       "       2.32744167e+00, 3.40454306e+00, 1.30403333e+00, 1.28313333e+01,\n",
       "       7.60680000e+00, 1.00404667e+01, 5.10668333e+00, 8.68723333e+00,\n",
       "       3.44433333e-01, 1.92000000e-01, 1.11371167e+01, 8.41290000e+00,\n",
       "       3.80558333e+00, 3.49333333e-01, 2.01166667e-01, 4.99543333e+00,\n",
       "       8.90860000e+00, 4.84978333e+00, 5.82340000e+00, 3.81906667e+00,\n",
       "       5.01933333e+00, 8.79400000e+00, 1.28065000e+01, 5.44033333e-01,\n",
       "       3.34320000e+00, 4.24633333e-01, 2.83366667e+00, 4.28166667e+00,\n",
       "       8.10053333e+00, 3.40523333e+00, 1.62000000e-01, 6.22720000e+00,\n",
       "       1.02250000e+00, 3.66678333e+00, 2.79753889e+00, 4.32333333e-01,\n",
       "       1.45383333e+00, 7.07595000e+00, 1.10983867e+02, 1.00675000e+00,\n",
       "       1.35850000e+00, 7.26760000e+00, 2.78166667e+00, 5.87303333e+00,\n",
       "       1.09197667e+01, 1.15086000e+01, 5.79720000e+00, 7.44726667e+00,\n",
       "       3.92748333e+00, 4.16333333e-01, 7.98010000e+00, 7.21180000e+00,\n",
       "       5.48016667e+00, 1.01622667e+01, 8.68013333e+00, 2.68928667e+01,\n",
       "       6.37830000e+00, 1.00640000e+00, 3.70600000e+00, 7.16826667e+00,\n",
       "       7.56453333e+00, 1.38493333e+00, 1.71758333e+00, 4.03715000e+00,\n",
       "       1.22700000e+00, 7.60626667e+00, 7.41916667e+00, 6.54430000e+00,\n",
       "       2.00678750e+00, 3.59843333e+00, 4.91240000e+00, 6.39133333e-01,\n",
       "       1.77641667e+00, 7.10800000e-01, 1.19481333e+01, 9.09030000e+00,\n",
       "       1.01248000e+01, 3.43931667e+00, 4.84333333e-01, 6.19433333e+00,\n",
       "       9.06773333e+00, 3.76490133e+02, 4.08118333e+00, 6.82813333e+00,\n",
       "       1.01591333e+01, 7.41953333e+00, 1.08577778e+00, 9.25040000e+00,\n",
       "       4.92852222e+00, 5.95430000e+00, 3.42300000e-01, 5.44088333e+00,\n",
       "       1.08740000e+00, 8.49666667e-01, 5.92376667e+00, 5.90393333e+00,\n",
       "       9.08330000e+00, 7.21240000e+00, 1.02150333e+01, 2.60943000e+01,\n",
       "       6.74085000e+00, 4.79773333e+00, 4.37927778e+00, 8.89180000e+00,\n",
       "       6.86720000e+00, 8.87733333e-01, 8.01936667e+00, 1.07961000e+01,\n",
       "       1.79606667e+00, 6.82206667e+00, 2.41086667e+00, 4.29276111e+00,\n",
       "       3.89380000e+00, 9.65666667e+00, 4.39743333e+00, 1.26295667e+01,\n",
       "       7.59978333e+00, 7.62350000e+00, 8.75800000e+00, 7.47866667e-01,\n",
       "       5.45140000e+00, 2.62858333e+00, 6.68230000e+00, 4.55000000e-01,\n",
       "       4.93806667e+00, 6.55000000e-01, 3.40000000e-01, 1.04203333e+01,\n",
       "       5.59676667e+00, 1.92996333e+01, 5.52513333e+00, 9.79106667e+00,\n",
       "       4.35218750e+00, 7.70516667e+00, 3.51460000e+00, 6.38520000e+00,\n",
       "       3.23758333e+00, 7.81666667e+00, 1.28769000e+01, 6.82663333e+00,\n",
       "       6.40390000e+00, 4.10616667e+00, 5.97226667e+00, 4.75650000e+00,\n",
       "       3.53286667e+00, 2.96966667e-01, 6.23316667e+00, 1.98000000e-01,\n",
       "       7.44390000e+00, 4.15303611e+00, 7.57593333e+00, 7.63883333e+00,\n",
       "       7.69583333e+00, 2.19921667e+00, 2.09100000e+00, 3.43858333e+00,\n",
       "       5.08910556e+00, 7.10360000e+00, 1.89920000e+00, 3.99381667e+00,\n",
       "       3.39816667e+00, 1.21416667e+00, 5.67008333e+00, 7.03258333e+00,\n",
       "       5.54530000e+00, 4.87327917e+00, 5.67666667e-01, 5.03516667e+00,\n",
       "       7.96963333e+00, 7.67940000e+00, 8.89333333e-01, 6.21453333e+00,\n",
       "       5.18540000e+00, 8.81770000e+00, 2.63493333e+00, 5.87670000e+00,\n",
       "       7.08130000e+00, 3.95853333e+00, 5.77611667e+00, 8.84306667e+00,\n",
       "       1.24060000e+01, 8.56768333e+00, 4.29578333e+00, 6.00781667e+00,\n",
       "       3.94813333e+00, 3.29380000e+00, 6.24293333e+00, 6.49413333e+00,\n",
       "       4.77815000e+00, 9.41690000e+00, 2.19246667e+00, 5.80540000e+00,\n",
       "       7.35036667e+00, 8.46580000e+00, 5.89548333e+00, 1.00186000e+01,\n",
       "       1.46276944e+00, 3.79924028e+00, 4.25633333e-01, 5.79526667e+00,\n",
       "       1.20194333e+01, 5.72883333e+00, 1.13188333e+01, 2.79753889e+00,\n",
       "       6.56653333e+00, 4.73950000e+00, 5.97241667e+00, 8.81130000e+00,\n",
       "       6.96120000e+00, 1.70333333e-01, 9.72563333e+00, 1.03249000e+01])"
      ]
     },
     "execution_count": 93,
     "metadata": {},
     "output_type": "execute_result"
    }
   ],
   "source": [
    "y_preds = model.predict(X_test)\n",
    "y_preds"
   ]
  },
  {
   "cell_type": "code",
   "execution_count": 94,
   "id": "3b3047fe",
   "metadata": {},
   "outputs": [],
   "source": [
    "from sklearn.metrics import mean_squared_error\n",
    "from sklearn.ensemble import GradientBoostingRegressor \n"
   ]
  },
  {
   "cell_type": "code",
   "execution_count": 95,
   "id": "0b5cdea8",
   "metadata": {},
   "outputs": [
    {
     "data": {
      "text/html": [
       "<style>#sk-container-id-2 {color: black;}#sk-container-id-2 pre{padding: 0;}#sk-container-id-2 div.sk-toggleable {background-color: white;}#sk-container-id-2 label.sk-toggleable__label {cursor: pointer;display: block;width: 100%;margin-bottom: 0;padding: 0.3em;box-sizing: border-box;text-align: center;}#sk-container-id-2 label.sk-toggleable__label-arrow:before {content: \"▸\";float: left;margin-right: 0.25em;color: #696969;}#sk-container-id-2 label.sk-toggleable__label-arrow:hover:before {color: black;}#sk-container-id-2 div.sk-estimator:hover label.sk-toggleable__label-arrow:before {color: black;}#sk-container-id-2 div.sk-toggleable__content {max-height: 0;max-width: 0;overflow: hidden;text-align: left;background-color: #f0f8ff;}#sk-container-id-2 div.sk-toggleable__content pre {margin: 0.2em;color: black;border-radius: 0.25em;background-color: #f0f8ff;}#sk-container-id-2 input.sk-toggleable__control:checked~div.sk-toggleable__content {max-height: 200px;max-width: 100%;overflow: auto;}#sk-container-id-2 input.sk-toggleable__control:checked~label.sk-toggleable__label-arrow:before {content: \"▾\";}#sk-container-id-2 div.sk-estimator input.sk-toggleable__control:checked~label.sk-toggleable__label {background-color: #d4ebff;}#sk-container-id-2 div.sk-label input.sk-toggleable__control:checked~label.sk-toggleable__label {background-color: #d4ebff;}#sk-container-id-2 input.sk-hidden--visually {border: 0;clip: rect(1px 1px 1px 1px);clip: rect(1px, 1px, 1px, 1px);height: 1px;margin: -1px;overflow: hidden;padding: 0;position: absolute;width: 1px;}#sk-container-id-2 div.sk-estimator {font-family: monospace;background-color: #f0f8ff;border: 1px dotted black;border-radius: 0.25em;box-sizing: border-box;margin-bottom: 0.5em;}#sk-container-id-2 div.sk-estimator:hover {background-color: #d4ebff;}#sk-container-id-2 div.sk-parallel-item::after {content: \"\";width: 100%;border-bottom: 1px solid gray;flex-grow: 1;}#sk-container-id-2 div.sk-label:hover label.sk-toggleable__label {background-color: #d4ebff;}#sk-container-id-2 div.sk-serial::before {content: \"\";position: absolute;border-left: 1px solid gray;box-sizing: border-box;top: 0;bottom: 0;left: 50%;z-index: 0;}#sk-container-id-2 div.sk-serial {display: flex;flex-direction: column;align-items: center;background-color: white;padding-right: 0.2em;padding-left: 0.2em;position: relative;}#sk-container-id-2 div.sk-item {position: relative;z-index: 1;}#sk-container-id-2 div.sk-parallel {display: flex;align-items: stretch;justify-content: center;background-color: white;position: relative;}#sk-container-id-2 div.sk-item::before, #sk-container-id-2 div.sk-parallel-item::before {content: \"\";position: absolute;border-left: 1px solid gray;box-sizing: border-box;top: 0;bottom: 0;left: 50%;z-index: -1;}#sk-container-id-2 div.sk-parallel-item {display: flex;flex-direction: column;z-index: 1;position: relative;background-color: white;}#sk-container-id-2 div.sk-parallel-item:first-child::after {align-self: flex-end;width: 50%;}#sk-container-id-2 div.sk-parallel-item:last-child::after {align-self: flex-start;width: 50%;}#sk-container-id-2 div.sk-parallel-item:only-child::after {width: 0;}#sk-container-id-2 div.sk-dashed-wrapped {border: 1px dashed gray;margin: 0 0.4em 0.5em 0.4em;box-sizing: border-box;padding-bottom: 0.4em;background-color: white;}#sk-container-id-2 div.sk-label label {font-family: monospace;font-weight: bold;display: inline-block;line-height: 1.2em;}#sk-container-id-2 div.sk-label-container {text-align: center;}#sk-container-id-2 div.sk-container {/* jupyter's `normalize.less` sets `[hidden] { display: none; }` but bootstrap.min.css set `[hidden] { display: none !important; }` so we also need the `!important` here to be able to override the default hidden behavior on the sphinx rendered scikit-learn.org. See: https://github.com/scikit-learn/scikit-learn/issues/21755 */display: inline-block !important;position: relative;}#sk-container-id-2 div.sk-text-repr-fallback {display: none;}</style><div id=\"sk-container-id-2\" class=\"sk-top-container\"><div class=\"sk-text-repr-fallback\"><pre>GradientBoostingRegressor(learning_rate=1.8, n_estimators=250, random_state=0)</pre><b>In a Jupyter environment, please rerun this cell to show the HTML representation or trust the notebook. <br />On GitHub, the HTML representation is unable to render, please try loading this page with nbviewer.org.</b></div><div class=\"sk-container\" hidden><div class=\"sk-item\"><div class=\"sk-estimator sk-toggleable\"><input class=\"sk-toggleable__control sk-hidden--visually\" id=\"sk-estimator-id-2\" type=\"checkbox\" checked><label for=\"sk-estimator-id-2\" class=\"sk-toggleable__label sk-toggleable__label-arrow\">GradientBoostingRegressor</label><div class=\"sk-toggleable__content\"><pre>GradientBoostingRegressor(learning_rate=1.8, n_estimators=250, random_state=0)</pre></div></div></div></div></div>"
      ],
      "text/plain": [
       "GradientBoostingRegressor(learning_rate=1.8, n_estimators=250, random_state=0)"
      ]
     },
     "execution_count": 95,
     "metadata": {},
     "output_type": "execute_result"
    }
   ],
   "source": [
    "reg = GradientBoostingRegressor(random_state=0,n_estimators=250,learning_rate=1.8)\n",
    "reg.fit(X_train,y_train)"
   ]
  },
  {
   "cell_type": "code",
   "execution_count": 96,
   "id": "f6c8a38e",
   "metadata": {},
   "outputs": [
    {
     "data": {
      "text/plain": [
       "57.23802959147171"
      ]
     },
     "execution_count": 96,
     "metadata": {},
     "output_type": "execute_result"
    }
   ],
   "source": [
    "reg.score(X_train,y_train)*100"
   ]
  },
  {
   "cell_type": "code",
   "execution_count": 97,
   "id": "ddd1ef25",
   "metadata": {},
   "outputs": [
    {
     "data": {
      "text/plain": [
       "-68.35423542353935"
      ]
     },
     "execution_count": 97,
     "metadata": {},
     "output_type": "execute_result"
    }
   ],
   "source": [
    "reg.score(X_test,y_test)"
   ]
  },
  {
   "cell_type": "code",
   "execution_count": 98,
   "id": "a3c671ff",
   "metadata": {},
   "outputs": [],
   "source": [
    "from sklearn.model_selection import KFold\n",
    "from sklearn.metrics import accuracy_score"
   ]
  },
  {
   "cell_type": "code",
   "execution_count": null,
   "id": "e1b1415e",
   "metadata": {},
   "outputs": [],
   "source": []
  },
  {
   "cell_type": "markdown",
   "id": "ed228b98",
   "metadata": {},
   "source": [
    "# Neural Network "
   ]
  },
  {
   "cell_type": "code",
   "execution_count": 99,
   "id": "80f86f89",
   "metadata": {},
   "outputs": [],
   "source": [
    "#LSTM for regression\n",
    "import numpy\n",
    "import matplotlib.pyplot as plt\n",
    "from pandas import read_csv\n",
    "import math\n",
    "from keras.models import Sequential\n",
    "from keras.layers import Dense\n",
    "from keras.layers import LSTM\n",
    "from sklearn.preprocessing import MinMaxScaler\n",
    "from sklearn.metrics import mean_squared_error\n",
    "from keras.models import Sequential\n",
    "from keras.layers import Dense, Dropout\n",
    "from keras.callbacks import EarlyStopping"
   ]
  },
  {
   "cell_type": "code",
   "execution_count": 100,
   "id": "2c636a1e",
   "metadata": {},
   "outputs": [],
   "source": [
    "# use minMax scaler\n",
    "min_max_scaler = MinMaxScaler()\n",
    "X_train = min_max_scaler.fit_transform(X_train)\n",
    "X_test = min_max_scaler.transform(X_test)"
   ]
  },
  {
   "cell_type": "code",
   "execution_count": 101,
   "id": "d096f684",
   "metadata": {},
   "outputs": [
    {
     "name": "stdout",
     "output_type": "stream",
     "text": [
      "Model: \"sequential_3\"\n",
      "_________________________________________________________________\n",
      " Layer (type)                Output Shape              Param #   \n",
      "=================================================================\n",
      " dense_10 (Dense)            (None, 1000)              18000     \n",
      "                                                                 \n",
      " dense_11 (Dense)            (None, 500)               500500    \n",
      "                                                                 \n",
      " dense_12 (Dense)            (None, 250)               125250    \n",
      "                                                                 \n",
      " dense_13 (Dense)            (None, 125)               31375     \n",
      "                                                                 \n",
      " dense_14 (Dense)            (None, 1)                 126       \n",
      "                                                                 \n",
      "=================================================================\n",
      "Total params: 675,251\n",
      "Trainable params: 675,251\n",
      "Non-trainable params: 0\n",
      "_________________________________________________________________\n",
      "Epoch 1/5000\n",
      "10/10 [==============================] - 5s 160ms/step - loss: 800.0331 - mae: 4.3562 - val_loss: 7.2753 - val_mae: 2.0993\n",
      "Epoch 2/5000\n",
      "10/10 [==============================] - 1s 100ms/step - loss: 788.6091 - mae: 3.4819 - val_loss: 7.8660 - val_mae: 2.1847\n",
      "Epoch 3/5000\n",
      "10/10 [==============================] - 1s 56ms/step - loss: 786.6639 - mae: 3.0656 - val_loss: 12.5129 - val_mae: 2.9705\n",
      "Epoch 4/5000\n",
      "10/10 [==============================] - 0s 32ms/step - loss: 778.9512 - mae: 3.6846 - val_loss: 4.2484 - val_mae: 1.6187\n",
      "Epoch 5/5000\n",
      "10/10 [==============================] - 0s 43ms/step - loss: 781.2424 - mae: 3.1735 - val_loss: 5.9312 - val_mae: 1.9189\n",
      "Epoch 6/5000\n",
      "10/10 [==============================] - 0s 31ms/step - loss: 774.9655 - mae: 3.0929 - val_loss: 3.4612 - val_mae: 1.4636\n",
      "Epoch 7/5000\n",
      "10/10 [==============================] - 0s 36ms/step - loss: 775.7230 - mae: 2.6697 - val_loss: 8.2515 - val_mae: 2.2361\n",
      "Epoch 8/5000\n",
      "10/10 [==============================] - 1s 54ms/step - loss: 775.8688 - mae: 3.1595 - val_loss: 3.7816 - val_mae: 1.5903\n",
      "Epoch 9/5000\n",
      "10/10 [==============================] - 0s 46ms/step - loss: 772.0935 - mae: 2.8762 - val_loss: 3.2559 - val_mae: 1.3994\n",
      "Epoch 10/5000\n",
      "10/10 [==============================] - 0s 45ms/step - loss: 772.2818 - mae: 2.8447 - val_loss: 4.0033 - val_mae: 1.4273\n",
      "Epoch 11/5000\n",
      "10/10 [==============================] - 1s 68ms/step - loss: 773.0144 - mae: 2.6429 - val_loss: 3.1240 - val_mae: 1.2689\n",
      "Epoch 12/5000\n",
      "10/10 [==============================] - 1s 56ms/step - loss: 768.3115 - mae: 2.6964 - val_loss: 3.6415 - val_mae: 1.4779\n",
      "Epoch 13/5000\n",
      "10/10 [==============================] - 0s 44ms/step - loss: 770.1773 - mae: 2.8525 - val_loss: 3.1835 - val_mae: 1.3036\n",
      "Epoch 14/5000\n",
      "10/10 [==============================] - 1s 76ms/step - loss: 766.8791 - mae: 2.7837 - val_loss: 2.1518 - val_mae: 1.0332\n",
      "Epoch 15/5000\n",
      "10/10 [==============================] - 0s 41ms/step - loss: 766.9953 - mae: 2.5271 - val_loss: 3.9085 - val_mae: 1.5612\n",
      "Epoch 16/5000\n",
      "10/10 [==============================] - 0s 48ms/step - loss: 764.9332 - mae: 2.5370 - val_loss: 3.5018 - val_mae: 1.4582\n",
      "Epoch 17/5000\n",
      "10/10 [==============================] - 0s 30ms/step - loss: 764.1372 - mae: 2.5784 - val_loss: 2.9819 - val_mae: 1.2982\n",
      "Epoch 18/5000\n",
      "10/10 [==============================] - 0s 24ms/step - loss: 762.5541 - mae: 2.4894 - val_loss: 2.8695 - val_mae: 1.1616\n",
      "Epoch 19/5000\n",
      "10/10 [==============================] - 0s 23ms/step - loss: 761.2825 - mae: 2.4114 - val_loss: 2.3253 - val_mae: 1.0431\n",
      "Epoch 20/5000\n",
      "10/10 [==============================] - 0s 24ms/step - loss: 760.3019 - mae: 2.4061 - val_loss: 2.1163 - val_mae: 0.9198\n",
      "Epoch 21/5000\n",
      "10/10 [==============================] - 0s 29ms/step - loss: 759.4762 - mae: 2.3001 - val_loss: 3.0872 - val_mae: 1.2825\n",
      "Epoch 22/5000\n",
      "10/10 [==============================] - 0s 24ms/step - loss: 758.4255 - mae: 2.1930 - val_loss: 3.0442 - val_mae: 1.2780\n",
      "Epoch 23/5000\n",
      "10/10 [==============================] - 0s 23ms/step - loss: 757.6190 - mae: 2.2313 - val_loss: 2.4201 - val_mae: 1.0398\n",
      "Epoch 24/5000\n",
      "10/10 [==============================] - 0s 22ms/step - loss: 756.9458 - mae: 2.2855 - val_loss: 2.2471 - val_mae: 0.8858\n",
      "Epoch 25/5000\n",
      "10/10 [==============================] - 0s 22ms/step - loss: 756.1877 - mae: 2.3056 - val_loss: 2.1838 - val_mae: 0.8961\n",
      "Epoch 26/5000\n",
      "10/10 [==============================] - 0s 30ms/step - loss: 754.8189 - mae: 2.0624 - val_loss: 2.0786 - val_mae: 0.8457\n",
      "Epoch 27/5000\n",
      "10/10 [==============================] - 0s 22ms/step - loss: 754.4448 - mae: 2.1719 - val_loss: 3.7872 - val_mae: 1.3309\n",
      "Epoch 28/5000\n",
      "10/10 [==============================] - 0s 23ms/step - loss: 753.4938 - mae: 2.1521 - val_loss: 3.9716 - val_mae: 1.4427\n",
      "Epoch 29/5000\n",
      "10/10 [==============================] - 0s 25ms/step - loss: 752.7189 - mae: 2.1250 - val_loss: 2.5339 - val_mae: 1.0032\n",
      "Epoch 30/5000\n",
      "10/10 [==============================] - 0s 19ms/step - loss: 751.7316 - mae: 2.1140 - val_loss: 2.2365 - val_mae: 0.7760\n",
      "Epoch 31/5000\n",
      "10/10 [==============================] - 0s 20ms/step - loss: 750.8975 - mae: 2.0797 - val_loss: 3.5993 - val_mae: 1.2733\n",
      "Epoch 32/5000\n",
      "10/10 [==============================] - 0s 20ms/step - loss: 750.2555 - mae: 2.1261 - val_loss: 2.4664 - val_mae: 0.9291\n",
      "Epoch 33/5000\n",
      "10/10 [==============================] - 0s 25ms/step - loss: 749.3226 - mae: 1.9824 - val_loss: 2.4869 - val_mae: 0.8766\n",
      "Epoch 34/5000\n",
      "10/10 [==============================] - 0s 24ms/step - loss: 748.3766 - mae: 1.9750 - val_loss: 3.5858 - val_mae: 1.2521\n",
      "Epoch 35/5000\n",
      "10/10 [==============================] - 0s 25ms/step - loss: 747.9099 - mae: 2.0943 - val_loss: 2.1539 - val_mae: 0.7567\n",
      "Epoch 36/5000\n",
      "10/10 [==============================] - 0s 24ms/step - loss: 746.8387 - mae: 1.9369 - val_loss: 2.3116 - val_mae: 0.8766\n",
      "Epoch 37/5000\n",
      "10/10 [==============================] - 1s 77ms/step - loss: 746.3448 - mae: 1.9489 - val_loss: 2.6959 - val_mae: 0.8361\n",
      "Epoch 38/5000\n",
      "10/10 [==============================] - 0s 23ms/step - loss: 745.1364 - mae: 1.9127 - val_loss: 2.6020 - val_mae: 0.6976\n",
      "Epoch 39/5000\n",
      "10/10 [==============================] - 0s 21ms/step - loss: 744.5377 - mae: 1.9739 - val_loss: 2.5372 - val_mae: 0.7201\n",
      "Epoch 40/5000\n",
      "10/10 [==============================] - 0s 21ms/step - loss: 743.7388 - mae: 1.8987 - val_loss: 2.6399 - val_mae: 0.7822\n",
      "Epoch 41/5000\n",
      "10/10 [==============================] - 0s 20ms/step - loss: 743.1068 - mae: 1.9971 - val_loss: 2.4146 - val_mae: 0.7141\n",
      "Epoch 42/5000\n",
      "10/10 [==============================] - 0s 20ms/step - loss: 742.0967 - mae: 1.8297 - val_loss: 2.8915 - val_mae: 0.8683\n",
      "Epoch 43/5000\n",
      "10/10 [==============================] - 0s 20ms/step - loss: 741.4938 - mae: 1.8780 - val_loss: 3.9951 - val_mae: 0.9354\n",
      "Epoch 44/5000\n",
      "10/10 [==============================] - 0s 19ms/step - loss: 774.6498 - mae: 2.1773 - val_loss: 3.1945 - val_mae: 0.7895\n",
      "Epoch 45/5000\n",
      "10/10 [==============================] - 0s 21ms/step - loss: 740.4382 - mae: 1.8386 - val_loss: 3.1263 - val_mae: 0.8217\n",
      "Epoch 46/5000\n",
      "10/10 [==============================] - 0s 20ms/step - loss: 739.9685 - mae: 1.8092 - val_loss: 3.0086 - val_mae: 0.6888\n",
      "Epoch 47/5000\n",
      "10/10 [==============================] - 0s 28ms/step - loss: 739.5049 - mae: 1.7880 - val_loss: 2.7314 - val_mae: 0.6384\n",
      "Epoch 48/5000\n",
      "10/10 [==============================] - 0s 25ms/step - loss: 738.8605 - mae: 1.8634 - val_loss: 3.0343 - val_mae: 0.8114\n",
      "Epoch 49/5000\n",
      "10/10 [==============================] - 0s 24ms/step - loss: 738.1068 - mae: 1.8020 - val_loss: 2.7684 - val_mae: 0.6780\n",
      "Epoch 50/5000\n",
      "10/10 [==============================] - 0s 47ms/step - loss: 737.4957 - mae: 1.7729 - val_loss: 2.9430 - val_mae: 0.7263\n",
      "Epoch 51/5000\n",
      "10/10 [==============================] - 0s 37ms/step - loss: 736.7771 - mae: 1.8076 - val_loss: 2.8678 - val_mae: 0.6413\n",
      "Epoch 52/5000\n",
      "10/10 [==============================] - 0s 30ms/step - loss: 736.2300 - mae: 1.8754 - val_loss: 2.9081 - val_mae: 0.7120\n",
      "Epoch 53/5000\n"
     ]
    },
    {
     "name": "stdout",
     "output_type": "stream",
     "text": [
      "10/10 [==============================] - 0s 28ms/step - loss: 735.1453 - mae: 1.7836 - val_loss: 3.3366 - val_mae: 0.8323\n",
      "Epoch 54/5000\n",
      "10/10 [==============================] - 0s 26ms/step - loss: 734.4227 - mae: 1.7381 - val_loss: 2.8450 - val_mae: 0.7569\n",
      "Epoch 55/5000\n",
      "10/10 [==============================] - 0s 28ms/step - loss: 747.8526 - mae: 1.8671 - val_loss: 2.4493 - val_mae: 0.6279\n",
      "Epoch 56/5000\n",
      "10/10 [==============================] - 0s 41ms/step - loss: 733.2877 - mae: 1.6597 - val_loss: 2.8528 - val_mae: 0.5965\n",
      "Epoch 57/5000\n",
      "10/10 [==============================] - 1s 59ms/step - loss: 732.1298 - mae: 1.6295 - val_loss: 3.0383 - val_mae: 0.6247\n",
      "Epoch 58/5000\n",
      "10/10 [==============================] - 0s 35ms/step - loss: 731.4343 - mae: 1.6236 - val_loss: 3.1105 - val_mae: 0.7385\n",
      "Epoch 59/5000\n",
      "10/10 [==============================] - 0s 26ms/step - loss: 730.6984 - mae: 1.7355 - val_loss: 2.7532 - val_mae: 0.6065\n",
      "Epoch 60/5000\n",
      "10/10 [==============================] - 0s 29ms/step - loss: 729.9398 - mae: 1.6477 - val_loss: 2.9836 - val_mae: 0.7626\n",
      "Epoch 61/5000\n",
      "10/10 [==============================] - 0s 32ms/step - loss: 729.3757 - mae: 1.7323 - val_loss: 3.2401 - val_mae: 0.8874\n",
      "Epoch 62/5000\n",
      "10/10 [==============================] - 0s 30ms/step - loss: 728.8251 - mae: 1.7676 - val_loss: 3.5274 - val_mae: 0.7623\n",
      "Epoch 63/5000\n",
      "10/10 [==============================] - 0s 24ms/step - loss: 728.1161 - mae: 1.7841 - val_loss: 3.7469 - val_mae: 0.6849\n",
      "Epoch 64/5000\n",
      "10/10 [==============================] - 0s 27ms/step - loss: 727.1566 - mae: 1.7113 - val_loss: 3.6112 - val_mae: 0.7682\n",
      "Epoch 65/5000\n",
      "10/10 [==============================] - 0s 23ms/step - loss: 726.3287 - mae: 1.6519 - val_loss: 3.6690 - val_mae: 0.8841\n",
      "Epoch 66/5000\n",
      "10/10 [==============================] - 0s 29ms/step - loss: 726.5449 - mae: 1.7538 - val_loss: 3.4527 - val_mae: 0.6540\n",
      "Epoch 67/5000\n",
      "10/10 [==============================] - 0s 26ms/step - loss: 724.9118 - mae: 1.6453 - val_loss: 3.4247 - val_mae: 0.6783\n",
      "Epoch 68/5000\n",
      "10/10 [==============================] - 0s 37ms/step - loss: 724.1973 - mae: 1.7127 - val_loss: 3.8233 - val_mae: 0.8861\n",
      "Epoch 69/5000\n",
      "10/10 [==============================] - 0s 24ms/step - loss: 724.9604 - mae: 1.6995 - val_loss: 4.4311 - val_mae: 0.6987\n",
      "Epoch 70/5000\n",
      "10/10 [==============================] - 0s 24ms/step - loss: 722.6629 - mae: 1.6148 - val_loss: 4.3154 - val_mae: 0.7163\n",
      "Epoch 71/5000\n",
      "10/10 [==============================] - 0s 23ms/step - loss: 721.9193 - mae: 1.6649 - val_loss: 4.2466 - val_mae: 0.7029\n",
      "Epoch 72/5000\n",
      "10/10 [==============================] - 0s 29ms/step - loss: 721.3696 - mae: 1.7708 - val_loss: 4.1745 - val_mae: 0.6514\n",
      "Epoch 73/5000\n",
      "10/10 [==============================] - 0s 32ms/step - loss: 720.6151 - mae: 1.6502 - val_loss: 4.4820 - val_mae: 0.8367\n",
      "Epoch 74/5000\n",
      "10/10 [==============================] - 0s 38ms/step - loss: 719.9594 - mae: 1.6965 - val_loss: 4.4680 - val_mae: 0.7399\n",
      "Epoch 75/5000\n",
      "10/10 [==============================] - 0s 30ms/step - loss: 719.1712 - mae: 1.6146 - val_loss: 4.3925 - val_mae: 0.7775\n",
      "Epoch 76/5000\n",
      "10/10 [==============================] - 1s 55ms/step - loss: 718.7494 - mae: 1.8676 - val_loss: 4.4621 - val_mae: 0.8452\n",
      "Epoch 77/5000\n",
      "10/10 [==============================] - 0s 27ms/step - loss: 717.7158 - mae: 1.7642 - val_loss: 4.0697 - val_mae: 0.6133\n",
      "Epoch 78/5000\n",
      "10/10 [==============================] - 0s 34ms/step - loss: 719.9749 - mae: 1.6158 - val_loss: 6.5898 - val_mae: 0.7129\n",
      "Epoch 79/5000\n",
      "10/10 [==============================] - 0s 28ms/step - loss: 716.8036 - mae: 1.5911 - val_loss: 4.3928 - val_mae: 0.6158\n",
      "Epoch 80/5000\n",
      "10/10 [==============================] - 0s 25ms/step - loss: 716.2330 - mae: 1.5558 - val_loss: 4.8223 - val_mae: 0.7214\n",
      "Epoch 81/5000\n",
      "10/10 [==============================] - 0s 29ms/step - loss: 715.8899 - mae: 1.6936 - val_loss: 4.4451 - val_mae: 0.8368\n",
      "Epoch 82/5000\n",
      "10/10 [==============================] - 0s 26ms/step - loss: 716.1036 - mae: 1.6773 - val_loss: 4.9244 - val_mae: 0.6761\n",
      "Epoch 83/5000\n",
      "10/10 [==============================] - 1s 56ms/step - loss: 714.3856 - mae: 1.6036 - val_loss: 4.7492 - val_mae: 0.6216\n",
      "Epoch 84/5000\n",
      "10/10 [==============================] - 0s 26ms/step - loss: 713.7727 - mae: 1.6658 - val_loss: 4.9157 - val_mae: 0.7296\n",
      "Epoch 85/5000\n",
      "10/10 [==============================] - 0s 33ms/step - loss: 712.9509 - mae: 1.6042 - val_loss: 4.8234 - val_mae: 0.8143\n",
      "Epoch 86/5000\n",
      "10/10 [==============================] - 0s 22ms/step - loss: 712.3036 - mae: 1.6609 - val_loss: 4.5724 - val_mae: 0.7078\n",
      "Epoch 87/5000\n",
      "10/10 [==============================] - 0s 21ms/step - loss: 711.4256 - mae: 1.6125 - val_loss: 3.5537 - val_mae: 0.8194\n",
      "Epoch 88/5000\n",
      "10/10 [==============================] - 0s 20ms/step - loss: 711.0148 - mae: 1.7235 - val_loss: 3.5198 - val_mae: 0.5778\n",
      "Epoch 89/5000\n",
      "10/10 [==============================] - 0s 24ms/step - loss: 709.3132 - mae: 1.6483 - val_loss: 4.1526 - val_mae: 0.8221\n",
      "Epoch 90/5000\n",
      "10/10 [==============================] - 0s 21ms/step - loss: 711.2073 - mae: 1.7217 - val_loss: 8.2037 - val_mae: 0.8424\n",
      "Epoch 91/5000\n",
      "10/10 [==============================] - 0s 20ms/step - loss: 709.7097 - mae: 1.6612 - val_loss: 3.8786 - val_mae: 0.6602\n",
      "Epoch 92/5000\n",
      "10/10 [==============================] - 0s 21ms/step - loss: 706.9658 - mae: 1.5694 - val_loss: 3.8686 - val_mae: 0.7425\n",
      "Epoch 93/5000\n",
      "10/10 [==============================] - 0s 22ms/step - loss: 705.7277 - mae: 1.5542 - val_loss: 4.3058 - val_mae: 0.7260\n",
      "Epoch 94/5000\n",
      "10/10 [==============================] - 0s 23ms/step - loss: 704.5212 - mae: 1.5357 - val_loss: 4.3111 - val_mae: 0.6685\n",
      "Epoch 95/5000\n",
      "10/10 [==============================] - 0s 24ms/step - loss: 703.4780 - mae: 1.5825 - val_loss: 4.0574 - val_mae: 0.6402\n",
      "Epoch 96/5000\n",
      "10/10 [==============================] - 0s 23ms/step - loss: 703.2172 - mae: 1.5542 - val_loss: 4.1280 - val_mae: 0.6852\n",
      "Epoch 97/5000\n",
      "10/10 [==============================] - 0s 27ms/step - loss: 702.8978 - mae: 1.6000 - val_loss: 4.3172 - val_mae: 0.8025\n",
      "Epoch 98/5000\n",
      "10/10 [==============================] - 0s 28ms/step - loss: 702.3582 - mae: 1.6115 - val_loss: 4.4446 - val_mae: 0.7234\n",
      "Epoch 99/5000\n",
      "10/10 [==============================] - 0s 22ms/step - loss: 701.8193 - mae: 1.5894 - val_loss: 4.5409 - val_mae: 0.7679\n",
      "Epoch 100/5000\n",
      "10/10 [==============================] - 0s 21ms/step - loss: 701.0150 - mae: 1.6278 - val_loss: 3.9559 - val_mae: 0.6461\n",
      "Epoch 101/5000\n",
      "10/10 [==============================] - 0s 21ms/step - loss: 772.6740 - mae: 1.6898 - val_loss: 11.0626 - val_mae: 1.2449\n",
      "Epoch 102/5000\n",
      "10/10 [==============================] - 0s 21ms/step - loss: 701.0133 - mae: 1.7479 - val_loss: 6.6442 - val_mae: 0.7896\n",
      "Epoch 103/5000\n",
      "10/10 [==============================] - 0s 23ms/step - loss: 699.8794 - mae: 1.5544 - val_loss: 5.8021 - val_mae: 0.7294\n",
      "Epoch 104/5000\n",
      "10/10 [==============================] - 0s 21ms/step - loss: 699.3583 - mae: 1.5386 - val_loss: 5.7559 - val_mae: 0.7633\n",
      "Epoch 105/5000\n",
      "10/10 [==============================] - 0s 22ms/step - loss: 698.6896 - mae: 1.5059 - val_loss: 5.4041 - val_mae: 0.7233\n",
      "Epoch 106/5000\n",
      "10/10 [==============================] - 0s 24ms/step - loss: 698.0452 - mae: 1.4771 - val_loss: 5.7200 - val_mae: 0.7288\n",
      "Epoch 107/5000\n",
      "10/10 [==============================] - 0s 21ms/step - loss: 697.2836 - mae: 1.4793 - val_loss: 5.4211 - val_mae: 0.8257\n",
      "Epoch 108/5000\n",
      "10/10 [==============================] - 0s 20ms/step - loss: 696.5510 - mae: 1.5541 - val_loss: 5.4912 - val_mae: 0.7292\n",
      "Epoch 109/5000\n",
      "10/10 [==============================] - 0s 21ms/step - loss: 695.7472 - mae: 1.5406 - val_loss: 5.3160 - val_mae: 0.8130\n",
      "Epoch 110/5000\n",
      "10/10 [==============================] - 0s 21ms/step - loss: 695.0355 - mae: 1.5509 - val_loss: 5.6459 - val_mae: 0.8129\n",
      "Epoch 111/5000\n",
      "10/10 [==============================] - 0s 21ms/step - loss: 694.3524 - mae: 1.5903 - val_loss: 5.8571 - val_mae: 0.7745\n",
      "Epoch 112/5000\n",
      "10/10 [==============================] - 0s 22ms/step - loss: 693.4163 - mae: 1.5572 - val_loss: 6.0462 - val_mae: 0.8844\n",
      "Epoch 113/5000\n"
     ]
    },
    {
     "name": "stdout",
     "output_type": "stream",
     "text": [
      "10/10 [==============================] - 0s 23ms/step - loss: 692.9077 - mae: 1.6632 - val_loss: 6.0411 - val_mae: 0.7812\n",
      "Epoch 114/5000\n",
      "10/10 [==============================] - 0s 20ms/step - loss: 691.9070 - mae: 1.5233 - val_loss: 5.1467 - val_mae: 0.8033\n",
      "Epoch 115/5000\n",
      "10/10 [==============================] - 0s 19ms/step - loss: 763.7402 - mae: 1.8246 - val_loss: 17.2844 - val_mae: 1.1095\n",
      "Epoch 116/5000\n",
      "10/10 [==============================] - 0s 23ms/step - loss: 692.4886 - mae: 1.5619 - val_loss: 8.8175 - val_mae: 0.8089\n",
      "Epoch 117/5000\n",
      "10/10 [==============================] - 0s 21ms/step - loss: 690.1701 - mae: 1.4562 - val_loss: 9.6461 - val_mae: 0.8185\n",
      "Epoch 118/5000\n",
      "10/10 [==============================] - 0s 24ms/step - loss: 689.3524 - mae: 1.4345 - val_loss: 10.1654 - val_mae: 0.8733\n",
      "Epoch 119/5000\n",
      "10/10 [==============================] - 0s 30ms/step - loss: 688.5818 - mae: 1.5198 - val_loss: 11.6527 - val_mae: 0.9949\n",
      "Epoch 120/5000\n",
      "10/10 [==============================] - 0s 24ms/step - loss: 687.8786 - mae: 1.5137 - val_loss: 11.7560 - val_mae: 1.0774\n",
      "Epoch 121/5000\n",
      "10/10 [==============================] - 0s 24ms/step - loss: 687.0217 - mae: 1.5077 - val_loss: 9.4937 - val_mae: 0.8443\n",
      "Epoch 122/5000\n",
      "10/10 [==============================] - 0s 28ms/step - loss: 686.3597 - mae: 1.5950 - val_loss: 11.7553 - val_mae: 1.0993\n",
      "Epoch 123/5000\n",
      "10/10 [==============================] - 0s 28ms/step - loss: 685.4172 - mae: 1.4901 - val_loss: 9.8598 - val_mae: 0.8813\n",
      "Epoch 124/5000\n",
      "10/10 [==============================] - 0s 21ms/step - loss: 684.8907 - mae: 1.6635 - val_loss: 9.4682 - val_mae: 0.8531\n",
      "Epoch 125/5000\n",
      "10/10 [==============================] - 0s 21ms/step - loss: 683.8979 - mae: 1.4815 - val_loss: 10.8143 - val_mae: 0.8565\n",
      "Epoch 126/5000\n",
      "10/10 [==============================] - 0s 22ms/step - loss: 683.2308 - mae: 1.6489 - val_loss: 7.4235 - val_mae: 0.9342\n"
     ]
    }
   ],
   "source": [
    "# build the model!\n",
    "model = Sequential()\n",
    "model.add(Dense(1000, input_shape=(X_train.shape[1],), activation='tanh')) # (features,)\n",
    "model.add(Dense(500, activation='tanh'))\n",
    "model.add(Dense(250, activation='tanh'))\n",
    "model.add(Dense(125, activation='tanh'))\n",
    "model.add(Dense(1, activation='linear')) # output node\n",
    "model.summary() # see what your model looks like\n",
    "\n",
    "# compile the model\n",
    "model.compile(optimizer='rmsprop', loss='mse', metrics=['mae'])\n",
    "\n",
    "# early stopping callback\n",
    "es = EarlyStopping(monitor='val_loss',\n",
    "                   mode='min',\n",
    "                   patience=100,\n",
    "                   restore_best_weights = True)\n",
    "\n",
    "# fit the model!\n",
    "# attach it to a new variable called 'history' in case\n",
    "# to look at the learning curves\n",
    "history = model.fit(X_train, y_train,\n",
    "                    validation_data = (X_test, y_test),\n",
    "                    callbacks=[es],\n",
    "                    epochs=5000,\n",
    "                    batch_size=50,\n",
    "                    verbose=1)"
   ]
  },
  {
   "cell_type": "code",
   "execution_count": 102,
   "id": "1a0343fb",
   "metadata": {},
   "outputs": [
    {
     "data": {
      "image/png": "[encoded data removed]",
      "text/plain": [
       "<Figure size 640x480 with 1 Axes>"
      ]
     },
     "metadata": {},
     "output_type": "display_data"
    }
   ],
   "source": [
    "# let's see the training and validation accuracy by epoch\n",
    "history_dict = history.history\n",
    "loss_values = history_dict['loss'] # you can change this\n",
    "val_loss_values = history_dict['val_loss'] # you can also change this\n",
    "epochs = range(1, len(loss_values) + 1) # range of X (no. of epochs)\n",
    "plt.plot(epochs, loss_values, 'bo', label='Training loss')\n",
    "plt.plot(epochs, val_loss_values, 'orange', label='Validation loss')\n",
    "plt.title('Training and validation loss')\n",
    "plt.xlabel('Epochs')\n",
    "plt.ylabel('Loss')\n",
    "plt.legend()\n",
    "plt.show()"
   ]
  },
  {
   "cell_type": "code",
   "execution_count": 103,
   "id": "947dea55",
   "metadata": {},
   "outputs": [
    {
     "name": "stdout",
     "output_type": "stream",
     "text": [
      "15/15 [==============================] - 0s 6ms/step\n",
      "10/10 [==============================] - 0s 13ms/step\n"
     ]
    },
    {
     "data": {
      "image/png": "[encoded data removed]",
      "text/plain": [
       "<Figure size 640x480 with 2 Axes>"
      ]
     },
     "metadata": {},
     "output_type": "display_data"
    }
   ],
   "source": [
    "# scatterplot of actual vs. pred\n",
    "# specify the dimensions \n",
    "fig, axes = plt.subplots(1,2) # 1 row, 2 columns\n",
    "\n",
    "# this makes the individual subplots\n",
    "# Training Results\n",
    "axes[0].scatter(x=y_train, y=model.predict(X_train)) #first row, first entry (left top)\n",
    "axes[0].set_xlabel(\"Actual\", fontsize=10)\n",
    "axes[0].set_ylabel(\"Predicted\",  fontsize=10)\n",
    "axes[0].set_title(\"Training\")\n",
    "# add 45 deg line\n",
    "x = np.linspace(*axes[0].get_xlim())\n",
    "axes[0].plot(x, x, color='red')\n",
    "# Validation Results\n",
    "axes[1].scatter(x=y_test, y=model.predict(X_test)) # first row, second entry (right top)\n",
    "axes[1].set_xlabel(\"Actual\", fontsize=10)\n",
    "axes[1].set_ylabel(\"Predicted\",  fontsize=10)\n",
    "axes[1].set_title(\"Validation\")\n",
    "# add 45 deg line\n",
    "x = np.linspace(*axes[1].get_xlim())\n",
    "axes[1].plot(x, x, color='red')\n",
    "\n",
    "# tight layout\n",
    "fig.tight_layout()\n",
    "\n",
    "# show the plot\n",
    "plt.show()"
   ]
  },
  {
   "cell_type": "code",
   "execution_count": 104,
   "id": "2a41bfc8",
   "metadata": {},
   "outputs": [
    {
     "name": "stdout",
     "output_type": "stream",
     "text": [
      "10/10 [==============================] - 0s 17ms/step\n",
      "15/15 [==============================] - 0s 12ms/step\n",
      "2.009959468504657\n",
      "0.8456638048724696\n"
     ]
    }
   ],
   "source": [
    "# metrics\n",
    "pred = model.predict(X_test)\n",
    "pred\n",
    "\n",
    "trainpreds = model.predict(X_train)\n",
    "\n",
    "from sklearn.metrics import mean_absolute_error\n",
    "print(mean_absolute_error(y_train, trainpreds)) # train\n",
    "print(mean_absolute_error(y_test, pred)) # test\n"
   ]
  },
  {
   "cell_type": "code",
   "execution_count": 105,
   "id": "7b693563",
   "metadata": {},
   "outputs": [
    {
     "name": "stdout",
     "output_type": "stream",
     "text": [
      "Model: \"sequential_4\"\n",
      "_________________________________________________________________\n",
      " Layer (type)                Output Shape              Param #   \n",
      "=================================================================\n",
      " dense_15 (Dense)            (None, 1000)              18000     \n",
      "                                                                 \n",
      " dropout_3 (Dropout)         (None, 1000)              0         \n",
      "                                                                 \n",
      " dense_16 (Dense)            (None, 500)               500500    \n",
      "                                                                 \n",
      " dropout_4 (Dropout)         (None, 500)               0         \n",
      "                                                                 \n",
      " dense_17 (Dense)            (None, 250)               125250    \n",
      "                                                                 \n",
      " dropout_5 (Dropout)         (None, 250)               0         \n",
      "                                                                 \n",
      " dense_18 (Dense)            (None, 1)                 251       \n",
      "                                                                 \n",
      "=================================================================\n",
      "Total params: 644,001\n",
      "Trainable params: 644,001\n",
      "Non-trainable params: 0\n",
      "_________________________________________________________________\n"
     ]
    }
   ],
   "source": [
    "from keras.layers import Dense, Dropout\n",
    "\n",
    "# Insert the dropout layer\n",
    "model = Sequential()\n",
    "model.add(Dense(1000, input_shape=(X_train.shape[1],), activation='relu')) # (features,)\n",
    "model.add(Dropout(0.5)) # specify a percentage between 0 and 0.5, or larger\n",
    "model.add(Dense(500, activation='relu'))\n",
    "model.add(Dropout(0.5)) # specify a percentage between 0 and 0.5, or larger\n",
    "model.add(Dense(250, activation='relu'))\n",
    "model.add(Dropout(0.5)) # specify a percentage between 0 and 0.5, or larger\n",
    "model.add(Dense(1, activation='linear')) # output node\n",
    "model.summary() # see what your model looks like"
   ]
  },
  {
   "cell_type": "code",
   "execution_count": null,
   "id": "ab3992d2",
   "metadata": {},
   "outputs": [],
   "source": []
  },
  {
   "cell_type": "markdown",
   "id": "5f87643f",
   "metadata": {},
   "source": [
    "# LSTM\n"
   ]
  },
  {
   "cell_type": "code",
   "execution_count": 106,
   "id": "7a658011",
   "metadata": {},
   "outputs": [
    {
     "name": "stderr",
     "output_type": "stream",
     "text": [
      "D:\\Anaconda\\envs\\env1\\lib\\site-packages\\sklearn\\preprocessing\\_encoders.py:972: FutureWarning:\n",
      "\n",
      "`sparse` was renamed to `sparse_output` in version 1.2 and will be removed in 1.4. `sparse_output` is ignored unless you leave `sparse` to its default value.\n",
      "\n"
     ]
    },
    {
     "data": {
      "text/html": [
       "<div>\n",
       "<style scoped>\n",
       "    .dataframe tbody tr th:only-of-type {\n",
       "        vertical-align: middle;\n",
       "    }\n",
       "\n",
       "    .dataframe tbody tr th {\n",
       "        vertical-align: top;\n",
       "    }\n",
       "\n",
       "    .dataframe thead th {\n",
       "        text-align: right;\n",
       "    }\n",
       "</style>\n",
       "<table border=\"1\" class=\"dataframe\">\n",
       "  <thead>\n",
       "    <tr style=\"text-align: right;\">\n",
       "      <th></th>\n",
       "      <th>TEMP_MIN</th>\n",
       "      <th>TEMP.MAX</th>\n",
       "      <th>WATER REQUIREMENT</th>\n",
       "      <th>0</th>\n",
       "      <th>1</th>\n",
       "      <th>2</th>\n",
       "      <th>3</th>\n",
       "      <th>4</th>\n",
       "      <th>5</th>\n",
       "      <th>6</th>\n",
       "      <th>7</th>\n",
       "      <th>8</th>\n",
       "      <th>9</th>\n",
       "      <th>10</th>\n",
       "      <th>11</th>\n",
       "      <th>12</th>\n",
       "      <th>13</th>\n",
       "      <th>14</th>\n",
       "    </tr>\n",
       "  </thead>\n",
       "  <tbody>\n",
       "    <tr>\n",
       "      <th>614</th>\n",
       "      <td>20</td>\n",
       "      <td>30</td>\n",
       "      <td>5.375</td>\n",
       "      <td>0.0</td>\n",
       "      <td>0.0</td>\n",
       "      <td>1.0</td>\n",
       "      <td>0.0</td>\n",
       "      <td>1.0</td>\n",
       "      <td>0.0</td>\n",
       "      <td>0.0</td>\n",
       "      <td>0.0</td>\n",
       "      <td>0.0</td>\n",
       "      <td>0.0</td>\n",
       "      <td>1.0</td>\n",
       "      <td>0.0</td>\n",
       "      <td>1.0</td>\n",
       "      <td>0.0</td>\n",
       "      <td>0.0</td>\n",
       "    </tr>\n",
       "    <tr>\n",
       "      <th>478</th>\n",
       "      <td>40</td>\n",
       "      <td>50</td>\n",
       "      <td>8.140</td>\n",
       "      <td>1.0</td>\n",
       "      <td>0.0</td>\n",
       "      <td>0.0</td>\n",
       "      <td>0.0</td>\n",
       "      <td>1.0</td>\n",
       "      <td>0.0</td>\n",
       "      <td>0.0</td>\n",
       "      <td>0.0</td>\n",
       "      <td>1.0</td>\n",
       "      <td>0.0</td>\n",
       "      <td>0.0</td>\n",
       "      <td>1.0</td>\n",
       "      <td>0.0</td>\n",
       "      <td>0.0</td>\n",
       "      <td>0.0</td>\n",
       "    </tr>\n",
       "    <tr>\n",
       "      <th>624</th>\n",
       "      <td>10</td>\n",
       "      <td>20</td>\n",
       "      <td>2.750</td>\n",
       "      <td>1.0</td>\n",
       "      <td>0.0</td>\n",
       "      <td>0.0</td>\n",
       "      <td>0.0</td>\n",
       "      <td>0.0</td>\n",
       "      <td>1.0</td>\n",
       "      <td>0.0</td>\n",
       "      <td>1.0</td>\n",
       "      <td>0.0</td>\n",
       "      <td>0.0</td>\n",
       "      <td>0.0</td>\n",
       "      <td>0.0</td>\n",
       "      <td>0.0</td>\n",
       "      <td>0.0</td>\n",
       "      <td>1.0</td>\n",
       "    </tr>\n",
       "    <tr>\n",
       "      <th>386</th>\n",
       "      <td>10</td>\n",
       "      <td>20</td>\n",
       "      <td>7.120</td>\n",
       "      <td>0.0</td>\n",
       "      <td>1.0</td>\n",
       "      <td>0.0</td>\n",
       "      <td>0.0</td>\n",
       "      <td>0.0</td>\n",
       "      <td>0.0</td>\n",
       "      <td>1.0</td>\n",
       "      <td>0.0</td>\n",
       "      <td>1.0</td>\n",
       "      <td>0.0</td>\n",
       "      <td>0.0</td>\n",
       "      <td>0.0</td>\n",
       "      <td>1.0</td>\n",
       "      <td>0.0</td>\n",
       "      <td>0.0</td>\n",
       "    </tr>\n",
       "    <tr>\n",
       "      <th>335</th>\n",
       "      <td>40</td>\n",
       "      <td>50</td>\n",
       "      <td>1.400</td>\n",
       "      <td>0.0</td>\n",
       "      <td>1.0</td>\n",
       "      <td>0.0</td>\n",
       "      <td>0.0</td>\n",
       "      <td>0.0</td>\n",
       "      <td>0.0</td>\n",
       "      <td>1.0</td>\n",
       "      <td>1.0</td>\n",
       "      <td>0.0</td>\n",
       "      <td>0.0</td>\n",
       "      <td>0.0</td>\n",
       "      <td>0.0</td>\n",
       "      <td>0.0</td>\n",
       "      <td>0.0</td>\n",
       "      <td>1.0</td>\n",
       "    </tr>\n",
       "    <tr>\n",
       "      <th>...</th>\n",
       "      <td>...</td>\n",
       "      <td>...</td>\n",
       "      <td>...</td>\n",
       "      <td>...</td>\n",
       "      <td>...</td>\n",
       "      <td>...</td>\n",
       "      <td>...</td>\n",
       "      <td>...</td>\n",
       "      <td>...</td>\n",
       "      <td>...</td>\n",
       "      <td>...</td>\n",
       "      <td>...</td>\n",
       "      <td>...</td>\n",
       "      <td>...</td>\n",
       "      <td>...</td>\n",
       "      <td>...</td>\n",
       "      <td>...</td>\n",
       "      <td>...</td>\n",
       "    </tr>\n",
       "    <tr>\n",
       "      <th>368</th>\n",
       "      <td>10</td>\n",
       "      <td>20</td>\n",
       "      <td>2.480</td>\n",
       "      <td>0.0</td>\n",
       "      <td>1.0</td>\n",
       "      <td>0.0</td>\n",
       "      <td>0.0</td>\n",
       "      <td>0.0</td>\n",
       "      <td>1.0</td>\n",
       "      <td>0.0</td>\n",
       "      <td>0.0</td>\n",
       "      <td>0.0</td>\n",
       "      <td>1.0</td>\n",
       "      <td>0.0</td>\n",
       "      <td>0.0</td>\n",
       "      <td>0.0</td>\n",
       "      <td>1.0</td>\n",
       "      <td>0.0</td>\n",
       "    </tr>\n",
       "    <tr>\n",
       "      <th>74</th>\n",
       "      <td>30</td>\n",
       "      <td>40</td>\n",
       "      <td>9.700</td>\n",
       "      <td>0.0</td>\n",
       "      <td>0.0</td>\n",
       "      <td>0.0</td>\n",
       "      <td>1.0</td>\n",
       "      <td>0.0</td>\n",
       "      <td>0.0</td>\n",
       "      <td>1.0</td>\n",
       "      <td>0.0</td>\n",
       "      <td>1.0</td>\n",
       "      <td>0.0</td>\n",
       "      <td>0.0</td>\n",
       "      <td>1.0</td>\n",
       "      <td>0.0</td>\n",
       "      <td>0.0</td>\n",
       "      <td>0.0</td>\n",
       "    </tr>\n",
       "    <tr>\n",
       "      <th>104</th>\n",
       "      <td>30</td>\n",
       "      <td>40</td>\n",
       "      <td>6.500</td>\n",
       "      <td>0.0</td>\n",
       "      <td>0.0</td>\n",
       "      <td>0.0</td>\n",
       "      <td>1.0</td>\n",
       "      <td>0.0</td>\n",
       "      <td>1.0</td>\n",
       "      <td>0.0</td>\n",
       "      <td>0.0</td>\n",
       "      <td>1.0</td>\n",
       "      <td>0.0</td>\n",
       "      <td>0.0</td>\n",
       "      <td>1.0</td>\n",
       "      <td>0.0</td>\n",
       "      <td>0.0</td>\n",
       "      <td>0.0</td>\n",
       "    </tr>\n",
       "    <tr>\n",
       "      <th>595</th>\n",
       "      <td>10</td>\n",
       "      <td>20</td>\n",
       "      <td>0.200</td>\n",
       "      <td>0.0</td>\n",
       "      <td>0.0</td>\n",
       "      <td>1.0</td>\n",
       "      <td>0.0</td>\n",
       "      <td>0.0</td>\n",
       "      <td>1.0</td>\n",
       "      <td>0.0</td>\n",
       "      <td>0.0</td>\n",
       "      <td>0.0</td>\n",
       "      <td>0.0</td>\n",
       "      <td>1.0</td>\n",
       "      <td>0.0</td>\n",
       "      <td>1.0</td>\n",
       "      <td>0.0</td>\n",
       "      <td>0.0</td>\n",
       "    </tr>\n",
       "    <tr>\n",
       "      <th>320</th>\n",
       "      <td>10</td>\n",
       "      <td>20</td>\n",
       "      <td>6.200</td>\n",
       "      <td>0.0</td>\n",
       "      <td>0.0</td>\n",
       "      <td>0.0</td>\n",
       "      <td>1.0</td>\n",
       "      <td>0.0</td>\n",
       "      <td>1.0</td>\n",
       "      <td>0.0</td>\n",
       "      <td>0.0</td>\n",
       "      <td>0.0</td>\n",
       "      <td>0.0</td>\n",
       "      <td>1.0</td>\n",
       "      <td>0.0</td>\n",
       "      <td>1.0</td>\n",
       "      <td>0.0</td>\n",
       "      <td>0.0</td>\n",
       "    </tr>\n",
       "  </tbody>\n",
       "</table>\n",
       "<p>768 rows × 18 columns</p>\n",
       "</div>"
      ],
      "text/plain": [
       "     TEMP_MIN  TEMP.MAX  WATER REQUIREMENT    0    1    2    3    4    5    6  \\\n",
       "614        20        30              5.375  0.0  0.0  1.0  0.0  1.0  0.0  0.0   \n",
       "478        40        50              8.140  1.0  0.0  0.0  0.0  1.0  0.0  0.0   \n",
       "624        10        20              2.750  1.0  0.0  0.0  0.0  0.0  1.0  0.0   \n",
       "386        10        20              7.120  0.0  1.0  0.0  0.0  0.0  0.0  1.0   \n",
       "335        40        50              1.400  0.0  1.0  0.0  0.0  0.0  0.0  1.0   \n",
       "..        ...       ...                ...  ...  ...  ...  ...  ...  ...  ...   \n",
       "368        10        20              2.480  0.0  1.0  0.0  0.0  0.0  1.0  0.0   \n",
       "74         30        40              9.700  0.0  0.0  0.0  1.0  0.0  0.0  1.0   \n",
       "104        30        40              6.500  0.0  0.0  0.0  1.0  0.0  1.0  0.0   \n",
       "595        10        20              0.200  0.0  0.0  1.0  0.0  0.0  1.0  0.0   \n",
       "320        10        20              6.200  0.0  0.0  0.0  1.0  0.0  1.0  0.0   \n",
       "\n",
       "       7    8    9   10   11   12   13   14  \n",
       "614  0.0  0.0  0.0  1.0  0.0  1.0  0.0  0.0  \n",
       "478  0.0  1.0  0.0  0.0  1.0  0.0  0.0  0.0  \n",
       "624  1.0  0.0  0.0  0.0  0.0  0.0  0.0  1.0  \n",
       "386  0.0  1.0  0.0  0.0  0.0  1.0  0.0  0.0  \n",
       "335  1.0  0.0  0.0  0.0  0.0  0.0  0.0  1.0  \n",
       "..   ...  ...  ...  ...  ...  ...  ...  ...  \n",
       "368  0.0  0.0  1.0  0.0  0.0  0.0  1.0  0.0  \n",
       "74   0.0  1.0  0.0  0.0  1.0  0.0  0.0  0.0  \n",
       "104  0.0  1.0  0.0  0.0  1.0  0.0  0.0  0.0  \n",
       "595  0.0  0.0  0.0  1.0  0.0  1.0  0.0  0.0  \n",
       "320  0.0  0.0  0.0  1.0  0.0  1.0  0.0  0.0  \n",
       "\n",
       "[768 rows x 18 columns]"
      ]
     },
     "execution_count": 106,
     "metadata": {},
     "output_type": "execute_result"
    }
   ],
   "source": [
    "categorical_features = ['CROP TYPE', 'SOIL TYPE', 'REGION', 'WEATHER']\n",
    "encoder = OneHotEncoder(sparse=False)\n",
    "encoded_data = pd.DataFrame(encoder.fit_transform(df[categorical_features]))\n",
    "data = pd.concat([df.drop(categorical_features, axis=1), encoded_data], axis=1)\n",
    "data"
   ]
  },
  {
   "cell_type": "code",
   "execution_count": 107,
   "id": "0be59ec6",
   "metadata": {},
   "outputs": [],
   "source": [
    "look_back =  30 \n",
    "sequences = []\n",
    "def create_sequences(data, look_back):\n",
    "    for i in range(len(data)-look_back-1):\n",
    "        seq_in = data.iloc[i:i+look_back, 1:]  # Exclude first column (NO.)\n",
    "        seq_out = data.iloc[i+look_back, 0]  # Target water requirement\n",
    "        sequences.append((seq_in, seq_out))\n",
    "    return sequences"
   ]
  },
  {
   "cell_type": "code",
   "execution_count": 108,
   "id": "4c9c247a",
   "metadata": {},
   "outputs": [
    {
     "data": {
      "text/plain": [
       "([(     TEMP.MAX  WATER REQUIREMENT    0    1    2    3    4    5    6    7    8  \\\n",
       "   614        30              5.375  0.0  0.0  1.0  0.0  1.0  0.0  0.0  0.0  0.0   \n",
       "   478        50              8.140  1.0  0.0  0.0  0.0  1.0  0.0  0.0  0.0  1.0   \n",
       "   624        20              2.750  1.0  0.0  0.0  0.0  0.0  1.0  0.0  1.0  0.0   \n",
       "   386        20              7.120  0.0  1.0  0.0  0.0  0.0  0.0  1.0  0.0  1.0   \n",
       "   335        50              1.400  0.0  1.0  0.0  0.0  0.0  0.0  1.0  1.0  0.0   \n",
       "   85         30              8.120  0.0  0.0  1.0  0.0  1.0  0.0  0.0  0.0  0.0   \n",
       "   454        30              6.680  1.0  0.0  0.0  0.0  0.0  0.0  1.0  0.0  1.0   \n",
       "   527        50              0.500  0.0  1.0  0.0  0.0  0.0  1.0  0.0  0.0  1.0   \n",
       "   238        50             12.350  0.0  1.0  0.0  0.0  1.0  0.0  0.0  0.0  0.0   \n",
       "   358        30              6.060  0.0  1.0  0.0  0.0  0.0  1.0  0.0  0.0  1.0   \n",
       "   59         40              0.800  1.0  0.0  0.0  0.0  0.0  1.0  0.0  0.0  0.0   \n",
       "   505        40              6.020  1.0  0.0  0.0  0.0  0.0  0.0  1.0  0.0  0.0   \n",
       "   619        40              0.300  0.0  1.0  0.0  0.0  0.0  0.0  1.0  0.0  1.0   \n",
       "   748        50              4.625  1.0  0.0  0.0  0.0  0.0  0.0  1.0  0.0  0.0   \n",
       "   253        50             11.200  1.0  0.0  0.0  0.0  0.0  0.0  1.0  0.0  0.0   \n",
       "   216        40             11.600  1.0  0.0  0.0  0.0  0.0  1.0  0.0  0.0  0.0   \n",
       "   659        20              0.100  1.0  0.0  0.0  0.0  0.0  1.0  0.0  0.0  0.0   \n",
       "   356        30              5.060  0.0  0.0  0.0  1.0  0.0  0.0  1.0  0.0  0.0   \n",
       "   288        20              5.880  0.0  0.0  1.0  0.0  0.0  0.0  1.0  0.0  1.0   \n",
       "   202        40             13.400  0.0  0.0  1.0  0.0  0.0  0.0  1.0  0.0  0.0   \n",
       "   362        40              7.060  0.0  0.0  1.0  0.0  0.0  0.0  1.0  0.0  1.0   \n",
       "   430        50              8.860  1.0  0.0  0.0  0.0  0.0  1.0  0.0  0.0  0.0   \n",
       "   327        30              0.800  0.0  1.0  0.0  0.0  0.0  0.0  1.0  0.0  0.0   \n",
       "   640        20              3.250  0.0  1.0  0.0  0.0  0.0  0.0  1.0  0.0  1.0   \n",
       "   20         30              8.800  0.0  0.0  0.0  1.0  0.0  0.0  1.0  0.0  0.0   \n",
       "   407        30              0.500  0.0  1.0  0.0  0.0  0.0  0.0  1.0  0.0  1.0   \n",
       "   352        20              4.000  0.0  0.0  0.0  1.0  0.0  1.0  0.0  1.0  0.0   \n",
       "   602        40              7.125  1.0  0.0  0.0  0.0  0.0  1.0  0.0  0.0  1.0   \n",
       "   230        30             10.500  1.0  0.0  0.0  0.0  1.0  0.0  0.0  0.0  1.0   \n",
       "   635        40              0.200  0.0  0.0  1.0  0.0  0.0  0.0  1.0  0.0  0.0   \n",
       "   \n",
       "          9   10   11   12   13   14  \n",
       "   614  0.0  1.0  0.0  1.0  0.0  0.0  \n",
       "   478  0.0  0.0  1.0  0.0  0.0  0.0  \n",
       "   624  0.0  0.0  0.0  0.0  0.0  1.0  \n",
       "   386  0.0  0.0  0.0  1.0  0.0  0.0  \n",
       "   335  0.0  0.0  0.0  0.0  0.0  1.0  \n",
       "   85   0.0  1.0  1.0  0.0  0.0  0.0  \n",
       "   454  0.0  0.0  1.0  0.0  0.0  0.0  \n",
       "   527  0.0  0.0  0.0  0.0  1.0  0.0  \n",
       "   238  1.0  0.0  1.0  0.0  0.0  0.0  \n",
       "   358  0.0  0.0  0.0  1.0  0.0  0.0  \n",
       "   59   0.0  1.0  0.0  1.0  0.0  0.0  \n",
       "   505  0.0  1.0  1.0  0.0  0.0  0.0  \n",
       "   619  0.0  0.0  0.0  0.0  0.0  1.0  \n",
       "   748  0.0  1.0  0.0  0.0  0.0  1.0  \n",
       "   253  1.0  0.0  0.0  0.0  1.0  0.0  \n",
       "   216  0.0  1.0  0.0  1.0  0.0  0.0  \n",
       "   659  1.0  0.0  0.0  1.0  0.0  0.0  \n",
       "   356  0.0  1.0  1.0  0.0  0.0  0.0  \n",
       "   288  0.0  0.0  0.0  0.0  1.0  0.0  \n",
       "   202  1.0  0.0  0.0  1.0  0.0  0.0  \n",
       "   362  0.0  0.0  0.0  0.0  0.0  1.0  \n",
       "   430  1.0  0.0  0.0  0.0  0.0  1.0  \n",
       "   327  0.0  1.0  0.0  1.0  0.0  0.0  \n",
       "   640  0.0  0.0  0.0  0.0  1.0  0.0  \n",
       "   20   0.0  1.0  0.0  0.0  0.0  1.0  \n",
       "   407  0.0  0.0  1.0  0.0  0.0  0.0  \n",
       "   352  0.0  0.0  0.0  0.0  0.0  1.0  \n",
       "   602  0.0  0.0  0.0  0.0  0.0  1.0  \n",
       "   230  0.0  0.0  0.0  0.0  0.0  1.0  \n",
       "   635  0.0  1.0  0.0  1.0  0.0  0.0  ,\n",
       "   20),\n",
       "  (     TEMP.MAX  WATER REQUIREMENT    0    1    2    3    4    5    6    7    8  \\\n",
       "   478        50              8.140  1.0  0.0  0.0  0.0  1.0  0.0  0.0  0.0  1.0   \n",
       "   624        20              2.750  1.0  0.0  0.0  0.0  0.0  1.0  0.0  1.0  0.0   \n",
       "   386        20              7.120  0.0  1.0  0.0  0.0  0.0  0.0  1.0  0.0  1.0   \n",
       "   335        50              1.400  0.0  1.0  0.0  0.0  0.0  0.0  1.0  1.0  0.0   \n",
       "   85         30              8.120  0.0  0.0  1.0  0.0  1.0  0.0  0.0  0.0  0.0   \n",
       "   454        30              6.680  1.0  0.0  0.0  0.0  0.0  0.0  1.0  0.0  1.0   \n",
       "   527        50              0.500  0.0  1.0  0.0  0.0  0.0  1.0  0.0  0.0  1.0   \n",
       "   238        50             12.350  0.0  1.0  0.0  0.0  1.0  0.0  0.0  0.0  0.0   \n",
       "   358        30              6.060  0.0  1.0  0.0  0.0  0.0  1.0  0.0  0.0  1.0   \n",
       "   59         40              0.800  1.0  0.0  0.0  0.0  0.0  1.0  0.0  0.0  0.0   \n",
       "   505        40              6.020  1.0  0.0  0.0  0.0  0.0  0.0  1.0  0.0  0.0   \n",
       "   619        40              0.300  0.0  1.0  0.0  0.0  0.0  0.0  1.0  0.0  1.0   \n",
       "   748        50              4.625  1.0  0.0  0.0  0.0  0.0  0.0  1.0  0.0  0.0   \n",
       "   253        50             11.200  1.0  0.0  0.0  0.0  0.0  0.0  1.0  0.0  0.0   \n",
       "   216        40             11.600  1.0  0.0  0.0  0.0  0.0  1.0  0.0  0.0  0.0   \n",
       "   659        20              0.100  1.0  0.0  0.0  0.0  0.0  1.0  0.0  0.0  0.0   \n",
       "   356        30              5.060  0.0  0.0  0.0  1.0  0.0  0.0  1.0  0.0  0.0   \n",
       "   288        20              5.880  0.0  0.0  1.0  0.0  0.0  0.0  1.0  0.0  1.0   \n",
       "   202        40             13.400  0.0  0.0  1.0  0.0  0.0  0.0  1.0  0.0  0.0   \n",
       "   362        40              7.060  0.0  0.0  1.0  0.0  0.0  0.0  1.0  0.0  1.0   \n",
       "   430        50              8.860  1.0  0.0  0.0  0.0  0.0  1.0  0.0  0.0  0.0   \n",
       "   327        30              0.800  0.0  1.0  0.0  0.0  0.0  0.0  1.0  0.0  0.0   \n",
       "   640        20              3.250  0.0  1.0  0.0  0.0  0.0  0.0  1.0  0.0  1.0   \n",
       "   20         30              8.800  0.0  0.0  0.0  1.0  0.0  0.0  1.0  0.0  0.0   \n",
       "   407        30              0.500  0.0  1.0  0.0  0.0  0.0  0.0  1.0  0.0  1.0   \n",
       "   352        20              4.000  0.0  0.0  0.0  1.0  0.0  1.0  0.0  1.0  0.0   \n",
       "   602        40              7.125  1.0  0.0  0.0  0.0  0.0  1.0  0.0  0.0  1.0   \n",
       "   230        30             10.500  1.0  0.0  0.0  0.0  1.0  0.0  0.0  0.0  1.0   \n",
       "   635        40              0.200  0.0  0.0  1.0  0.0  0.0  0.0  1.0  0.0  0.0   \n",
       "   148        30              5.300  1.0  0.0  0.0  0.0  0.0  0.0  1.0  0.0  1.0   \n",
       "   \n",
       "          9   10   11   12   13   14  \n",
       "   478  0.0  0.0  1.0  0.0  0.0  0.0  \n",
       "   624  0.0  0.0  0.0  0.0  0.0  1.0  \n",
       "   386  0.0  0.0  0.0  1.0  0.0  0.0  \n",
       "   335  0.0  0.0  0.0  0.0  0.0  1.0  \n",
       "   85   0.0  1.0  1.0  0.0  0.0  0.0  \n",
       "   454  0.0  0.0  1.0  0.0  0.0  0.0  \n",
       "   527  0.0  0.0  0.0  0.0  1.0  0.0  \n",
       "   238  1.0  0.0  1.0  0.0  0.0  0.0  \n",
       "   358  0.0  0.0  0.0  1.0  0.0  0.0  \n",
       "   59   0.0  1.0  0.0  1.0  0.0  0.0  \n",
       "   505  0.0  1.0  1.0  0.0  0.0  0.0  \n",
       "   619  0.0  0.0  0.0  0.0  0.0  1.0  \n",
       "   748  0.0  1.0  0.0  0.0  0.0  1.0  \n",
       "   253  1.0  0.0  0.0  0.0  1.0  0.0  \n",
       "   216  0.0  1.0  0.0  1.0  0.0  0.0  \n",
       "   659  1.0  0.0  0.0  1.0  0.0  0.0  \n",
       "   356  0.0  1.0  1.0  0.0  0.0  0.0  \n",
       "   288  0.0  0.0  0.0  0.0  1.0  0.0  \n",
       "   202  1.0  0.0  0.0  1.0  0.0  0.0  \n",
       "   362  0.0  0.0  0.0  0.0  0.0  1.0  \n",
       "   430  1.0  0.0  0.0  0.0  0.0  1.0  \n",
       "   327  0.0  1.0  0.0  1.0  0.0  0.0  \n",
       "   640  0.0  0.0  0.0  0.0  1.0  0.0  \n",
       "   20   0.0  1.0  0.0  0.0  0.0  1.0  \n",
       "   407  0.0  0.0  1.0  0.0  0.0  0.0  \n",
       "   352  0.0  0.0  0.0  0.0  0.0  1.0  \n",
       "   602  0.0  0.0  0.0  0.0  0.0  1.0  \n",
       "   230  0.0  0.0  0.0  0.0  0.0  1.0  \n",
       "   635  0.0  1.0  0.0  1.0  0.0  0.0  \n",
       "   148  0.0  0.0  0.0  1.0  0.0  0.0  ,\n",
       "   30),\n",
       "  (     TEMP.MAX  WATER REQUIREMENT    0    1    2    3    4    5    6    7    8  \\\n",
       "   624        20              2.750  1.0  0.0  0.0  0.0  0.0  1.0  0.0  1.0  0.0   \n",
       "   386        20              7.120  0.0  1.0  0.0  0.0  0.0  0.0  1.0  0.0  1.0   \n",
       "   335        50              1.400  0.0  1.0  0.0  0.0  0.0  0.0  1.0  1.0  0.0   \n",
       "   85         30              8.120  0.0  0.0  1.0  0.0  1.0  0.0  0.0  0.0  0.0   \n",
       "   454        30              6.680  1.0  0.0  0.0  0.0  0.0  0.0  1.0  0.0  1.0   \n",
       "   527        50              0.500  0.0  1.0  0.0  0.0  0.0  1.0  0.0  0.0  1.0   \n",
       "   238        50             12.350  0.0  1.0  0.0  0.0  1.0  0.0  0.0  0.0  0.0   \n",
       "   358        30              6.060  0.0  1.0  0.0  0.0  0.0  1.0  0.0  0.0  1.0   \n",
       "   59         40              0.800  1.0  0.0  0.0  0.0  0.0  1.0  0.0  0.0  0.0   \n",
       "   505        40              6.020  1.0  0.0  0.0  0.0  0.0  0.0  1.0  0.0  0.0   \n",
       "   619        40              0.300  0.0  1.0  0.0  0.0  0.0  0.0  1.0  0.0  1.0   \n",
       "   748        50              4.625  1.0  0.0  0.0  0.0  0.0  0.0  1.0  0.0  0.0   \n",
       "   253        50             11.200  1.0  0.0  0.0  0.0  0.0  0.0  1.0  0.0  0.0   \n",
       "   216        40             11.600  1.0  0.0  0.0  0.0  0.0  1.0  0.0  0.0  0.0   \n",
       "   659        20              0.100  1.0  0.0  0.0  0.0  0.0  1.0  0.0  0.0  0.0   \n",
       "   356        30              5.060  0.0  0.0  0.0  1.0  0.0  0.0  1.0  0.0  0.0   \n",
       "   288        20              5.880  0.0  0.0  1.0  0.0  0.0  0.0  1.0  0.0  1.0   \n",
       "   202        40             13.400  0.0  0.0  1.0  0.0  0.0  0.0  1.0  0.0  0.0   \n",
       "   362        40              7.060  0.0  0.0  1.0  0.0  0.0  0.0  1.0  0.0  1.0   \n",
       "   430        50              8.860  1.0  0.0  0.0  0.0  0.0  1.0  0.0  0.0  0.0   \n",
       "   327        30              0.800  0.0  1.0  0.0  0.0  0.0  0.0  1.0  0.0  0.0   \n",
       "   640        20              3.250  0.0  1.0  0.0  0.0  0.0  0.0  1.0  0.0  1.0   \n",
       "   20         30              8.800  0.0  0.0  0.0  1.0  0.0  0.0  1.0  0.0  0.0   \n",
       "   407        30              0.500  0.0  1.0  0.0  0.0  0.0  0.0  1.0  0.0  1.0   \n",
       "   352        20              4.000  0.0  0.0  0.0  1.0  0.0  1.0  0.0  1.0  0.0   \n",
       "   602        40              7.125  1.0  0.0  0.0  0.0  0.0  1.0  0.0  0.0  1.0   \n",
       "   230        30             10.500  1.0  0.0  0.0  0.0  1.0  0.0  0.0  0.0  1.0   \n",
       "   635        40              0.200  0.0  0.0  1.0  0.0  0.0  0.0  1.0  0.0  0.0   \n",
       "   148        30              5.300  1.0  0.0  0.0  0.0  0.0  0.0  1.0  0.0  1.0   \n",
       "   425        40              8.360  0.0  0.0  0.0  1.0  0.0  0.0  1.0  1.0  0.0   \n",
       "   \n",
       "          9   10   11   12   13   14  \n",
       "   624  0.0  0.0  0.0  0.0  0.0  1.0  \n",
       "   386  0.0  0.0  0.0  1.0  0.0  0.0  \n",
       "   335  0.0  0.0  0.0  0.0  0.0  1.0  \n",
       "   85   0.0  1.0  1.0  0.0  0.0  0.0  \n",
       "   454  0.0  0.0  1.0  0.0  0.0  0.0  \n",
       "   527  0.0  0.0  0.0  0.0  1.0  0.0  \n",
       "   238  1.0  0.0  1.0  0.0  0.0  0.0  \n",
       "   358  0.0  0.0  0.0  1.0  0.0  0.0  \n",
       "   59   0.0  1.0  0.0  1.0  0.0  0.0  \n",
       "   505  0.0  1.0  1.0  0.0  0.0  0.0  \n",
       "   619  0.0  0.0  0.0  0.0  0.0  1.0  \n",
       "   748  0.0  1.0  0.0  0.0  0.0  1.0  \n",
       "   253  1.0  0.0  0.0  0.0  1.0  0.0  \n",
       "   216  0.0  1.0  0.0  1.0  0.0  0.0  \n",
       "   659  1.0  0.0  0.0  1.0  0.0  0.0  \n",
       "   356  0.0  1.0  1.0  0.0  0.0  0.0  \n",
       "   288  0.0  0.0  0.0  0.0  1.0  0.0  \n",
       "   202  1.0  0.0  0.0  1.0  0.0  0.0  \n",
       "   362  0.0  0.0  0.0  0.0  0.0  1.0  \n",
       "   430  1.0  0.0  0.0  0.0  0.0  1.0  \n",
       "   327  0.0  1.0  0.0  1.0  0.0  0.0  \n",
       "   640  0.0  0.0  0.0  0.0  1.0  0.0  \n",
       "   20   0.0  1.0  0.0  0.0  0.0  1.0  \n",
       "   407  0.0  0.0  1.0  0.0  0.0  0.0  \n",
       "   352  0.0  0.0  0.0  0.0  0.0  1.0  \n",
       "   602  0.0  0.0  0.0  0.0  0.0  1.0  \n",
       "   230  0.0  0.0  0.0  0.0  0.0  1.0  \n",
       "   635  0.0  1.0  0.0  1.0  0.0  0.0  \n",
       "   148  0.0  0.0  0.0  1.0  0.0  0.0  \n",
       "   425  0.0  0.0  0.0  0.0  1.0  0.0  ,\n",
       "   40),\n",
       "  (     TEMP.MAX  WATER REQUIREMENT    0    1    2    3    4    5    6    7    8  \\\n",
       "   386        20              7.120  0.0  1.0  0.0  0.0  0.0  0.0  1.0  0.0  1.0   \n",
       "   335        50              1.400  0.0  1.0  0.0  0.0  0.0  0.0  1.0  1.0  0.0   \n",
       "   85         30              8.120  0.0  0.0  1.0  0.0  1.0  0.0  0.0  0.0  0.0   \n",
       "   454        30              6.680  1.0  0.0  0.0  0.0  0.0  0.0  1.0  0.0  1.0   \n",
       "   527        50              0.500  0.0  1.0  0.0  0.0  0.0  1.0  0.0  0.0  1.0   \n",
       "   238        50             12.350  0.0  1.0  0.0  0.0  1.0  0.0  0.0  0.0  0.0   \n",
       "   358        30              6.060  0.0  1.0  0.0  0.0  0.0  1.0  0.0  0.0  1.0   \n",
       "   59         40              0.800  1.0  0.0  0.0  0.0  0.0  1.0  0.0  0.0  0.0   \n",
       "   505        40              6.020  1.0  0.0  0.0  0.0  0.0  0.0  1.0  0.0  0.0   \n",
       "   619        40              0.300  0.0  1.0  0.0  0.0  0.0  0.0  1.0  0.0  1.0   \n",
       "   748        50              4.625  1.0  0.0  0.0  0.0  0.0  0.0  1.0  0.0  0.0   \n",
       "   253        50             11.200  1.0  0.0  0.0  0.0  0.0  0.0  1.0  0.0  0.0   \n",
       "   216        40             11.600  1.0  0.0  0.0  0.0  0.0  1.0  0.0  0.0  0.0   \n",
       "   659        20              0.100  1.0  0.0  0.0  0.0  0.0  1.0  0.0  0.0  0.0   \n",
       "   356        30              5.060  0.0  0.0  0.0  1.0  0.0  0.0  1.0  0.0  0.0   \n",
       "   288        20              5.880  0.0  0.0  1.0  0.0  0.0  0.0  1.0  0.0  1.0   \n",
       "   202        40             13.400  0.0  0.0  1.0  0.0  0.0  0.0  1.0  0.0  0.0   \n",
       "   362        40              7.060  0.0  0.0  1.0  0.0  0.0  0.0  1.0  0.0  1.0   \n",
       "   430        50              8.860  1.0  0.0  0.0  0.0  0.0  1.0  0.0  0.0  0.0   \n",
       "   327        30              0.800  0.0  1.0  0.0  0.0  0.0  0.0  1.0  0.0  0.0   \n",
       "   640        20              3.250  0.0  1.0  0.0  0.0  0.0  0.0  1.0  0.0  1.0   \n",
       "   20         30              8.800  0.0  0.0  0.0  1.0  0.0  0.0  1.0  0.0  0.0   \n",
       "   407        30              0.500  0.0  1.0  0.0  0.0  0.0  0.0  1.0  0.0  1.0   \n",
       "   352        20              4.000  0.0  0.0  0.0  1.0  0.0  1.0  0.0  1.0  0.0   \n",
       "   602        40              7.125  1.0  0.0  0.0  0.0  0.0  1.0  0.0  0.0  1.0   \n",
       "   230        30             10.500  1.0  0.0  0.0  0.0  1.0  0.0  0.0  0.0  1.0   \n",
       "   635        40              0.200  0.0  0.0  1.0  0.0  0.0  0.0  1.0  0.0  0.0   \n",
       "   148        30              5.300  1.0  0.0  0.0  0.0  0.0  0.0  1.0  0.0  1.0   \n",
       "   425        40              8.360  0.0  0.0  0.0  1.0  0.0  0.0  1.0  1.0  0.0   \n",
       "   637        50              7.250  1.0  0.0  0.0  0.0  1.0  0.0  0.0  1.0  0.0   \n",
       "   \n",
       "          9   10   11   12   13   14  \n",
       "   386  0.0  0.0  0.0  1.0  0.0  0.0  \n",
       "   335  0.0  0.0  0.0  0.0  0.0  1.0  \n",
       "   85   0.0  1.0  1.0  0.0  0.0  0.0  \n",
       "   454  0.0  0.0  1.0  0.0  0.0  0.0  \n",
       "   527  0.0  0.0  0.0  0.0  1.0  0.0  \n",
       "   238  1.0  0.0  1.0  0.0  0.0  0.0  \n",
       "   358  0.0  0.0  0.0  1.0  0.0  0.0  \n",
       "   59   0.0  1.0  0.0  1.0  0.0  0.0  \n",
       "   505  0.0  1.0  1.0  0.0  0.0  0.0  \n",
       "   619  0.0  0.0  0.0  0.0  0.0  1.0  \n",
       "   748  0.0  1.0  0.0  0.0  0.0  1.0  \n",
       "   253  1.0  0.0  0.0  0.0  1.0  0.0  \n",
       "   216  0.0  1.0  0.0  1.0  0.0  0.0  \n",
       "   659  1.0  0.0  0.0  1.0  0.0  0.0  \n",
       "   356  0.0  1.0  1.0  0.0  0.0  0.0  \n",
       "   288  0.0  0.0  0.0  0.0  1.0  0.0  \n",
       "   202  1.0  0.0  0.0  1.0  0.0  0.0  \n",
       "   362  0.0  0.0  0.0  0.0  0.0  1.0  \n",
       "   430  1.0  0.0  0.0  0.0  0.0  1.0  \n",
       "   327  0.0  1.0  0.0  1.0  0.0  0.0  \n",
       "   640  0.0  0.0  0.0  0.0  1.0  0.0  \n",
       "   20   0.0  1.0  0.0  0.0  0.0  1.0  \n",
       "   407  0.0  0.0  1.0  0.0  0.0  0.0  \n",
       "   352  0.0  0.0  0.0  0.0  0.0  1.0  \n",
       "   602  0.0  0.0  0.0  0.0  0.0  1.0  \n",
       "   230  0.0  0.0  0.0  0.0  0.0  1.0  \n",
       "   635  0.0  1.0  0.0  1.0  0.0  0.0  \n",
       "   148  0.0  0.0  0.0  1.0  0.0  0.0  \n",
       "   425  0.0  0.0  0.0  0.0  1.0  0.0  \n",
       "   637  0.0  0.0  0.0  0.0  1.0  0.0  ,\n",
       "   30),\n",
       "  (     TEMP.MAX  WATER REQUIREMENT    0    1    2    3    4    5    6    7    8  \\\n",
       "   335        50              1.400  0.0  1.0  0.0  0.0  0.0  0.0  1.0  1.0  0.0   \n",
       "   85         30              8.120  0.0  0.0  1.0  0.0  1.0  0.0  0.0  0.0  0.0   \n",
       "   454        30              6.680  1.0  0.0  0.0  0.0  0.0  0.0  1.0  0.0  1.0   \n",
       "   527        50              0.500  0.0  1.0  0.0  0.0  0.0  1.0  0.0  0.0  1.0   \n",
       "   238        50             12.350  0.0  1.0  0.0  0.0  1.0  0.0  0.0  0.0  0.0   \n",
       "   358        30              6.060  0.0  1.0  0.0  0.0  0.0  1.0  0.0  0.0  1.0   \n",
       "   59         40              0.800  1.0  0.0  0.0  0.0  0.0  1.0  0.0  0.0  0.0   \n",
       "   505        40              6.020  1.0  0.0  0.0  0.0  0.0  0.0  1.0  0.0  0.0   \n",
       "   619        40              0.300  0.0  1.0  0.0  0.0  0.0  0.0  1.0  0.0  1.0   \n",
       "   748        50              4.625  1.0  0.0  0.0  0.0  0.0  0.0  1.0  0.0  0.0   \n",
       "   253        50             11.200  1.0  0.0  0.0  0.0  0.0  0.0  1.0  0.0  0.0   \n",
       "   216        40             11.600  1.0  0.0  0.0  0.0  0.0  1.0  0.0  0.0  0.0   \n",
       "   659        20              0.100  1.0  0.0  0.0  0.0  0.0  1.0  0.0  0.0  0.0   \n",
       "   356        30              5.060  0.0  0.0  0.0  1.0  0.0  0.0  1.0  0.0  0.0   \n",
       "   288        20              5.880  0.0  0.0  1.0  0.0  0.0  0.0  1.0  0.0  1.0   \n",
       "   202        40             13.400  0.0  0.0  1.0  0.0  0.0  0.0  1.0  0.0  0.0   \n",
       "   362        40              7.060  0.0  0.0  1.0  0.0  0.0  0.0  1.0  0.0  1.0   \n",
       "   430        50              8.860  1.0  0.0  0.0  0.0  0.0  1.0  0.0  0.0  0.0   \n",
       "   327        30              0.800  0.0  1.0  0.0  0.0  0.0  0.0  1.0  0.0  0.0   \n",
       "   640        20              3.250  0.0  1.0  0.0  0.0  0.0  0.0  1.0  0.0  1.0   \n",
       "   20         30              8.800  0.0  0.0  0.0  1.0  0.0  0.0  1.0  0.0  0.0   \n",
       "   407        30              0.500  0.0  1.0  0.0  0.0  0.0  0.0  1.0  0.0  1.0   \n",
       "   352        20              4.000  0.0  0.0  0.0  1.0  0.0  1.0  0.0  1.0  0.0   \n",
       "   602        40              7.125  1.0  0.0  0.0  0.0  0.0  1.0  0.0  0.0  1.0   \n",
       "   230        30             10.500  1.0  0.0  0.0  0.0  1.0  0.0  0.0  0.0  1.0   \n",
       "   635        40              0.200  0.0  0.0  1.0  0.0  0.0  0.0  1.0  0.0  0.0   \n",
       "   148        30              5.300  1.0  0.0  0.0  0.0  0.0  0.0  1.0  0.0  1.0   \n",
       "   425        40              8.360  0.0  0.0  0.0  1.0  0.0  0.0  1.0  1.0  0.0   \n",
       "   637        50              7.250  1.0  0.0  0.0  0.0  1.0  0.0  0.0  1.0  0.0   \n",
       "   523        40              0.300  0.0  0.0  0.0  1.0  1.0  0.0  0.0  0.0  1.0   \n",
       "   \n",
       "          9   10   11   12   13   14  \n",
       "   335  0.0  0.0  0.0  0.0  0.0  1.0  \n",
       "   85   0.0  1.0  1.0  0.0  0.0  0.0  \n",
       "   454  0.0  0.0  1.0  0.0  0.0  0.0  \n",
       "   527  0.0  0.0  0.0  0.0  1.0  0.0  \n",
       "   238  1.0  0.0  1.0  0.0  0.0  0.0  \n",
       "   358  0.0  0.0  0.0  1.0  0.0  0.0  \n",
       "   59   0.0  1.0  0.0  1.0  0.0  0.0  \n",
       "   505  0.0  1.0  1.0  0.0  0.0  0.0  \n",
       "   619  0.0  0.0  0.0  0.0  0.0  1.0  \n",
       "   748  0.0  1.0  0.0  0.0  0.0  1.0  \n",
       "   253  1.0  0.0  0.0  0.0  1.0  0.0  \n",
       "   216  0.0  1.0  0.0  1.0  0.0  0.0  \n",
       "   659  1.0  0.0  0.0  1.0  0.0  0.0  \n",
       "   356  0.0  1.0  1.0  0.0  0.0  0.0  \n",
       "   288  0.0  0.0  0.0  0.0  1.0  0.0  \n",
       "   202  1.0  0.0  0.0  1.0  0.0  0.0  \n",
       "   362  0.0  0.0  0.0  0.0  0.0  1.0  \n",
       "   430  1.0  0.0  0.0  0.0  0.0  1.0  \n",
       "   327  0.0  1.0  0.0  1.0  0.0  0.0  \n",
       "   640  0.0  0.0  0.0  0.0  1.0  0.0  \n",
       "   20   0.0  1.0  0.0  0.0  0.0  1.0  \n",
       "   407  0.0  0.0  1.0  0.0  0.0  0.0  \n",
       "   352  0.0  0.0  0.0  0.0  0.0  1.0  \n",
       "   602  0.0  0.0  0.0  0.0  0.0  1.0  \n",
       "   230  0.0  0.0  0.0  0.0  0.0  1.0  \n",
       "   635  0.0  1.0  0.0  1.0  0.0  0.0  \n",
       "   148  0.0  0.0  0.0  1.0  0.0  0.0  \n",
       "   425  0.0  0.0  0.0  0.0  1.0  0.0  \n",
       "   637  0.0  0.0  0.0  0.0  1.0  0.0  \n",
       "   523  0.0  0.0  1.0  0.0  0.0  0.0  ,\n",
       "   40),\n",
       "  (     TEMP.MAX  WATER REQUIREMENT    0    1    2    3    4    5    6    7    8  \\\n",
       "   85         30              8.120  0.0  0.0  1.0  0.0  1.0  0.0  0.0  0.0  0.0   \n",
       "   454        30              6.680  1.0  0.0  0.0  0.0  0.0  0.0  1.0  0.0  1.0   \n",
       "   527        50              0.500  0.0  1.0  0.0  0.0  0.0  1.0  0.0  0.0  1.0   \n",
       "   238        50             12.350  0.0  1.0  0.0  0.0  1.0  0.0  0.0  0.0  0.0   \n",
       "   358        30              6.060  0.0  1.0  0.0  0.0  0.0  1.0  0.0  0.0  1.0   \n",
       "   59         40              0.800  1.0  0.0  0.0  0.0  0.0  1.0  0.0  0.0  0.0   \n",
       "   505        40              6.020  1.0  0.0  0.0  0.0  0.0  0.0  1.0  0.0  0.0   \n",
       "   619        40              0.300  0.0  1.0  0.0  0.0  0.0  0.0  1.0  0.0  1.0   \n",
       "   748        50              4.625  1.0  0.0  0.0  0.0  0.0  0.0  1.0  0.0  0.0   \n",
       "   253        50             11.200  1.0  0.0  0.0  0.0  0.0  0.0  1.0  0.0  0.0   \n",
       "   216        40             11.600  1.0  0.0  0.0  0.0  0.0  1.0  0.0  0.0  0.0   \n",
       "   659        20              0.100  1.0  0.0  0.0  0.0  0.0  1.0  0.0  0.0  0.0   \n",
       "   356        30              5.060  0.0  0.0  0.0  1.0  0.0  0.0  1.0  0.0  0.0   \n",
       "   288        20              5.880  0.0  0.0  1.0  0.0  0.0  0.0  1.0  0.0  1.0   \n",
       "   202        40             13.400  0.0  0.0  1.0  0.0  0.0  0.0  1.0  0.0  0.0   \n",
       "   362        40              7.060  0.0  0.0  1.0  0.0  0.0  0.0  1.0  0.0  1.0   \n",
       "   430        50              8.860  1.0  0.0  0.0  0.0  0.0  1.0  0.0  0.0  0.0   \n",
       "   327        30              0.800  0.0  1.0  0.0  0.0  0.0  0.0  1.0  0.0  0.0   \n",
       "   640        20              3.250  0.0  1.0  0.0  0.0  0.0  0.0  1.0  0.0  1.0   \n",
       "   20         30              8.800  0.0  0.0  0.0  1.0  0.0  0.0  1.0  0.0  0.0   \n",
       "   407        30              0.500  0.0  1.0  0.0  0.0  0.0  0.0  1.0  0.0  1.0   \n",
       "   352        20              4.000  0.0  0.0  0.0  1.0  0.0  1.0  0.0  1.0  0.0   \n",
       "   602        40              7.125  1.0  0.0  0.0  0.0  0.0  1.0  0.0  0.0  1.0   \n",
       "   230        30             10.500  1.0  0.0  0.0  0.0  1.0  0.0  0.0  0.0  1.0   \n",
       "   635        40              0.200  0.0  0.0  1.0  0.0  0.0  0.0  1.0  0.0  0.0   \n",
       "   148        30              5.300  1.0  0.0  0.0  0.0  0.0  0.0  1.0  0.0  1.0   \n",
       "   425        40              8.360  0.0  0.0  0.0  1.0  0.0  0.0  1.0  1.0  0.0   \n",
       "   637        50              7.250  1.0  0.0  0.0  0.0  1.0  0.0  0.0  1.0  0.0   \n",
       "   523        40              0.300  0.0  0.0  0.0  1.0  1.0  0.0  0.0  0.0  1.0   \n",
       "   191        50              0.300  1.0  0.0  0.0  0.0  1.0  0.0  0.0  0.0  1.0   \n",
       "   \n",
       "          9   10   11   12   13   14  \n",
       "   85   0.0  1.0  1.0  0.0  0.0  0.0  \n",
       "   454  0.0  0.0  1.0  0.0  0.0  0.0  \n",
       "   527  0.0  0.0  0.0  0.0  1.0  0.0  \n",
       "   238  1.0  0.0  1.0  0.0  0.0  0.0  \n",
       "   358  0.0  0.0  0.0  1.0  0.0  0.0  \n",
       "   59   0.0  1.0  0.0  1.0  0.0  0.0  \n",
       "   505  0.0  1.0  1.0  0.0  0.0  0.0  \n",
       "   619  0.0  0.0  0.0  0.0  0.0  1.0  \n",
       "   748  0.0  1.0  0.0  0.0  0.0  1.0  \n",
       "   253  1.0  0.0  0.0  0.0  1.0  0.0  \n",
       "   216  0.0  1.0  0.0  1.0  0.0  0.0  \n",
       "   659  1.0  0.0  0.0  1.0  0.0  0.0  \n",
       "   356  0.0  1.0  1.0  0.0  0.0  0.0  \n",
       "   288  0.0  0.0  0.0  0.0  1.0  0.0  \n",
       "   202  1.0  0.0  0.0  1.0  0.0  0.0  \n",
       "   362  0.0  0.0  0.0  0.0  0.0  1.0  \n",
       "   430  1.0  0.0  0.0  0.0  0.0  1.0  \n",
       "   327  0.0  1.0  0.0  1.0  0.0  0.0  \n",
       "   640  0.0  0.0  0.0  0.0  1.0  0.0  \n",
       "   20   0.0  1.0  0.0  0.0  0.0  1.0  \n",
       "   407  0.0  0.0  1.0  0.0  0.0  0.0  \n",
       "   352  0.0  0.0  0.0  0.0  0.0  1.0  \n",
       "   602  0.0  0.0  0.0  0.0  0.0  1.0  \n",
       "   230  0.0  0.0  0.0  0.0  0.0  1.0  \n",
       "   635  0.0  1.0  0.0  1.0  0.0  0.0  \n",
       "   148  0.0  0.0  0.0  1.0  0.0  0.0  \n",
       "   425  0.0  0.0  0.0  0.0  1.0  0.0  \n",
       "   637  0.0  0.0  0.0  0.0  1.0  0.0  \n",
       "   523  0.0  0.0  1.0  0.0  0.0  0.0  \n",
       "   191  0.0  0.0  0.0  0.0  0.0  1.0  ,\n",
       "   30),\n",
       "  (     TEMP.MAX  WATER REQUIREMENT    0    1    2    3    4    5    6    7    8  \\\n",
       "   454        30              6.680  1.0  0.0  0.0  0.0  0.0  0.0  1.0  0.0  1.0   \n",
       "   527        50              0.500  0.0  1.0  0.0  0.0  0.0  1.0  0.0  0.0  1.0   \n",
       "   238        50             12.350  0.0  1.0  0.0  0.0  1.0  0.0  0.0  0.0  0.0   \n",
       "   358        30              6.060  0.0  1.0  0.0  0.0  0.0  1.0  0.0  0.0  1.0   \n",
       "   59         40              0.800  1.0  0.0  0.0  0.0  0.0  1.0  0.0  0.0  0.0   \n",
       "   505        40              6.020  1.0  0.0  0.0  0.0  0.0  0.0  1.0  0.0  0.0   \n",
       "   619        40              0.300  0.0  1.0  0.0  0.0  0.0  0.0  1.0  0.0  1.0   \n",
       "   748        50              4.625  1.0  0.0  0.0  0.0  0.0  0.0  1.0  0.0  0.0   \n",
       "   253        50             11.200  1.0  0.0  0.0  0.0  0.0  0.0  1.0  0.0  0.0   \n",
       "   216        40             11.600  1.0  0.0  0.0  0.0  0.0  1.0  0.0  0.0  0.0   \n",
       "   659        20              0.100  1.0  0.0  0.0  0.0  0.0  1.0  0.0  0.0  0.0   \n",
       "   356        30              5.060  0.0  0.0  0.0  1.0  0.0  0.0  1.0  0.0  0.0   \n",
       "   288        20              5.880  0.0  0.0  1.0  0.0  0.0  0.0  1.0  0.0  1.0   \n",
       "   202        40             13.400  0.0  0.0  1.0  0.0  0.0  0.0  1.0  0.0  0.0   \n",
       "   362        40              7.060  0.0  0.0  1.0  0.0  0.0  0.0  1.0  0.0  1.0   \n",
       "   430        50              8.860  1.0  0.0  0.0  0.0  0.0  1.0  0.0  0.0  0.0   \n",
       "   327        30              0.800  0.0  1.0  0.0  0.0  0.0  0.0  1.0  0.0  0.0   \n",
       "   640        20              3.250  0.0  1.0  0.0  0.0  0.0  0.0  1.0  0.0  1.0   \n",
       "   20         30              8.800  0.0  0.0  0.0  1.0  0.0  0.0  1.0  0.0  0.0   \n",
       "   407        30              0.500  0.0  1.0  0.0  0.0  0.0  0.0  1.0  0.0  1.0   \n",
       "   352        20              4.000  0.0  0.0  0.0  1.0  0.0  1.0  0.0  1.0  0.0   \n",
       "   602        40              7.125  1.0  0.0  0.0  0.0  0.0  1.0  0.0  0.0  1.0   \n",
       "   230        30             10.500  1.0  0.0  0.0  0.0  1.0  0.0  0.0  0.0  1.0   \n",
       "   635        40              0.200  0.0  0.0  1.0  0.0  0.0  0.0  1.0  0.0  0.0   \n",
       "   148        30              5.300  1.0  0.0  0.0  0.0  0.0  0.0  1.0  0.0  1.0   \n",
       "   425        40              8.360  0.0  0.0  0.0  1.0  0.0  0.0  1.0  1.0  0.0   \n",
       "   637        50              7.250  1.0  0.0  0.0  0.0  1.0  0.0  0.0  1.0  0.0   \n",
       "   523        40              0.300  0.0  0.0  0.0  1.0  1.0  0.0  0.0  0.0  1.0   \n",
       "   191        50              0.300  1.0  0.0  0.0  0.0  1.0  0.0  0.0  0.0  1.0   \n",
       "   72         40              8.700  0.0  1.0  0.0  0.0  0.0  0.0  1.0  0.0  0.0   \n",
       "   \n",
       "          9   10   11   12   13   14  \n",
       "   454  0.0  0.0  1.0  0.0  0.0  0.0  \n",
       "   527  0.0  0.0  0.0  0.0  1.0  0.0  \n",
       "   238  1.0  0.0  1.0  0.0  0.0  0.0  \n",
       "   358  0.0  0.0  0.0  1.0  0.0  0.0  \n",
       "   59   0.0  1.0  0.0  1.0  0.0  0.0  \n",
       "   505  0.0  1.0  1.0  0.0  0.0  0.0  \n",
       "   619  0.0  0.0  0.0  0.0  0.0  1.0  \n",
       "   748  0.0  1.0  0.0  0.0  0.0  1.0  \n",
       "   253  1.0  0.0  0.0  0.0  1.0  0.0  \n",
       "   216  0.0  1.0  0.0  1.0  0.0  0.0  \n",
       "   659  1.0  0.0  0.0  1.0  0.0  0.0  \n",
       "   356  0.0  1.0  1.0  0.0  0.0  0.0  \n",
       "   288  0.0  0.0  0.0  0.0  1.0  0.0  \n",
       "   202  1.0  0.0  0.0  1.0  0.0  0.0  \n",
       "   362  0.0  0.0  0.0  0.0  0.0  1.0  \n",
       "   430  1.0  0.0  0.0  0.0  0.0  1.0  \n",
       "   327  0.0  1.0  0.0  1.0  0.0  0.0  \n",
       "   640  0.0  0.0  0.0  0.0  1.0  0.0  \n",
       "   20   0.0  1.0  0.0  0.0  0.0  1.0  \n",
       "   407  0.0  0.0  1.0  0.0  0.0  0.0  \n",
       "   352  0.0  0.0  0.0  0.0  0.0  1.0  \n",
       "   602  0.0  0.0  0.0  0.0  0.0  1.0  \n",
       "   230  0.0  0.0  0.0  0.0  0.0  1.0  \n",
       "   635  0.0  1.0  0.0  1.0  0.0  0.0  \n",
       "   148  0.0  0.0  0.0  1.0  0.0  0.0  \n",
       "   425  0.0  0.0  0.0  0.0  1.0  0.0  \n",
       "   637  0.0  0.0  0.0  0.0  1.0  0.0  \n",
       "   523  0.0  0.0  1.0  0.0  0.0  0.0  \n",
       "   191  0.0  0.0  0.0  0.0  0.0  1.0  \n",
       "   72   0.0  1.0  0.0  0.0  0.0  1.0  ,\n",
       "   10),\n",
       "  (     TEMP.MAX  WATER REQUIREMENT    0    1    2    3    4    5    6    7    8  \\\n",
       "   527        50              0.500  0.0  1.0  0.0  0.0  0.0  1.0  0.0  0.0  1.0   \n",
       "   238        50             12.350  0.0  1.0  0.0  0.0  1.0  0.0  0.0  0.0  0.0   \n",
       "   358        30              6.060  0.0  1.0  0.0  0.0  0.0  1.0  0.0  0.0  1.0   \n",
       "   59         40              0.800  1.0  0.0  0.0  0.0  0.0  1.0  0.0  0.0  0.0   \n",
       "   505        40              6.020  1.0  0.0  0.0  0.0  0.0  0.0  1.0  0.0  0.0   \n",
       "   619        40              0.300  0.0  1.0  0.0  0.0  0.0  0.0  1.0  0.0  1.0   \n",
       "   748        50              4.625  1.0  0.0  0.0  0.0  0.0  0.0  1.0  0.0  0.0   \n",
       "   253        50             11.200  1.0  0.0  0.0  0.0  0.0  0.0  1.0  0.0  0.0   \n",
       "   216        40             11.600  1.0  0.0  0.0  0.0  0.0  1.0  0.0  0.0  0.0   \n",
       "   659        20              0.100  1.0  0.0  0.0  0.0  0.0  1.0  0.0  0.0  0.0   \n",
       "   356        30              5.060  0.0  0.0  0.0  1.0  0.0  0.0  1.0  0.0  0.0   \n",
       "   288        20              5.880  0.0  0.0  1.0  0.0  0.0  0.0  1.0  0.0  1.0   \n",
       "   202        40             13.400  0.0  0.0  1.0  0.0  0.0  0.0  1.0  0.0  0.0   \n",
       "   362        40              7.060  0.0  0.0  1.0  0.0  0.0  0.0  1.0  0.0  1.0   \n",
       "   430        50              8.860  1.0  0.0  0.0  0.0  0.0  1.0  0.0  0.0  0.0   \n",
       "   327        30              0.800  0.0  1.0  0.0  0.0  0.0  0.0  1.0  0.0  0.0   \n",
       "   640        20              3.250  0.0  1.0  0.0  0.0  0.0  0.0  1.0  0.0  1.0   \n",
       "   20         30              8.800  0.0  0.0  0.0  1.0  0.0  0.0  1.0  0.0  0.0   \n",
       "   407        30              0.500  0.0  1.0  0.0  0.0  0.0  0.0  1.0  0.0  1.0   \n",
       "   352        20              4.000  0.0  0.0  0.0  1.0  0.0  1.0  0.0  1.0  0.0   \n",
       "   602        40              7.125  1.0  0.0  0.0  0.0  0.0  1.0  0.0  0.0  1.0   \n",
       "   230        30             10.500  1.0  0.0  0.0  0.0  1.0  0.0  0.0  0.0  1.0   \n",
       "   635        40              0.200  0.0  0.0  1.0  0.0  0.0  0.0  1.0  0.0  0.0   \n",
       "   148        30              5.300  1.0  0.0  0.0  0.0  0.0  0.0  1.0  0.0  1.0   \n",
       "   425        40              8.360  0.0  0.0  0.0  1.0  0.0  0.0  1.0  1.0  0.0   \n",
       "   637        50              7.250  1.0  0.0  0.0  0.0  1.0  0.0  0.0  1.0  0.0   \n",
       "   523        40              0.300  0.0  0.0  0.0  1.0  1.0  0.0  0.0  0.0  1.0   \n",
       "   191        50              0.300  1.0  0.0  0.0  0.0  1.0  0.0  0.0  0.0  1.0   \n",
       "   72         40              8.700  0.0  1.0  0.0  0.0  0.0  0.0  1.0  0.0  0.0   \n",
       "   243        20              0.500  1.0  0.0  0.0  0.0  0.0  0.0  1.0  1.0  0.0   \n",
       "   \n",
       "          9   10   11   12   13   14  \n",
       "   527  0.0  0.0  0.0  0.0  1.0  0.0  \n",
       "   238  1.0  0.0  1.0  0.0  0.0  0.0  \n",
       "   358  0.0  0.0  0.0  1.0  0.0  0.0  \n",
       "   59   0.0  1.0  0.0  1.0  0.0  0.0  \n",
       "   505  0.0  1.0  1.0  0.0  0.0  0.0  \n",
       "   619  0.0  0.0  0.0  0.0  0.0  1.0  \n",
       "   748  0.0  1.0  0.0  0.0  0.0  1.0  \n",
       "   253  1.0  0.0  0.0  0.0  1.0  0.0  \n",
       "   216  0.0  1.0  0.0  1.0  0.0  0.0  \n",
       "   659  1.0  0.0  0.0  1.0  0.0  0.0  \n",
       "   356  0.0  1.0  1.0  0.0  0.0  0.0  \n",
       "   288  0.0  0.0  0.0  0.0  1.0  0.0  \n",
       "   202  1.0  0.0  0.0  1.0  0.0  0.0  \n",
       "   362  0.0  0.0  0.0  0.0  0.0  1.0  \n",
       "   430  1.0  0.0  0.0  0.0  0.0  1.0  \n",
       "   327  0.0  1.0  0.0  1.0  0.0  0.0  \n",
       "   640  0.0  0.0  0.0  0.0  1.0  0.0  \n",
       "   20   0.0  1.0  0.0  0.0  0.0  1.0  \n",
       "   407  0.0  0.0  1.0  0.0  0.0  0.0  \n",
       "   352  0.0  0.0  0.0  0.0  0.0  1.0  \n",
       "   602  0.0  0.0  0.0  0.0  0.0  1.0  \n",
       "   230  0.0  0.0  0.0  0.0  0.0  1.0  \n",
       "   635  0.0  1.0  0.0  1.0  0.0  0.0  \n",
       "   148  0.0  0.0  0.0  1.0  0.0  0.0  \n",
       "   425  0.0  0.0  0.0  0.0  1.0  0.0  \n",
       "   637  0.0  0.0  0.0  0.0  1.0  0.0  \n",
       "   523  0.0  0.0  1.0  0.0  0.0  0.0  \n",
       "   191  0.0  0.0  0.0  0.0  0.0  1.0  \n",
       "   72   0.0  1.0  0.0  0.0  0.0  1.0  \n",
       "   243  0.0  0.0  1.0  0.0  0.0  0.0  ,\n",
       "   10),\n",
       "  (     TEMP.MAX  WATER REQUIREMENT    0    1    2    3    4    5    6    7    8  \\\n",
       "   238        50             12.350  0.0  1.0  0.0  0.0  1.0  0.0  0.0  0.0  0.0   \n",
       "   358        30              6.060  0.0  1.0  0.0  0.0  0.0  1.0  0.0  0.0  1.0   \n",
       "   59         40              0.800  1.0  0.0  0.0  0.0  0.0  1.0  0.0  0.0  0.0   \n",
       "   505        40              6.020  1.0  0.0  0.0  0.0  0.0  0.0  1.0  0.0  0.0   \n",
       "   619        40              0.300  0.0  1.0  0.0  0.0  0.0  0.0  1.0  0.0  1.0   \n",
       "   748        50              4.625  1.0  0.0  0.0  0.0  0.0  0.0  1.0  0.0  0.0   \n",
       "   253        50             11.200  1.0  0.0  0.0  0.0  0.0  0.0  1.0  0.0  0.0   \n",
       "   216        40             11.600  1.0  0.0  0.0  0.0  0.0  1.0  0.0  0.0  0.0   \n",
       "   659        20              0.100  1.0  0.0  0.0  0.0  0.0  1.0  0.0  0.0  0.0   \n",
       "   356        30              5.060  0.0  0.0  0.0  1.0  0.0  0.0  1.0  0.0  0.0   \n",
       "   288        20              5.880  0.0  0.0  1.0  0.0  0.0  0.0  1.0  0.0  1.0   \n",
       "   202        40             13.400  0.0  0.0  1.0  0.0  0.0  0.0  1.0  0.0  0.0   \n",
       "   362        40              7.060  0.0  0.0  1.0  0.0  0.0  0.0  1.0  0.0  1.0   \n",
       "   430        50              8.860  1.0  0.0  0.0  0.0  0.0  1.0  0.0  0.0  0.0   \n",
       "   327        30              0.800  0.0  1.0  0.0  0.0  0.0  0.0  1.0  0.0  0.0   \n",
       "   640        20              3.250  0.0  1.0  0.0  0.0  0.0  0.0  1.0  0.0  1.0   \n",
       "   20         30              8.800  0.0  0.0  0.0  1.0  0.0  0.0  1.0  0.0  0.0   \n",
       "   407        30              0.500  0.0  1.0  0.0  0.0  0.0  0.0  1.0  0.0  1.0   \n",
       "   352        20              4.000  0.0  0.0  0.0  1.0  0.0  1.0  0.0  1.0  0.0   \n",
       "   602        40              7.125  1.0  0.0  0.0  0.0  0.0  1.0  0.0  0.0  1.0   \n",
       "   230        30             10.500  1.0  0.0  0.0  0.0  1.0  0.0  0.0  0.0  1.0   \n",
       "   635        40              0.200  0.0  0.0  1.0  0.0  0.0  0.0  1.0  0.0  0.0   \n",
       "   148        30              5.300  1.0  0.0  0.0  0.0  0.0  0.0  1.0  0.0  1.0   \n",
       "   425        40              8.360  0.0  0.0  0.0  1.0  0.0  0.0  1.0  1.0  0.0   \n",
       "   637        50              7.250  1.0  0.0  0.0  0.0  1.0  0.0  0.0  1.0  0.0   \n",
       "   523        40              0.300  0.0  0.0  0.0  1.0  1.0  0.0  0.0  0.0  1.0   \n",
       "   191        50              0.300  1.0  0.0  0.0  0.0  1.0  0.0  0.0  0.0  1.0   \n",
       "   72         40              8.700  0.0  1.0  0.0  0.0  0.0  0.0  1.0  0.0  0.0   \n",
       "   243        20              0.500  1.0  0.0  0.0  0.0  0.0  0.0  1.0  1.0  0.0   \n",
       "   163        20              0.100  0.0  1.0  0.0  0.0  0.0  0.0  1.0  0.0  0.0   \n",
       "   \n",
       "          9   10   11   12   13   14  \n",
       "   238  1.0  0.0  1.0  0.0  0.0  0.0  \n",
       "   358  0.0  0.0  0.0  1.0  0.0  0.0  \n",
       "   59   0.0  1.0  0.0  1.0  0.0  0.0  \n",
       "   505  0.0  1.0  1.0  0.0  0.0  0.0  \n",
       "   619  0.0  0.0  0.0  0.0  0.0  1.0  \n",
       "   748  0.0  1.0  0.0  0.0  0.0  1.0  \n",
       "   253  1.0  0.0  0.0  0.0  1.0  0.0  \n",
       "   216  0.0  1.0  0.0  1.0  0.0  0.0  \n",
       "   659  1.0  0.0  0.0  1.0  0.0  0.0  \n",
       "   356  0.0  1.0  1.0  0.0  0.0  0.0  \n",
       "   288  0.0  0.0  0.0  0.0  1.0  0.0  \n",
       "   202  1.0  0.0  0.0  1.0  0.0  0.0  \n",
       "   362  0.0  0.0  0.0  0.0  0.0  1.0  \n",
       "   430  1.0  0.0  0.0  0.0  0.0  1.0  \n",
       "   327  0.0  1.0  0.0  1.0  0.0  0.0  \n",
       "   640  0.0  0.0  0.0  0.0  1.0  0.0  \n",
       "   20   0.0  1.0  0.0  0.0  0.0  1.0  \n",
       "   407  0.0  0.0  1.0  0.0  0.0  0.0  \n",
       "   352  0.0  0.0  0.0  0.0  0.0  1.0  \n",
       "   602  0.0  0.0  0.0  0.0  0.0  1.0  \n",
       "   230  0.0  0.0  0.0  0.0  0.0  1.0  \n",
       "   635  0.0  1.0  0.0  1.0  0.0  0.0  \n",
       "   148  0.0  0.0  0.0  1.0  0.0  0.0  \n",
       "   425  0.0  0.0  0.0  0.0  1.0  0.0  \n",
       "   637  0.0  0.0  0.0  0.0  1.0  0.0  \n",
       "   523  0.0  0.0  1.0  0.0  0.0  0.0  \n",
       "   191  0.0  0.0  0.0  0.0  0.0  1.0  \n",
       "   72   0.0  1.0  0.0  0.0  0.0  1.0  \n",
       "   243  0.0  0.0  1.0  0.0  0.0  0.0  \n",
       "   163  1.0  0.0  1.0  0.0  0.0  0.0  ,\n",
       "   20),\n",
       "  (     TEMP.MAX  WATER REQUIREMENT    0    1    2    3    4    5    6    7    8  \\\n",
       "   358        30              6.060  0.0  1.0  0.0  0.0  0.0  1.0  0.0  0.0  1.0   \n",
       "   59         40              0.800  1.0  0.0  0.0  0.0  0.0  1.0  0.0  0.0  0.0   \n",
       "   505        40              6.020  1.0  0.0  0.0  0.0  0.0  0.0  1.0  0.0  0.0   \n",
       "   619        40              0.300  0.0  1.0  0.0  0.0  0.0  0.0  1.0  0.0  1.0   \n",
       "   748        50              4.625  1.0  0.0  0.0  0.0  0.0  0.0  1.0  0.0  0.0   \n",
       "   253        50             11.200  1.0  0.0  0.0  0.0  0.0  0.0  1.0  0.0  0.0   \n",
       "   216        40             11.600  1.0  0.0  0.0  0.0  0.0  1.0  0.0  0.0  0.0   \n",
       "   659        20              0.100  1.0  0.0  0.0  0.0  0.0  1.0  0.0  0.0  0.0   \n",
       "   356        30              5.060  0.0  0.0  0.0  1.0  0.0  0.0  1.0  0.0  0.0   \n",
       "   288        20              5.880  0.0  0.0  1.0  0.0  0.0  0.0  1.0  0.0  1.0   \n",
       "   202        40             13.400  0.0  0.0  1.0  0.0  0.0  0.0  1.0  0.0  0.0   \n",
       "   362        40              7.060  0.0  0.0  1.0  0.0  0.0  0.0  1.0  0.0  1.0   \n",
       "   430        50              8.860  1.0  0.0  0.0  0.0  0.0  1.0  0.0  0.0  0.0   \n",
       "   327        30              0.800  0.0  1.0  0.0  0.0  0.0  0.0  1.0  0.0  0.0   \n",
       "   640        20              3.250  0.0  1.0  0.0  0.0  0.0  0.0  1.0  0.0  1.0   \n",
       "   20         30              8.800  0.0  0.0  0.0  1.0  0.0  0.0  1.0  0.0  0.0   \n",
       "   407        30              0.500  0.0  1.0  0.0  0.0  0.0  0.0  1.0  0.0  1.0   \n",
       "   352        20              4.000  0.0  0.0  0.0  1.0  0.0  1.0  0.0  1.0  0.0   \n",
       "   602        40              7.125  1.0  0.0  0.0  0.0  0.0  1.0  0.0  0.0  1.0   \n",
       "   230        30             10.500  1.0  0.0  0.0  0.0  1.0  0.0  0.0  0.0  1.0   \n",
       "   635        40              0.200  0.0  0.0  1.0  0.0  0.0  0.0  1.0  0.0  0.0   \n",
       "   148        30              5.300  1.0  0.0  0.0  0.0  0.0  0.0  1.0  0.0  1.0   \n",
       "   425        40              8.360  0.0  0.0  0.0  1.0  0.0  0.0  1.0  1.0  0.0   \n",
       "   637        50              7.250  1.0  0.0  0.0  0.0  1.0  0.0  0.0  1.0  0.0   \n",
       "   523        40              0.300  0.0  0.0  0.0  1.0  1.0  0.0  0.0  0.0  1.0   \n",
       "   191        50              0.300  1.0  0.0  0.0  0.0  1.0  0.0  0.0  0.0  1.0   \n",
       "   72         40              8.700  0.0  1.0  0.0  0.0  0.0  0.0  1.0  0.0  0.0   \n",
       "   243        20              0.500  1.0  0.0  0.0  0.0  0.0  0.0  1.0  1.0  0.0   \n",
       "   163        20              0.100  0.0  1.0  0.0  0.0  0.0  0.0  1.0  0.0  0.0   \n",
       "   262        30             10.100  0.0  0.0  1.0  0.0  0.0  0.0  1.0  1.0  0.0   \n",
       "   \n",
       "          9   10   11   12   13   14  \n",
       "   358  0.0  0.0  0.0  1.0  0.0  0.0  \n",
       "   59   0.0  1.0  0.0  1.0  0.0  0.0  \n",
       "   505  0.0  1.0  1.0  0.0  0.0  0.0  \n",
       "   619  0.0  0.0  0.0  0.0  0.0  1.0  \n",
       "   748  0.0  1.0  0.0  0.0  0.0  1.0  \n",
       "   253  1.0  0.0  0.0  0.0  1.0  0.0  \n",
       "   216  0.0  1.0  0.0  1.0  0.0  0.0  \n",
       "   659  1.0  0.0  0.0  1.0  0.0  0.0  \n",
       "   356  0.0  1.0  1.0  0.0  0.0  0.0  \n",
       "   288  0.0  0.0  0.0  0.0  1.0  0.0  \n",
       "   202  1.0  0.0  0.0  1.0  0.0  0.0  \n",
       "   362  0.0  0.0  0.0  0.0  0.0  1.0  \n",
       "   430  1.0  0.0  0.0  0.0  0.0  1.0  \n",
       "   327  0.0  1.0  0.0  1.0  0.0  0.0  \n",
       "   640  0.0  0.0  0.0  0.0  1.0  0.0  \n",
       "   20   0.0  1.0  0.0  0.0  0.0  1.0  \n",
       "   407  0.0  0.0  1.0  0.0  0.0  0.0  \n",
       "   352  0.0  0.0  0.0  0.0  0.0  1.0  \n",
       "   602  0.0  0.0  0.0  0.0  0.0  1.0  \n",
       "   230  0.0  0.0  0.0  0.0  0.0  1.0  \n",
       "   635  0.0  1.0  0.0  1.0  0.0  0.0  \n",
       "   148  0.0  0.0  0.0  1.0  0.0  0.0  \n",
       "   425  0.0  0.0  0.0  0.0  1.0  0.0  \n",
       "   637  0.0  0.0  0.0  0.0  1.0  0.0  \n",
       "   523  0.0  0.0  1.0  0.0  0.0  0.0  \n",
       "   191  0.0  0.0  0.0  0.0  0.0  1.0  \n",
       "   72   0.0  1.0  0.0  0.0  0.0  1.0  \n",
       "   243  0.0  0.0  1.0  0.0  0.0  0.0  \n",
       "   163  1.0  0.0  1.0  0.0  0.0  0.0  \n",
       "   262  0.0  0.0  0.0  0.0  0.0  1.0  ,\n",
       "   20)],\n",
       " [(     TEMP.MAX  WATER REQUIREMENT    0    1    2    3    4    5    6    7    8  \\\n",
       "   614        30              5.375  0.0  0.0  1.0  0.0  1.0  0.0  0.0  0.0  0.0   \n",
       "   478        50              8.140  1.0  0.0  0.0  0.0  1.0  0.0  0.0  0.0  1.0   \n",
       "   624        20              2.750  1.0  0.0  0.0  0.0  0.0  1.0  0.0  1.0  0.0   \n",
       "   386        20              7.120  0.0  1.0  0.0  0.0  0.0  0.0  1.0  0.0  1.0   \n",
       "   335        50              1.400  0.0  1.0  0.0  0.0  0.0  0.0  1.0  1.0  0.0   \n",
       "   85         30              8.120  0.0  0.0  1.0  0.0  1.0  0.0  0.0  0.0  0.0   \n",
       "   454        30              6.680  1.0  0.0  0.0  0.0  0.0  0.0  1.0  0.0  1.0   \n",
       "   527        50              0.500  0.0  1.0  0.0  0.0  0.0  1.0  0.0  0.0  1.0   \n",
       "   238        50             12.350  0.0  1.0  0.0  0.0  1.0  0.0  0.0  0.0  0.0   \n",
       "   358        30              6.060  0.0  1.0  0.0  0.0  0.0  1.0  0.0  0.0  1.0   \n",
       "   59         40              0.800  1.0  0.0  0.0  0.0  0.0  1.0  0.0  0.0  0.0   \n",
       "   505        40              6.020  1.0  0.0  0.0  0.0  0.0  0.0  1.0  0.0  0.0   \n",
       "   619        40              0.300  0.0  1.0  0.0  0.0  0.0  0.0  1.0  0.0  1.0   \n",
       "   748        50              4.625  1.0  0.0  0.0  0.0  0.0  0.0  1.0  0.0  0.0   \n",
       "   253        50             11.200  1.0  0.0  0.0  0.0  0.0  0.0  1.0  0.0  0.0   \n",
       "   216        40             11.600  1.0  0.0  0.0  0.0  0.0  1.0  0.0  0.0  0.0   \n",
       "   659        20              0.100  1.0  0.0  0.0  0.0  0.0  1.0  0.0  0.0  0.0   \n",
       "   356        30              5.060  0.0  0.0  0.0  1.0  0.0  0.0  1.0  0.0  0.0   \n",
       "   288        20              5.880  0.0  0.0  1.0  0.0  0.0  0.0  1.0  0.0  1.0   \n",
       "   202        40             13.400  0.0  0.0  1.0  0.0  0.0  0.0  1.0  0.0  0.0   \n",
       "   362        40              7.060  0.0  0.0  1.0  0.0  0.0  0.0  1.0  0.0  1.0   \n",
       "   430        50              8.860  1.0  0.0  0.0  0.0  0.0  1.0  0.0  0.0  0.0   \n",
       "   327        30              0.800  0.0  1.0  0.0  0.0  0.0  0.0  1.0  0.0  0.0   \n",
       "   640        20              3.250  0.0  1.0  0.0  0.0  0.0  0.0  1.0  0.0  1.0   \n",
       "   20         30              8.800  0.0  0.0  0.0  1.0  0.0  0.0  1.0  0.0  0.0   \n",
       "   407        30              0.500  0.0  1.0  0.0  0.0  0.0  0.0  1.0  0.0  1.0   \n",
       "   352        20              4.000  0.0  0.0  0.0  1.0  0.0  1.0  0.0  1.0  0.0   \n",
       "   602        40              7.125  1.0  0.0  0.0  0.0  0.0  1.0  0.0  0.0  1.0   \n",
       "   230        30             10.500  1.0  0.0  0.0  0.0  1.0  0.0  0.0  0.0  1.0   \n",
       "   635        40              0.200  0.0  0.0  1.0  0.0  0.0  0.0  1.0  0.0  0.0   \n",
       "   \n",
       "          9   10   11   12   13   14  \n",
       "   614  0.0  1.0  0.0  1.0  0.0  0.0  \n",
       "   478  0.0  0.0  1.0  0.0  0.0  0.0  \n",
       "   624  0.0  0.0  0.0  0.0  0.0  1.0  \n",
       "   386  0.0  0.0  0.0  1.0  0.0  0.0  \n",
       "   335  0.0  0.0  0.0  0.0  0.0  1.0  \n",
       "   85   0.0  1.0  1.0  0.0  0.0  0.0  \n",
       "   454  0.0  0.0  1.0  0.0  0.0  0.0  \n",
       "   527  0.0  0.0  0.0  0.0  1.0  0.0  \n",
       "   238  1.0  0.0  1.0  0.0  0.0  0.0  \n",
       "   358  0.0  0.0  0.0  1.0  0.0  0.0  \n",
       "   59   0.0  1.0  0.0  1.0  0.0  0.0  \n",
       "   505  0.0  1.0  1.0  0.0  0.0  0.0  \n",
       "   619  0.0  0.0  0.0  0.0  0.0  1.0  \n",
       "   748  0.0  1.0  0.0  0.0  0.0  1.0  \n",
       "   253  1.0  0.0  0.0  0.0  1.0  0.0  \n",
       "   216  0.0  1.0  0.0  1.0  0.0  0.0  \n",
       "   659  1.0  0.0  0.0  1.0  0.0  0.0  \n",
       "   356  0.0  1.0  1.0  0.0  0.0  0.0  \n",
       "   288  0.0  0.0  0.0  0.0  1.0  0.0  \n",
       "   202  1.0  0.0  0.0  1.0  0.0  0.0  \n",
       "   362  0.0  0.0  0.0  0.0  0.0  1.0  \n",
       "   430  1.0  0.0  0.0  0.0  0.0  1.0  \n",
       "   327  0.0  1.0  0.0  1.0  0.0  0.0  \n",
       "   640  0.0  0.0  0.0  0.0  1.0  0.0  \n",
       "   20   0.0  1.0  0.0  0.0  0.0  1.0  \n",
       "   407  0.0  0.0  1.0  0.0  0.0  0.0  \n",
       "   352  0.0  0.0  0.0  0.0  0.0  1.0  \n",
       "   602  0.0  0.0  0.0  0.0  0.0  1.0  \n",
       "   230  0.0  0.0  0.0  0.0  0.0  1.0  \n",
       "   635  0.0  1.0  0.0  1.0  0.0  0.0  ,\n",
       "   20),\n",
       "  (     TEMP.MAX  WATER REQUIREMENT    0    1    2    3    4    5    6    7    8  \\\n",
       "   478        50              8.140  1.0  0.0  0.0  0.0  1.0  0.0  0.0  0.0  1.0   \n",
       "   624        20              2.750  1.0  0.0  0.0  0.0  0.0  1.0  0.0  1.0  0.0   \n",
       "   386        20              7.120  0.0  1.0  0.0  0.0  0.0  0.0  1.0  0.0  1.0   \n",
       "   335        50              1.400  0.0  1.0  0.0  0.0  0.0  0.0  1.0  1.0  0.0   \n",
       "   85         30              8.120  0.0  0.0  1.0  0.0  1.0  0.0  0.0  0.0  0.0   \n",
       "   454        30              6.680  1.0  0.0  0.0  0.0  0.0  0.0  1.0  0.0  1.0   \n",
       "   527        50              0.500  0.0  1.0  0.0  0.0  0.0  1.0  0.0  0.0  1.0   \n",
       "   238        50             12.350  0.0  1.0  0.0  0.0  1.0  0.0  0.0  0.0  0.0   \n",
       "   358        30              6.060  0.0  1.0  0.0  0.0  0.0  1.0  0.0  0.0  1.0   \n",
       "   59         40              0.800  1.0  0.0  0.0  0.0  0.0  1.0  0.0  0.0  0.0   \n",
       "   505        40              6.020  1.0  0.0  0.0  0.0  0.0  0.0  1.0  0.0  0.0   \n",
       "   619        40              0.300  0.0  1.0  0.0  0.0  0.0  0.0  1.0  0.0  1.0   \n",
       "   748        50              4.625  1.0  0.0  0.0  0.0  0.0  0.0  1.0  0.0  0.0   \n",
       "   253        50             11.200  1.0  0.0  0.0  0.0  0.0  0.0  1.0  0.0  0.0   \n",
       "   216        40             11.600  1.0  0.0  0.0  0.0  0.0  1.0  0.0  0.0  0.0   \n",
       "   659        20              0.100  1.0  0.0  0.0  0.0  0.0  1.0  0.0  0.0  0.0   \n",
       "   356        30              5.060  0.0  0.0  0.0  1.0  0.0  0.0  1.0  0.0  0.0   \n",
       "   288        20              5.880  0.0  0.0  1.0  0.0  0.0  0.0  1.0  0.0  1.0   \n",
       "   202        40             13.400  0.0  0.0  1.0  0.0  0.0  0.0  1.0  0.0  0.0   \n",
       "   362        40              7.060  0.0  0.0  1.0  0.0  0.0  0.0  1.0  0.0  1.0   \n",
       "   430        50              8.860  1.0  0.0  0.0  0.0  0.0  1.0  0.0  0.0  0.0   \n",
       "   327        30              0.800  0.0  1.0  0.0  0.0  0.0  0.0  1.0  0.0  0.0   \n",
       "   640        20              3.250  0.0  1.0  0.0  0.0  0.0  0.0  1.0  0.0  1.0   \n",
       "   20         30              8.800  0.0  0.0  0.0  1.0  0.0  0.0  1.0  0.0  0.0   \n",
       "   407        30              0.500  0.0  1.0  0.0  0.0  0.0  0.0  1.0  0.0  1.0   \n",
       "   352        20              4.000  0.0  0.0  0.0  1.0  0.0  1.0  0.0  1.0  0.0   \n",
       "   602        40              7.125  1.0  0.0  0.0  0.0  0.0  1.0  0.0  0.0  1.0   \n",
       "   230        30             10.500  1.0  0.0  0.0  0.0  1.0  0.0  0.0  0.0  1.0   \n",
       "   635        40              0.200  0.0  0.0  1.0  0.0  0.0  0.0  1.0  0.0  0.0   \n",
       "   148        30              5.300  1.0  0.0  0.0  0.0  0.0  0.0  1.0  0.0  1.0   \n",
       "   \n",
       "          9   10   11   12   13   14  \n",
       "   478  0.0  0.0  1.0  0.0  0.0  0.0  \n",
       "   624  0.0  0.0  0.0  0.0  0.0  1.0  \n",
       "   386  0.0  0.0  0.0  1.0  0.0  0.0  \n",
       "   335  0.0  0.0  0.0  0.0  0.0  1.0  \n",
       "   85   0.0  1.0  1.0  0.0  0.0  0.0  \n",
       "   454  0.0  0.0  1.0  0.0  0.0  0.0  \n",
       "   527  0.0  0.0  0.0  0.0  1.0  0.0  \n",
       "   238  1.0  0.0  1.0  0.0  0.0  0.0  \n",
       "   358  0.0  0.0  0.0  1.0  0.0  0.0  \n",
       "   59   0.0  1.0  0.0  1.0  0.0  0.0  \n",
       "   505  0.0  1.0  1.0  0.0  0.0  0.0  \n",
       "   619  0.0  0.0  0.0  0.0  0.0  1.0  \n",
       "   748  0.0  1.0  0.0  0.0  0.0  1.0  \n",
       "   253  1.0  0.0  0.0  0.0  1.0  0.0  \n",
       "   216  0.0  1.0  0.0  1.0  0.0  0.0  \n",
       "   659  1.0  0.0  0.0  1.0  0.0  0.0  \n",
       "   356  0.0  1.0  1.0  0.0  0.0  0.0  \n",
       "   288  0.0  0.0  0.0  0.0  1.0  0.0  \n",
       "   202  1.0  0.0  0.0  1.0  0.0  0.0  \n",
       "   362  0.0  0.0  0.0  0.0  0.0  1.0  \n",
       "   430  1.0  0.0  0.0  0.0  0.0  1.0  \n",
       "   327  0.0  1.0  0.0  1.0  0.0  0.0  \n",
       "   640  0.0  0.0  0.0  0.0  1.0  0.0  \n",
       "   20   0.0  1.0  0.0  0.0  0.0  1.0  \n",
       "   407  0.0  0.0  1.0  0.0  0.0  0.0  \n",
       "   352  0.0  0.0  0.0  0.0  0.0  1.0  \n",
       "   602  0.0  0.0  0.0  0.0  0.0  1.0  \n",
       "   230  0.0  0.0  0.0  0.0  0.0  1.0  \n",
       "   635  0.0  1.0  0.0  1.0  0.0  0.0  \n",
       "   148  0.0  0.0  0.0  1.0  0.0  0.0  ,\n",
       "   30),\n",
       "  (     TEMP.MAX  WATER REQUIREMENT    0    1    2    3    4    5    6    7    8  \\\n",
       "   624        20              2.750  1.0  0.0  0.0  0.0  0.0  1.0  0.0  1.0  0.0   \n",
       "   386        20              7.120  0.0  1.0  0.0  0.0  0.0  0.0  1.0  0.0  1.0   \n",
       "   335        50              1.400  0.0  1.0  0.0  0.0  0.0  0.0  1.0  1.0  0.0   \n",
       "   85         30              8.120  0.0  0.0  1.0  0.0  1.0  0.0  0.0  0.0  0.0   \n",
       "   454        30              6.680  1.0  0.0  0.0  0.0  0.0  0.0  1.0  0.0  1.0   \n",
       "   527        50              0.500  0.0  1.0  0.0  0.0  0.0  1.0  0.0  0.0  1.0   \n",
       "   238        50             12.350  0.0  1.0  0.0  0.0  1.0  0.0  0.0  0.0  0.0   \n",
       "   358        30              6.060  0.0  1.0  0.0  0.0  0.0  1.0  0.0  0.0  1.0   \n",
       "   59         40              0.800  1.0  0.0  0.0  0.0  0.0  1.0  0.0  0.0  0.0   \n",
       "   505        40              6.020  1.0  0.0  0.0  0.0  0.0  0.0  1.0  0.0  0.0   \n",
       "   619        40              0.300  0.0  1.0  0.0  0.0  0.0  0.0  1.0  0.0  1.0   \n",
       "   748        50              4.625  1.0  0.0  0.0  0.0  0.0  0.0  1.0  0.0  0.0   \n",
       "   253        50             11.200  1.0  0.0  0.0  0.0  0.0  0.0  1.0  0.0  0.0   \n",
       "   216        40             11.600  1.0  0.0  0.0  0.0  0.0  1.0  0.0  0.0  0.0   \n",
       "   659        20              0.100  1.0  0.0  0.0  0.0  0.0  1.0  0.0  0.0  0.0   \n",
       "   356        30              5.060  0.0  0.0  0.0  1.0  0.0  0.0  1.0  0.0  0.0   \n",
       "   288        20              5.880  0.0  0.0  1.0  0.0  0.0  0.0  1.0  0.0  1.0   \n",
       "   202        40             13.400  0.0  0.0  1.0  0.0  0.0  0.0  1.0  0.0  0.0   \n",
       "   362        40              7.060  0.0  0.0  1.0  0.0  0.0  0.0  1.0  0.0  1.0   \n",
       "   430        50              8.860  1.0  0.0  0.0  0.0  0.0  1.0  0.0  0.0  0.0   \n",
       "   327        30              0.800  0.0  1.0  0.0  0.0  0.0  0.0  1.0  0.0  0.0   \n",
       "   640        20              3.250  0.0  1.0  0.0  0.0  0.0  0.0  1.0  0.0  1.0   \n",
       "   20         30              8.800  0.0  0.0  0.0  1.0  0.0  0.0  1.0  0.0  0.0   \n",
       "   407        30              0.500  0.0  1.0  0.0  0.0  0.0  0.0  1.0  0.0  1.0   \n",
       "   352        20              4.000  0.0  0.0  0.0  1.0  0.0  1.0  0.0  1.0  0.0   \n",
       "   602        40              7.125  1.0  0.0  0.0  0.0  0.0  1.0  0.0  0.0  1.0   \n",
       "   230        30             10.500  1.0  0.0  0.0  0.0  1.0  0.0  0.0  0.0  1.0   \n",
       "   635        40              0.200  0.0  0.0  1.0  0.0  0.0  0.0  1.0  0.0  0.0   \n",
       "   148        30              5.300  1.0  0.0  0.0  0.0  0.0  0.0  1.0  0.0  1.0   \n",
       "   425        40              8.360  0.0  0.0  0.0  1.0  0.0  0.0  1.0  1.0  0.0   \n",
       "   \n",
       "          9   10   11   12   13   14  \n",
       "   624  0.0  0.0  0.0  0.0  0.0  1.0  \n",
       "   386  0.0  0.0  0.0  1.0  0.0  0.0  \n",
       "   335  0.0  0.0  0.0  0.0  0.0  1.0  \n",
       "   85   0.0  1.0  1.0  0.0  0.0  0.0  \n",
       "   454  0.0  0.0  1.0  0.0  0.0  0.0  \n",
       "   527  0.0  0.0  0.0  0.0  1.0  0.0  \n",
       "   238  1.0  0.0  1.0  0.0  0.0  0.0  \n",
       "   358  0.0  0.0  0.0  1.0  0.0  0.0  \n",
       "   59   0.0  1.0  0.0  1.0  0.0  0.0  \n",
       "   505  0.0  1.0  1.0  0.0  0.0  0.0  \n",
       "   619  0.0  0.0  0.0  0.0  0.0  1.0  \n",
       "   748  0.0  1.0  0.0  0.0  0.0  1.0  \n",
       "   253  1.0  0.0  0.0  0.0  1.0  0.0  \n",
       "   216  0.0  1.0  0.0  1.0  0.0  0.0  \n",
       "   659  1.0  0.0  0.0  1.0  0.0  0.0  \n",
       "   356  0.0  1.0  1.0  0.0  0.0  0.0  \n",
       "   288  0.0  0.0  0.0  0.0  1.0  0.0  \n",
       "   202  1.0  0.0  0.0  1.0  0.0  0.0  \n",
       "   362  0.0  0.0  0.0  0.0  0.0  1.0  \n",
       "   430  1.0  0.0  0.0  0.0  0.0  1.0  \n",
       "   327  0.0  1.0  0.0  1.0  0.0  0.0  \n",
       "   640  0.0  0.0  0.0  0.0  1.0  0.0  \n",
       "   20   0.0  1.0  0.0  0.0  0.0  1.0  \n",
       "   407  0.0  0.0  1.0  0.0  0.0  0.0  \n",
       "   352  0.0  0.0  0.0  0.0  0.0  1.0  \n",
       "   602  0.0  0.0  0.0  0.0  0.0  1.0  \n",
       "   230  0.0  0.0  0.0  0.0  0.0  1.0  \n",
       "   635  0.0  1.0  0.0  1.0  0.0  0.0  \n",
       "   148  0.0  0.0  0.0  1.0  0.0  0.0  \n",
       "   425  0.0  0.0  0.0  0.0  1.0  0.0  ,\n",
       "   40),\n",
       "  (     TEMP.MAX  WATER REQUIREMENT    0    1    2    3    4    5    6    7    8  \\\n",
       "   386        20              7.120  0.0  1.0  0.0  0.0  0.0  0.0  1.0  0.0  1.0   \n",
       "   335        50              1.400  0.0  1.0  0.0  0.0  0.0  0.0  1.0  1.0  0.0   \n",
       "   85         30              8.120  0.0  0.0  1.0  0.0  1.0  0.0  0.0  0.0  0.0   \n",
       "   454        30              6.680  1.0  0.0  0.0  0.0  0.0  0.0  1.0  0.0  1.0   \n",
       "   527        50              0.500  0.0  1.0  0.0  0.0  0.0  1.0  0.0  0.0  1.0   \n",
       "   238        50             12.350  0.0  1.0  0.0  0.0  1.0  0.0  0.0  0.0  0.0   \n",
       "   358        30              6.060  0.0  1.0  0.0  0.0  0.0  1.0  0.0  0.0  1.0   \n",
       "   59         40              0.800  1.0  0.0  0.0  0.0  0.0  1.0  0.0  0.0  0.0   \n",
       "   505        40              6.020  1.0  0.0  0.0  0.0  0.0  0.0  1.0  0.0  0.0   \n",
       "   619        40              0.300  0.0  1.0  0.0  0.0  0.0  0.0  1.0  0.0  1.0   \n",
       "   748        50              4.625  1.0  0.0  0.0  0.0  0.0  0.0  1.0  0.0  0.0   \n",
       "   253        50             11.200  1.0  0.0  0.0  0.0  0.0  0.0  1.0  0.0  0.0   \n",
       "   216        40             11.600  1.0  0.0  0.0  0.0  0.0  1.0  0.0  0.0  0.0   \n",
       "   659        20              0.100  1.0  0.0  0.0  0.0  0.0  1.0  0.0  0.0  0.0   \n",
       "   356        30              5.060  0.0  0.0  0.0  1.0  0.0  0.0  1.0  0.0  0.0   \n",
       "   288        20              5.880  0.0  0.0  1.0  0.0  0.0  0.0  1.0  0.0  1.0   \n",
       "   202        40             13.400  0.0  0.0  1.0  0.0  0.0  0.0  1.0  0.0  0.0   \n",
       "   362        40              7.060  0.0  0.0  1.0  0.0  0.0  0.0  1.0  0.0  1.0   \n",
       "   430        50              8.860  1.0  0.0  0.0  0.0  0.0  1.0  0.0  0.0  0.0   \n",
       "   327        30              0.800  0.0  1.0  0.0  0.0  0.0  0.0  1.0  0.0  0.0   \n",
       "   640        20              3.250  0.0  1.0  0.0  0.0  0.0  0.0  1.0  0.0  1.0   \n",
       "   20         30              8.800  0.0  0.0  0.0  1.0  0.0  0.0  1.0  0.0  0.0   \n",
       "   407        30              0.500  0.0  1.0  0.0  0.0  0.0  0.0  1.0  0.0  1.0   \n",
       "   352        20              4.000  0.0  0.0  0.0  1.0  0.0  1.0  0.0  1.0  0.0   \n",
       "   602        40              7.125  1.0  0.0  0.0  0.0  0.0  1.0  0.0  0.0  1.0   \n",
       "   230        30             10.500  1.0  0.0  0.0  0.0  1.0  0.0  0.0  0.0  1.0   \n",
       "   635        40              0.200  0.0  0.0  1.0  0.0  0.0  0.0  1.0  0.0  0.0   \n",
       "   148        30              5.300  1.0  0.0  0.0  0.0  0.0  0.0  1.0  0.0  1.0   \n",
       "   425        40              8.360  0.0  0.0  0.0  1.0  0.0  0.0  1.0  1.0  0.0   \n",
       "   637        50              7.250  1.0  0.0  0.0  0.0  1.0  0.0  0.0  1.0  0.0   \n",
       "   \n",
       "          9   10   11   12   13   14  \n",
       "   386  0.0  0.0  0.0  1.0  0.0  0.0  \n",
       "   335  0.0  0.0  0.0  0.0  0.0  1.0  \n",
       "   85   0.0  1.0  1.0  0.0  0.0  0.0  \n",
       "   454  0.0  0.0  1.0  0.0  0.0  0.0  \n",
       "   527  0.0  0.0  0.0  0.0  1.0  0.0  \n",
       "   238  1.0  0.0  1.0  0.0  0.0  0.0  \n",
       "   358  0.0  0.0  0.0  1.0  0.0  0.0  \n",
       "   59   0.0  1.0  0.0  1.0  0.0  0.0  \n",
       "   505  0.0  1.0  1.0  0.0  0.0  0.0  \n",
       "   619  0.0  0.0  0.0  0.0  0.0  1.0  \n",
       "   748  0.0  1.0  0.0  0.0  0.0  1.0  \n",
       "   253  1.0  0.0  0.0  0.0  1.0  0.0  \n",
       "   216  0.0  1.0  0.0  1.0  0.0  0.0  \n",
       "   659  1.0  0.0  0.0  1.0  0.0  0.0  \n",
       "   356  0.0  1.0  1.0  0.0  0.0  0.0  \n",
       "   288  0.0  0.0  0.0  0.0  1.0  0.0  \n",
       "   202  1.0  0.0  0.0  1.0  0.0  0.0  \n",
       "   362  0.0  0.0  0.0  0.0  0.0  1.0  \n",
       "   430  1.0  0.0  0.0  0.0  0.0  1.0  \n",
       "   327  0.0  1.0  0.0  1.0  0.0  0.0  \n",
       "   640  0.0  0.0  0.0  0.0  1.0  0.0  \n",
       "   20   0.0  1.0  0.0  0.0  0.0  1.0  \n",
       "   407  0.0  0.0  1.0  0.0  0.0  0.0  \n",
       "   352  0.0  0.0  0.0  0.0  0.0  1.0  \n",
       "   602  0.0  0.0  0.0  0.0  0.0  1.0  \n",
       "   230  0.0  0.0  0.0  0.0  0.0  1.0  \n",
       "   635  0.0  1.0  0.0  1.0  0.0  0.0  \n",
       "   148  0.0  0.0  0.0  1.0  0.0  0.0  \n",
       "   425  0.0  0.0  0.0  0.0  1.0  0.0  \n",
       "   637  0.0  0.0  0.0  0.0  1.0  0.0  ,\n",
       "   30),\n",
       "  (     TEMP.MAX  WATER REQUIREMENT    0    1    2    3    4    5    6    7    8  \\\n",
       "   335        50              1.400  0.0  1.0  0.0  0.0  0.0  0.0  1.0  1.0  0.0   \n",
       "   85         30              8.120  0.0  0.0  1.0  0.0  1.0  0.0  0.0  0.0  0.0   \n",
       "   454        30              6.680  1.0  0.0  0.0  0.0  0.0  0.0  1.0  0.0  1.0   \n",
       "   527        50              0.500  0.0  1.0  0.0  0.0  0.0  1.0  0.0  0.0  1.0   \n",
       "   238        50             12.350  0.0  1.0  0.0  0.0  1.0  0.0  0.0  0.0  0.0   \n",
       "   358        30              6.060  0.0  1.0  0.0  0.0  0.0  1.0  0.0  0.0  1.0   \n",
       "   59         40              0.800  1.0  0.0  0.0  0.0  0.0  1.0  0.0  0.0  0.0   \n",
       "   505        40              6.020  1.0  0.0  0.0  0.0  0.0  0.0  1.0  0.0  0.0   \n",
       "   619        40              0.300  0.0  1.0  0.0  0.0  0.0  0.0  1.0  0.0  1.0   \n",
       "   748        50              4.625  1.0  0.0  0.0  0.0  0.0  0.0  1.0  0.0  0.0   \n",
       "   253        50             11.200  1.0  0.0  0.0  0.0  0.0  0.0  1.0  0.0  0.0   \n",
       "   216        40             11.600  1.0  0.0  0.0  0.0  0.0  1.0  0.0  0.0  0.0   \n",
       "   659        20              0.100  1.0  0.0  0.0  0.0  0.0  1.0  0.0  0.0  0.0   \n",
       "   356        30              5.060  0.0  0.0  0.0  1.0  0.0  0.0  1.0  0.0  0.0   \n",
       "   288        20              5.880  0.0  0.0  1.0  0.0  0.0  0.0  1.0  0.0  1.0   \n",
       "   202        40             13.400  0.0  0.0  1.0  0.0  0.0  0.0  1.0  0.0  0.0   \n",
       "   362        40              7.060  0.0  0.0  1.0  0.0  0.0  0.0  1.0  0.0  1.0   \n",
       "   430        50              8.860  1.0  0.0  0.0  0.0  0.0  1.0  0.0  0.0  0.0   \n",
       "   327        30              0.800  0.0  1.0  0.0  0.0  0.0  0.0  1.0  0.0  0.0   \n",
       "   640        20              3.250  0.0  1.0  0.0  0.0  0.0  0.0  1.0  0.0  1.0   \n",
       "   20         30              8.800  0.0  0.0  0.0  1.0  0.0  0.0  1.0  0.0  0.0   \n",
       "   407        30              0.500  0.0  1.0  0.0  0.0  0.0  0.0  1.0  0.0  1.0   \n",
       "   352        20              4.000  0.0  0.0  0.0  1.0  0.0  1.0  0.0  1.0  0.0   \n",
       "   602        40              7.125  1.0  0.0  0.0  0.0  0.0  1.0  0.0  0.0  1.0   \n",
       "   230        30             10.500  1.0  0.0  0.0  0.0  1.0  0.0  0.0  0.0  1.0   \n",
       "   635        40              0.200  0.0  0.0  1.0  0.0  0.0  0.0  1.0  0.0  0.0   \n",
       "   148        30              5.300  1.0  0.0  0.0  0.0  0.0  0.0  1.0  0.0  1.0   \n",
       "   425        40              8.360  0.0  0.0  0.0  1.0  0.0  0.0  1.0  1.0  0.0   \n",
       "   637        50              7.250  1.0  0.0  0.0  0.0  1.0  0.0  0.0  1.0  0.0   \n",
       "   523        40              0.300  0.0  0.0  0.0  1.0  1.0  0.0  0.0  0.0  1.0   \n",
       "   \n",
       "          9   10   11   12   13   14  \n",
       "   335  0.0  0.0  0.0  0.0  0.0  1.0  \n",
       "   85   0.0  1.0  1.0  0.0  0.0  0.0  \n",
       "   454  0.0  0.0  1.0  0.0  0.0  0.0  \n",
       "   527  0.0  0.0  0.0  0.0  1.0  0.0  \n",
       "   238  1.0  0.0  1.0  0.0  0.0  0.0  \n",
       "   358  0.0  0.0  0.0  1.0  0.0  0.0  \n",
       "   59   0.0  1.0  0.0  1.0  0.0  0.0  \n",
       "   505  0.0  1.0  1.0  0.0  0.0  0.0  \n",
       "   619  0.0  0.0  0.0  0.0  0.0  1.0  \n",
       "   748  0.0  1.0  0.0  0.0  0.0  1.0  \n",
       "   253  1.0  0.0  0.0  0.0  1.0  0.0  \n",
       "   216  0.0  1.0  0.0  1.0  0.0  0.0  \n",
       "   659  1.0  0.0  0.0  1.0  0.0  0.0  \n",
       "   356  0.0  1.0  1.0  0.0  0.0  0.0  \n",
       "   288  0.0  0.0  0.0  0.0  1.0  0.0  \n",
       "   202  1.0  0.0  0.0  1.0  0.0  0.0  \n",
       "   362  0.0  0.0  0.0  0.0  0.0  1.0  \n",
       "   430  1.0  0.0  0.0  0.0  0.0  1.0  \n",
       "   327  0.0  1.0  0.0  1.0  0.0  0.0  \n",
       "   640  0.0  0.0  0.0  0.0  1.0  0.0  \n",
       "   20   0.0  1.0  0.0  0.0  0.0  1.0  \n",
       "   407  0.0  0.0  1.0  0.0  0.0  0.0  \n",
       "   352  0.0  0.0  0.0  0.0  0.0  1.0  \n",
       "   602  0.0  0.0  0.0  0.0  0.0  1.0  \n",
       "   230  0.0  0.0  0.0  0.0  0.0  1.0  \n",
       "   635  0.0  1.0  0.0  1.0  0.0  0.0  \n",
       "   148  0.0  0.0  0.0  1.0  0.0  0.0  \n",
       "   425  0.0  0.0  0.0  0.0  1.0  0.0  \n",
       "   637  0.0  0.0  0.0  0.0  1.0  0.0  \n",
       "   523  0.0  0.0  1.0  0.0  0.0  0.0  ,\n",
       "   40),\n",
       "  (     TEMP.MAX  WATER REQUIREMENT    0    1    2    3    4    5    6    7    8  \\\n",
       "   85         30              8.120  0.0  0.0  1.0  0.0  1.0  0.0  0.0  0.0  0.0   \n",
       "   454        30              6.680  1.0  0.0  0.0  0.0  0.0  0.0  1.0  0.0  1.0   \n",
       "   527        50              0.500  0.0  1.0  0.0  0.0  0.0  1.0  0.0  0.0  1.0   \n",
       "   238        50             12.350  0.0  1.0  0.0  0.0  1.0  0.0  0.0  0.0  0.0   \n",
       "   358        30              6.060  0.0  1.0  0.0  0.0  0.0  1.0  0.0  0.0  1.0   \n",
       "   59         40              0.800  1.0  0.0  0.0  0.0  0.0  1.0  0.0  0.0  0.0   \n",
       "   505        40              6.020  1.0  0.0  0.0  0.0  0.0  0.0  1.0  0.0  0.0   \n",
       "   619        40              0.300  0.0  1.0  0.0  0.0  0.0  0.0  1.0  0.0  1.0   \n",
       "   748        50              4.625  1.0  0.0  0.0  0.0  0.0  0.0  1.0  0.0  0.0   \n",
       "   253        50             11.200  1.0  0.0  0.0  0.0  0.0  0.0  1.0  0.0  0.0   \n",
       "   216        40             11.600  1.0  0.0  0.0  0.0  0.0  1.0  0.0  0.0  0.0   \n",
       "   659        20              0.100  1.0  0.0  0.0  0.0  0.0  1.0  0.0  0.0  0.0   \n",
       "   356        30              5.060  0.0  0.0  0.0  1.0  0.0  0.0  1.0  0.0  0.0   \n",
       "   288        20              5.880  0.0  0.0  1.0  0.0  0.0  0.0  1.0  0.0  1.0   \n",
       "   202        40             13.400  0.0  0.0  1.0  0.0  0.0  0.0  1.0  0.0  0.0   \n",
       "   362        40              7.060  0.0  0.0  1.0  0.0  0.0  0.0  1.0  0.0  1.0   \n",
       "   430        50              8.860  1.0  0.0  0.0  0.0  0.0  1.0  0.0  0.0  0.0   \n",
       "   327        30              0.800  0.0  1.0  0.0  0.0  0.0  0.0  1.0  0.0  0.0   \n",
       "   640        20              3.250  0.0  1.0  0.0  0.0  0.0  0.0  1.0  0.0  1.0   \n",
       "   20         30              8.800  0.0  0.0  0.0  1.0  0.0  0.0  1.0  0.0  0.0   \n",
       "   407        30              0.500  0.0  1.0  0.0  0.0  0.0  0.0  1.0  0.0  1.0   \n",
       "   352        20              4.000  0.0  0.0  0.0  1.0  0.0  1.0  0.0  1.0  0.0   \n",
       "   602        40              7.125  1.0  0.0  0.0  0.0  0.0  1.0  0.0  0.0  1.0   \n",
       "   230        30             10.500  1.0  0.0  0.0  0.0  1.0  0.0  0.0  0.0  1.0   \n",
       "   635        40              0.200  0.0  0.0  1.0  0.0  0.0  0.0  1.0  0.0  0.0   \n",
       "   148        30              5.300  1.0  0.0  0.0  0.0  0.0  0.0  1.0  0.0  1.0   \n",
       "   425        40              8.360  0.0  0.0  0.0  1.0  0.0  0.0  1.0  1.0  0.0   \n",
       "   637        50              7.250  1.0  0.0  0.0  0.0  1.0  0.0  0.0  1.0  0.0   \n",
       "   523        40              0.300  0.0  0.0  0.0  1.0  1.0  0.0  0.0  0.0  1.0   \n",
       "   191        50              0.300  1.0  0.0  0.0  0.0  1.0  0.0  0.0  0.0  1.0   \n",
       "   \n",
       "          9   10   11   12   13   14  \n",
       "   85   0.0  1.0  1.0  0.0  0.0  0.0  \n",
       "   454  0.0  0.0  1.0  0.0  0.0  0.0  \n",
       "   527  0.0  0.0  0.0  0.0  1.0  0.0  \n",
       "   238  1.0  0.0  1.0  0.0  0.0  0.0  \n",
       "   358  0.0  0.0  0.0  1.0  0.0  0.0  \n",
       "   59   0.0  1.0  0.0  1.0  0.0  0.0  \n",
       "   505  0.0  1.0  1.0  0.0  0.0  0.0  \n",
       "   619  0.0  0.0  0.0  0.0  0.0  1.0  \n",
       "   748  0.0  1.0  0.0  0.0  0.0  1.0  \n",
       "   253  1.0  0.0  0.0  0.0  1.0  0.0  \n",
       "   216  0.0  1.0  0.0  1.0  0.0  0.0  \n",
       "   659  1.0  0.0  0.0  1.0  0.0  0.0  \n",
       "   356  0.0  1.0  1.0  0.0  0.0  0.0  \n",
       "   288  0.0  0.0  0.0  0.0  1.0  0.0  \n",
       "   202  1.0  0.0  0.0  1.0  0.0  0.0  \n",
       "   362  0.0  0.0  0.0  0.0  0.0  1.0  \n",
       "   430  1.0  0.0  0.0  0.0  0.0  1.0  \n",
       "   327  0.0  1.0  0.0  1.0  0.0  0.0  \n",
       "   640  0.0  0.0  0.0  0.0  1.0  0.0  \n",
       "   20   0.0  1.0  0.0  0.0  0.0  1.0  \n",
       "   407  0.0  0.0  1.0  0.0  0.0  0.0  \n",
       "   352  0.0  0.0  0.0  0.0  0.0  1.0  \n",
       "   602  0.0  0.0  0.0  0.0  0.0  1.0  \n",
       "   230  0.0  0.0  0.0  0.0  0.0  1.0  \n",
       "   635  0.0  1.0  0.0  1.0  0.0  0.0  \n",
       "   148  0.0  0.0  0.0  1.0  0.0  0.0  \n",
       "   425  0.0  0.0  0.0  0.0  1.0  0.0  \n",
       "   637  0.0  0.0  0.0  0.0  1.0  0.0  \n",
       "   523  0.0  0.0  1.0  0.0  0.0  0.0  \n",
       "   191  0.0  0.0  0.0  0.0  0.0  1.0  ,\n",
       "   30),\n",
       "  (     TEMP.MAX  WATER REQUIREMENT    0    1    2    3    4    5    6    7    8  \\\n",
       "   454        30              6.680  1.0  0.0  0.0  0.0  0.0  0.0  1.0  0.0  1.0   \n",
       "   527        50              0.500  0.0  1.0  0.0  0.0  0.0  1.0  0.0  0.0  1.0   \n",
       "   238        50             12.350  0.0  1.0  0.0  0.0  1.0  0.0  0.0  0.0  0.0   \n",
       "   358        30              6.060  0.0  1.0  0.0  0.0  0.0  1.0  0.0  0.0  1.0   \n",
       "   59         40              0.800  1.0  0.0  0.0  0.0  0.0  1.0  0.0  0.0  0.0   \n",
       "   505        40              6.020  1.0  0.0  0.0  0.0  0.0  0.0  1.0  0.0  0.0   \n",
       "   619        40              0.300  0.0  1.0  0.0  0.0  0.0  0.0  1.0  0.0  1.0   \n",
       "   748        50              4.625  1.0  0.0  0.0  0.0  0.0  0.0  1.0  0.0  0.0   \n",
       "   253        50             11.200  1.0  0.0  0.0  0.0  0.0  0.0  1.0  0.0  0.0   \n",
       "   216        40             11.600  1.0  0.0  0.0  0.0  0.0  1.0  0.0  0.0  0.0   \n",
       "   659        20              0.100  1.0  0.0  0.0  0.0  0.0  1.0  0.0  0.0  0.0   \n",
       "   356        30              5.060  0.0  0.0  0.0  1.0  0.0  0.0  1.0  0.0  0.0   \n",
       "   288        20              5.880  0.0  0.0  1.0  0.0  0.0  0.0  1.0  0.0  1.0   \n",
       "   202        40             13.400  0.0  0.0  1.0  0.0  0.0  0.0  1.0  0.0  0.0   \n",
       "   362        40              7.060  0.0  0.0  1.0  0.0  0.0  0.0  1.0  0.0  1.0   \n",
       "   430        50              8.860  1.0  0.0  0.0  0.0  0.0  1.0  0.0  0.0  0.0   \n",
       "   327        30              0.800  0.0  1.0  0.0  0.0  0.0  0.0  1.0  0.0  0.0   \n",
       "   640        20              3.250  0.0  1.0  0.0  0.0  0.0  0.0  1.0  0.0  1.0   \n",
       "   20         30              8.800  0.0  0.0  0.0  1.0  0.0  0.0  1.0  0.0  0.0   \n",
       "   407        30              0.500  0.0  1.0  0.0  0.0  0.0  0.0  1.0  0.0  1.0   \n",
       "   352        20              4.000  0.0  0.0  0.0  1.0  0.0  1.0  0.0  1.0  0.0   \n",
       "   602        40              7.125  1.0  0.0  0.0  0.0  0.0  1.0  0.0  0.0  1.0   \n",
       "   230        30             10.500  1.0  0.0  0.0  0.0  1.0  0.0  0.0  0.0  1.0   \n",
       "   635        40              0.200  0.0  0.0  1.0  0.0  0.0  0.0  1.0  0.0  0.0   \n",
       "   148        30              5.300  1.0  0.0  0.0  0.0  0.0  0.0  1.0  0.0  1.0   \n",
       "   425        40              8.360  0.0  0.0  0.0  1.0  0.0  0.0  1.0  1.0  0.0   \n",
       "   637        50              7.250  1.0  0.0  0.0  0.0  1.0  0.0  0.0  1.0  0.0   \n",
       "   523        40              0.300  0.0  0.0  0.0  1.0  1.0  0.0  0.0  0.0  1.0   \n",
       "   191        50              0.300  1.0  0.0  0.0  0.0  1.0  0.0  0.0  0.0  1.0   \n",
       "   72         40              8.700  0.0  1.0  0.0  0.0  0.0  0.0  1.0  0.0  0.0   \n",
       "   \n",
       "          9   10   11   12   13   14  \n",
       "   454  0.0  0.0  1.0  0.0  0.0  0.0  \n",
       "   527  0.0  0.0  0.0  0.0  1.0  0.0  \n",
       "   238  1.0  0.0  1.0  0.0  0.0  0.0  \n",
       "   358  0.0  0.0  0.0  1.0  0.0  0.0  \n",
       "   59   0.0  1.0  0.0  1.0  0.0  0.0  \n",
       "   505  0.0  1.0  1.0  0.0  0.0  0.0  \n",
       "   619  0.0  0.0  0.0  0.0  0.0  1.0  \n",
       "   748  0.0  1.0  0.0  0.0  0.0  1.0  \n",
       "   253  1.0  0.0  0.0  0.0  1.0  0.0  \n",
       "   216  0.0  1.0  0.0  1.0  0.0  0.0  \n",
       "   659  1.0  0.0  0.0  1.0  0.0  0.0  \n",
       "   356  0.0  1.0  1.0  0.0  0.0  0.0  \n",
       "   288  0.0  0.0  0.0  0.0  1.0  0.0  \n",
       "   202  1.0  0.0  0.0  1.0  0.0  0.0  \n",
       "   362  0.0  0.0  0.0  0.0  0.0  1.0  \n",
       "   430  1.0  0.0  0.0  0.0  0.0  1.0  \n",
       "   327  0.0  1.0  0.0  1.0  0.0  0.0  \n",
       "   640  0.0  0.0  0.0  0.0  1.0  0.0  \n",
       "   20   0.0  1.0  0.0  0.0  0.0  1.0  \n",
       "   407  0.0  0.0  1.0  0.0  0.0  0.0  \n",
       "   352  0.0  0.0  0.0  0.0  0.0  1.0  \n",
       "   602  0.0  0.0  0.0  0.0  0.0  1.0  \n",
       "   230  0.0  0.0  0.0  0.0  0.0  1.0  \n",
       "   635  0.0  1.0  0.0  1.0  0.0  0.0  \n",
       "   148  0.0  0.0  0.0  1.0  0.0  0.0  \n",
       "   425  0.0  0.0  0.0  0.0  1.0  0.0  \n",
       "   637  0.0  0.0  0.0  0.0  1.0  0.0  \n",
       "   523  0.0  0.0  1.0  0.0  0.0  0.0  \n",
       "   191  0.0  0.0  0.0  0.0  0.0  1.0  \n",
       "   72   0.0  1.0  0.0  0.0  0.0  1.0  ,\n",
       "   10),\n",
       "  (     TEMP.MAX  WATER REQUIREMENT    0    1    2    3    4    5    6    7    8  \\\n",
       "   527        50              0.500  0.0  1.0  0.0  0.0  0.0  1.0  0.0  0.0  1.0   \n",
       "   238        50             12.350  0.0  1.0  0.0  0.0  1.0  0.0  0.0  0.0  0.0   \n",
       "   358        30              6.060  0.0  1.0  0.0  0.0  0.0  1.0  0.0  0.0  1.0   \n",
       "   59         40              0.800  1.0  0.0  0.0  0.0  0.0  1.0  0.0  0.0  0.0   \n",
       "   505        40              6.020  1.0  0.0  0.0  0.0  0.0  0.0  1.0  0.0  0.0   \n",
       "   619        40              0.300  0.0  1.0  0.0  0.0  0.0  0.0  1.0  0.0  1.0   \n",
       "   748        50              4.625  1.0  0.0  0.0  0.0  0.0  0.0  1.0  0.0  0.0   \n",
       "   253        50             11.200  1.0  0.0  0.0  0.0  0.0  0.0  1.0  0.0  0.0   \n",
       "   216        40             11.600  1.0  0.0  0.0  0.0  0.0  1.0  0.0  0.0  0.0   \n",
       "   659        20              0.100  1.0  0.0  0.0  0.0  0.0  1.0  0.0  0.0  0.0   \n",
       "   356        30              5.060  0.0  0.0  0.0  1.0  0.0  0.0  1.0  0.0  0.0   \n",
       "   288        20              5.880  0.0  0.0  1.0  0.0  0.0  0.0  1.0  0.0  1.0   \n",
       "   202        40             13.400  0.0  0.0  1.0  0.0  0.0  0.0  1.0  0.0  0.0   \n",
       "   362        40              7.060  0.0  0.0  1.0  0.0  0.0  0.0  1.0  0.0  1.0   \n",
       "   430        50              8.860  1.0  0.0  0.0  0.0  0.0  1.0  0.0  0.0  0.0   \n",
       "   327        30              0.800  0.0  1.0  0.0  0.0  0.0  0.0  1.0  0.0  0.0   \n",
       "   640        20              3.250  0.0  1.0  0.0  0.0  0.0  0.0  1.0  0.0  1.0   \n",
       "   20         30              8.800  0.0  0.0  0.0  1.0  0.0  0.0  1.0  0.0  0.0   \n",
       "   407        30              0.500  0.0  1.0  0.0  0.0  0.0  0.0  1.0  0.0  1.0   \n",
       "   352        20              4.000  0.0  0.0  0.0  1.0  0.0  1.0  0.0  1.0  0.0   \n",
       "   602        40              7.125  1.0  0.0  0.0  0.0  0.0  1.0  0.0  0.0  1.0   \n",
       "   230        30             10.500  1.0  0.0  0.0  0.0  1.0  0.0  0.0  0.0  1.0   \n",
       "   635        40              0.200  0.0  0.0  1.0  0.0  0.0  0.0  1.0  0.0  0.0   \n",
       "   148        30              5.300  1.0  0.0  0.0  0.0  0.0  0.0  1.0  0.0  1.0   \n",
       "   425        40              8.360  0.0  0.0  0.0  1.0  0.0  0.0  1.0  1.0  0.0   \n",
       "   637        50              7.250  1.0  0.0  0.0  0.0  1.0  0.0  0.0  1.0  0.0   \n",
       "   523        40              0.300  0.0  0.0  0.0  1.0  1.0  0.0  0.0  0.0  1.0   \n",
       "   191        50              0.300  1.0  0.0  0.0  0.0  1.0  0.0  0.0  0.0  1.0   \n",
       "   72         40              8.700  0.0  1.0  0.0  0.0  0.0  0.0  1.0  0.0  0.0   \n",
       "   243        20              0.500  1.0  0.0  0.0  0.0  0.0  0.0  1.0  1.0  0.0   \n",
       "   \n",
       "          9   10   11   12   13   14  \n",
       "   527  0.0  0.0  0.0  0.0  1.0  0.0  \n",
       "   238  1.0  0.0  1.0  0.0  0.0  0.0  \n",
       "   358  0.0  0.0  0.0  1.0  0.0  0.0  \n",
       "   59   0.0  1.0  0.0  1.0  0.0  0.0  \n",
       "   505  0.0  1.0  1.0  0.0  0.0  0.0  \n",
       "   619  0.0  0.0  0.0  0.0  0.0  1.0  \n",
       "   748  0.0  1.0  0.0  0.0  0.0  1.0  \n",
       "   253  1.0  0.0  0.0  0.0  1.0  0.0  \n",
       "   216  0.0  1.0  0.0  1.0  0.0  0.0  \n",
       "   659  1.0  0.0  0.0  1.0  0.0  0.0  \n",
       "   356  0.0  1.0  1.0  0.0  0.0  0.0  \n",
       "   288  0.0  0.0  0.0  0.0  1.0  0.0  \n",
       "   202  1.0  0.0  0.0  1.0  0.0  0.0  \n",
       "   362  0.0  0.0  0.0  0.0  0.0  1.0  \n",
       "   430  1.0  0.0  0.0  0.0  0.0  1.0  \n",
       "   327  0.0  1.0  0.0  1.0  0.0  0.0  \n",
       "   640  0.0  0.0  0.0  0.0  1.0  0.0  \n",
       "   20   0.0  1.0  0.0  0.0  0.0  1.0  \n",
       "   407  0.0  0.0  1.0  0.0  0.0  0.0  \n",
       "   352  0.0  0.0  0.0  0.0  0.0  1.0  \n",
       "   602  0.0  0.0  0.0  0.0  0.0  1.0  \n",
       "   230  0.0  0.0  0.0  0.0  0.0  1.0  \n",
       "   635  0.0  1.0  0.0  1.0  0.0  0.0  \n",
       "   148  0.0  0.0  0.0  1.0  0.0  0.0  \n",
       "   425  0.0  0.0  0.0  0.0  1.0  0.0  \n",
       "   637  0.0  0.0  0.0  0.0  1.0  0.0  \n",
       "   523  0.0  0.0  1.0  0.0  0.0  0.0  \n",
       "   191  0.0  0.0  0.0  0.0  0.0  1.0  \n",
       "   72   0.0  1.0  0.0  0.0  0.0  1.0  \n",
       "   243  0.0  0.0  1.0  0.0  0.0  0.0  ,\n",
       "   10),\n",
       "  (     TEMP.MAX  WATER REQUIREMENT    0    1    2    3    4    5    6    7    8  \\\n",
       "   238        50             12.350  0.0  1.0  0.0  0.0  1.0  0.0  0.0  0.0  0.0   \n",
       "   358        30              6.060  0.0  1.0  0.0  0.0  0.0  1.0  0.0  0.0  1.0   \n",
       "   59         40              0.800  1.0  0.0  0.0  0.0  0.0  1.0  0.0  0.0  0.0   \n",
       "   505        40              6.020  1.0  0.0  0.0  0.0  0.0  0.0  1.0  0.0  0.0   \n",
       "   619        40              0.300  0.0  1.0  0.0  0.0  0.0  0.0  1.0  0.0  1.0   \n",
       "   748        50              4.625  1.0  0.0  0.0  0.0  0.0  0.0  1.0  0.0  0.0   \n",
       "   253        50             11.200  1.0  0.0  0.0  0.0  0.0  0.0  1.0  0.0  0.0   \n",
       "   216        40             11.600  1.0  0.0  0.0  0.0  0.0  1.0  0.0  0.0  0.0   \n",
       "   659        20              0.100  1.0  0.0  0.0  0.0  0.0  1.0  0.0  0.0  0.0   \n",
       "   356        30              5.060  0.0  0.0  0.0  1.0  0.0  0.0  1.0  0.0  0.0   \n",
       "   288        20              5.880  0.0  0.0  1.0  0.0  0.0  0.0  1.0  0.0  1.0   \n",
       "   202        40             13.400  0.0  0.0  1.0  0.0  0.0  0.0  1.0  0.0  0.0   \n",
       "   362        40              7.060  0.0  0.0  1.0  0.0  0.0  0.0  1.0  0.0  1.0   \n",
       "   430        50              8.860  1.0  0.0  0.0  0.0  0.0  1.0  0.0  0.0  0.0   \n",
       "   327        30              0.800  0.0  1.0  0.0  0.0  0.0  0.0  1.0  0.0  0.0   \n",
       "   640        20              3.250  0.0  1.0  0.0  0.0  0.0  0.0  1.0  0.0  1.0   \n",
       "   20         30              8.800  0.0  0.0  0.0  1.0  0.0  0.0  1.0  0.0  0.0   \n",
       "   407        30              0.500  0.0  1.0  0.0  0.0  0.0  0.0  1.0  0.0  1.0   \n",
       "   352        20              4.000  0.0  0.0  0.0  1.0  0.0  1.0  0.0  1.0  0.0   \n",
       "   602        40              7.125  1.0  0.0  0.0  0.0  0.0  1.0  0.0  0.0  1.0   \n",
       "   230        30             10.500  1.0  0.0  0.0  0.0  1.0  0.0  0.0  0.0  1.0   \n",
       "   635        40              0.200  0.0  0.0  1.0  0.0  0.0  0.0  1.0  0.0  0.0   \n",
       "   148        30              5.300  1.0  0.0  0.0  0.0  0.0  0.0  1.0  0.0  1.0   \n",
       "   425        40              8.360  0.0  0.0  0.0  1.0  0.0  0.0  1.0  1.0  0.0   \n",
       "   637        50              7.250  1.0  0.0  0.0  0.0  1.0  0.0  0.0  1.0  0.0   \n",
       "   523        40              0.300  0.0  0.0  0.0  1.0  1.0  0.0  0.0  0.0  1.0   \n",
       "   191        50              0.300  1.0  0.0  0.0  0.0  1.0  0.0  0.0  0.0  1.0   \n",
       "   72         40              8.700  0.0  1.0  0.0  0.0  0.0  0.0  1.0  0.0  0.0   \n",
       "   243        20              0.500  1.0  0.0  0.0  0.0  0.0  0.0  1.0  1.0  0.0   \n",
       "   163        20              0.100  0.0  1.0  0.0  0.0  0.0  0.0  1.0  0.0  0.0   \n",
       "   \n",
       "          9   10   11   12   13   14  \n",
       "   238  1.0  0.0  1.0  0.0  0.0  0.0  \n",
       "   358  0.0  0.0  0.0  1.0  0.0  0.0  \n",
       "   59   0.0  1.0  0.0  1.0  0.0  0.0  \n",
       "   505  0.0  1.0  1.0  0.0  0.0  0.0  \n",
       "   619  0.0  0.0  0.0  0.0  0.0  1.0  \n",
       "   748  0.0  1.0  0.0  0.0  0.0  1.0  \n",
       "   253  1.0  0.0  0.0  0.0  1.0  0.0  \n",
       "   216  0.0  1.0  0.0  1.0  0.0  0.0  \n",
       "   659  1.0  0.0  0.0  1.0  0.0  0.0  \n",
       "   356  0.0  1.0  1.0  0.0  0.0  0.0  \n",
       "   288  0.0  0.0  0.0  0.0  1.0  0.0  \n",
       "   202  1.0  0.0  0.0  1.0  0.0  0.0  \n",
       "   362  0.0  0.0  0.0  0.0  0.0  1.0  \n",
       "   430  1.0  0.0  0.0  0.0  0.0  1.0  \n",
       "   327  0.0  1.0  0.0  1.0  0.0  0.0  \n",
       "   640  0.0  0.0  0.0  0.0  1.0  0.0  \n",
       "   20   0.0  1.0  0.0  0.0  0.0  1.0  \n",
       "   407  0.0  0.0  1.0  0.0  0.0  0.0  \n",
       "   352  0.0  0.0  0.0  0.0  0.0  1.0  \n",
       "   602  0.0  0.0  0.0  0.0  0.0  1.0  \n",
       "   230  0.0  0.0  0.0  0.0  0.0  1.0  \n",
       "   635  0.0  1.0  0.0  1.0  0.0  0.0  \n",
       "   148  0.0  0.0  0.0  1.0  0.0  0.0  \n",
       "   425  0.0  0.0  0.0  0.0  1.0  0.0  \n",
       "   637  0.0  0.0  0.0  0.0  1.0  0.0  \n",
       "   523  0.0  0.0  1.0  0.0  0.0  0.0  \n",
       "   191  0.0  0.0  0.0  0.0  0.0  1.0  \n",
       "   72   0.0  1.0  0.0  0.0  0.0  1.0  \n",
       "   243  0.0  0.0  1.0  0.0  0.0  0.0  \n",
       "   163  1.0  0.0  1.0  0.0  0.0  0.0  ,\n",
       "   20),\n",
       "  (     TEMP.MAX  WATER REQUIREMENT    0    1    2    3    4    5    6    7    8  \\\n",
       "   358        30              6.060  0.0  1.0  0.0  0.0  0.0  1.0  0.0  0.0  1.0   \n",
       "   59         40              0.800  1.0  0.0  0.0  0.0  0.0  1.0  0.0  0.0  0.0   \n",
       "   505        40              6.020  1.0  0.0  0.0  0.0  0.0  0.0  1.0  0.0  0.0   \n",
       "   619        40              0.300  0.0  1.0  0.0  0.0  0.0  0.0  1.0  0.0  1.0   \n",
       "   748        50              4.625  1.0  0.0  0.0  0.0  0.0  0.0  1.0  0.0  0.0   \n",
       "   253        50             11.200  1.0  0.0  0.0  0.0  0.0  0.0  1.0  0.0  0.0   \n",
       "   216        40             11.600  1.0  0.0  0.0  0.0  0.0  1.0  0.0  0.0  0.0   \n",
       "   659        20              0.100  1.0  0.0  0.0  0.0  0.0  1.0  0.0  0.0  0.0   \n",
       "   356        30              5.060  0.0  0.0  0.0  1.0  0.0  0.0  1.0  0.0  0.0   \n",
       "   288        20              5.880  0.0  0.0  1.0  0.0  0.0  0.0  1.0  0.0  1.0   \n",
       "   202        40             13.400  0.0  0.0  1.0  0.0  0.0  0.0  1.0  0.0  0.0   \n",
       "   362        40              7.060  0.0  0.0  1.0  0.0  0.0  0.0  1.0  0.0  1.0   \n",
       "   430        50              8.860  1.0  0.0  0.0  0.0  0.0  1.0  0.0  0.0  0.0   \n",
       "   327        30              0.800  0.0  1.0  0.0  0.0  0.0  0.0  1.0  0.0  0.0   \n",
       "   640        20              3.250  0.0  1.0  0.0  0.0  0.0  0.0  1.0  0.0  1.0   \n",
       "   20         30              8.800  0.0  0.0  0.0  1.0  0.0  0.0  1.0  0.0  0.0   \n",
       "   407        30              0.500  0.0  1.0  0.0  0.0  0.0  0.0  1.0  0.0  1.0   \n",
       "   352        20              4.000  0.0  0.0  0.0  1.0  0.0  1.0  0.0  1.0  0.0   \n",
       "   602        40              7.125  1.0  0.0  0.0  0.0  0.0  1.0  0.0  0.0  1.0   \n",
       "   230        30             10.500  1.0  0.0  0.0  0.0  1.0  0.0  0.0  0.0  1.0   \n",
       "   635        40              0.200  0.0  0.0  1.0  0.0  0.0  0.0  1.0  0.0  0.0   \n",
       "   148        30              5.300  1.0  0.0  0.0  0.0  0.0  0.0  1.0  0.0  1.0   \n",
       "   425        40              8.360  0.0  0.0  0.0  1.0  0.0  0.0  1.0  1.0  0.0   \n",
       "   637        50              7.250  1.0  0.0  0.0  0.0  1.0  0.0  0.0  1.0  0.0   \n",
       "   523        40              0.300  0.0  0.0  0.0  1.0  1.0  0.0  0.0  0.0  1.0   \n",
       "   191        50              0.300  1.0  0.0  0.0  0.0  1.0  0.0  0.0  0.0  1.0   \n",
       "   72         40              8.700  0.0  1.0  0.0  0.0  0.0  0.0  1.0  0.0  0.0   \n",
       "   243        20              0.500  1.0  0.0  0.0  0.0  0.0  0.0  1.0  1.0  0.0   \n",
       "   163        20              0.100  0.0  1.0  0.0  0.0  0.0  0.0  1.0  0.0  0.0   \n",
       "   262        30             10.100  0.0  0.0  1.0  0.0  0.0  0.0  1.0  1.0  0.0   \n",
       "   \n",
       "          9   10   11   12   13   14  \n",
       "   358  0.0  0.0  0.0  1.0  0.0  0.0  \n",
       "   59   0.0  1.0  0.0  1.0  0.0  0.0  \n",
       "   505  0.0  1.0  1.0  0.0  0.0  0.0  \n",
       "   619  0.0  0.0  0.0  0.0  0.0  1.0  \n",
       "   748  0.0  1.0  0.0  0.0  0.0  1.0  \n",
       "   253  1.0  0.0  0.0  0.0  1.0  0.0  \n",
       "   216  0.0  1.0  0.0  1.0  0.0  0.0  \n",
       "   659  1.0  0.0  0.0  1.0  0.0  0.0  \n",
       "   356  0.0  1.0  1.0  0.0  0.0  0.0  \n",
       "   288  0.0  0.0  0.0  0.0  1.0  0.0  \n",
       "   202  1.0  0.0  0.0  1.0  0.0  0.0  \n",
       "   362  0.0  0.0  0.0  0.0  0.0  1.0  \n",
       "   430  1.0  0.0  0.0  0.0  0.0  1.0  \n",
       "   327  0.0  1.0  0.0  1.0  0.0  0.0  \n",
       "   640  0.0  0.0  0.0  0.0  1.0  0.0  \n",
       "   20   0.0  1.0  0.0  0.0  0.0  1.0  \n",
       "   407  0.0  0.0  1.0  0.0  0.0  0.0  \n",
       "   352  0.0  0.0  0.0  0.0  0.0  1.0  \n",
       "   602  0.0  0.0  0.0  0.0  0.0  1.0  \n",
       "   230  0.0  0.0  0.0  0.0  0.0  1.0  \n",
       "   635  0.0  1.0  0.0  1.0  0.0  0.0  \n",
       "   148  0.0  0.0  0.0  1.0  0.0  0.0  \n",
       "   425  0.0  0.0  0.0  0.0  1.0  0.0  \n",
       "   637  0.0  0.0  0.0  0.0  1.0  0.0  \n",
       "   523  0.0  0.0  1.0  0.0  0.0  0.0  \n",
       "   191  0.0  0.0  0.0  0.0  0.0  1.0  \n",
       "   72   0.0  1.0  0.0  0.0  0.0  1.0  \n",
       "   243  0.0  0.0  1.0  0.0  0.0  0.0  \n",
       "   163  1.0  0.0  1.0  0.0  0.0  0.0  \n",
       "   262  0.0  0.0  0.0  0.0  0.0  1.0  ,\n",
       "   20)])"
      ]
     },
     "execution_count": 108,
     "metadata": {},
     "output_type": "execute_result"
    }
   ],
   "source": [
    "look_back =  30 # Adjust the look-back window as needed\n",
    "train_size = int(len(data) * 0.8)\n",
    "train_data, test_data = create_sequences(data.iloc[:train_size], look_back), create_sequences(data.iloc[train_size:], look_back)\n",
    "train_data[:10], test_data[:10]"
   ]
  },
  {
   "cell_type": "code",
   "execution_count": 109,
   "id": "13bbee75",
   "metadata": {},
   "outputs": [],
   "source": [
    "model = Sequential()\n",
    "model.add(LSTM(50, return_sequences=True, input_shape=(look_back, data.shape[1]-1)))  # Adjust units and features as needed\n",
    "model.add(LSTM(50))\n",
    "model.add(Dense(1))\n",
    "model.compile(loss='mse', optimizer='adam')\n"
   ]
  },
  {
   "cell_type": "code",
   "execution_count": 110,
   "id": "b84662cf",
   "metadata": {},
   "outputs": [
    {
     "name": "stdout",
     "output_type": "stream",
     "text": [
      "Epoch 1/100\n"
     ]
    },
    {
     "ename": "ValueError",
     "evalue": "in user code:\n\n    File \"D:\\Anaconda\\envs\\env1\\lib\\site-packages\\keras\\engine\\training.py\", line 1160, in train_function  *\n        return step_function(self, iterator)\n    File \"D:\\Anaconda\\envs\\env1\\lib\\site-packages\\keras\\engine\\training.py\", line 1146, in step_function  **\n        outputs = model.distribute_strategy.run(run_step, args=(data,))\n    File \"D:\\Anaconda\\envs\\env1\\lib\\site-packages\\keras\\engine\\training.py\", line 1135, in run_step  **\n        outputs = model.train_step(data)\n    File \"D:\\Anaconda\\envs\\env1\\lib\\site-packages\\keras\\engine\\training.py\", line 993, in train_step\n        y_pred = self(x, training=True)\n    File \"D:\\Anaconda\\envs\\env1\\lib\\site-packages\\keras\\utils\\traceback_utils.py\", line 70, in error_handler\n        raise e.with_traceback(filtered_tb) from None\n    File \"D:\\Anaconda\\envs\\env1\\lib\\site-packages\\keras\\engine\\input_spec.py\", line 295, in assert_input_compatibility\n        raise ValueError(\n\n    ValueError: Input 0 of layer \"sequential_5\" is incompatible with the layer: expected shape=(None, 30, 17), found shape=(None, 17)\n",
     "output_type": "error",
     "traceback": [
      "\u001b[1;31m---------------------------------------------------------------------------\u001b[0m",
      "\u001b[1;31mValueError\u001b[0m                                Traceback (most recent call last)",
      "Cell \u001b[1;32mIn[110], line 1\u001b[0m\n\u001b[1;32m----> 1\u001b[0m \u001b[43mmodel\u001b[49m\u001b[38;5;241;43m.\u001b[39;49m\u001b[43mfit\u001b[49m\u001b[43m(\u001b[49m\u001b[43mX_train\u001b[49m\u001b[43m,\u001b[49m\u001b[43m \u001b[49m\u001b[43my_train\u001b[49m\u001b[43m,\u001b[49m\u001b[43m \u001b[49m\u001b[43mepochs\u001b[49m\u001b[38;5;241;43m=\u001b[39;49m\u001b[38;5;241;43m100\u001b[39;49m\u001b[43m,\u001b[49m\u001b[43m \u001b[49m\u001b[43mbatch_size\u001b[49m\u001b[38;5;241;43m=\u001b[39;49m\u001b[38;5;241;43m32\u001b[39;49m\u001b[43m)\u001b[49m\n",
      "File \u001b[1;32mD:\\Anaconda\\envs\\env1\\lib\\site-packages\\keras\\utils\\traceback_utils.py:70\u001b[0m, in \u001b[0;36mfilter_traceback.<locals>.error_handler\u001b[1;34m(*args, **kwargs)\u001b[0m\n\u001b[0;32m     67\u001b[0m     filtered_tb \u001b[38;5;241m=\u001b[39m _process_traceback_frames(e\u001b[38;5;241m.\u001b[39m__traceback__)\n\u001b[0;32m     68\u001b[0m     \u001b[38;5;66;03m# To get the full stack trace, call:\u001b[39;00m\n\u001b[0;32m     69\u001b[0m     \u001b[38;5;66;03m# `tf.debugging.disable_traceback_filtering()`\u001b[39;00m\n\u001b[1;32m---> 70\u001b[0m     \u001b[38;5;28;01mraise\u001b[39;00m e\u001b[38;5;241m.\u001b[39mwith_traceback(filtered_tb) \u001b[38;5;28;01mfrom\u001b[39;00m \u001b[38;5;28mNone\u001b[39m\n\u001b[0;32m     71\u001b[0m \u001b[38;5;28;01mfinally\u001b[39;00m:\n\u001b[0;32m     72\u001b[0m     \u001b[38;5;28;01mdel\u001b[39;00m filtered_tb\n",
      "File \u001b[1;32mC:\\Users\\SEJALH~1\\AppData\\Local\\Temp\\__autograph_generated_fileukrwroje.py:15\u001b[0m, in \u001b[0;36mouter_factory.<locals>.inner_factory.<locals>.tf__train_function\u001b[1;34m(iterator)\u001b[0m\n\u001b[0;32m     13\u001b[0m \u001b[38;5;28;01mtry\u001b[39;00m:\n\u001b[0;32m     14\u001b[0m     do_return \u001b[38;5;241m=\u001b[39m \u001b[38;5;28;01mTrue\u001b[39;00m\n\u001b[1;32m---> 15\u001b[0m     retval_ \u001b[38;5;241m=\u001b[39m ag__\u001b[38;5;241m.\u001b[39mconverted_call(ag__\u001b[38;5;241m.\u001b[39mld(step_function), (ag__\u001b[38;5;241m.\u001b[39mld(\u001b[38;5;28mself\u001b[39m), ag__\u001b[38;5;241m.\u001b[39mld(iterator)), \u001b[38;5;28;01mNone\u001b[39;00m, fscope)\n\u001b[0;32m     16\u001b[0m \u001b[38;5;28;01mexcept\u001b[39;00m:\n\u001b[0;32m     17\u001b[0m     do_return \u001b[38;5;241m=\u001b[39m \u001b[38;5;28;01mFalse\u001b[39;00m\n",
      "\u001b[1;31mValueError\u001b[0m: in user code:\n\n    File \"D:\\Anaconda\\envs\\env1\\lib\\site-packages\\keras\\engine\\training.py\", line 1160, in train_function  *\n        return step_function(self, iterator)\n    File \"D:\\Anaconda\\envs\\env1\\lib\\site-packages\\keras\\engine\\training.py\", line 1146, in step_function  **\n        outputs = model.distribute_strategy.run(run_step, args=(data,))\n    File \"D:\\Anaconda\\envs\\env1\\lib\\site-packages\\keras\\engine\\training.py\", line 1135, in run_step  **\n        outputs = model.train_step(data)\n    File \"D:\\Anaconda\\envs\\env1\\lib\\site-packages\\keras\\engine\\training.py\", line 993, in train_step\n        y_pred = self(x, training=True)\n    File \"D:\\Anaconda\\envs\\env1\\lib\\site-packages\\keras\\utils\\traceback_utils.py\", line 70, in error_handler\n        raise e.with_traceback(filtered_tb) from None\n    File \"D:\\Anaconda\\envs\\env1\\lib\\site-packages\\keras\\engine\\input_spec.py\", line 295, in assert_input_compatibility\n        raise ValueError(\n\n    ValueError: Input 0 of layer \"sequential_5\" is incompatible with the layer: expected shape=(None, 30, 17), found shape=(None, 17)\n"
     ]
    }
   ],
   "source": [
    "model.fit(X_train, y_train, epochs=100, batch_size=32)  # Adjust epochs and batch size\n"
   ]
  },
  {
   "cell_type": "markdown",
   "id": "f3854da1",
   "metadata": {},
   "source": [
    "# Stratified K fold cross validation"
   ]
  },
  {
   "cell_type": "code",
   "execution_count": null,
   "id": "51702498",
   "metadata": {},
   "outputs": [],
   "source": [
    "final_df"
   ]
  },
  {
   "cell_type": "code",
   "execution_count": null,
   "id": "abe08315",
   "metadata": {},
   "outputs": [],
   "source": [
    "from sklearn.model_selection import KFold\n",
    "from sklearn.ensemble import RandomForestRegressor\n",
    "from sklearn.metrics import mean_squared_error\n",
    "features = final_df\n",
    "skf = KFold(n_splits=25)  # Adjust n_splits as needed\n",
    "\n",
    "for train_index, test_index in skf.split(features, y):\n",
    "    x_train, x_test = features.iloc[train_index], features.iloc[test_index]\n",
    "    y_train, y_test = y.iloc[train_index], y.iloc[test_index]\n",
    "\n",
    "    # Train the Random Forest regression model\n",
    "    model = RandomForestRegressor(n_estimators=100, random_state=42)  # Adjust parameters as needed\n",
    "    model.fit(x_train, y_train)\n",
    "\n",
    "    # Make predictions on the test set\n",
    "    y_pred = model.predict(x_test)\n",
    "\n",
    "    # Evaluate the model using mean squared error (MSE)\n",
    "    mse = mean_squared_error(y_test, y_pred)\n",
    "    print(f\"Mean Squared Error: {mse:.2f}\")  # Format the output for readability\n",
    "\n",
    "    "
   ]
  },
  {
   "cell_type": "markdown",
   "id": "7083beb5",
   "metadata": {},
   "source": [
    "# Lasso regression \n"
   ]
  },
  {
   "cell_type": "code",
   "execution_count": null,
   "id": "ffa7f1a2",
   "metadata": {},
   "outputs": [],
   "source": [
    "from sklearn import linear_model\n",
    "clf = linear_model.Lasso(alpha=0.1)\n",
    "clf.fit(X_train,y_train)\n",
    "clf.score(X_train,y_train)"
   ]
  },
  {
   "cell_type": "code",
   "execution_count": null,
   "id": "17b80dfb",
   "metadata": {},
   "outputs": [],
   "source": [
    "clf.score(X_test,y_test)"
   ]
  },
  {
   "cell_type": "code",
   "execution_count": null,
   "id": "88e1fcdc",
   "metadata": {},
   "outputs": [],
   "source": [
    "from sklearn.linear_model import LassoCV\n",
    "reg1= LassoCV(cv=5, random_state=42).fit(X_train, y_train)\n",
    "reg1.score(X_train,y_train)"
   ]
  },
  {
   "cell_type": "code",
   "execution_count": null,
   "id": "468c4e33",
   "metadata": {},
   "outputs": [],
   "source": [
    "reg1.predict(X_test)"
   ]
  },
  {
   "cell_type": "code",
   "execution_count": null,
   "id": "60dacd04",
   "metadata": {
    "scrolled": true
   },
   "outputs": [],
   "source": [
    "reg1.score(X_test,y_test)"
   ]
  },
  {
   "cell_type": "code",
   "execution_count": null,
   "id": "c7377287",
   "metadata": {},
   "outputs": [],
   "source": []
  },
  {
   "cell_type": "code",
   "execution_count": null,
   "id": "15fe4588",
   "metadata": {},
   "outputs": [],
   "source": []
  }
 ],
 "metadata": {
  "kernelspec": {
   "display_name": "env1",
   "language": "python",
   "name": "env1"
  },
  "language_info": {
   "codemirror_mode": {
    "name": "ipython",
    "version": 3
   },
   "file_extension": ".py",
   "mimetype": "text/x-python",
   "name": "python",
   "nbconvert_exporter": "python",
   "pygments_lexer": "ipython3",
   "version": "3.10.9"
  }
 },
 "nbformat": 4,
 "nbformat_minor": 5
}
